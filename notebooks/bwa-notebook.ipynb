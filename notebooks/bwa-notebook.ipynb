{
 "cells": [
  {
   "cell_type": "markdown",
   "id": "7d5b1b51",
   "metadata": {},
   "source": [
    "### Create graphs subfolder in OpenFaaS directory"
   ]
  },
  {
   "cell_type": "code",
   "execution_count": 1,
   "id": "0c63ccdb",
   "metadata": {},
   "outputs": [],
   "source": [
    "!mkdir -p graphs"
   ]
  },
  {
   "cell_type": "markdown",
   "id": "02cf918b",
   "metadata": {},
   "source": [
    "### Install python package dependencies"
   ]
  },
  {
   "cell_type": "code",
   "execution_count": 2,
   "id": "a984531b",
   "metadata": {},
   "outputs": [
    {
     "name": "stdout",
     "output_type": "stream",
     "text": [
      "Requirement already satisfied: pandas in /opt/conda/lib/python3.10/site-packages (1.5.2)\n",
      "Requirement already satisfied: plotly in /opt/conda/lib/python3.10/site-packages (5.11.0)\n",
      "Requirement already satisfied: numpy in /opt/conda/lib/python3.10/site-packages (1.23.5)\n",
      "Requirement already satisfied: python-dateutil>=2.8.1 in /opt/conda/lib/python3.10/site-packages (from pandas) (2.8.2)\n",
      "Requirement already satisfied: pytz>=2020.1 in /opt/conda/lib/python3.10/site-packages (from pandas) (2022.6)\n",
      "Requirement already satisfied: tenacity>=6.2.0 in /opt/conda/lib/python3.10/site-packages (from plotly) (8.1.0)\n",
      "Requirement already satisfied: six>=1.5 in /opt/conda/lib/python3.10/site-packages (from python-dateutil>=2.8.1->pandas) (1.16.0)\n",
      "Note: you may need to restart the kernel to use updated packages.\n"
     ]
    }
   ],
   "source": [
    "pip install --upgrade pandas plotly numpy"
   ]
  },
  {
   "cell_type": "markdown",
   "id": "8fb4a0c2",
   "metadata": {},
   "source": [
    "### Import packages to graph results"
   ]
  },
  {
   "cell_type": "code",
   "execution_count": 3,
   "id": "f6434575",
   "metadata": {},
   "outputs": [],
   "source": [
    "from glob import glob\n",
    "import pandas as pd\n",
    "import json\n",
    "#import numpy as np\n",
    "import plotly\n",
    "import plotly.graph_objects as go\n",
    "from plotly.subplots import make_subplots\n",
    "# Used for debug\n",
    "from pprint import pprint"
   ]
  },
  {
   "cell_type": "markdown",
   "id": "2d7cd77e",
   "metadata": {},
   "source": [
    "### Set default color palete and size for making plots"
   ]
  },
  {
   "cell_type": "code",
   "execution_count": 4,
   "id": "dab6a8ae",
   "metadata": {},
   "outputs": [],
   "source": [
    "colorPallet = [\"rgba(151, 209, 233, 255)\", \"rgba(0, 120, 179, 255)\", \"rgba(179, 223, 146, 255)\", \"rgba(49, 169, 90, 255)\", \"rgba(227, 136, 220, 255)\", \"rgba(127, 0, 255, 255)\", \"rgba(255, 128, 0, 255)\"]\n",
    "bgColor = 'rgba(245,245,255,255)'\n",
    "\n",
    "baseFigureWidth = 700\n",
    "baseFigureHeight = 350"
   ]
  },
  {
   "cell_type": "markdown",
   "id": "d0b4ee99",
   "metadata": {},
   "source": [
    "### glob all the log files into a list, then create a dataframe with all json data"
   ]
  },
  {
   "cell_type": "code",
   "execution_count": 5,
   "id": "b74edff4",
   "metadata": {},
   "outputs": [],
   "source": [
    "bwa_logs = glob(\"../logs/openfaas/kops_multi-tenant_1x_8vcpu_16gb/bwa/*\")\n",
    "\n",
    "df_list = []\n",
    "for log in bwa_logs:\n",
    "    with open(log) as f:\n",
    "        obj = json.load(f)\n",
    "    # cpuInfo is messing up the dataframe... remove for now\n",
    "    obj.pop('cpuInfo')\n",
    "    df_list.append(pd.DataFrame([obj]))\n",
    "\n",
    "df = pd.concat(df_list, ignore_index=True)"
   ]
  },
  {
   "cell_type": "code",
   "execution_count": 6,
   "id": "d970e395",
   "metadata": {},
   "outputs": [
    {
     "name": "stdout",
     "output_type": "stream",
     "text": [
      "Index(['architecture', 'bootTime', 'cpuCores', 'cpuGuest', 'cpuGuestDelta',\n",
      "       'cpuGuestNice', 'cpuGuestNiceDelta', 'cpuIOWait', 'cpuIOWaitDelta',\n",
      "       'cpuIdle', 'cpuIdleDelta', 'cpuIrq', 'cpuIrqDelta', 'cpuKernel',\n",
      "       'cpuKernelDelta', 'cpuModel', 'cpuNice', 'cpuNiceDelta', 'cpuSoftIrq',\n",
      "       'cpuSoftIrqDelta', 'cpuSteal', 'cpuStealDelta', 'cpuType', 'cpuUser',\n",
      "       'cpuUserDelta', 'endTime', 'frameworkRuntime', 'frameworkRuntimeDeltas',\n",
      "       'freeMemory', 'functionName', 'host_name', 'http_foward', 'http_host',\n",
      "       'http_start_time', 'initializationTime', 'invocations', 'lang',\n",
      "       'linuxVersion', 'newcontainer', 'pageFaults', 'pageFaultsDelta',\n",
      "       'platform', 'runtime', 'startTime', 'totalMemory', 'userRuntime',\n",
      "       'uuid', 'version'],\n",
      "      dtype='object')\n"
     ]
    }
   ],
   "source": [
    "print(df.keys())"
   ]
  },
  {
   "cell_type": "code",
   "execution_count": null,
   "id": "e469b2cd",
   "metadata": {},
   "outputs": [],
   "source": []
  }
 ],
 "metadata": {
  "kernelspec": {
   "display_name": "Python 3 (ipykernel)",
   "language": "python",
   "name": "python3"
  },
  "language_info": {
   "codemirror_mode": {
    "name": "ipython",
    "version": 3
   },
   "file_extension": ".py",
   "mimetype": "text/x-python",
   "name": "python",
   "nbconvert_exporter": "python",
   "pygments_lexer": "ipython3",
   "version": "3.10.8"
  }
 },
 "nbformat": 4,
 "nbformat_minor": 5
}
