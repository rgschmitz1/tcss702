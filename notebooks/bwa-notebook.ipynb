{
 "cells": [
  {
   "cell_type": "markdown",
   "id": "02cf918b",
   "metadata": {},
   "source": [
    "### Install python package dependencies"
   ]
  },
  {
   "cell_type": "code",
   "execution_count": 1,
   "id": "a984531b",
   "metadata": {},
   "outputs": [
    {
     "name": "stdout",
     "output_type": "stream",
     "text": [
      "Requirement already satisfied: kaleido in /opt/conda/lib/python3.10/site-packages (0.2.1)\n",
      "Requirement already satisfied: plotly==5.11.0 in /opt/conda/lib/python3.10/site-packages (5.11.0)\n",
      "Requirement already satisfied: tenacity>=6.2.0 in /opt/conda/lib/python3.10/site-packages (from plotly==5.11.0) (8.1.0)\n"
     ]
    }
   ],
   "source": [
    "!pip install kaleido plotly==5.11.0"
   ]
  },
  {
   "cell_type": "markdown",
   "id": "8fb4a0c2",
   "metadata": {},
   "source": [
    "### Import packages to graph results"
   ]
  },
  {
   "cell_type": "code",
   "execution_count": 2,
   "id": "f6434575",
   "metadata": {},
   "outputs": [],
   "source": [
    "from glob import glob\n",
    "import pandas as pd\n",
    "import json\n",
    "#import numpy as np\n",
    "import plotly.graph_objects as go\n",
    "from plotly.subplots import make_subplots\n",
    "import plotly.io as pio\n",
    "pio.renderers.default = 'iframe'\n",
    "# import plotly.offline as py\n",
    "# py.init_notebook_mode(connected=True)\n",
    "# Used for debug\n",
    "# from pprint import pprint"
   ]
  },
  {
   "cell_type": "markdown",
   "id": "2d7cd77e",
   "metadata": {},
   "source": [
    "### Set default color palete and size for making plots"
   ]
  },
  {
   "cell_type": "code",
   "execution_count": 3,
   "id": "dab6a8ae",
   "metadata": {},
   "outputs": [],
   "source": [
    "colorPallet = [\"rgba(151, 209, 233, 255)\", \"rgba(0, 120, 179, 255)\", \"rgba(179, 223, 146, 255)\", \"rgba(49, 169, 90, 255)\", \"rgba(227, 136, 220, 255)\", \"rgba(127, 0, 255, 255)\", \"rgba(255, 128, 0, 255)\"]\n",
    "bgColor = 'rgba(245,245,255,255)'\n",
    "\n",
    "baseFigureWidth = 700\n",
    "baseFigureHeight = 350"
   ]
  },
  {
   "cell_type": "markdown",
   "id": "d0b4ee99",
   "metadata": {},
   "source": [
    "### glob all the log files into a list, then create a dataframe with all json data"
   ]
  },
  {
   "cell_type": "code",
   "execution_count": 4,
   "id": "b74edff4",
   "metadata": {},
   "outputs": [],
   "source": [
    "bwa_normal_logs = glob(\"../logs/openfaas/kops_multi-tenant_1x_8vcpu_16gb/bwa/*normal*\")\n",
    "normal_df_list = []\n",
    "for log in bwa_normal_logs:\n",
    "    with open(log) as f:\n",
    "        obj = json.load(f)\n",
    "    # cpuInfo is messing up the dataframe... remove for now\n",
    "    obj.pop('cpuInfo')\n",
    "    normal_df_list.append(pd.DataFrame([obj]))\n",
    "normal_df = pd.concat(normal_df_list, ignore_index=True)\n",
    "\n",
    "bwa_tumor_logs = glob(\"../logs/openfaas/kops_multi-tenant_1x_8vcpu_16gb/bwa/*tumor*\")\n",
    "tumor_df_list = []\n",
    "for log in bwa_tumor_logs:\n",
    "    with open(log) as f:\n",
    "        obj = json.load(f)\n",
    "    # cpuInfo is messing up the dataframe... remove for now\n",
    "    obj.pop('cpuInfo')\n",
    "    tumor_df_list.append(pd.DataFrame([obj]))\n",
    "tumor_df = pd.concat(tumor_df_list, ignore_index=True)"
   ]
  },
  {
   "cell_type": "code",
   "execution_count": 5,
   "id": "1ee423d9-179e-48d4-8af2-29fae33791f0",
   "metadata": {},
   "outputs": [
    {
     "data": {
      "text/plain": [
       "Index(['architecture', 'bootTime', 'cpuCores', 'cpuGuest', 'cpuGuestDelta',\n",
       "       'cpuGuestNice', 'cpuGuestNiceDelta', 'cpuIOWait', 'cpuIOWaitDelta',\n",
       "       'cpuIdle', 'cpuIdleDelta', 'cpuIrq', 'cpuIrqDelta', 'cpuKernel',\n",
       "       'cpuKernelDelta', 'cpuModel', 'cpuNice', 'cpuNiceDelta', 'cpuSoftIrq',\n",
       "       'cpuSoftIrqDelta', 'cpuSteal', 'cpuStealDelta', 'cpuType', 'cpuUser',\n",
       "       'cpuUserDelta', 'endTime', 'frameworkRuntime', 'frameworkRuntimeDeltas',\n",
       "       'freeMemory', 'functionName', 'host_name', 'http_foward', 'http_host',\n",
       "       'http_start_time', 'initializationTime', 'invocations', 'lang',\n",
       "       'linuxVersion', 'newcontainer', 'pageFaults', 'pageFaultsDelta',\n",
       "       'platform', 'runtime', 'startTime', 'totalMemory', 'userRuntime',\n",
       "       'uuid', 'version'],\n",
       "      dtype='object')"
      ]
     },
     "execution_count": 5,
     "metadata": {},
     "output_type": "execute_result"
    }
   ],
   "source": [
    "normal_df.keys()"
   ]
  },
  {
   "cell_type": "markdown",
   "id": "839046b1-1995-4cb9-affc-ccc635e2ef30",
   "metadata": {},
   "source": [
    "# Make bar plots to profile bwa function data"
   ]
  },
  {
   "cell_type": "code",
   "execution_count": 11,
   "id": "166f6aa5-07e0-4628-ad20-dad7fcf68beb",
   "metadata": {},
   "outputs": [
    {
     "data": {
      "text/html": [
       "<iframe\n",
       "    scrolling=\"no\"\n",
       "    width=\"100%\"\n",
       "    height=\"545px\"\n",
       "    src=\"iframe_figures/figure_11.html\"\n",
       "    frameborder=\"0\"\n",
       "    allowfullscreen\n",
       "></iframe>\n"
      ]
     },
     "metadata": {},
     "output_type": "display_data"
    }
   ],
   "source": [
    "fig = make_subplots(specs = [[{\"secondary_y\": False}]])\n",
    "\n",
    "# Add figure title\n",
    "fig.update_layout(\n",
    "    barmode='stack',\n",
    "    legend=dict(\n",
    "        orientation=\"h\",\n",
    "        yanchor=\"bottom\",\n",
    "        y=1.02,\n",
    "        xanchor=\"center\",\n",
    "        x=0.47\n",
    "    ),\n",
    "    margin=dict(\n",
    "        t=0,\n",
    "        b=1,\n",
    "        l=1,\n",
    "        r=1,\n",
    "        autoexpand=True\n",
    "    ),\n",
    "    font=dict(\n",
    "        size=16\n",
    "    ),\n",
    "    uniformtext_minsize=8,\n",
    "    uniformtext_mode='hide',\n",
    "    plot_bgcolor=bgColor\n",
    ")\n",
    "\n",
    "profileData = pd.DataFrame()\n",
    "profileData['payload'] = [\"Normal\", \"Tumor\"]\n",
    "# Metrics for profiling\n",
    "metrics = ['SoftIrq', 'Kernel', 'IOWait', 'User', 'Idle']\n",
    "profileData['cpuTotalTime'] = [0, 0]\n",
    "for metric in metrics:\n",
    "    normalMean = normal_df[f'cpu{metric}Delta'].mean()\n",
    "    tumorMean = tumor_df[f'cpu{metric}Delta'].mean()\n",
    "    profileData[metric] = [normalMean, tumorMean]\n",
    "    profileData['cpuTotalTime'] = [\n",
    "        normalMean + profileData['cpuTotalTime'][0],\n",
    "        tumorMean + profileData['cpuTotalTime'][1]\n",
    "    ]\n",
    "\n",
    "#profileData['runtime'] = [round(normal_df['runtime'].mean() / 1000), round(tumor_df['runtime'].mean() / 1000)]\n",
    "#profileData['runtimeText'] = [f\"Runtime:<br>{value} s\" for value in profileData['runtime']]\n",
    "for i, metric in enumerate(metrics):\n",
    "    profileData[metric] = [\n",
    "        profileData[metric][0] * 100 / profileData['cpuTotalTime'][0],\n",
    "        profileData[metric][1] * 100 / profileData['cpuTotalTime'][1]\n",
    "    ]\n",
    "    text = [f'{round(val, 2)}%' for val in profileData[metric]]\n",
    "    fig.add_trace(go.Bar(x = profileData[\"payload\"],\n",
    "                         y = profileData[metric],\n",
    "                         name = f\"CPU {metric}\", marker_color=colorPallet[i],\n",
    "                         text = text),\n",
    "                  secondary_y=False)\n",
    "\n",
    "# Set x-axis title\n",
    "fig.update_xaxes(title_text=\"Payloads\")\n",
    "\n",
    "# Set y-axes titles\n",
    "fig.update_yaxes(title_text=\"CPU Time Percentage\", secondary_y=False)\n",
    "# fig.update_yaxes(title_text=\"Function Runtime (ms)\", secondary_y=True)\n",
    "\n",
    "# py.iplot(fig)\n",
    "\n",
    "fig.show()\n",
    "# Save graph\n",
    "# fig.write_image(\"graphs/bwa_profile_bars.pdf\", width=baseFigureWidth, engine=\"kaleido\", height=baseFigureHeight)"
   ]
  }
 ],
 "metadata": {
  "kernelspec": {
   "display_name": "Python 3 (ipykernel)",
   "language": "python",
   "name": "python3"
  },
  "language_info": {
   "codemirror_mode": {
    "name": "ipython",
    "version": 3
   },
   "file_extension": ".py",
   "mimetype": "text/x-python",
   "name": "python",
   "nbconvert_exporter": "python",
   "pygments_lexer": "ipython3",
   "version": "3.10.8"
  }
 },
 "nbformat": 4,
 "nbformat_minor": 5
}
