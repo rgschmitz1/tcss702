{
 "cells": [
  {
   "cell_type": "markdown",
   "id": "7d5b1b51",
   "metadata": {},
   "source": [
    "### Create graphs subfolder in OpenFaaS directory"
   ]
  },
  {
   "cell_type": "code",
   "execution_count": 7,
   "id": "0c63ccdb",
   "metadata": {},
   "outputs": [],
   "source": [
    "!mkdir graphs"
   ]
  },
  {
   "cell_type": "markdown",
   "id": "02cf918b",
   "metadata": {},
   "source": [
    "### Install python package dependencies"
   ]
  },
  {
   "cell_type": "code",
   "execution_count": 5,
   "id": "a984531b",
   "metadata": {},
   "outputs": [
    {
     "name": "stdout",
     "output_type": "stream",
     "text": [
      "Defaulting to user installation because normal site-packages is not writeable\n",
      "Collecting pandas\n",
      "  Downloading pandas-1.5.2-cp38-cp38-manylinux_2_17_x86_64.manylinux2014_x86_64.whl (12.2 MB)\n",
      "\u001b[2K     \u001b[38;2;114;156;31m━━━━━━━━━━━━━━━━━━━━━━━━━━━━━━━━━━━━━━━━\u001b[0m \u001b[32m12.2/12.2 MB\u001b[0m \u001b[31m20.1 MB/s\u001b[0m eta \u001b[36m0:00:00\u001b[0mm eta \u001b[36m0:00:01\u001b[0m[36m0:00:01\u001b[0m\n",
      "\u001b[?25hCollecting plotly\n",
      "  Downloading plotly-5.11.0-py2.py3-none-any.whl (15.3 MB)\n",
      "\u001b[2K     \u001b[38;2;114;156;31m━━━━━━━━━━━━━━━━━━━━━━━━━━━━━━━━━━━━━━━━\u001b[0m \u001b[32m15.3/15.3 MB\u001b[0m \u001b[31m19.0 MB/s\u001b[0m eta \u001b[36m0:00:00\u001b[0mm eta \u001b[36m0:00:01\u001b[0m[36m0:00:01\u001b[0m\n",
      "\u001b[?25hCollecting numpy\n",
      "  Downloading numpy-1.23.5-cp38-cp38-manylinux_2_17_x86_64.manylinux2014_x86_64.whl (17.1 MB)\n",
      "\u001b[2K     \u001b[38;2;114;156;31m━━━━━━━━━━━━━━━━━━━━━━━━━━━━━━━━━━━━━━━━\u001b[0m \u001b[32m17.1/17.1 MB\u001b[0m \u001b[31m18.2 MB/s\u001b[0m eta \u001b[36m0:00:00\u001b[0mm eta \u001b[36m0:00:01\u001b[0m[36m0:00:01\u001b[0m\n",
      "\u001b[?25hCollecting pytz>=2020.1\n",
      "  Downloading pytz-2022.6-py2.py3-none-any.whl (498 kB)\n",
      "\u001b[2K     \u001b[38;2;114;156;31m━━━━━━━━━━━━━━━━━━━━━━━━━━━━━━━━━━━━━━\u001b[0m \u001b[32m498.1/498.1 kB\u001b[0m \u001b[31m44.1 MB/s\u001b[0m eta \u001b[36m0:00:00\u001b[0m\n",
      "\u001b[?25hRequirement already satisfied: python-dateutil>=2.8.1 in /home/bschmitz/.local/lib/python3.8/site-packages (from pandas) (2.8.2)\n",
      "Collecting tenacity>=6.2.0\n",
      "  Downloading tenacity-8.1.0-py3-none-any.whl (23 kB)\n",
      "Requirement already satisfied: six>=1.5 in /usr/lib/python3/dist-packages (from python-dateutil>=2.8.1->pandas) (1.14.0)\n",
      "Installing collected packages: pytz, tenacity, numpy, plotly, pandas\n",
      "Successfully installed numpy-1.23.5 pandas-1.5.2 plotly-5.11.0 pytz-2022.6 tenacity-8.1.0\n",
      "Note: you may need to restart the kernel to use updated packages.\n"
     ]
    }
   ],
   "source": [
    "pip install --upgrade pandas plotly numpy"
   ]
  },
  {
   "cell_type": "markdown",
   "id": "8fb4a0c2",
   "metadata": {},
   "source": [
    "### Import packages to graph results"
   ]
  },
  {
   "cell_type": "code",
   "execution_count": 1,
   "id": "f6434575",
   "metadata": {},
   "outputs": [],
   "source": [
    "from glob import glob\n",
    "import pandas as pd\n",
    "#import numpy as np\n",
    "import plotly\n",
    "import plotly.graph_objects as go\n",
    "from plotly.subplots import make_subplots"
   ]
  },
  {
   "cell_type": "markdown",
   "id": "2d7cd77e",
   "metadata": {},
   "source": [
    "### Set default color palete and size for making plots"
   ]
  },
  {
   "cell_type": "code",
   "execution_count": 2,
   "id": "dab6a8ae",
   "metadata": {},
   "outputs": [],
   "source": [
    "colorPallet = [\"rgba(151, 209, 233, 255)\", \"rgba(0, 120, 179, 255)\", \"rgba(179, 223, 146, 255)\", \"rgba(49, 169, 90, 255)\", \"rgba(227, 136, 220, 255)\", \"rgba(127, 0, 255, 255)\", \"rgba(255, 128, 0, 255)\"]\n",
    "bgColor = 'rgba(245,245,255,255)'\n",
    "\n",
    "baseFigureWidth = 700\n",
    "baseFigureHeight = 350"
   ]
  },
  {
   "cell_type": "markdown",
   "id": "f212007b",
   "metadata": {},
   "source": [
    "### glob all the log files into a list"
   ]
  },
  {
   "cell_type": "code",
   "execution_count": 4,
   "id": "7e3df436",
   "metadata": {},
   "outputs": [
    {
     "name": "stdout",
     "output_type": "stream",
     "text": [
      "../logs/kops_multi-tenant_1x_8vcpu_16gb/bwa/2022-11-18_18-59-34_bwa-mem_normal_0.log\r\n",
      "../logs/kops_multi-tenant_1x_8vcpu_16gb/bwa/2022-11-18_19-01-45_bwa-mem_tumor_0.log\r\n",
      "../logs/kops_multi-tenant_1x_8vcpu_16gb/bwa/2022-11-18_19-04-03_bwa-mem_normal_1.log\r\n",
      "../logs/kops_multi-tenant_1x_8vcpu_16gb/bwa/2022-11-18_19-06-23_bwa-mem_tumor_1.log\r\n",
      "../logs/kops_multi-tenant_1x_8vcpu_16gb/bwa/2022-11-18_19-08-31_bwa-mem_normal_2.log\r\n",
      "../logs/kops_multi-tenant_1x_8vcpu_16gb/bwa/2022-11-18_19-10-48_bwa-mem_tumor_2.log\r\n",
      "../logs/kops_multi-tenant_1x_8vcpu_16gb/bwa/2022-11-18_19-13-08_bwa-mem_normal_3.log\r\n",
      "../logs/kops_multi-tenant_1x_8vcpu_16gb/bwa/2022-11-18_19-15-26_bwa-mem_tumor_3.log\r\n",
      "../logs/kops_multi-tenant_1x_8vcpu_16gb/bwa/2022-11-18_19-17-41_bwa-mem_normal_4.log\r\n",
      "../logs/kops_multi-tenant_1x_8vcpu_16gb/bwa/2022-11-18_19-19-52_bwa-mem_tumor_4.log\r\n",
      "../logs/kops_multi-tenant_1x_8vcpu_16gb/bwa/2022-11-18_19-22-15_bwa-mem_normal_5.log\r\n",
      "../logs/kops_multi-tenant_1x_8vcpu_16gb/bwa/2022-11-18_19-24-34_bwa-mem_tumor_5.log\r\n",
      "../logs/kops_multi-tenant_1x_8vcpu_16gb/bwa/2022-11-18_19-26-48_bwa-mem_normal_6.log\r\n",
      "../logs/kops_multi-tenant_1x_8vcpu_16gb/bwa/2022-11-18_19-28-57_bwa-mem_tumor_6.log\r\n",
      "../logs/kops_multi-tenant_1x_8vcpu_16gb/bwa/2022-11-18_19-31-10_bwa-mem_normal_7.log\r\n",
      "../logs/kops_multi-tenant_1x_8vcpu_16gb/bwa/2022-11-18_19-33-33_bwa-mem_tumor_7.log\r\n",
      "../logs/kops_multi-tenant_1x_8vcpu_16gb/bwa/2022-11-18_19-35-58_bwa-mem_normal_8.log\r\n",
      "../logs/kops_multi-tenant_1x_8vcpu_16gb/bwa/2022-11-18_19-38-14_bwa-mem_tumor_8.log\r\n",
      "../logs/kops_multi-tenant_1x_8vcpu_16gb/bwa/2022-11-18_19-40-30_bwa-mem_normal_9.log\r\n",
      "../logs/kops_multi-tenant_1x_8vcpu_16gb/bwa/2022-11-18_19-42-45_bwa-mem_tumor_9.log\r\n",
      "../logs/kops_multi-tenant_1x_8vcpu_16gb/bwa/2022-11-18_19-45-07_bwa-mem_normal_10.log\r\n",
      "../logs/kops_multi-tenant_1x_8vcpu_16gb/bwa/2022-11-18_19-47-25_bwa-mem_tumor_10.log\r\n",
      "../logs/kops_multi-tenant_1x_8vcpu_16gb/bwa/2022-11-18_19-49-43_bwa-mem_normal_11.log\r\n",
      "../logs/kops_multi-tenant_1x_8vcpu_16gb/bwa/2022-11-18_19-51-57_bwa-mem_tumor_11.log\r\n",
      "../logs/kops_multi-tenant_1x_8vcpu_16gb/bwa/2022-11-18_19-54-13_bwa-mem_normal_12.log\r\n",
      "../logs/kops_multi-tenant_1x_8vcpu_16gb/bwa/2022-11-18_19-56-28_bwa-mem_tumor_12.log\r\n",
      "../logs/kops_multi-tenant_1x_8vcpu_16gb/bwa/2022-11-18_19-58-48_bwa-mem_normal_13.log\r\n",
      "../logs/kops_multi-tenant_1x_8vcpu_16gb/bwa/2022-11-18_20-01-04_bwa-mem_tumor_13.log\r\n",
      "../logs/kops_multi-tenant_1x_8vcpu_16gb/bwa/2022-11-18_20-03-21_bwa-mem_normal_14.log\r\n",
      "../logs/kops_multi-tenant_1x_8vcpu_16gb/bwa/2022-11-18_20-05-34_bwa-mem_tumor_14.log\r\n",
      "../logs/kops_multi-tenant_1x_8vcpu_16gb/bwa/2022-11-18_20-07-55_bwa-mem_normal_15.log\r\n",
      "../logs/kops_multi-tenant_1x_8vcpu_16gb/bwa/2022-11-18_20-10-15_bwa-mem_tumor_15.log\r\n",
      "../logs/kops_multi-tenant_1x_8vcpu_16gb/bwa/2022-11-18_20-12-31_bwa-mem_normal_16.log\r\n",
      "../logs/kops_multi-tenant_1x_8vcpu_16gb/bwa/2022-11-18_20-14-46_bwa-mem_tumor_16.log\r\n",
      "../logs/kops_multi-tenant_1x_8vcpu_16gb/bwa/2022-11-18_20-17-01_bwa-mem_normal_17.log\r\n",
      "../logs/kops_multi-tenant_1x_8vcpu_16gb/bwa/2022-11-18_20-19-17_bwa-mem_tumor_17.log\r\n",
      "../logs/kops_multi-tenant_1x_8vcpu_16gb/bwa/2022-11-18_20-21-39_bwa-mem_normal_18.log\r\n",
      "../logs/kops_multi-tenant_1x_8vcpu_16gb/bwa/2022-11-18_20-23-55_bwa-mem_tumor_18.log\r\n",
      "../logs/kops_multi-tenant_1x_8vcpu_16gb/bwa/2022-11-18_20-26-11_bwa-mem_normal_19.log\r\n",
      "../logs/kops_multi-tenant_1x_8vcpu_16gb/bwa/2022-11-18_20-28-27_bwa-mem_tumor_19.log\r\n"
     ]
    }
   ],
   "source": [
    "!ls ../logs/kops_multi-tenant_1x_8vcpu_16gb/bwa/*log"
   ]
  },
  {
   "cell_type": "code",
   "execution_count": null,
   "id": "2f037d9d",
   "metadata": {},
   "outputs": [],
   "source": []
  }
 ],
 "metadata": {
  "kernelspec": {
   "display_name": "Python 3 (ipykernel)",
   "language": "python",
   "name": "python3"
  },
  "language_info": {
   "codemirror_mode": {
    "name": "ipython",
    "version": 3
   },
   "file_extension": ".py",
   "mimetype": "text/x-python",
   "name": "python",
   "nbconvert_exporter": "python",
   "pygments_lexer": "ipython3",
   "version": "3.8.10"
  }
 },
 "nbformat": 4,
 "nbformat_minor": 5
}
