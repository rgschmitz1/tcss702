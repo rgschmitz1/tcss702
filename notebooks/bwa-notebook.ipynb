{
 "cells": [
  {
   "cell_type": "markdown",
   "id": "7d5b1b51",
   "metadata": {},
   "source": [
    "### Create graphs subfolder in OpenFaaS directory"
   ]
  },
  {
   "cell_type": "code",
   "execution_count": 1,
   "id": "0c63ccdb",
   "metadata": {},
   "outputs": [],
   "source": [
    "!mkdir -p graphs"
   ]
  },
  {
   "cell_type": "markdown",
   "id": "02cf918b",
   "metadata": {},
   "source": [
    "### Install python package dependencies"
   ]
  },
  {
   "cell_type": "code",
   "execution_count": 2,
   "id": "a984531b",
   "metadata": {},
   "outputs": [
    {
     "name": "stdout",
     "output_type": "stream",
     "text": [
      "Collecting kaleido\n",
      "  Downloading kaleido-0.2.1-py2.py3-none-manylinux1_x86_64.whl (79.9 MB)\n",
      "\u001b[2K     \u001b[90m━━━━━━━━━━━━━━━━━━━━━━━━━━━━━━━━━━━━━━━━\u001b[0m \u001b[32m79.9/79.9 MB\u001b[0m \u001b[31m6.6 MB/s\u001b[0m eta \u001b[36m0:00:00\u001b[0m:00:01\u001b[0m00:01\u001b[0m\n",
      "\u001b[?25hCollecting plotly==5.11.0\n",
      "  Downloading plotly-5.11.0-py2.py3-none-any.whl (15.3 MB)\n",
      "\u001b[2K     \u001b[90m━━━━━━━━━━━━━━━━━━━━━━━━━━━━━━━━━━━━━━━━\u001b[0m \u001b[32m15.3/15.3 MB\u001b[0m \u001b[31m17.9 MB/s\u001b[0m eta \u001b[36m0:00:00\u001b[0m00:01\u001b[0m00:01\u001b[0m\n",
      "\u001b[?25hCollecting tenacity>=6.2.0\n",
      "  Downloading tenacity-8.1.0-py3-none-any.whl (23 kB)\n",
      "Installing collected packages: kaleido, tenacity, plotly\n",
      "Successfully installed kaleido-0.2.1 plotly-5.11.0 tenacity-8.1.0\n"
     ]
    }
   ],
   "source": [
    "!pip install kaleido plotly==5.11.0"
   ]
  },
  {
   "cell_type": "markdown",
   "id": "8fb4a0c2",
   "metadata": {},
   "source": [
    "### Import packages to graph results"
   ]
  },
  {
   "cell_type": "code",
   "execution_count": 3,
   "id": "f6434575",
   "metadata": {},
   "outputs": [],
   "source": [
    "from glob import glob\n",
    "import pandas as pd\n",
    "import json\n",
    "#import numpy as np\n",
    "import plotly.graph_objects as go\n",
    "from plotly.subplots import make_subplots\n",
    "import plotly.io as pio\n",
    "pio.renderers.default = 'iframe'\n",
    "# import plotly.offline as py\n",
    "# py.init_notebook_mode(connected=True)\n",
    "# Used for debug\n",
    "# from pprint import pprint"
   ]
  },
  {
   "cell_type": "markdown",
   "id": "2d7cd77e",
   "metadata": {},
   "source": [
    "### Set default color palete and size for making plots"
   ]
  },
  {
   "cell_type": "code",
   "execution_count": 4,
   "id": "dab6a8ae",
   "metadata": {},
   "outputs": [],
   "source": [
    "colorPallet = [\"rgba(151, 209, 233, 255)\", \"rgba(0, 120, 179, 255)\", \"rgba(179, 223, 146, 255)\", \"rgba(49, 169, 90, 255)\", \"rgba(227, 136, 220, 255)\", \"rgba(127, 0, 255, 255)\", \"rgba(255, 128, 0, 255)\"]\n",
    "bgColor = 'rgba(245,245,255,255)'\n",
    "\n",
    "baseFigureWidth = 700\n",
    "baseFigureHeight = 350"
   ]
  },
  {
   "cell_type": "markdown",
   "id": "d0b4ee99",
   "metadata": {},
   "source": [
    "### glob all the log files into a list, then create a dataframe with all json data"
   ]
  },
  {
   "cell_type": "code",
   "execution_count": 5,
   "id": "b74edff4",
   "metadata": {},
   "outputs": [],
   "source": [
    "bwa_normal_logs = glob(\"../logs/openfaas/kops_multi-tenant_1x_8vcpu_16gb/bwa/*normal*\")\n",
    "normal_df_list = []\n",
    "for log in bwa_normal_logs:\n",
    "    with open(log) as f:\n",
    "        obj = json.load(f)\n",
    "    # cpuInfo is messing up the dataframe... remove for now\n",
    "    obj.pop('cpuInfo')\n",
    "    normal_df_list.append(pd.DataFrame([obj]))\n",
    "normal_df = pd.concat(normal_df_list, ignore_index=True)\n",
    "\n",
    "bwa_tumor_logs = glob(\"../logs/openfaas/kops_multi-tenant_1x_8vcpu_16gb/bwa/*tumor*\")\n",
    "tumor_df_list = []\n",
    "for log in bwa_tumor_logs:\n",
    "    with open(log) as f:\n",
    "        obj = json.load(f)\n",
    "    # cpuInfo is messing up the dataframe... remove for now\n",
    "    obj.pop('cpuInfo')\n",
    "    tumor_df_list.append(pd.DataFrame([obj]))\n",
    "tumor_df = pd.concat(tumor_df_list, ignore_index=True)"
   ]
  },
  {
   "cell_type": "markdown",
   "id": "839046b1-1995-4cb9-affc-ccc635e2ef30",
   "metadata": {},
   "source": [
    "# Make bar plots to profile bwa function data"
   ]
  },
  {
   "cell_type": "code",
   "execution_count": 6,
   "id": "166f6aa5-07e0-4628-ad20-dad7fcf68beb",
   "metadata": {},
   "outputs": [
    {
     "data": {
      "text/html": [
       "<iframe\n",
       "    scrolling=\"no\"\n",
       "    width=\"100%\"\n",
       "    height=\"545px\"\n",
       "    src=\"iframe_figures/figure_6.html\"\n",
       "    frameborder=\"0\"\n",
       "    allowfullscreen\n",
       "></iframe>\n"
      ]
     },
     "metadata": {},
     "output_type": "display_data"
    }
   ],
   "source": [
    "fig = make_subplots(specs = [[{\"secondary_y\": False}]])\n",
    "\n",
    "# Add figure title\n",
    "fig.update_layout(\n",
    "    barmode='stack',\n",
    "    legend=dict(\n",
    "        orientation=\"h\",\n",
    "        yanchor=\"bottom\",\n",
    "        y=1.02,\n",
    "        xanchor=\"center\",\n",
    "        x=0.47\n",
    "    ),\n",
    "    margin=dict(\n",
    "        t=0,\n",
    "        b=1,\n",
    "        l=1,\n",
    "        r=1,\n",
    "        autoexpand=True\n",
    "    ),\n",
    "    font=dict(\n",
    "        size=16\n",
    "    ),\n",
    "    plot_bgcolor=bgColor\n",
    ")\n",
    "\n",
    "profileData = pd.DataFrame()\n",
    "profileData['payload'] = [\"Normal\", \"Tumor\"]\n",
    "profileData['cpuUser'] = [normal_df['cpuUserDelta'].mean(), tumor_df['cpuUserDelta'].mean()]\n",
    "profileData['cpuIdle'] = [normal_df['cpuIdleDelta'].mean(), tumor_df['cpuIdleDelta'].mean()]\n",
    "profileData['cpuKernel'] = [normal_df['cpuKernelDelta'].mean(), tumor_df['cpuKernelDelta'].mean()]\n",
    "profileData['runtime'] = [round(normal_df['runtime'].mean() / 1000), round(tumor_df['runtime'].mean() / 1000)]\n",
    "profileData['runtimeText'] = [f\"Runtime:<br>{value} s\" for value in profileData['runtime']]\n",
    "\n",
    "fig.add_trace(go.Bar(x = profileData[\"payload\"],\n",
    "                     y = profileData[\"cpuKernel\"] / 100,\n",
    "                     name = \"CPU Kernel\", marker_color=colorPallet[2]),\n",
    "              secondary_y=False)\n",
    "\n",
    "fig.add_trace(go.Bar(x = profileData[\"payload\"],\n",
    "                     y = profileData[\"cpuUser\"] / 100,\n",
    "                     name = \"CPU User\", marker_color=colorPallet[1]),\n",
    "              secondary_y=False)\n",
    "\n",
    "fig.add_trace(go.Bar(x = profileData[\"payload\"],\n",
    "                     y = profileData[\"cpuIdle\"] / 100,\n",
    "                     name = \"CPU Idle\", marker_color=colorPallet[0],\n",
    "                     text=profileData['runtimeText'], textposition=\"outside\"),\n",
    "              secondary_y=False)\n",
    "\n",
    "# Set x-axis title\n",
    "fig.update_xaxes(title_text=\"Payloads\")\n",
    "\n",
    "# Set y-axes titles\n",
    "fig.update_yaxes(title_text=\"CPU Time (s)\", range=[0, 12000], secondary_y=False)\n",
    "fig.update_yaxes(title_text=\"Function Runtime (ms)\", secondary_y=True)\n",
    "\n",
    "# py.iplot(fig)\n",
    "\n",
    "fig.show()\n",
    "# Save graph\n",
    "# fig.write_image(\"graphs/bwa_profile_bars.pdf\", width=baseFigureWidth, engine=\"kaleido\", height=baseFigureHeight)"
   ]
  },
  {
   "cell_type": "code",
   "execution_count": null,
   "id": "29c1c40a-1c0b-4c9b-a1b1-e733971f812b",
   "metadata": {},
   "outputs": [],
   "source": []
  }
 ],
 "metadata": {
  "kernelspec": {
   "display_name": "Python 3 (ipykernel)",
   "language": "python",
   "name": "python3"
  },
  "language_info": {
   "codemirror_mode": {
    "name": "ipython",
    "version": 3
   },
   "file_extension": ".py",
   "mimetype": "text/x-python",
   "name": "python",
   "nbconvert_exporter": "python",
   "pygments_lexer": "ipython3",
   "version": "3.10.8"
  }
 },
 "nbformat": 4,
 "nbformat_minor": 5
}
