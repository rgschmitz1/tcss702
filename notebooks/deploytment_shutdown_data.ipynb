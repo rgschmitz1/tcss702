{
 "cells": [
  {
   "cell_type": "markdown",
   "id": "fc34db9e-cc57-4766-8150-551fd082f2dd",
   "metadata": {},
   "source": [
    "# Get EKS (baseline) deployment times"
   ]
  },
  {
   "cell_type": "code",
   "execution_count": 8,
   "id": "a1d0ba50-f691-441a-95d2-9828ae81731e",
   "metadata": {},
   "outputs": [
    {
     "name": "stdout",
     "output_type": "stream",
     "text": [
      "['1164', '1175', '1100', '1018', '1154', '1089', '1038', '1144', '980', '1101']\n"
     ]
    }
   ],
   "source": [
    "eks_deployment=!awk '/^Time/ {print $2}' ../logs/eks/*16gb_deployment*\n",
    "print(eks_deployment)"
   ]
  },
  {
   "cell_type": "markdown",
   "id": "279fe5bd-abd3-4ac3-9fc5-69b69a7619d1",
   "metadata": {},
   "source": [
    "# Get EKS (baseline) shutdown times"
   ]
  },
  {
   "cell_type": "code",
   "execution_count": 9,
   "id": "78662f4d-ac92-4300-a15d-4ed1b316b1a7",
   "metadata": {},
   "outputs": [
    {
     "name": "stdout",
     "output_type": "stream",
     "text": [
      "['590', '529', '529', '567', '530', '672', '541', '551', '551', '565']\n"
     ]
    }
   ],
   "source": [
    "eks_shutdown=!awk '/^Time/ {print $2}' ../logs/eks/*16gb_shutdown*\n",
    "print(eks_shutdown)"
   ]
  },
  {
   "cell_type": "markdown",
   "id": "8579f112-dfe1-410a-9791-fe45ea10e9b9",
   "metadata": {},
   "source": [
    "# Get kOps 8x c5.2xlarge deployment times"
   ]
  },
  {
   "cell_type": "code",
   "execution_count": 10,
   "id": "4ed72a3c-8119-462f-a6e4-6857f7757e86",
   "metadata": {},
   "outputs": [
    {
     "name": "stdout",
     "output_type": "stream",
     "text": [
      "['306', '272', '252', '297', '243', '294', '304', '295', '795', '256']\n"
     ]
    }
   ],
   "source": [
    "kops_8x_8vcpu_deployment=!awk '/^Time/ {print $2}' ../logs/kops/*16gb_deployment*\n",
    "print(kops_8x_8vcpu_deployment)"
   ]
  },
  {
   "cell_type": "markdown",
   "id": "f764e2f8-c367-4a6d-8a8e-8695c803d825",
   "metadata": {},
   "source": [
    "# Get kOps 8x c5.2xlarge shutdown times"
   ]
  },
  {
   "cell_type": "code",
   "execution_count": 11,
   "id": "fc461cb7-a811-4cd6-950c-c54aeb8d43c8",
   "metadata": {},
   "outputs": [
    {
     "name": "stdout",
     "output_type": "stream",
     "text": [
      "['107', '97', '97', '88', '96', '98', '97', '107', '107', '108']\n"
     ]
    }
   ],
   "source": [
    "kops_8x_8vcpu_shutdown=!awk '/^Time/ {print $2}' ../logs/kops/*16gb_shutdown*\n",
    "print(kops_8x_8vcpu_shutdown)"
   ]
  },
  {
   "cell_type": "markdown",
   "id": "d832a789-efb6-4b07-b177-a6f4d70b72d1",
   "metadata": {},
   "source": [
    "# Get kOps 8x c5.18xlarge deployment times"
   ]
  },
  {
   "cell_type": "code",
   "execution_count": 12,
   "id": "564da87f-208e-4159-be7d-9eb234c46219",
   "metadata": {},
   "outputs": [
    {
     "name": "stdout",
     "output_type": "stream",
     "text": [
      "['238', '258', '256', '254', '235', '288', '278', '262', '304', '255']\n"
     ]
    }
   ],
   "source": [
    "kops_1x_72vcpu_deployment=!awk '/^Time/ {print $2}' ../logs/kops/*144gb_deployment*\n",
    "print(kops_1x_72vcpu_deployment)"
   ]
  },
  {
   "cell_type": "markdown",
   "id": "768f86e2-3ddc-4d06-81f7-847d9ecc6c96",
   "metadata": {},
   "source": [
    "# Get kOps 8x c5.18xlarge shutdown times"
   ]
  },
  {
   "cell_type": "code",
   "execution_count": 13,
   "id": "e085310d-295b-4438-9c80-eb5325d7ce03",
   "metadata": {},
   "outputs": [
    {
     "name": "stdout",
     "output_type": "stream",
     "text": [
      "['113', '107', '89', '99', '108', '77', '108', '96', '91', '107']\n"
     ]
    }
   ],
   "source": [
    "kops_1x_72vcpu_shutdown=!awk '/^Time/ {print $2}' ../logs/kops/*144gb_shutdown*\n",
    "print(kops_1x_72vcpu_shutdown)"
   ]
  },
  {
   "cell_type": "code",
   "execution_count": null,
   "id": "ddefa2d0-762c-4086-8044-e066d4462c65",
   "metadata": {},
   "outputs": [],
   "source": []
  }
 ],
 "metadata": {
  "kernelspec": {
   "display_name": "Python 3 (ipykernel)",
   "language": "python",
   "name": "python3"
  },
  "language_info": {
   "codemirror_mode": {
    "name": "ipython",
    "version": 3
   },
   "file_extension": ".py",
   "mimetype": "text/x-python",
   "name": "python",
   "nbconvert_exporter": "python",
   "pygments_lexer": "ipython3",
   "version": "3.10.8"
  }
 },
 "nbformat": 4,
 "nbformat_minor": 5
}
