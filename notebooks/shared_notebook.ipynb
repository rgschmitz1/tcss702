{
 "cells": [
  {
   "cell_type": "code",
   "execution_count": 1,
   "id": "a6bd0dbf-1218-46d1-8351-ea19b2435c39",
   "metadata": {},
   "outputs": [],
   "source": [
    "# Import packages to create dataframes\n",
    "from glob import glob\n",
    "import pandas as pd\n",
    "import json"
   ]
  },
  {
   "cell_type": "code",
   "execution_count": 2,
   "id": "30201fba-e4f5-42fd-befe-e848d70b2aee",
   "metadata": {},
   "outputs": [],
   "source": [
    "# Glob logs and create dataframes\n",
    "def create_dataframe(logs):\n",
    "    logs = glob(logs)\n",
    "    df_list = []\n",
    "    for log in logs:\n",
    "        with open(log) as f:\n",
    "            obj = json.load(f)['saaf']\n",
    "        # cpuInfo is messing up the dataframe... remove for now\n",
    "        obj.pop('cpuInfo')\n",
    "        df_list.append(pd.DataFrame([obj]))\n",
    "    return pd.concat(df_list, ignore_index=True)"
   ]
  },
  {
   "cell_type": "code",
   "execution_count": 4,
   "id": "f5736a53-9392-45a0-bb94-fb000ccb0eb3",
   "metadata": {},
   "outputs": [
    {
     "name": "stdout",
     "output_type": "stream",
     "text": [
      "Stored 'colorPallet' (list)\n",
      "Stored 'bgColor' (str)\n",
      "Stored 'baseFigureWidth' (int)\n",
      "Stored 'baseFigureHeight' (int)\n"
     ]
    }
   ],
   "source": [
    "# Store color pallet and dimensions for figures\n",
    "colorPallet = [\"rgba(151, 209, 233, 255)\",\n",
    "               \"rgba(0, 120, 179, 255)\",\n",
    "               \"rgba(179, 223, 146, 255)\",\n",
    "               \"rgba(49, 169, 90, 255)\",\n",
    "               \"rgba(227, 136, 220, 255)\",\n",
    "               \"rgba(127, 0, 255, 255)\",\n",
    "               \"rgba(255, 128, 0, 255)\"]\n",
    "bgColor = 'rgba(245,245,255,255)'\n",
    "baseFigureWidth = 700\n",
    "baseFigureHeight = 350\n",
    "\n",
    "%store colorPallet\n",
    "%store bgColor\n",
    "%store baseFigureWidth\n",
    "%store baseFigureHeight\n",
    "\n",
    "del colorPallet\n",
    "del bgColor\n",
    "del baseFigureWidth\n",
    "del baseFigureHeight"
   ]
  }
 ],
 "metadata": {
  "kernelspec": {
   "display_name": "Python 3 (ipykernel)",
   "language": "python",
   "name": "python3"
  },
  "language_info": {
   "codemirror_mode": {
    "name": "ipython",
    "version": 3
   },
   "file_extension": ".py",
   "mimetype": "text/x-python",
   "name": "python",
   "nbconvert_exporter": "python",
   "pygments_lexer": "ipython3",
   "version": "3.10.8"
  }
 },
 "nbformat": 4,
 "nbformat_minor": 5
}
