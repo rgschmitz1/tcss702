{
 "cells": [
  {
   "cell_type": "code",
   "execution_count": 5,
   "id": "30201fba-e4f5-42fd-befe-e848d70b2aee",
   "metadata": {},
   "outputs": [],
   "source": [
    "# Import packages to create dataframes\n",
    "from glob import glob\n",
    "import pandas as pd\n",
    "import json\n",
    "\n",
    "# Glob logs and create dataframes\n",
    "def create_dataframe(logs):\n",
    "    logs = glob(logs)\n",
    "    df_list = []\n",
    "    for log in logs:\n",
    "        with open(log) as f:\n",
    "            obj = json.load(f)['saaf']\n",
    "        # cpuInfo is messing up the dataframe... remove for now\n",
    "        # obj.pop('cpuInfo')\n",
    "        df_list.append(pd.DataFrame([obj]))\n",
    "    return pd.concat(df_list, ignore_index=True)"
   ]
  },
  {
   "cell_type": "code",
   "execution_count": 6,
   "id": "f5736a53-9392-45a0-bb94-fb000ccb0eb3",
   "metadata": {},
   "outputs": [
    {
     "name": "stdout",
     "output_type": "stream",
     "text": [
      "Stored 'colorPallet' (list)\n",
      "Stored 'bgColor' (str)\n"
     ]
    }
   ],
   "source": [
    "# Store color pallet\n",
    "colorPallet = [\"rgba(151, 209, 233, 255)\",\n",
    "               \"rgba(0, 120, 179, 255)\",\n",
    "               \"rgba(179, 223, 146, 255)\",\n",
    "               \"rgba(49, 169, 90, 255)\",\n",
    "               \"rgba(227, 136, 220, 255)\",\n",
    "               \"rgba(127, 0, 255, 255)\",\n",
    "               \"rgba(255, 128, 0, 255)\"]\n",
    "bg_color = 'rgba(245,245,255,255)'\n",
    "\n",
    "%store colorPallet\n",
    "\n",
    "del colorPallet"
   ]
  },
  {
   "cell_type": "code",
   "execution_count": 7,
   "id": "10d6a46f-99e8-4efd-a49c-f25ac3632f24",
   "metadata": {},
   "outputs": [],
   "source": [
    "import os\n",
    "\n",
    "# Save graph\n",
    "def write_image(figure, filename, data_dir=None, baseFigureWidth=1200, baseFigureHeight=720):\n",
    "    if not data_dir:\n",
    "        data_dir='graphs'\n",
    "    if not os.path.exists(data_dir):\n",
    "        os.mkdir(data_dir)\n",
    "    figure.write_image(f\"{data_dir}/{filename}\", width=baseFigureWidth, height=baseFigureHeight)"
   ]
  },
  {
   "cell_type": "code",
   "execution_count": 8,
   "id": "4ada73ac-39e7-4348-a1db-777c89e76d56",
   "metadata": {},
   "outputs": [],
   "source": [
    "import plotly.graph_objects as go\n",
    "from plotly.subplots import make_subplots\n",
    "\n",
    "def create_figure(title, xaxis_title, yaxis_title, tick_vals=None, make_subplot=False):\n",
    "    if make_subplot:\n",
    "        fig = make_subplots(specs = [[{\"secondary_y\": False}]])\n",
    "    else:\n",
    "        fig = go.Figure()\n",
    "\n",
    "    # Add figure title\n",
    "    fig.update_layout(\n",
    "        legend=dict(\n",
    "            orientation=\"h\",\n",
    "            yanchor=\"bottom\",\n",
    "            y=1.02,\n",
    "            xanchor=\"center\",\n",
    "            x=0.47\n",
    "        ),\n",
    "        margin=dict(\n",
    "            # t=1,\n",
    "            b=1,\n",
    "            l=1,\n",
    "            r=1,\n",
    "            autoexpand=True\n",
    "        ),\n",
    "        font=dict(\n",
    "            size=16\n",
    "        ),\n",
    "        title=dict(\n",
    "            text=title,\n",
    "            x=0.5,\n",
    "            xanchor='center'\n",
    "        ),\n",
    "        xaxis_title_text=xaxis_title,\n",
    "        yaxis_title_text=yaxis_title,\n",
    "        plot_bgcolor=bg_color\n",
    "    )\n",
    "    \n",
    "    if tick_vals:\n",
    "        fig.update_layout(\n",
    "            xaxis=dict(\n",
    "                tickmode='array',\n",
    "                tickvals=tick_vals\n",
    "            )\n",
    "        )\n",
    "    \n",
    "    return fig"
   ]
  }
 ],
 "metadata": {
  "kernelspec": {
   "display_name": "Python 3 (ipykernel)",
   "language": "python",
   "name": "python3"
  },
  "language_info": {
   "codemirror_mode": {
    "name": "ipython",
    "version": 3
   },
   "file_extension": ".py",
   "mimetype": "text/x-python",
   "name": "python",
   "nbconvert_exporter": "python",
   "pygments_lexer": "ipython3",
   "version": "3.10.8"
  }
 },
 "nbformat": 4,
 "nbformat_minor": 5
}
