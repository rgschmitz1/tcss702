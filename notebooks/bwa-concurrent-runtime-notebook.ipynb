{
 "cells": [
  {
   "cell_type": "markdown",
   "id": "8fb4a0c2",
   "metadata": {},
   "source": [
    "# Import packages to parse results"
   ]
  },
  {
   "cell_type": "code",
   "execution_count": 1,
   "id": "f6434575",
   "metadata": {},
   "outputs": [],
   "source": [
    "from glob import glob\n",
    "from tabulate import tabulate\n",
    "from IPython.display import HTML\n",
    "import pandas as pd\n",
    "import json"
   ]
  },
  {
   "cell_type": "markdown",
   "id": "bf43f7e6-e857-4149-9698-9700fdb543b1",
   "metadata": {},
   "source": [
    "## Log file locations relative to notebook"
   ]
  },
  {
   "cell_type": "markdown",
   "id": "d0b4ee99",
   "metadata": {},
   "source": [
    "### Create a dataframe with all json data"
   ]
  },
  {
   "cell_type": "code",
   "execution_count": 2,
   "id": "b93fabf4-b3ab-452f-a4db-d98e78a52576",
   "metadata": {},
   "outputs": [],
   "source": [
    "def create_dataframe(logs):\n",
    "    logs = glob(logs)\n",
    "    df_list = []\n",
    "    for log in logs:\n",
    "        with open(log) as f:\n",
    "            obj = json.load(f)['saaf']\n",
    "        # cpuInfo is messing up the dataframe... remove for now\n",
    "        obj.pop('cpuInfo')\n",
    "        df_list.append(pd.DataFrame([obj]))\n",
    "    return pd.concat(df_list, ignore_index=True)"
   ]
  },
  {
   "cell_type": "markdown",
   "id": "97097fec-1bac-4491-8891-e97604c8192d",
   "metadata": {},
   "source": [
    "### For BWA, we have 3 different clusters, 1 method with two different payloads, multiple concurrent calls"
   ]
  },
  {
   "cell_type": "code",
   "execution_count": 3,
   "id": "275083ed-c6a8-46be-a0cd-99a0569dc17f",
   "metadata": {},
   "outputs": [],
   "source": [
    "# kOps clusters (running on AWS)\n",
    "# AWS EKS cluster\n",
    "clusters={\n",
    "    'kOps 8x 8vCPU 16Gb': 'kops-multi-tenant-spot-1x-72vcpu-144gb',\n",
    "    'kOps 1x 72vCPU 144Gb': 'kops-multi-tenant-spot-8x-8vcpu-16gb',\n",
    "    'EKS 8x 8vCPU 16Gb': 'eks-multi-tenant-spot-8x-8vcpu-16gb'\n",
    "}\n",
    "methods=('normal', 'tumor')\n",
    "headers=list(methods)\n",
    "headers.insert(0, 'concurrent calls')\n",
    "concurrent_calls=(2, 3, 4, 5)\n",
    "\n",
    "sebs_df=dict()\n",
    "for k, v in clusters.items():\n",
    "    sebs_df[k]=dict()\n",
    "    for m in methods:\n",
    "        sebs_df[k][m]=dict()\n",
    "        for c in concurrent_calls:\n",
    "            sebs_df[k][m][c]=create_dataframe(f\"../logs/openfaas/{v}/bwa/concurrent/{c}/*{m}*\")"
   ]
  },
  {
   "cell_type": "markdown",
   "id": "ebe1118b-a733-4cee-b483-21b720efa9c3",
   "metadata": {},
   "source": [
    "# Using tabulate to create tables for results"
   ]
  },
  {
   "cell_type": "code",
   "execution_count": 4,
   "id": "a6c9b775-112e-40ec-8dff-50b7120d496b",
   "metadata": {},
   "outputs": [
    {
     "data": {
      "text/html": [
       "<h3>Mean runtimes (ms), cluster <b>kOps 8x 8vCPU 16Gb</b></h3>"
      ],
      "text/plain": [
       "<IPython.core.display.HTML object>"
      ]
     },
     "metadata": {},
     "output_type": "display_data"
    },
    {
     "data": {
      "text/html": [
       "<table>\n",
       "<thead>\n",
       "<tr><th style=\"text-align: right;\">  concurrent calls</th><th style=\"text-align: right;\">  normal</th><th style=\"text-align: right;\">   tumor</th></tr>\n",
       "</thead>\n",
       "<tbody>\n",
       "<tr><td style=\"text-align: right;\">                 2</td><td style=\"text-align: right;\"> 87631  </td><td style=\"text-align: right;\">102281  </td></tr>\n",
       "<tr><td style=\"text-align: right;\">                 3</td><td style=\"text-align: right;\"> 84378.3</td><td style=\"text-align: right;\"> 99910.7</td></tr>\n",
       "<tr><td style=\"text-align: right;\">                 4</td><td style=\"text-align: right;\"> 92541  </td><td style=\"text-align: right;\">108885  </td></tr>\n",
       "<tr><td style=\"text-align: right;\">                 5</td><td style=\"text-align: right;\"> 89524.2</td><td style=\"text-align: right;\">107132  </td></tr>\n",
       "</tbody>\n",
       "</table>"
      ],
      "text/plain": [
       "'<table>\\n<thead>\\n<tr><th style=\"text-align: right;\">  concurrent calls</th><th style=\"text-align: right;\">  normal</th><th style=\"text-align: right;\">   tumor</th></tr>\\n</thead>\\n<tbody>\\n<tr><td style=\"text-align: right;\">                 2</td><td style=\"text-align: right;\"> 87631  </td><td style=\"text-align: right;\">102281  </td></tr>\\n<tr><td style=\"text-align: right;\">                 3</td><td style=\"text-align: right;\"> 84378.3</td><td style=\"text-align: right;\"> 99910.7</td></tr>\\n<tr><td style=\"text-align: right;\">                 4</td><td style=\"text-align: right;\"> 92541  </td><td style=\"text-align: right;\">108885  </td></tr>\\n<tr><td style=\"text-align: right;\">                 5</td><td style=\"text-align: right;\"> 89524.2</td><td style=\"text-align: right;\">107132  </td></tr>\\n</tbody>\\n</table>'"
      ]
     },
     "metadata": {},
     "output_type": "display_data"
    },
    {
     "name": "stdout",
     "output_type": "stream",
     "text": [
      "\n"
     ]
    },
    {
     "data": {
      "text/html": [
       "<h3>Mean runtimes (ms), cluster <b>kOps 1x 72vCPU 144Gb</b></h3>"
      ],
      "text/plain": [
       "<IPython.core.display.HTML object>"
      ]
     },
     "metadata": {},
     "output_type": "display_data"
    },
    {
     "data": {
      "text/html": [
       "<table>\n",
       "<thead>\n",
       "<tr><th style=\"text-align: right;\">  concurrent calls</th><th style=\"text-align: right;\">  normal</th><th style=\"text-align: right;\">  tumor</th></tr>\n",
       "</thead>\n",
       "<tbody>\n",
       "<tr><td style=\"text-align: right;\">                 2</td><td style=\"text-align: right;\">173006  </td><td style=\"text-align: right;\">  90881</td></tr>\n",
       "<tr><td style=\"text-align: right;\">                 3</td><td style=\"text-align: right;\"> 90374.3</td><td style=\"text-align: right;\"> 130124</td></tr>\n",
       "<tr><td style=\"text-align: right;\">                 4</td><td style=\"text-align: right;\">135388  </td><td style=\"text-align: right;\"> 112562</td></tr>\n",
       "<tr><td style=\"text-align: right;\">                 5</td><td style=\"text-align: right;\">121151  </td><td style=\"text-align: right;\"> 105943</td></tr>\n",
       "</tbody>\n",
       "</table>"
      ],
      "text/plain": [
       "'<table>\\n<thead>\\n<tr><th style=\"text-align: right;\">  concurrent calls</th><th style=\"text-align: right;\">  normal</th><th style=\"text-align: right;\">  tumor</th></tr>\\n</thead>\\n<tbody>\\n<tr><td style=\"text-align: right;\">                 2</td><td style=\"text-align: right;\">173006  </td><td style=\"text-align: right;\">  90881</td></tr>\\n<tr><td style=\"text-align: right;\">                 3</td><td style=\"text-align: right;\"> 90374.3</td><td style=\"text-align: right;\"> 130124</td></tr>\\n<tr><td style=\"text-align: right;\">                 4</td><td style=\"text-align: right;\">135388  </td><td style=\"text-align: right;\"> 112562</td></tr>\\n<tr><td style=\"text-align: right;\">                 5</td><td style=\"text-align: right;\">121151  </td><td style=\"text-align: right;\"> 105943</td></tr>\\n</tbody>\\n</table>'"
      ]
     },
     "metadata": {},
     "output_type": "display_data"
    },
    {
     "name": "stdout",
     "output_type": "stream",
     "text": [
      "\n"
     ]
    },
    {
     "data": {
      "text/html": [
       "<h3>Mean runtimes (ms), cluster <b>EKS 8x 8vCPU 16Gb</b></h3>"
      ],
      "text/plain": [
       "<IPython.core.display.HTML object>"
      ]
     },
     "metadata": {},
     "output_type": "display_data"
    },
    {
     "data": {
      "text/html": [
       "<table>\n",
       "<thead>\n",
       "<tr><th style=\"text-align: right;\">  concurrent calls</th><th style=\"text-align: right;\">  normal</th><th style=\"text-align: right;\">  tumor</th></tr>\n",
       "</thead>\n",
       "<tbody>\n",
       "<tr><td style=\"text-align: right;\">                 2</td><td style=\"text-align: right;\">  112854</td><td style=\"text-align: right;\"> 110465</td></tr>\n",
       "<tr><td style=\"text-align: right;\">                 3</td><td style=\"text-align: right;\">  100482</td><td style=\"text-align: right;\"> 114089</td></tr>\n",
       "<tr><td style=\"text-align: right;\">                 4</td><td style=\"text-align: right;\">  103851</td><td style=\"text-align: right;\"> 120964</td></tr>\n",
       "<tr><td style=\"text-align: right;\">                 5</td><td style=\"text-align: right;\">  125142</td><td style=\"text-align: right;\"> 134317</td></tr>\n",
       "</tbody>\n",
       "</table>"
      ],
      "text/plain": [
       "'<table>\\n<thead>\\n<tr><th style=\"text-align: right;\">  concurrent calls</th><th style=\"text-align: right;\">  normal</th><th style=\"text-align: right;\">  tumor</th></tr>\\n</thead>\\n<tbody>\\n<tr><td style=\"text-align: right;\">                 2</td><td style=\"text-align: right;\">  112854</td><td style=\"text-align: right;\"> 110465</td></tr>\\n<tr><td style=\"text-align: right;\">                 3</td><td style=\"text-align: right;\">  100482</td><td style=\"text-align: right;\"> 114089</td></tr>\\n<tr><td style=\"text-align: right;\">                 4</td><td style=\"text-align: right;\">  103851</td><td style=\"text-align: right;\"> 120964</td></tr>\\n<tr><td style=\"text-align: right;\">                 5</td><td style=\"text-align: right;\">  125142</td><td style=\"text-align: right;\"> 134317</td></tr>\\n</tbody>\\n</table>'"
      ]
     },
     "metadata": {},
     "output_type": "display_data"
    },
    {
     "name": "stdout",
     "output_type": "stream",
     "text": [
      "\n"
     ]
    }
   ],
   "source": [
    "# Mean runtime\n",
    "table=dict()\n",
    "for k in clusters:\n",
    "    data=[]\n",
    "    for count, value in enumerate(concurrent_calls):\n",
    "        data.append([value])\n",
    "        for m in methods:\n",
    "            mean_runtime=sebs_df[k][m][value]['runtime'].mean()\n",
    "            data[count].append(mean_runtime)\n",
    "    table[k] = tabulate(data, tablefmt='html', headers=headers)\n",
    "    display(HTML(f'<h3>Mean runtimes (ms), cluster <b>{k}</b></h3>'))\n",
    "    display(table[k])\n",
    "    print()"
   ]
  },
  {
   "cell_type": "code",
   "execution_count": 5,
   "id": "d2f269e9-cbc1-4544-8f66-2f3cd522ac86",
   "metadata": {},
   "outputs": [
    {
     "data": {
      "text/html": [
       "<h3>Std runtimes (ms), cluster <b>kOps 8x 8vCPU 16Gb</b></h3>"
      ],
      "text/plain": [
       "<IPython.core.display.HTML object>"
      ]
     },
     "metadata": {},
     "output_type": "display_data"
    },
    {
     "data": {
      "text/html": [
       "<table>\n",
       "<thead>\n",
       "<tr><th style=\"text-align: right;\">  concurrent calls</th><th style=\"text-align: right;\">  normal</th><th style=\"text-align: right;\">   tumor</th></tr>\n",
       "</thead>\n",
       "<tbody>\n",
       "<tr><td style=\"text-align: right;\">                 2</td><td style=\"text-align: right;\"> 851.357</td><td style=\"text-align: right;\"> 302.642</td></tr>\n",
       "<tr><td style=\"text-align: right;\">                 3</td><td style=\"text-align: right;\">2398.95 </td><td style=\"text-align: right;\"> 981.55 </td></tr>\n",
       "<tr><td style=\"text-align: right;\">                 4</td><td style=\"text-align: right;\">2207.17 </td><td style=\"text-align: right;\">4258.64 </td></tr>\n",
       "<tr><td style=\"text-align: right;\">                 5</td><td style=\"text-align: right;\">6165.6  </td><td style=\"text-align: right;\">6550.59 </td></tr>\n",
       "</tbody>\n",
       "</table>"
      ],
      "text/plain": [
       "'<table>\\n<thead>\\n<tr><th style=\"text-align: right;\">  concurrent calls</th><th style=\"text-align: right;\">  normal</th><th style=\"text-align: right;\">   tumor</th></tr>\\n</thead>\\n<tbody>\\n<tr><td style=\"text-align: right;\">                 2</td><td style=\"text-align: right;\"> 851.357</td><td style=\"text-align: right;\"> 302.642</td></tr>\\n<tr><td style=\"text-align: right;\">                 3</td><td style=\"text-align: right;\">2398.95 </td><td style=\"text-align: right;\"> 981.55 </td></tr>\\n<tr><td style=\"text-align: right;\">                 4</td><td style=\"text-align: right;\">2207.17 </td><td style=\"text-align: right;\">4258.64 </td></tr>\\n<tr><td style=\"text-align: right;\">                 5</td><td style=\"text-align: right;\">6165.6  </td><td style=\"text-align: right;\">6550.59 </td></tr>\\n</tbody>\\n</table>'"
      ]
     },
     "metadata": {},
     "output_type": "display_data"
    },
    {
     "name": "stdout",
     "output_type": "stream",
     "text": [
      "\n"
     ]
    },
    {
     "data": {
      "text/html": [
       "<h3>Std runtimes (ms), cluster <b>kOps 1x 72vCPU 144Gb</b></h3>"
      ],
      "text/plain": [
       "<IPython.core.display.HTML object>"
      ]
     },
     "metadata": {},
     "output_type": "display_data"
    },
    {
     "data": {
      "text/html": [
       "<table>\n",
       "<thead>\n",
       "<tr><th style=\"text-align: right;\">  concurrent calls</th><th style=\"text-align: right;\">   normal</th><th style=\"text-align: right;\">    tumor</th></tr>\n",
       "</thead>\n",
       "<tbody>\n",
       "<tr><td style=\"text-align: right;\">                 2</td><td style=\"text-align: right;\">  630.739</td><td style=\"text-align: right;\">  748.119</td></tr>\n",
       "<tr><td style=\"text-align: right;\">                 3</td><td style=\"text-align: right;\">11162.1  </td><td style=\"text-align: right;\"> 9493.27 </td></tr>\n",
       "<tr><td style=\"text-align: right;\">                 4</td><td style=\"text-align: right;\">37818.2  </td><td style=\"text-align: right;\">16702.6  </td></tr>\n",
       "<tr><td style=\"text-align: right;\">                 5</td><td style=\"text-align: right;\">24758.5  </td><td style=\"text-align: right;\">23521.5  </td></tr>\n",
       "</tbody>\n",
       "</table>"
      ],
      "text/plain": [
       "'<table>\\n<thead>\\n<tr><th style=\"text-align: right;\">  concurrent calls</th><th style=\"text-align: right;\">   normal</th><th style=\"text-align: right;\">    tumor</th></tr>\\n</thead>\\n<tbody>\\n<tr><td style=\"text-align: right;\">                 2</td><td style=\"text-align: right;\">  630.739</td><td style=\"text-align: right;\">  748.119</td></tr>\\n<tr><td style=\"text-align: right;\">                 3</td><td style=\"text-align: right;\">11162.1  </td><td style=\"text-align: right;\"> 9493.27 </td></tr>\\n<tr><td style=\"text-align: right;\">                 4</td><td style=\"text-align: right;\">37818.2  </td><td style=\"text-align: right;\">16702.6  </td></tr>\\n<tr><td style=\"text-align: right;\">                 5</td><td style=\"text-align: right;\">24758.5  </td><td style=\"text-align: right;\">23521.5  </td></tr>\\n</tbody>\\n</table>'"
      ]
     },
     "metadata": {},
     "output_type": "display_data"
    },
    {
     "name": "stdout",
     "output_type": "stream",
     "text": [
      "\n"
     ]
    },
    {
     "data": {
      "text/html": [
       "<h3>Std runtimes (ms), cluster <b>EKS 8x 8vCPU 16Gb</b></h3>"
      ],
      "text/plain": [
       "<IPython.core.display.HTML object>"
      ]
     },
     "metadata": {},
     "output_type": "display_data"
    },
    {
     "data": {
      "text/html": [
       "<table>\n",
       "<thead>\n",
       "<tr><th style=\"text-align: right;\">  concurrent calls</th><th style=\"text-align: right;\">  normal</th><th style=\"text-align: right;\">  tumor</th></tr>\n",
       "</thead>\n",
       "<tbody>\n",
       "<tr><td style=\"text-align: right;\">                 2</td><td style=\"text-align: right;\"> 33944.2</td><td style=\"text-align: right;\">14721.6</td></tr>\n",
       "<tr><td style=\"text-align: right;\">                 3</td><td style=\"text-align: right;\"> 25133.2</td><td style=\"text-align: right;\">23536.6</td></tr>\n",
       "<tr><td style=\"text-align: right;\">                 4</td><td style=\"text-align: right;\"> 25452.6</td><td style=\"text-align: right;\">29513.4</td></tr>\n",
       "<tr><td style=\"text-align: right;\">                 5</td><td style=\"text-align: right;\"> 25065.7</td><td style=\"text-align: right;\">36342.2</td></tr>\n",
       "</tbody>\n",
       "</table>"
      ],
      "text/plain": [
       "'<table>\\n<thead>\\n<tr><th style=\"text-align: right;\">  concurrent calls</th><th style=\"text-align: right;\">  normal</th><th style=\"text-align: right;\">  tumor</th></tr>\\n</thead>\\n<tbody>\\n<tr><td style=\"text-align: right;\">                 2</td><td style=\"text-align: right;\"> 33944.2</td><td style=\"text-align: right;\">14721.6</td></tr>\\n<tr><td style=\"text-align: right;\">                 3</td><td style=\"text-align: right;\"> 25133.2</td><td style=\"text-align: right;\">23536.6</td></tr>\\n<tr><td style=\"text-align: right;\">                 4</td><td style=\"text-align: right;\"> 25452.6</td><td style=\"text-align: right;\">29513.4</td></tr>\\n<tr><td style=\"text-align: right;\">                 5</td><td style=\"text-align: right;\"> 25065.7</td><td style=\"text-align: right;\">36342.2</td></tr>\\n</tbody>\\n</table>'"
      ]
     },
     "metadata": {},
     "output_type": "display_data"
    },
    {
     "name": "stdout",
     "output_type": "stream",
     "text": [
      "\n"
     ]
    }
   ],
   "source": [
    "# Standard runtime\n",
    "table=dict()\n",
    "for k in clusters:\n",
    "    data=[]\n",
    "    for count, value in enumerate(concurrent_calls):\n",
    "        data.append([value])\n",
    "        for m in methods:\n",
    "            std_runtime=sebs_df[k][m][value]['runtime'].std()\n",
    "            data[count].append(std_runtime)\n",
    "    table[k] = tabulate(data, tablefmt='html', headers=headers)\n",
    "    display(HTML(f'<h3>Std runtimes (ms), cluster <b>{k}</b></h3>'))\n",
    "    display(table[k])\n",
    "    print()"
   ]
  },
  {
   "cell_type": "code",
   "execution_count": 6,
   "id": "f2e38e9e-e169-4c8c-a5a9-cfbdc2f92b3f",
   "metadata": {},
   "outputs": [
    {
     "data": {
      "text/html": [
       "<h3>CV runtimes (ms), cluster <b>kOps 8x 8vCPU 16Gb</b></h3>"
      ],
      "text/plain": [
       "<IPython.core.display.HTML object>"
      ]
     },
     "metadata": {},
     "output_type": "display_data"
    },
    {
     "data": {
      "text/html": [
       "<table>\n",
       "<thead>\n",
       "<tr><th style=\"text-align: right;\">  concurrent calls</th><th style=\"text-align: right;\">    normal</th><th style=\"text-align: right;\">     tumor</th></tr>\n",
       "</thead>\n",
       "<tbody>\n",
       "<tr><td style=\"text-align: right;\">                 2</td><td style=\"text-align: right;\">0.00971524</td><td style=\"text-align: right;\">0.00295892</td></tr>\n",
       "<tr><td style=\"text-align: right;\">                 3</td><td style=\"text-align: right;\">0.0284309 </td><td style=\"text-align: right;\">0.00982428</td></tr>\n",
       "<tr><td style=\"text-align: right;\">                 4</td><td style=\"text-align: right;\">0.0238507 </td><td style=\"text-align: right;\">0.0391112 </td></tr>\n",
       "<tr><td style=\"text-align: right;\">                 5</td><td style=\"text-align: right;\">0.0688708 </td><td style=\"text-align: right;\">0.0611448 </td></tr>\n",
       "</tbody>\n",
       "</table>"
      ],
      "text/plain": [
       "'<table>\\n<thead>\\n<tr><th style=\"text-align: right;\">  concurrent calls</th><th style=\"text-align: right;\">    normal</th><th style=\"text-align: right;\">     tumor</th></tr>\\n</thead>\\n<tbody>\\n<tr><td style=\"text-align: right;\">                 2</td><td style=\"text-align: right;\">0.00971524</td><td style=\"text-align: right;\">0.00295892</td></tr>\\n<tr><td style=\"text-align: right;\">                 3</td><td style=\"text-align: right;\">0.0284309 </td><td style=\"text-align: right;\">0.00982428</td></tr>\\n<tr><td style=\"text-align: right;\">                 4</td><td style=\"text-align: right;\">0.0238507 </td><td style=\"text-align: right;\">0.0391112 </td></tr>\\n<tr><td style=\"text-align: right;\">                 5</td><td style=\"text-align: right;\">0.0688708 </td><td style=\"text-align: right;\">0.0611448 </td></tr>\\n</tbody>\\n</table>'"
      ]
     },
     "metadata": {},
     "output_type": "display_data"
    },
    {
     "name": "stdout",
     "output_type": "stream",
     "text": [
      "\n"
     ]
    },
    {
     "data": {
      "text/html": [
       "<h3>CV runtimes (ms), cluster <b>kOps 1x 72vCPU 144Gb</b></h3>"
      ],
      "text/plain": [
       "<IPython.core.display.HTML object>"
      ]
     },
     "metadata": {},
     "output_type": "display_data"
    },
    {
     "data": {
      "text/html": [
       "<table>\n",
       "<thead>\n",
       "<tr><th style=\"text-align: right;\">  concurrent calls</th><th style=\"text-align: right;\">    normal</th><th style=\"text-align: right;\">     tumor</th></tr>\n",
       "</thead>\n",
       "<tbody>\n",
       "<tr><td style=\"text-align: right;\">                 2</td><td style=\"text-align: right;\">0.00364577</td><td style=\"text-align: right;\">0.00823185</td></tr>\n",
       "<tr><td style=\"text-align: right;\">                 3</td><td style=\"text-align: right;\">0.12351   </td><td style=\"text-align: right;\">0.0729557 </td></tr>\n",
       "<tr><td style=\"text-align: right;\">                 4</td><td style=\"text-align: right;\">0.279332  </td><td style=\"text-align: right;\">0.148386  </td></tr>\n",
       "<tr><td style=\"text-align: right;\">                 5</td><td style=\"text-align: right;\">0.204361  </td><td style=\"text-align: right;\">0.222019  </td></tr>\n",
       "</tbody>\n",
       "</table>"
      ],
      "text/plain": [
       "'<table>\\n<thead>\\n<tr><th style=\"text-align: right;\">  concurrent calls</th><th style=\"text-align: right;\">    normal</th><th style=\"text-align: right;\">     tumor</th></tr>\\n</thead>\\n<tbody>\\n<tr><td style=\"text-align: right;\">                 2</td><td style=\"text-align: right;\">0.00364577</td><td style=\"text-align: right;\">0.00823185</td></tr>\\n<tr><td style=\"text-align: right;\">                 3</td><td style=\"text-align: right;\">0.12351   </td><td style=\"text-align: right;\">0.0729557 </td></tr>\\n<tr><td style=\"text-align: right;\">                 4</td><td style=\"text-align: right;\">0.279332  </td><td style=\"text-align: right;\">0.148386  </td></tr>\\n<tr><td style=\"text-align: right;\">                 5</td><td style=\"text-align: right;\">0.204361  </td><td style=\"text-align: right;\">0.222019  </td></tr>\\n</tbody>\\n</table>'"
      ]
     },
     "metadata": {},
     "output_type": "display_data"
    },
    {
     "name": "stdout",
     "output_type": "stream",
     "text": [
      "\n"
     ]
    },
    {
     "data": {
      "text/html": [
       "<h3>CV runtimes (ms), cluster <b>EKS 8x 8vCPU 16Gb</b></h3>"
      ],
      "text/plain": [
       "<IPython.core.display.HTML object>"
      ]
     },
     "metadata": {},
     "output_type": "display_data"
    },
    {
     "data": {
      "text/html": [
       "<table>\n",
       "<thead>\n",
       "<tr><th style=\"text-align: right;\">  concurrent calls</th><th style=\"text-align: right;\">  normal</th><th style=\"text-align: right;\">   tumor</th></tr>\n",
       "</thead>\n",
       "<tbody>\n",
       "<tr><td style=\"text-align: right;\">                 2</td><td style=\"text-align: right;\">0.300781</td><td style=\"text-align: right;\">0.133269</td></tr>\n",
       "<tr><td style=\"text-align: right;\">                 3</td><td style=\"text-align: right;\">0.250127</td><td style=\"text-align: right;\">0.206301</td></tr>\n",
       "<tr><td style=\"text-align: right;\">                 4</td><td style=\"text-align: right;\">0.245087</td><td style=\"text-align: right;\">0.243985</td></tr>\n",
       "<tr><td style=\"text-align: right;\">                 5</td><td style=\"text-align: right;\">0.200297</td><td style=\"text-align: right;\">0.27057 </td></tr>\n",
       "</tbody>\n",
       "</table>"
      ],
      "text/plain": [
       "'<table>\\n<thead>\\n<tr><th style=\"text-align: right;\">  concurrent calls</th><th style=\"text-align: right;\">  normal</th><th style=\"text-align: right;\">   tumor</th></tr>\\n</thead>\\n<tbody>\\n<tr><td style=\"text-align: right;\">                 2</td><td style=\"text-align: right;\">0.300781</td><td style=\"text-align: right;\">0.133269</td></tr>\\n<tr><td style=\"text-align: right;\">                 3</td><td style=\"text-align: right;\">0.250127</td><td style=\"text-align: right;\">0.206301</td></tr>\\n<tr><td style=\"text-align: right;\">                 4</td><td style=\"text-align: right;\">0.245087</td><td style=\"text-align: right;\">0.243985</td></tr>\\n<tr><td style=\"text-align: right;\">                 5</td><td style=\"text-align: right;\">0.200297</td><td style=\"text-align: right;\">0.27057 </td></tr>\\n</tbody>\\n</table>'"
      ]
     },
     "metadata": {},
     "output_type": "display_data"
    },
    {
     "name": "stdout",
     "output_type": "stream",
     "text": [
      "\n"
     ]
    }
   ],
   "source": [
    "# CV runtime\n",
    "table=dict()\n",
    "for k in clusters:\n",
    "    data=[]\n",
    "    for count, value in enumerate(concurrent_calls):\n",
    "        data.append([value])\n",
    "        for m in methods:\n",
    "            mean_runtime=sebs_df[k][m][value]['runtime'].mean()\n",
    "            std_runtime=sebs_df[k][m][value]['runtime'].std()\n",
    "            cv_runtime=std_runtime/mean_runtime\n",
    "            data[count].append(cv_runtime)\n",
    "    table[k] = tabulate(data, tablefmt='html', headers=headers)\n",
    "    display(HTML(f'<h3>CV runtimes (ms), cluster <b>{k}</b></h3>'))\n",
    "    display(table[k])\n",
    "    print()"
   ]
  },
  {
   "cell_type": "code",
   "execution_count": null,
   "id": "cda21f1e-8653-4a49-b57d-3f3f5f6c1e44",
   "metadata": {},
   "outputs": [],
   "source": []
  }
 ],
 "metadata": {
  "kernelspec": {
   "display_name": "Python 3 (ipykernel)",
   "language": "python",
   "name": "python3"
  },
  "language_info": {
   "codemirror_mode": {
    "name": "ipython",
    "version": 3
   },
   "file_extension": ".py",
   "mimetype": "text/x-python",
   "name": "python",
   "nbconvert_exporter": "python",
   "pygments_lexer": "ipython3",
   "version": "3.10.8"
  }
 },
 "nbformat": 4,
 "nbformat_minor": 5
}
