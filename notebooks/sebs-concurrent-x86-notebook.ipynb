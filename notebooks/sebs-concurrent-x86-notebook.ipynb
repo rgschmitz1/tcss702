{
 "cells": [
  {
   "cell_type": "markdown",
   "id": "8fb4a0c2",
   "metadata": {},
   "source": [
    "# Import packages to parse results"
   ]
  },
  {
   "cell_type": "code",
   "execution_count": 3,
   "id": "f6434575",
   "metadata": {},
   "outputs": [
    {
     "name": "stdout",
     "output_type": "stream",
     "text": [
      "importing Jupyter notebook from shared_notebook.ipynb\n",
      "Stored 'colorPallet' (list)\n"
     ]
    }
   ],
   "source": [
    "import plotly.graph_objects as go\n",
    "import scipy.stats as stats\n",
    "from tabulate import tabulate\n",
    "from IPython.display import HTML\n",
    "\n",
    "# Import from shared notebook containing helper methods\n",
    "import import_ipynb\n",
    "from shared_notebook import create_dataframe, write_image, create_figure"
   ]
  },
  {
   "cell_type": "markdown",
   "id": "740f27a7-bccf-4a2f-acb2-eb5c3b97ccc5",
   "metadata": {},
   "source": [
    "### Set default color palete and size for making plots"
   ]
  },
  {
   "cell_type": "code",
   "execution_count": 21,
   "id": "667bf697-1671-4485-9c49-686da4a37e84",
   "metadata": {},
   "outputs": [],
   "source": [
    "%store -r colorPallet"
   ]
  },
  {
   "cell_type": "markdown",
   "id": "bf43f7e6-e857-4149-9698-9700fdb543b1",
   "metadata": {},
   "source": [
    "## Log file locations relative to notebook"
   ]
  },
  {
   "cell_type": "markdown",
   "id": "97097fec-1bac-4491-8891-e97604c8192d",
   "metadata": {},
   "source": [
    "### For SEBS, we have 3 different clusters, 4 methods, multiple concurrent calls"
   ]
  },
  {
   "cell_type": "code",
   "execution_count": 1,
   "id": "258e8856-adab-480f-be4f-f259e9d7e787",
   "metadata": {},
   "outputs": [],
   "source": [
    "# kOps clusters (running on AWS)\n",
    "# AWS EKS cluster\n",
    "clusters={\n",
    "    'kOps 1x 72vCPU 144Gb x86_64': 'kops-multi-tenant-spot-1x-72vcpu-144gb',\n",
    "    'kOps 8x 8vCPU 16Gb x86_64': 'kops-multi-tenant-spot-8x-8vcpu-16gb',\n",
    "    'kOps 16x 4vCPU 8Gb x86_64': 'kops-multi-tenant-spot-16x-4vcpu-8gb',\n",
    "    'EKS 8x 8vCPU 16Gb x86_64': 'eks-multi-tenant-spot-8x-8vcpu-16gb'\n",
    "}\n",
    "methods=('dna', 'bfs', 'mst', 'pagerank')\n",
    "headers=list(methods)\n",
    "headers.insert(0, 'concurrent calls')\n",
    "concurrent_calls=(32, 64, 96, 128)"
   ]
  },
  {
   "cell_type": "code",
   "execution_count": 4,
   "id": "1dee6fa1-9f36-4cc1-9009-1655ec6be2d0",
   "metadata": {},
   "outputs": [],
   "source": [
    "sebs_df=dict()\n",
    "for k, v in clusters.items():\n",
    "    sebs_df[k]=dict()\n",
    "    for m in methods:\n",
    "        sebs_df[k][m]=dict()\n",
    "        for c in concurrent_calls:\n",
    "            sebs_df[k][m][c]=create_dataframe(f'../logs/openfaas/{v}/sebs/concurrent/{c}/*{m}*')"
   ]
  },
  {
   "cell_type": "markdown",
   "id": "ebe1118b-a733-4cee-b483-21b720efa9c3",
   "metadata": {},
   "source": [
    "# Using tabulate to create tables for results"
   ]
  },
  {
   "cell_type": "code",
   "execution_count": 23,
   "id": "a6c9b775-112e-40ec-8dff-50b7120d496b",
   "metadata": {},
   "outputs": [
    {
     "data": {
      "text/html": [
       "<h3>Mean runtimes (ms), cluster <b>kOps 1x 72vCPU 144Gb x86_64</b></h3>"
      ],
      "text/plain": [
       "<IPython.core.display.HTML object>"
      ]
     },
     "metadata": {},
     "output_type": "display_data"
    },
    {
     "data": {
      "text/html": [
       "<table>\n",
       "<thead>\n",
       "<tr><th style=\"text-align: right;\">  concurrent calls</th><th style=\"text-align: right;\">    dna</th><th style=\"text-align: right;\">    bfs</th><th style=\"text-align: right;\">    mst</th><th style=\"text-align: right;\">  pagerank</th></tr>\n",
       "</thead>\n",
       "<tbody>\n",
       "<tr><td style=\"text-align: right;\">                32</td><td style=\"text-align: right;\">18033.2</td><td style=\"text-align: right;\">101.58 </td><td style=\"text-align: right;\"> 99.446</td><td style=\"text-align: right;\">   190.611</td></tr>\n",
       "<tr><td style=\"text-align: right;\">                64</td><td style=\"text-align: right;\">18094.5</td><td style=\"text-align: right;\">105.169</td><td style=\"text-align: right;\">102.408</td><td style=\"text-align: right;\">   195.966</td></tr>\n",
       "<tr><td style=\"text-align: right;\">                96</td><td style=\"text-align: right;\">18276.5</td><td style=\"text-align: right;\">103.153</td><td style=\"text-align: right;\">101.583</td><td style=\"text-align: right;\">   198.042</td></tr>\n",
       "<tr><td style=\"text-align: right;\">               128</td><td style=\"text-align: right;\">18410.6</td><td style=\"text-align: right;\">153.773</td><td style=\"text-align: right;\">103.043</td><td style=\"text-align: right;\">   198.235</td></tr>\n",
       "</tbody>\n",
       "</table>"
      ],
      "text/plain": [
       "'<table>\\n<thead>\\n<tr><th style=\"text-align: right;\">  concurrent calls</th><th style=\"text-align: right;\">    dna</th><th style=\"text-align: right;\">    bfs</th><th style=\"text-align: right;\">    mst</th><th style=\"text-align: right;\">  pagerank</th></tr>\\n</thead>\\n<tbody>\\n<tr><td style=\"text-align: right;\">                32</td><td style=\"text-align: right;\">18033.2</td><td style=\"text-align: right;\">101.58 </td><td style=\"text-align: right;\"> 99.446</td><td style=\"text-align: right;\">   190.611</td></tr>\\n<tr><td style=\"text-align: right;\">                64</td><td style=\"text-align: right;\">18094.5</td><td style=\"text-align: right;\">105.169</td><td style=\"text-align: right;\">102.408</td><td style=\"text-align: right;\">   195.966</td></tr>\\n<tr><td style=\"text-align: right;\">                96</td><td style=\"text-align: right;\">18276.5</td><td style=\"text-align: right;\">103.153</td><td style=\"text-align: right;\">101.583</td><td style=\"text-align: right;\">   198.042</td></tr>\\n<tr><td style=\"text-align: right;\">               128</td><td style=\"text-align: right;\">18410.6</td><td style=\"text-align: right;\">153.773</td><td style=\"text-align: right;\">103.043</td><td style=\"text-align: right;\">   198.235</td></tr>\\n</tbody>\\n</table>'"
      ]
     },
     "metadata": {},
     "output_type": "display_data"
    },
    {
     "name": "stdout",
     "output_type": "stream",
     "text": [
      "\n"
     ]
    },
    {
     "data": {
      "text/html": [
       "<h3>Mean runtimes (ms), cluster <b>kOps 8x 8vCPU 16Gb x86_64</b></h3>"
      ],
      "text/plain": [
       "<IPython.core.display.HTML object>"
      ]
     },
     "metadata": {},
     "output_type": "display_data"
    },
    {
     "data": {
      "text/html": [
       "<table>\n",
       "<thead>\n",
       "<tr><th style=\"text-align: right;\">  concurrent calls</th><th style=\"text-align: right;\">    dna</th><th style=\"text-align: right;\">     bfs</th><th style=\"text-align: right;\">    mst</th><th style=\"text-align: right;\">  pagerank</th></tr>\n",
       "</thead>\n",
       "<tbody>\n",
       "<tr><td style=\"text-align: right;\">                32</td><td style=\"text-align: right;\">15596.7</td><td style=\"text-align: right;\"> 68.7926</td><td style=\"text-align: right;\">45.6506</td><td style=\"text-align: right;\">   81.9545</td></tr>\n",
       "<tr><td style=\"text-align: right;\">                64</td><td style=\"text-align: right;\">16573.3</td><td style=\"text-align: right;\"> 69.7188</td><td style=\"text-align: right;\">64.4673</td><td style=\"text-align: right;\">  112.663 </td></tr>\n",
       "<tr><td style=\"text-align: right;\">                96</td><td style=\"text-align: right;\">20266.4</td><td style=\"text-align: right;\">112.173 </td><td style=\"text-align: right;\">65.6686</td><td style=\"text-align: right;\">  120.433 </td></tr>\n",
       "<tr><td style=\"text-align: right;\">               128</td><td style=\"text-align: right;\">18822.5</td><td style=\"text-align: right;\">121.853 </td><td style=\"text-align: right;\">66.5156</td><td style=\"text-align: right;\">  125.374 </td></tr>\n",
       "</tbody>\n",
       "</table>"
      ],
      "text/plain": [
       "'<table>\\n<thead>\\n<tr><th style=\"text-align: right;\">  concurrent calls</th><th style=\"text-align: right;\">    dna</th><th style=\"text-align: right;\">     bfs</th><th style=\"text-align: right;\">    mst</th><th style=\"text-align: right;\">  pagerank</th></tr>\\n</thead>\\n<tbody>\\n<tr><td style=\"text-align: right;\">                32</td><td style=\"text-align: right;\">15596.7</td><td style=\"text-align: right;\"> 68.7926</td><td style=\"text-align: right;\">45.6506</td><td style=\"text-align: right;\">   81.9545</td></tr>\\n<tr><td style=\"text-align: right;\">                64</td><td style=\"text-align: right;\">16573.3</td><td style=\"text-align: right;\"> 69.7188</td><td style=\"text-align: right;\">64.4673</td><td style=\"text-align: right;\">  112.663 </td></tr>\\n<tr><td style=\"text-align: right;\">                96</td><td style=\"text-align: right;\">20266.4</td><td style=\"text-align: right;\">112.173 </td><td style=\"text-align: right;\">65.6686</td><td style=\"text-align: right;\">  120.433 </td></tr>\\n<tr><td style=\"text-align: right;\">               128</td><td style=\"text-align: right;\">18822.5</td><td style=\"text-align: right;\">121.853 </td><td style=\"text-align: right;\">66.5156</td><td style=\"text-align: right;\">  125.374 </td></tr>\\n</tbody>\\n</table>'"
      ]
     },
     "metadata": {},
     "output_type": "display_data"
    },
    {
     "name": "stdout",
     "output_type": "stream",
     "text": [
      "\n"
     ]
    },
    {
     "data": {
      "text/html": [
       "<h3>Mean runtimes (ms), cluster <b>kOps 16x 4vCPU 8Gb x86_64</b></h3>"
      ],
      "text/plain": [
       "<IPython.core.display.HTML object>"
      ]
     },
     "metadata": {},
     "output_type": "display_data"
    },
    {
     "data": {
      "text/html": [
       "<table>\n",
       "<thead>\n",
       "<tr><th style=\"text-align: right;\">  concurrent calls</th><th style=\"text-align: right;\">    dna</th><th style=\"text-align: right;\">    bfs</th><th style=\"text-align: right;\">    mst</th><th style=\"text-align: right;\">  pagerank</th></tr>\n",
       "</thead>\n",
       "<tbody>\n",
       "<tr><td style=\"text-align: right;\">                32</td><td style=\"text-align: right;\">30613.2</td><td style=\"text-align: right;\">51.3409</td><td style=\"text-align: right;\">41.2812</td><td style=\"text-align: right;\">   73.7699</td></tr>\n",
       "<tr><td style=\"text-align: right;\">                64</td><td style=\"text-align: right;\">59449.1</td><td style=\"text-align: right;\">51.9391</td><td style=\"text-align: right;\">44.8031</td><td style=\"text-align: right;\">   84.3906</td></tr>\n",
       "<tr><td style=\"text-align: right;\">                96</td><td style=\"text-align: right;\">21869.3</td><td style=\"text-align: right;\">82.599 </td><td style=\"text-align: right;\">79.0375</td><td style=\"text-align: right;\">  142.703 </td></tr>\n",
       "<tr><td style=\"text-align: right;\">               128</td><td style=\"text-align: right;\">22968.8</td><td style=\"text-align: right;\">83.4328</td><td style=\"text-align: right;\">81.95  </td><td style=\"text-align: right;\">  142.804 </td></tr>\n",
       "</tbody>\n",
       "</table>"
      ],
      "text/plain": [
       "'<table>\\n<thead>\\n<tr><th style=\"text-align: right;\">  concurrent calls</th><th style=\"text-align: right;\">    dna</th><th style=\"text-align: right;\">    bfs</th><th style=\"text-align: right;\">    mst</th><th style=\"text-align: right;\">  pagerank</th></tr>\\n</thead>\\n<tbody>\\n<tr><td style=\"text-align: right;\">                32</td><td style=\"text-align: right;\">30613.2</td><td style=\"text-align: right;\">51.3409</td><td style=\"text-align: right;\">41.2812</td><td style=\"text-align: right;\">   73.7699</td></tr>\\n<tr><td style=\"text-align: right;\">                64</td><td style=\"text-align: right;\">59449.1</td><td style=\"text-align: right;\">51.9391</td><td style=\"text-align: right;\">44.8031</td><td style=\"text-align: right;\">   84.3906</td></tr>\\n<tr><td style=\"text-align: right;\">                96</td><td style=\"text-align: right;\">21869.3</td><td style=\"text-align: right;\">82.599 </td><td style=\"text-align: right;\">79.0375</td><td style=\"text-align: right;\">  142.703 </td></tr>\\n<tr><td style=\"text-align: right;\">               128</td><td style=\"text-align: right;\">22968.8</td><td style=\"text-align: right;\">83.4328</td><td style=\"text-align: right;\">81.95  </td><td style=\"text-align: right;\">  142.804 </td></tr>\\n</tbody>\\n</table>'"
      ]
     },
     "metadata": {},
     "output_type": "display_data"
    },
    {
     "name": "stdout",
     "output_type": "stream",
     "text": [
      "\n"
     ]
    },
    {
     "data": {
      "text/html": [
       "<h3>Mean runtimes (ms), cluster <b>EKS 8x 8vCPU 16Gb x86_64</b></h3>"
      ],
      "text/plain": [
       "<IPython.core.display.HTML object>"
      ]
     },
     "metadata": {},
     "output_type": "display_data"
    },
    {
     "data": {
      "text/html": [
       "<table>\n",
       "<thead>\n",
       "<tr><th style=\"text-align: right;\">  concurrent calls</th><th style=\"text-align: right;\">    dna</th><th style=\"text-align: right;\">    bfs</th><th style=\"text-align: right;\">    mst</th><th style=\"text-align: right;\">  pagerank</th></tr>\n",
       "</thead>\n",
       "<tbody>\n",
       "<tr><td style=\"text-align: right;\">                32</td><td style=\"text-align: right;\">15128.4</td><td style=\"text-align: right;\">67.767 </td><td style=\"text-align: right;\">46.4744</td><td style=\"text-align: right;\">    84.767</td></tr>\n",
       "<tr><td style=\"text-align: right;\">                64</td><td style=\"text-align: right;\">16929  </td><td style=\"text-align: right;\">70.9247</td><td style=\"text-align: right;\">66.7827</td><td style=\"text-align: right;\">   116.661</td></tr>\n",
       "<tr><td style=\"text-align: right;\">                96</td><td style=\"text-align: right;\">17558.5</td><td style=\"text-align: right;\">74.3371</td><td style=\"text-align: right;\">66.1335</td><td style=\"text-align: right;\">   122.107</td></tr>\n",
       "<tr><td style=\"text-align: right;\">               128</td><td style=\"text-align: right;\">18074.2</td><td style=\"text-align: right;\">77.5249</td><td style=\"text-align: right;\">66.3175</td><td style=\"text-align: right;\">   124.608</td></tr>\n",
       "</tbody>\n",
       "</table>"
      ],
      "text/plain": [
       "'<table>\\n<thead>\\n<tr><th style=\"text-align: right;\">  concurrent calls</th><th style=\"text-align: right;\">    dna</th><th style=\"text-align: right;\">    bfs</th><th style=\"text-align: right;\">    mst</th><th style=\"text-align: right;\">  pagerank</th></tr>\\n</thead>\\n<tbody>\\n<tr><td style=\"text-align: right;\">                32</td><td style=\"text-align: right;\">15128.4</td><td style=\"text-align: right;\">67.767 </td><td style=\"text-align: right;\">46.4744</td><td style=\"text-align: right;\">    84.767</td></tr>\\n<tr><td style=\"text-align: right;\">                64</td><td style=\"text-align: right;\">16929  </td><td style=\"text-align: right;\">70.9247</td><td style=\"text-align: right;\">66.7827</td><td style=\"text-align: right;\">   116.661</td></tr>\\n<tr><td style=\"text-align: right;\">                96</td><td style=\"text-align: right;\">17558.5</td><td style=\"text-align: right;\">74.3371</td><td style=\"text-align: right;\">66.1335</td><td style=\"text-align: right;\">   122.107</td></tr>\\n<tr><td style=\"text-align: right;\">               128</td><td style=\"text-align: right;\">18074.2</td><td style=\"text-align: right;\">77.5249</td><td style=\"text-align: right;\">66.3175</td><td style=\"text-align: right;\">   124.608</td></tr>\\n</tbody>\\n</table>'"
      ]
     },
     "metadata": {},
     "output_type": "display_data"
    },
    {
     "name": "stdout",
     "output_type": "stream",
     "text": [
      "\n"
     ]
    }
   ],
   "source": [
    "# Mean runtime\n",
    "table=dict()\n",
    "for k in clusters:\n",
    "    data=[]\n",
    "    for count, value in enumerate(concurrent_calls):\n",
    "        data.append([value])\n",
    "        for m in methods:\n",
    "            mean_runtime=sebs_df[k][m][value]['runtime'].mean()\n",
    "            data[count].append(mean_runtime)\n",
    "    table[k] = tabulate(data, tablefmt='html', headers=headers)\n",
    "    display(HTML(f'<h3>Mean runtimes (ms), cluster <b>{k}</b></h3>'))\n",
    "    display(table[k])\n",
    "    print()"
   ]
  },
  {
   "cell_type": "code",
   "execution_count": 39,
   "id": "0af1c4b6-27ec-4180-8a2e-bded96749f14",
   "metadata": {},
   "outputs": [
    {
     "data": {
      "application/vnd.plotly.v1+json": {
       "config": {
        "plotlyServerURL": "https://plot.ly"
       },
       "data": [
        {
         "error_y": {
          "array": [
           1.6070982953062622,
           1.7255576813546507,
           0.7393986899535833,
           11.37296641999634
          ],
          "symmetric": true,
          "type": "data"
         },
         "marker": {
          "color": "rgba(151, 209, 233, 255)"
         },
         "name": "kOps 1x 72vCPU 144Gb x86_64",
         "type": "scatter",
         "x": [
          32,
          64,
          96,
          128
         ],
         "y": [
          101.57954545454545,
          105.1690340909091,
          103.1534090909091,
          153.7734375
         ]
        },
        {
         "error_y": {
          "array": [
           2.0170814942463187,
           1.0515785387204513,
           13.187154445634498,
           10.59607894346387
          ],
          "symmetric": true,
          "type": "data"
         },
         "marker": {
          "color": "rgba(0, 120, 179, 255)"
         },
         "name": "kOps 8x 8vCPU 16Gb x86_64",
         "type": "scatter",
         "x": [
          32,
          64,
          96,
          128
         ],
         "y": [
          68.79261363636364,
          69.71875,
          112.17329545454545,
          121.85298295454545
         ]
        },
        {
         "error_y": {
          "array": [
           1.586027772464766,
           0.9903641575242669,
           0.8675608582705869,
           0.714769962415254
          ],
          "symmetric": true,
          "type": "data"
         },
         "marker": {
          "color": "rgba(179, 223, 146, 255)"
         },
         "name": "kOps 16x 4vCPU 8Gb x86_64",
         "type": "scatter",
         "x": [
          32,
          64,
          96,
          128
         ],
         "y": [
          51.34090909090909,
          51.9390625,
          82.59895833333333,
          83.4328125
         ]
        },
        {
         "error_y": {
          "array": [
           1.6694540059722491,
           1.0579487532535903,
           0.8834918989780381,
           0.780232507592731
          ],
          "symmetric": true,
          "type": "data"
         },
         "marker": {
          "color": "rgba(49, 169, 90, 255)"
         },
         "name": "EKS 8x 8vCPU 16Gb x86_64",
         "type": "scatter",
         "x": [
          32,
          64,
          96,
          128
         ],
         "y": [
          67.76704545454545,
          70.9247159090909,
          74.33712121212122,
          77.52485795454545
         ]
        }
       ],
       "layout": {
        "autosize": true,
        "font": {
         "size": 16
        },
        "legend": {
         "orientation": "h",
         "x": 0.47,
         "xanchor": "center",
         "y": 1.02,
         "yanchor": "bottom"
        },
        "margin": {
         "autoexpand": true,
         "b": 1,
         "l": 1,
         "r": 1
        },
        "plot_bgcolor": "rgba(245,245,255,255)",
        "template": {
         "data": {
          "bar": [
           {
            "error_x": {
             "color": "#2a3f5f"
            },
            "error_y": {
             "color": "#2a3f5f"
            },
            "marker": {
             "line": {
              "color": "#E5ECF6",
              "width": 0.5
             },
             "pattern": {
              "fillmode": "overlay",
              "size": 10,
              "solidity": 0.2
             }
            },
            "type": "bar"
           }
          ],
          "barpolar": [
           {
            "marker": {
             "line": {
              "color": "#E5ECF6",
              "width": 0.5
             },
             "pattern": {
              "fillmode": "overlay",
              "size": 10,
              "solidity": 0.2
             }
            },
            "type": "barpolar"
           }
          ],
          "carpet": [
           {
            "aaxis": {
             "endlinecolor": "#2a3f5f",
             "gridcolor": "white",
             "linecolor": "white",
             "minorgridcolor": "white",
             "startlinecolor": "#2a3f5f"
            },
            "baxis": {
             "endlinecolor": "#2a3f5f",
             "gridcolor": "white",
             "linecolor": "white",
             "minorgridcolor": "white",
             "startlinecolor": "#2a3f5f"
            },
            "type": "carpet"
           }
          ],
          "choropleth": [
           {
            "colorbar": {
             "outlinewidth": 0,
             "ticks": ""
            },
            "type": "choropleth"
           }
          ],
          "contour": [
           {
            "colorbar": {
             "outlinewidth": 0,
             "ticks": ""
            },
            "colorscale": [
             [
              0,
              "#0d0887"
             ],
             [
              0.1111111111111111,
              "#46039f"
             ],
             [
              0.2222222222222222,
              "#7201a8"
             ],
             [
              0.3333333333333333,
              "#9c179e"
             ],
             [
              0.4444444444444444,
              "#bd3786"
             ],
             [
              0.5555555555555556,
              "#d8576b"
             ],
             [
              0.6666666666666666,
              "#ed7953"
             ],
             [
              0.7777777777777778,
              "#fb9f3a"
             ],
             [
              0.8888888888888888,
              "#fdca26"
             ],
             [
              1,
              "#f0f921"
             ]
            ],
            "type": "contour"
           }
          ],
          "contourcarpet": [
           {
            "colorbar": {
             "outlinewidth": 0,
             "ticks": ""
            },
            "type": "contourcarpet"
           }
          ],
          "heatmap": [
           {
            "colorbar": {
             "outlinewidth": 0,
             "ticks": ""
            },
            "colorscale": [
             [
              0,
              "#0d0887"
             ],
             [
              0.1111111111111111,
              "#46039f"
             ],
             [
              0.2222222222222222,
              "#7201a8"
             ],
             [
              0.3333333333333333,
              "#9c179e"
             ],
             [
              0.4444444444444444,
              "#bd3786"
             ],
             [
              0.5555555555555556,
              "#d8576b"
             ],
             [
              0.6666666666666666,
              "#ed7953"
             ],
             [
              0.7777777777777778,
              "#fb9f3a"
             ],
             [
              0.8888888888888888,
              "#fdca26"
             ],
             [
              1,
              "#f0f921"
             ]
            ],
            "type": "heatmap"
           }
          ],
          "heatmapgl": [
           {
            "colorbar": {
             "outlinewidth": 0,
             "ticks": ""
            },
            "colorscale": [
             [
              0,
              "#0d0887"
             ],
             [
              0.1111111111111111,
              "#46039f"
             ],
             [
              0.2222222222222222,
              "#7201a8"
             ],
             [
              0.3333333333333333,
              "#9c179e"
             ],
             [
              0.4444444444444444,
              "#bd3786"
             ],
             [
              0.5555555555555556,
              "#d8576b"
             ],
             [
              0.6666666666666666,
              "#ed7953"
             ],
             [
              0.7777777777777778,
              "#fb9f3a"
             ],
             [
              0.8888888888888888,
              "#fdca26"
             ],
             [
              1,
              "#f0f921"
             ]
            ],
            "type": "heatmapgl"
           }
          ],
          "histogram": [
           {
            "marker": {
             "pattern": {
              "fillmode": "overlay",
              "size": 10,
              "solidity": 0.2
             }
            },
            "type": "histogram"
           }
          ],
          "histogram2d": [
           {
            "colorbar": {
             "outlinewidth": 0,
             "ticks": ""
            },
            "colorscale": [
             [
              0,
              "#0d0887"
             ],
             [
              0.1111111111111111,
              "#46039f"
             ],
             [
              0.2222222222222222,
              "#7201a8"
             ],
             [
              0.3333333333333333,
              "#9c179e"
             ],
             [
              0.4444444444444444,
              "#bd3786"
             ],
             [
              0.5555555555555556,
              "#d8576b"
             ],
             [
              0.6666666666666666,
              "#ed7953"
             ],
             [
              0.7777777777777778,
              "#fb9f3a"
             ],
             [
              0.8888888888888888,
              "#fdca26"
             ],
             [
              1,
              "#f0f921"
             ]
            ],
            "type": "histogram2d"
           }
          ],
          "histogram2dcontour": [
           {
            "colorbar": {
             "outlinewidth": 0,
             "ticks": ""
            },
            "colorscale": [
             [
              0,
              "#0d0887"
             ],
             [
              0.1111111111111111,
              "#46039f"
             ],
             [
              0.2222222222222222,
              "#7201a8"
             ],
             [
              0.3333333333333333,
              "#9c179e"
             ],
             [
              0.4444444444444444,
              "#bd3786"
             ],
             [
              0.5555555555555556,
              "#d8576b"
             ],
             [
              0.6666666666666666,
              "#ed7953"
             ],
             [
              0.7777777777777778,
              "#fb9f3a"
             ],
             [
              0.8888888888888888,
              "#fdca26"
             ],
             [
              1,
              "#f0f921"
             ]
            ],
            "type": "histogram2dcontour"
           }
          ],
          "mesh3d": [
           {
            "colorbar": {
             "outlinewidth": 0,
             "ticks": ""
            },
            "type": "mesh3d"
           }
          ],
          "parcoords": [
           {
            "line": {
             "colorbar": {
              "outlinewidth": 0,
              "ticks": ""
             }
            },
            "type": "parcoords"
           }
          ],
          "pie": [
           {
            "automargin": true,
            "type": "pie"
           }
          ],
          "scatter": [
           {
            "fillpattern": {
             "fillmode": "overlay",
             "size": 10,
             "solidity": 0.2
            },
            "type": "scatter"
           }
          ],
          "scatter3d": [
           {
            "line": {
             "colorbar": {
              "outlinewidth": 0,
              "ticks": ""
             }
            },
            "marker": {
             "colorbar": {
              "outlinewidth": 0,
              "ticks": ""
             }
            },
            "type": "scatter3d"
           }
          ],
          "scattercarpet": [
           {
            "marker": {
             "colorbar": {
              "outlinewidth": 0,
              "ticks": ""
             }
            },
            "type": "scattercarpet"
           }
          ],
          "scattergeo": [
           {
            "marker": {
             "colorbar": {
              "outlinewidth": 0,
              "ticks": ""
             }
            },
            "type": "scattergeo"
           }
          ],
          "scattergl": [
           {
            "marker": {
             "colorbar": {
              "outlinewidth": 0,
              "ticks": ""
             }
            },
            "type": "scattergl"
           }
          ],
          "scattermapbox": [
           {
            "marker": {
             "colorbar": {
              "outlinewidth": 0,
              "ticks": ""
             }
            },
            "type": "scattermapbox"
           }
          ],
          "scatterpolar": [
           {
            "marker": {
             "colorbar": {
              "outlinewidth": 0,
              "ticks": ""
             }
            },
            "type": "scatterpolar"
           }
          ],
          "scatterpolargl": [
           {
            "marker": {
             "colorbar": {
              "outlinewidth": 0,
              "ticks": ""
             }
            },
            "type": "scatterpolargl"
           }
          ],
          "scatterternary": [
           {
            "marker": {
             "colorbar": {
              "outlinewidth": 0,
              "ticks": ""
             }
            },
            "type": "scatterternary"
           }
          ],
          "surface": [
           {
            "colorbar": {
             "outlinewidth": 0,
             "ticks": ""
            },
            "colorscale": [
             [
              0,
              "#0d0887"
             ],
             [
              0.1111111111111111,
              "#46039f"
             ],
             [
              0.2222222222222222,
              "#7201a8"
             ],
             [
              0.3333333333333333,
              "#9c179e"
             ],
             [
              0.4444444444444444,
              "#bd3786"
             ],
             [
              0.5555555555555556,
              "#d8576b"
             ],
             [
              0.6666666666666666,
              "#ed7953"
             ],
             [
              0.7777777777777778,
              "#fb9f3a"
             ],
             [
              0.8888888888888888,
              "#fdca26"
             ],
             [
              1,
              "#f0f921"
             ]
            ],
            "type": "surface"
           }
          ],
          "table": [
           {
            "cells": {
             "fill": {
              "color": "#EBF0F8"
             },
             "line": {
              "color": "white"
             }
            },
            "header": {
             "fill": {
              "color": "#C8D4E3"
             },
             "line": {
              "color": "white"
             }
            },
            "type": "table"
           }
          ]
         },
         "layout": {
          "annotationdefaults": {
           "arrowcolor": "#2a3f5f",
           "arrowhead": 0,
           "arrowwidth": 1
          },
          "autotypenumbers": "strict",
          "coloraxis": {
           "colorbar": {
            "outlinewidth": 0,
            "ticks": ""
           }
          },
          "colorscale": {
           "diverging": [
            [
             0,
             "#8e0152"
            ],
            [
             0.1,
             "#c51b7d"
            ],
            [
             0.2,
             "#de77ae"
            ],
            [
             0.3,
             "#f1b6da"
            ],
            [
             0.4,
             "#fde0ef"
            ],
            [
             0.5,
             "#f7f7f7"
            ],
            [
             0.6,
             "#e6f5d0"
            ],
            [
             0.7,
             "#b8e186"
            ],
            [
             0.8,
             "#7fbc41"
            ],
            [
             0.9,
             "#4d9221"
            ],
            [
             1,
             "#276419"
            ]
           ],
           "sequential": [
            [
             0,
             "#0d0887"
            ],
            [
             0.1111111111111111,
             "#46039f"
            ],
            [
             0.2222222222222222,
             "#7201a8"
            ],
            [
             0.3333333333333333,
             "#9c179e"
            ],
            [
             0.4444444444444444,
             "#bd3786"
            ],
            [
             0.5555555555555556,
             "#d8576b"
            ],
            [
             0.6666666666666666,
             "#ed7953"
            ],
            [
             0.7777777777777778,
             "#fb9f3a"
            ],
            [
             0.8888888888888888,
             "#fdca26"
            ],
            [
             1,
             "#f0f921"
            ]
           ],
           "sequentialminus": [
            [
             0,
             "#0d0887"
            ],
            [
             0.1111111111111111,
             "#46039f"
            ],
            [
             0.2222222222222222,
             "#7201a8"
            ],
            [
             0.3333333333333333,
             "#9c179e"
            ],
            [
             0.4444444444444444,
             "#bd3786"
            ],
            [
             0.5555555555555556,
             "#d8576b"
            ],
            [
             0.6666666666666666,
             "#ed7953"
            ],
            [
             0.7777777777777778,
             "#fb9f3a"
            ],
            [
             0.8888888888888888,
             "#fdca26"
            ],
            [
             1,
             "#f0f921"
            ]
           ]
          },
          "colorway": [
           "#636efa",
           "#EF553B",
           "#00cc96",
           "#ab63fa",
           "#FFA15A",
           "#19d3f3",
           "#FF6692",
           "#B6E880",
           "#FF97FF",
           "#FECB52"
          ],
          "font": {
           "color": "#2a3f5f"
          },
          "geo": {
           "bgcolor": "white",
           "lakecolor": "white",
           "landcolor": "#E5ECF6",
           "showlakes": true,
           "showland": true,
           "subunitcolor": "white"
          },
          "hoverlabel": {
           "align": "left"
          },
          "hovermode": "closest",
          "mapbox": {
           "style": "light"
          },
          "paper_bgcolor": "white",
          "plot_bgcolor": "#E5ECF6",
          "polar": {
           "angularaxis": {
            "gridcolor": "white",
            "linecolor": "white",
            "ticks": ""
           },
           "bgcolor": "#E5ECF6",
           "radialaxis": {
            "gridcolor": "white",
            "linecolor": "white",
            "ticks": ""
           }
          },
          "scene": {
           "xaxis": {
            "backgroundcolor": "#E5ECF6",
            "gridcolor": "white",
            "gridwidth": 2,
            "linecolor": "white",
            "showbackground": true,
            "ticks": "",
            "zerolinecolor": "white"
           },
           "yaxis": {
            "backgroundcolor": "#E5ECF6",
            "gridcolor": "white",
            "gridwidth": 2,
            "linecolor": "white",
            "showbackground": true,
            "ticks": "",
            "zerolinecolor": "white"
           },
           "zaxis": {
            "backgroundcolor": "#E5ECF6",
            "gridcolor": "white",
            "gridwidth": 2,
            "linecolor": "white",
            "showbackground": true,
            "ticks": "",
            "zerolinecolor": "white"
           }
          },
          "shapedefaults": {
           "line": {
            "color": "#2a3f5f"
           }
          },
          "ternary": {
           "aaxis": {
            "gridcolor": "white",
            "linecolor": "white",
            "ticks": ""
           },
           "baxis": {
            "gridcolor": "white",
            "linecolor": "white",
            "ticks": ""
           },
           "bgcolor": "#E5ECF6",
           "caxis": {
            "gridcolor": "white",
            "linecolor": "white",
            "ticks": ""
           }
          },
          "title": {
           "x": 0.05
          },
          "xaxis": {
           "automargin": true,
           "gridcolor": "white",
           "linecolor": "white",
           "ticks": "",
           "title": {
            "standoff": 15
           },
           "zerolinecolor": "white",
           "zerolinewidth": 2
          },
          "yaxis": {
           "automargin": true,
           "gridcolor": "white",
           "linecolor": "white",
           "ticks": "",
           "title": {
            "standoff": 15
           },
           "zerolinecolor": "white",
           "zerolinewidth": 2
          }
         }
        },
        "title": {
         "text": "SeBS: Breadth First Search, runtimes (ms)",
         "x": 0.5,
         "xanchor": "center"
        },
        "xaxis": {
         "autorange": true,
         "range": [
          26.262870987280436,
          133.73712901271958
         ],
         "tickmode": "array",
         "tickvals": [
          32,
          64,
          96,
          128
         ],
         "title": {
          "text": "Concurrent calls"
         },
         "type": "linear"
        },
        "yaxis": {
         "autorange": true,
         "range": [
          42.57476845313834,
          171.59754262877834
         ],
         "title": {
          "text": "Runtime (ms)"
         },
         "type": "linear"
        }
       }
      },
      "image/png": "[encoded data removed]",
      "text/html": [
       "<div>                            <div id=\"81a006c1-4908-48c5-8dab-ec52bf6e7b3d\" class=\"plotly-graph-div\" style=\"height:525px; width:100%;\"></div>            <script type=\"text/javascript\">                require([\"plotly\"], function(Plotly) {                    window.PLOTLYENV=window.PLOTLYENV || {};                                    if (document.getElementById(\"81a006c1-4908-48c5-8dab-ec52bf6e7b3d\")) {                    Plotly.newPlot(                        \"81a006c1-4908-48c5-8dab-ec52bf6e7b3d\",                        [{\"error_y\":{\"array\":[1.6070982953062622,1.7255576813546507,0.7393986899535833,11.37296641999634],\"symmetric\":true,\"type\":\"data\"},\"marker\":{\"color\":\"rgba(151, 209, 233, 255)\"},\"name\":\"kOps 1x 72vCPU 144Gb x86_64\",\"x\":[32,64,96,128],\"y\":[101.57954545454545,105.1690340909091,103.1534090909091,153.7734375],\"type\":\"scatter\"},{\"error_y\":{\"array\":[2.0170814942463187,1.0515785387204513,13.187154445634498,10.59607894346387],\"symmetric\":true,\"type\":\"data\"},\"marker\":{\"color\":\"rgba(0, 120, 179, 255)\"},\"name\":\"kOps 8x 8vCPU 16Gb x86_64\",\"x\":[32,64,96,128],\"y\":[68.79261363636364,69.71875,112.17329545454545,121.85298295454545],\"type\":\"scatter\"},{\"error_y\":{\"array\":[1.586027772464766,0.9903641575242669,0.8675608582705869,0.714769962415254],\"symmetric\":true,\"type\":\"data\"},\"marker\":{\"color\":\"rgba(179, 223, 146, 255)\"},\"name\":\"kOps 16x 4vCPU 8Gb x86_64\",\"x\":[32,64,96,128],\"y\":[51.34090909090909,51.9390625,82.59895833333333,83.4328125],\"type\":\"scatter\"},{\"error_y\":{\"array\":[1.6694540059722491,1.0579487532535903,0.8834918989780381,0.780232507592731],\"symmetric\":true,\"type\":\"data\"},\"marker\":{\"color\":\"rgba(49, 169, 90, 255)\"},\"name\":\"EKS 8x 8vCPU 16Gb x86_64\",\"x\":[32,64,96,128],\"y\":[67.76704545454545,70.9247159090909,74.33712121212122,77.52485795454545],\"type\":\"scatter\"}],                        {\"template\":{\"data\":{\"histogram2dcontour\":[{\"type\":\"histogram2dcontour\",\"colorbar\":{\"outlinewidth\":0,\"ticks\":\"\"},\"colorscale\":[[0.0,\"#0d0887\"],[0.1111111111111111,\"#46039f\"],[0.2222222222222222,\"#7201a8\"],[0.3333333333333333,\"#9c179e\"],[0.4444444444444444,\"#bd3786\"],[0.5555555555555556,\"#d8576b\"],[0.6666666666666666,\"#ed7953\"],[0.7777777777777778,\"#fb9f3a\"],[0.8888888888888888,\"#fdca26\"],[1.0,\"#f0f921\"]]}],\"choropleth\":[{\"type\":\"choropleth\",\"colorbar\":{\"outlinewidth\":0,\"ticks\":\"\"}}],\"histogram2d\":[{\"type\":\"histogram2d\",\"colorbar\":{\"outlinewidth\":0,\"ticks\":\"\"},\"colorscale\":[[0.0,\"#0d0887\"],[0.1111111111111111,\"#46039f\"],[0.2222222222222222,\"#7201a8\"],[0.3333333333333333,\"#9c179e\"],[0.4444444444444444,\"#bd3786\"],[0.5555555555555556,\"#d8576b\"],[0.6666666666666666,\"#ed7953\"],[0.7777777777777778,\"#fb9f3a\"],[0.8888888888888888,\"#fdca26\"],[1.0,\"#f0f921\"]]}],\"heatmap\":[{\"type\":\"heatmap\",\"colorbar\":{\"outlinewidth\":0,\"ticks\":\"\"},\"colorscale\":[[0.0,\"#0d0887\"],[0.1111111111111111,\"#46039f\"],[0.2222222222222222,\"#7201a8\"],[0.3333333333333333,\"#9c179e\"],[0.4444444444444444,\"#bd3786\"],[0.5555555555555556,\"#d8576b\"],[0.6666666666666666,\"#ed7953\"],[0.7777777777777778,\"#fb9f3a\"],[0.8888888888888888,\"#fdca26\"],[1.0,\"#f0f921\"]]}],\"heatmapgl\":[{\"type\":\"heatmapgl\",\"colorbar\":{\"outlinewidth\":0,\"ticks\":\"\"},\"colorscale\":[[0.0,\"#0d0887\"],[0.1111111111111111,\"#46039f\"],[0.2222222222222222,\"#7201a8\"],[0.3333333333333333,\"#9c179e\"],[0.4444444444444444,\"#bd3786\"],[0.5555555555555556,\"#d8576b\"],[0.6666666666666666,\"#ed7953\"],[0.7777777777777778,\"#fb9f3a\"],[0.8888888888888888,\"#fdca26\"],[1.0,\"#f0f921\"]]}],\"contourcarpet\":[{\"type\":\"contourcarpet\",\"colorbar\":{\"outlinewidth\":0,\"ticks\":\"\"}}],\"contour\":[{\"type\":\"contour\",\"colorbar\":{\"outlinewidth\":0,\"ticks\":\"\"},\"colorscale\":[[0.0,\"#0d0887\"],[0.1111111111111111,\"#46039f\"],[0.2222222222222222,\"#7201a8\"],[0.3333333333333333,\"#9c179e\"],[0.4444444444444444,\"#bd3786\"],[0.5555555555555556,\"#d8576b\"],[0.6666666666666666,\"#ed7953\"],[0.7777777777777778,\"#fb9f3a\"],[0.8888888888888888,\"#fdca26\"],[1.0,\"#f0f921\"]]}],\"surface\":[{\"type\":\"surface\",\"colorbar\":{\"outlinewidth\":0,\"ticks\":\"\"},\"colorscale\":[[0.0,\"#0d0887\"],[0.1111111111111111,\"#46039f\"],[0.2222222222222222,\"#7201a8\"],[0.3333333333333333,\"#9c179e\"],[0.4444444444444444,\"#bd3786\"],[0.5555555555555556,\"#d8576b\"],[0.6666666666666666,\"#ed7953\"],[0.7777777777777778,\"#fb9f3a\"],[0.8888888888888888,\"#fdca26\"],[1.0,\"#f0f921\"]]}],\"mesh3d\":[{\"type\":\"mesh3d\",\"colorbar\":{\"outlinewidth\":0,\"ticks\":\"\"}}],\"scatter\":[{\"fillpattern\":{\"fillmode\":\"overlay\",\"size\":10,\"solidity\":0.2},\"type\":\"scatter\"}],\"parcoords\":[{\"type\":\"parcoords\",\"line\":{\"colorbar\":{\"outlinewidth\":0,\"ticks\":\"\"}}}],\"scatterpolargl\":[{\"type\":\"scatterpolargl\",\"marker\":{\"colorbar\":{\"outlinewidth\":0,\"ticks\":\"\"}}}],\"bar\":[{\"error_x\":{\"color\":\"#2a3f5f\"},\"error_y\":{\"color\":\"#2a3f5f\"},\"marker\":{\"line\":{\"color\":\"#E5ECF6\",\"width\":0.5},\"pattern\":{\"fillmode\":\"overlay\",\"size\":10,\"solidity\":0.2}},\"type\":\"bar\"}],\"scattergeo\":[{\"type\":\"scattergeo\",\"marker\":{\"colorbar\":{\"outlinewidth\":0,\"ticks\":\"\"}}}],\"scatterpolar\":[{\"type\":\"scatterpolar\",\"marker\":{\"colorbar\":{\"outlinewidth\":0,\"ticks\":\"\"}}}],\"histogram\":[{\"marker\":{\"pattern\":{\"fillmode\":\"overlay\",\"size\":10,\"solidity\":0.2}},\"type\":\"histogram\"}],\"scattergl\":[{\"type\":\"scattergl\",\"marker\":{\"colorbar\":{\"outlinewidth\":0,\"ticks\":\"\"}}}],\"scatter3d\":[{\"type\":\"scatter3d\",\"line\":{\"colorbar\":{\"outlinewidth\":0,\"ticks\":\"\"}},\"marker\":{\"colorbar\":{\"outlinewidth\":0,\"ticks\":\"\"}}}],\"scattermapbox\":[{\"type\":\"scattermapbox\",\"marker\":{\"colorbar\":{\"outlinewidth\":0,\"ticks\":\"\"}}}],\"scatterternary\":[{\"type\":\"scatterternary\",\"marker\":{\"colorbar\":{\"outlinewidth\":0,\"ticks\":\"\"}}}],\"scattercarpet\":[{\"type\":\"scattercarpet\",\"marker\":{\"colorbar\":{\"outlinewidth\":0,\"ticks\":\"\"}}}],\"carpet\":[{\"aaxis\":{\"endlinecolor\":\"#2a3f5f\",\"gridcolor\":\"white\",\"linecolor\":\"white\",\"minorgridcolor\":\"white\",\"startlinecolor\":\"#2a3f5f\"},\"baxis\":{\"endlinecolor\":\"#2a3f5f\",\"gridcolor\":\"white\",\"linecolor\":\"white\",\"minorgridcolor\":\"white\",\"startlinecolor\":\"#2a3f5f\"},\"type\":\"carpet\"}],\"table\":[{\"cells\":{\"fill\":{\"color\":\"#EBF0F8\"},\"line\":{\"color\":\"white\"}},\"header\":{\"fill\":{\"color\":\"#C8D4E3\"},\"line\":{\"color\":\"white\"}},\"type\":\"table\"}],\"barpolar\":[{\"marker\":{\"line\":{\"color\":\"#E5ECF6\",\"width\":0.5},\"pattern\":{\"fillmode\":\"overlay\",\"size\":10,\"solidity\":0.2}},\"type\":\"barpolar\"}],\"pie\":[{\"automargin\":true,\"type\":\"pie\"}]},\"layout\":{\"autotypenumbers\":\"strict\",\"colorway\":[\"#636efa\",\"#EF553B\",\"#00cc96\",\"#ab63fa\",\"#FFA15A\",\"#19d3f3\",\"#FF6692\",\"#B6E880\",\"#FF97FF\",\"#FECB52\"],\"font\":{\"color\":\"#2a3f5f\"},\"hovermode\":\"closest\",\"hoverlabel\":{\"align\":\"left\"},\"paper_bgcolor\":\"white\",\"plot_bgcolor\":\"#E5ECF6\",\"polar\":{\"bgcolor\":\"#E5ECF6\",\"angularaxis\":{\"gridcolor\":\"white\",\"linecolor\":\"white\",\"ticks\":\"\"},\"radialaxis\":{\"gridcolor\":\"white\",\"linecolor\":\"white\",\"ticks\":\"\"}},\"ternary\":{\"bgcolor\":\"#E5ECF6\",\"aaxis\":{\"gridcolor\":\"white\",\"linecolor\":\"white\",\"ticks\":\"\"},\"baxis\":{\"gridcolor\":\"white\",\"linecolor\":\"white\",\"ticks\":\"\"},\"caxis\":{\"gridcolor\":\"white\",\"linecolor\":\"white\",\"ticks\":\"\"}},\"coloraxis\":{\"colorbar\":{\"outlinewidth\":0,\"ticks\":\"\"}},\"colorscale\":{\"sequential\":[[0.0,\"#0d0887\"],[0.1111111111111111,\"#46039f\"],[0.2222222222222222,\"#7201a8\"],[0.3333333333333333,\"#9c179e\"],[0.4444444444444444,\"#bd3786\"],[0.5555555555555556,\"#d8576b\"],[0.6666666666666666,\"#ed7953\"],[0.7777777777777778,\"#fb9f3a\"],[0.8888888888888888,\"#fdca26\"],[1.0,\"#f0f921\"]],\"sequentialminus\":[[0.0,\"#0d0887\"],[0.1111111111111111,\"#46039f\"],[0.2222222222222222,\"#7201a8\"],[0.3333333333333333,\"#9c179e\"],[0.4444444444444444,\"#bd3786\"],[0.5555555555555556,\"#d8576b\"],[0.6666666666666666,\"#ed7953\"],[0.7777777777777778,\"#fb9f3a\"],[0.8888888888888888,\"#fdca26\"],[1.0,\"#f0f921\"]],\"diverging\":[[0,\"#8e0152\"],[0.1,\"#c51b7d\"],[0.2,\"#de77ae\"],[0.3,\"#f1b6da\"],[0.4,\"#fde0ef\"],[0.5,\"#f7f7f7\"],[0.6,\"#e6f5d0\"],[0.7,\"#b8e186\"],[0.8,\"#7fbc41\"],[0.9,\"#4d9221\"],[1,\"#276419\"]]},\"xaxis\":{\"gridcolor\":\"white\",\"linecolor\":\"white\",\"ticks\":\"\",\"title\":{\"standoff\":15},\"zerolinecolor\":\"white\",\"automargin\":true,\"zerolinewidth\":2},\"yaxis\":{\"gridcolor\":\"white\",\"linecolor\":\"white\",\"ticks\":\"\",\"title\":{\"standoff\":15},\"zerolinecolor\":\"white\",\"automargin\":true,\"zerolinewidth\":2},\"scene\":{\"xaxis\":{\"backgroundcolor\":\"#E5ECF6\",\"gridcolor\":\"white\",\"linecolor\":\"white\",\"showbackground\":true,\"ticks\":\"\",\"zerolinecolor\":\"white\",\"gridwidth\":2},\"yaxis\":{\"backgroundcolor\":\"#E5ECF6\",\"gridcolor\":\"white\",\"linecolor\":\"white\",\"showbackground\":true,\"ticks\":\"\",\"zerolinecolor\":\"white\",\"gridwidth\":2},\"zaxis\":{\"backgroundcolor\":\"#E5ECF6\",\"gridcolor\":\"white\",\"linecolor\":\"white\",\"showbackground\":true,\"ticks\":\"\",\"zerolinecolor\":\"white\",\"gridwidth\":2}},\"shapedefaults\":{\"line\":{\"color\":\"#2a3f5f\"}},\"annotationdefaults\":{\"arrowcolor\":\"#2a3f5f\",\"arrowhead\":0,\"arrowwidth\":1},\"geo\":{\"bgcolor\":\"white\",\"landcolor\":\"#E5ECF6\",\"subunitcolor\":\"white\",\"showland\":true,\"showlakes\":true,\"lakecolor\":\"white\"},\"title\":{\"x\":0.05},\"mapbox\":{\"style\":\"light\"}}},\"legend\":{\"orientation\":\"h\",\"yanchor\":\"bottom\",\"y\":1.02,\"xanchor\":\"center\",\"x\":0.47},\"margin\":{\"b\":1,\"l\":1,\"r\":1,\"autoexpand\":true},\"font\":{\"size\":16},\"title\":{\"text\":\"SeBS: Breadth First Search, runtimes (ms)\",\"x\":0.5,\"xanchor\":\"center\"},\"xaxis\":{\"title\":{\"text\":\"Concurrent calls\"},\"tickmode\":\"array\",\"tickvals\":[32,64,96,128]},\"yaxis\":{\"title\":{\"text\":\"Runtime (ms)\"}},\"plot_bgcolor\":\"rgba(245,245,255,255)\"},                        {\"responsive\": true}                    ).then(function(){\n",
       "                            \n",
       "var gd = document.getElementById('81a006c1-4908-48c5-8dab-ec52bf6e7b3d');\n",
       "var x = new MutationObserver(function (mutations, observer) {{\n",
       "        var display = window.getComputedStyle(gd).display;\n",
       "        if (!display || display === 'none') {{\n",
       "            console.log([gd, 'removed!']);\n",
       "            Plotly.purge(gd);\n",
       "            observer.disconnect();\n",
       "        }}\n",
       "}});\n",
       "\n",
       "// Listen for the removal of the full notebook cells\n",
       "var notebookContainer = gd.closest('#notebook-container');\n",
       "if (notebookContainer) {{\n",
       "    x.observe(notebookContainer, {childList: true});\n",
       "}}\n",
       "\n",
       "// Listen for the clearing of the current output cell\n",
       "var outputEl = gd.closest('.output');\n",
       "if (outputEl) {{\n",
       "    x.observe(outputEl, {childList: true});\n",
       "}}\n",
       "\n",
       "                        })                };                });            </script>        </div>"
      ]
     },
     "metadata": {},
     "output_type": "display_data"
    }
   ],
   "source": [
    "fig = create_figure('SeBS: Breadth First Search, runtimes (ms)', 'Concurrent calls', 'Runtime (ms)', concurrent_calls)\n",
    "\n",
    "for i, k in enumerate(clusters):\n",
    "    fig.add_trace(\n",
    "        go.Scatter(\n",
    "            x = concurrent_calls,\n",
    "            y = [sebs_df[k]['bfs'][c]['runtime'].mean() for c in concurrent_calls],\n",
    "            error_y=dict(\n",
    "                type='data',\n",
    "                symmetric=True,\n",
    "                array=[sebs_df[k]['bfs'][c]['runtime'].sem() for c in concurrent_calls]\n",
    "            ),\n",
    "            name = k,\n",
    "            marker_color=colorPallet[i]\n",
    "        )\n",
    "    )\n",
    "\n",
    "fig.show()\n",
    "\n",
    "# Save graph\n",
    "write_image(fig, 'sebs_bfs_runtime_scatter.png')"
   ]
  },
  {
   "cell_type": "code",
   "execution_count": 40,
   "id": "fe11b7c8-64cb-4c58-8916-d73de5216bf2",
   "metadata": {},
   "outputs": [
    {
     "data": {
      "application/vnd.plotly.v1+json": {
       "config": {
        "plotlyServerURL": "https://plot.ly"
       },
       "data": [
        {
         "error_y": {
          "array": [
           1.5460977984027822,
           1.516434122002462,
           0.6986288315288597,
           0.8431439647136245
          ],
          "symmetric": true,
          "type": "data"
         },
         "marker": {
          "color": "rgba(151, 209, 233, 255)"
         },
         "name": "kOps 1x 72vCPU 144Gb x86_64",
         "type": "scatter",
         "x": [
          32,
          64,
          96,
          128
         ],
         "y": [
          99.44602272727273,
          102.40767045454545,
          101.58333333333333,
          103.04332386363636
         ]
        },
        {
         "error_y": {
          "array": [
           1.2897149197864732,
           1.0493038962239325,
           0.8849780354729341,
           0.7401559850744924
          ],
          "symmetric": true,
          "type": "data"
         },
         "marker": {
          "color": "rgba(0, 120, 179, 255)"
         },
         "name": "kOps 8x 8vCPU 16Gb x86_64",
         "type": "scatter",
         "x": [
          32,
          64,
          96,
          128
         ],
         "y": [
          45.65056818181818,
          64.46732954545455,
          65.66856060606061,
          66.515625
         ]
        },
        {
         "error_y": {
          "array": [
           1.2150952729539193,
           0.7795734259846006,
           0.8499426530471873,
           0.7550523725032776
          ],
          "symmetric": true,
          "type": "data"
         },
         "marker": {
          "color": "rgba(179, 223, 146, 255)"
         },
         "name": "kOps 16x 4vCPU 8Gb x86_64",
         "type": "scatter",
         "x": [
          32,
          64,
          96,
          128
         ],
         "y": [
          41.28125,
          44.803125,
          79.0375,
          81.95
         ]
        },
        {
         "error_y": {
          "array": [
           1.3039192220851314,
           1.0145510309147556,
           0.869838530884539,
           0.7637748724406308
          ],
          "symmetric": true,
          "type": "data"
         },
         "marker": {
          "color": "rgba(49, 169, 90, 255)"
         },
         "name": "EKS 8x 8vCPU 16Gb x86_64",
         "type": "scatter",
         "x": [
          32,
          64,
          96,
          128
         ],
         "y": [
          46.47443181818182,
          66.78267045454545,
          66.13352272727273,
          66.3174715909091
         ]
        }
       ],
       "layout": {
        "autosize": true,
        "font": {
         "size": 16
        },
        "legend": {
         "orientation": "h",
         "x": 0.47,
         "xanchor": "center",
         "y": 1.02,
         "yanchor": "bottom"
        },
        "margin": {
         "autoexpand": true,
         "b": 1,
         "l": 1,
         "r": 1
        },
        "plot_bgcolor": "rgba(245,245,255,255)",
        "template": {
         "data": {
          "bar": [
           {
            "error_x": {
             "color": "#2a3f5f"
            },
            "error_y": {
             "color": "#2a3f5f"
            },
            "marker": {
             "line": {
              "color": "#E5ECF6",
              "width": 0.5
             },
             "pattern": {
              "fillmode": "overlay",
              "size": 10,
              "solidity": 0.2
             }
            },
            "type": "bar"
           }
          ],
          "barpolar": [
           {
            "marker": {
             "line": {
              "color": "#E5ECF6",
              "width": 0.5
             },
             "pattern": {
              "fillmode": "overlay",
              "size": 10,
              "solidity": 0.2
             }
            },
            "type": "barpolar"
           }
          ],
          "carpet": [
           {
            "aaxis": {
             "endlinecolor": "#2a3f5f",
             "gridcolor": "white",
             "linecolor": "white",
             "minorgridcolor": "white",
             "startlinecolor": "#2a3f5f"
            },
            "baxis": {
             "endlinecolor": "#2a3f5f",
             "gridcolor": "white",
             "linecolor": "white",
             "minorgridcolor": "white",
             "startlinecolor": "#2a3f5f"
            },
            "type": "carpet"
           }
          ],
          "choropleth": [
           {
            "colorbar": {
             "outlinewidth": 0,
             "ticks": ""
            },
            "type": "choropleth"
           }
          ],
          "contour": [
           {
            "colorbar": {
             "outlinewidth": 0,
             "ticks": ""
            },
            "colorscale": [
             [
              0,
              "#0d0887"
             ],
             [
              0.1111111111111111,
              "#46039f"
             ],
             [
              0.2222222222222222,
              "#7201a8"
             ],
             [
              0.3333333333333333,
              "#9c179e"
             ],
             [
              0.4444444444444444,
              "#bd3786"
             ],
             [
              0.5555555555555556,
              "#d8576b"
             ],
             [
              0.6666666666666666,
              "#ed7953"
             ],
             [
              0.7777777777777778,
              "#fb9f3a"
             ],
             [
              0.8888888888888888,
              "#fdca26"
             ],
             [
              1,
              "#f0f921"
             ]
            ],
            "type": "contour"
           }
          ],
          "contourcarpet": [
           {
            "colorbar": {
             "outlinewidth": 0,
             "ticks": ""
            },
            "type": "contourcarpet"
           }
          ],
          "heatmap": [
           {
            "colorbar": {
             "outlinewidth": 0,
             "ticks": ""
            },
            "colorscale": [
             [
              0,
              "#0d0887"
             ],
             [
              0.1111111111111111,
              "#46039f"
             ],
             [
              0.2222222222222222,
              "#7201a8"
             ],
             [
              0.3333333333333333,
              "#9c179e"
             ],
             [
              0.4444444444444444,
              "#bd3786"
             ],
             [
              0.5555555555555556,
              "#d8576b"
             ],
             [
              0.6666666666666666,
              "#ed7953"
             ],
             [
              0.7777777777777778,
              "#fb9f3a"
             ],
             [
              0.8888888888888888,
              "#fdca26"
             ],
             [
              1,
              "#f0f921"
             ]
            ],
            "type": "heatmap"
           }
          ],
          "heatmapgl": [
           {
            "colorbar": {
             "outlinewidth": 0,
             "ticks": ""
            },
            "colorscale": [
             [
              0,
              "#0d0887"
             ],
             [
              0.1111111111111111,
              "#46039f"
             ],
             [
              0.2222222222222222,
              "#7201a8"
             ],
             [
              0.3333333333333333,
              "#9c179e"
             ],
             [
              0.4444444444444444,
              "#bd3786"
             ],
             [
              0.5555555555555556,
              "#d8576b"
             ],
             [
              0.6666666666666666,
              "#ed7953"
             ],
             [
              0.7777777777777778,
              "#fb9f3a"
             ],
             [
              0.8888888888888888,
              "#fdca26"
             ],
             [
              1,
              "#f0f921"
             ]
            ],
            "type": "heatmapgl"
           }
          ],
          "histogram": [
           {
            "marker": {
             "pattern": {
              "fillmode": "overlay",
              "size": 10,
              "solidity": 0.2
             }
            },
            "type": "histogram"
           }
          ],
          "histogram2d": [
           {
            "colorbar": {
             "outlinewidth": 0,
             "ticks": ""
            },
            "colorscale": [
             [
              0,
              "#0d0887"
             ],
             [
              0.1111111111111111,
              "#46039f"
             ],
             [
              0.2222222222222222,
              "#7201a8"
             ],
             [
              0.3333333333333333,
              "#9c179e"
             ],
             [
              0.4444444444444444,
              "#bd3786"
             ],
             [
              0.5555555555555556,
              "#d8576b"
             ],
             [
              0.6666666666666666,
              "#ed7953"
             ],
             [
              0.7777777777777778,
              "#fb9f3a"
             ],
             [
              0.8888888888888888,
              "#fdca26"
             ],
             [
              1,
              "#f0f921"
             ]
            ],
            "type": "histogram2d"
           }
          ],
          "histogram2dcontour": [
           {
            "colorbar": {
             "outlinewidth": 0,
             "ticks": ""
            },
            "colorscale": [
             [
              0,
              "#0d0887"
             ],
             [
              0.1111111111111111,
              "#46039f"
             ],
             [
              0.2222222222222222,
              "#7201a8"
             ],
             [
              0.3333333333333333,
              "#9c179e"
             ],
             [
              0.4444444444444444,
              "#bd3786"
             ],
             [
              0.5555555555555556,
              "#d8576b"
             ],
             [
              0.6666666666666666,
              "#ed7953"
             ],
             [
              0.7777777777777778,
              "#fb9f3a"
             ],
             [
              0.8888888888888888,
              "#fdca26"
             ],
             [
              1,
              "#f0f921"
             ]
            ],
            "type": "histogram2dcontour"
           }
          ],
          "mesh3d": [
           {
            "colorbar": {
             "outlinewidth": 0,
             "ticks": ""
            },
            "type": "mesh3d"
           }
          ],
          "parcoords": [
           {
            "line": {
             "colorbar": {
              "outlinewidth": 0,
              "ticks": ""
             }
            },
            "type": "parcoords"
           }
          ],
          "pie": [
           {
            "automargin": true,
            "type": "pie"
           }
          ],
          "scatter": [
           {
            "fillpattern": {
             "fillmode": "overlay",
             "size": 10,
             "solidity": 0.2
            },
            "type": "scatter"
           }
          ],
          "scatter3d": [
           {
            "line": {
             "colorbar": {
              "outlinewidth": 0,
              "ticks": ""
             }
            },
            "marker": {
             "colorbar": {
              "outlinewidth": 0,
              "ticks": ""
             }
            },
            "type": "scatter3d"
           }
          ],
          "scattercarpet": [
           {
            "marker": {
             "colorbar": {
              "outlinewidth": 0,
              "ticks": ""
             }
            },
            "type": "scattercarpet"
           }
          ],
          "scattergeo": [
           {
            "marker": {
             "colorbar": {
              "outlinewidth": 0,
              "ticks": ""
             }
            },
            "type": "scattergeo"
           }
          ],
          "scattergl": [
           {
            "marker": {
             "colorbar": {
              "outlinewidth": 0,
              "ticks": ""
             }
            },
            "type": "scattergl"
           }
          ],
          "scattermapbox": [
           {
            "marker": {
             "colorbar": {
              "outlinewidth": 0,
              "ticks": ""
             }
            },
            "type": "scattermapbox"
           }
          ],
          "scatterpolar": [
           {
            "marker": {
             "colorbar": {
              "outlinewidth": 0,
              "ticks": ""
             }
            },
            "type": "scatterpolar"
           }
          ],
          "scatterpolargl": [
           {
            "marker": {
             "colorbar": {
              "outlinewidth": 0,
              "ticks": ""
             }
            },
            "type": "scatterpolargl"
           }
          ],
          "scatterternary": [
           {
            "marker": {
             "colorbar": {
              "outlinewidth": 0,
              "ticks": ""
             }
            },
            "type": "scatterternary"
           }
          ],
          "surface": [
           {
            "colorbar": {
             "outlinewidth": 0,
             "ticks": ""
            },
            "colorscale": [
             [
              0,
              "#0d0887"
             ],
             [
              0.1111111111111111,
              "#46039f"
             ],
             [
              0.2222222222222222,
              "#7201a8"
             ],
             [
              0.3333333333333333,
              "#9c179e"
             ],
             [
              0.4444444444444444,
              "#bd3786"
             ],
             [
              0.5555555555555556,
              "#d8576b"
             ],
             [
              0.6666666666666666,
              "#ed7953"
             ],
             [
              0.7777777777777778,
              "#fb9f3a"
             ],
             [
              0.8888888888888888,
              "#fdca26"
             ],
             [
              1,
              "#f0f921"
             ]
            ],
            "type": "surface"
           }
          ],
          "table": [
           {
            "cells": {
             "fill": {
              "color": "#EBF0F8"
             },
             "line": {
              "color": "white"
             }
            },
            "header": {
             "fill": {
              "color": "#C8D4E3"
             },
             "line": {
              "color": "white"
             }
            },
            "type": "table"
           }
          ]
         },
         "layout": {
          "annotationdefaults": {
           "arrowcolor": "#2a3f5f",
           "arrowhead": 0,
           "arrowwidth": 1
          },
          "autotypenumbers": "strict",
          "coloraxis": {
           "colorbar": {
            "outlinewidth": 0,
            "ticks": ""
           }
          },
          "colorscale": {
           "diverging": [
            [
             0,
             "#8e0152"
            ],
            [
             0.1,
             "#c51b7d"
            ],
            [
             0.2,
             "#de77ae"
            ],
            [
             0.3,
             "#f1b6da"
            ],
            [
             0.4,
             "#fde0ef"
            ],
            [
             0.5,
             "#f7f7f7"
            ],
            [
             0.6,
             "#e6f5d0"
            ],
            [
             0.7,
             "#b8e186"
            ],
            [
             0.8,
             "#7fbc41"
            ],
            [
             0.9,
             "#4d9221"
            ],
            [
             1,
             "#276419"
            ]
           ],
           "sequential": [
            [
             0,
             "#0d0887"
            ],
            [
             0.1111111111111111,
             "#46039f"
            ],
            [
             0.2222222222222222,
             "#7201a8"
            ],
            [
             0.3333333333333333,
             "#9c179e"
            ],
            [
             0.4444444444444444,
             "#bd3786"
            ],
            [
             0.5555555555555556,
             "#d8576b"
            ],
            [
             0.6666666666666666,
             "#ed7953"
            ],
            [
             0.7777777777777778,
             "#fb9f3a"
            ],
            [
             0.8888888888888888,
             "#fdca26"
            ],
            [
             1,
             "#f0f921"
            ]
           ],
           "sequentialminus": [
            [
             0,
             "#0d0887"
            ],
            [
             0.1111111111111111,
             "#46039f"
            ],
            [
             0.2222222222222222,
             "#7201a8"
            ],
            [
             0.3333333333333333,
             "#9c179e"
            ],
            [
             0.4444444444444444,
             "#bd3786"
            ],
            [
             0.5555555555555556,
             "#d8576b"
            ],
            [
             0.6666666666666666,
             "#ed7953"
            ],
            [
             0.7777777777777778,
             "#fb9f3a"
            ],
            [
             0.8888888888888888,
             "#fdca26"
            ],
            [
             1,
             "#f0f921"
            ]
           ]
          },
          "colorway": [
           "#636efa",
           "#EF553B",
           "#00cc96",
           "#ab63fa",
           "#FFA15A",
           "#19d3f3",
           "#FF6692",
           "#B6E880",
           "#FF97FF",
           "#FECB52"
          ],
          "font": {
           "color": "#2a3f5f"
          },
          "geo": {
           "bgcolor": "white",
           "lakecolor": "white",
           "landcolor": "#E5ECF6",
           "showlakes": true,
           "showland": true,
           "subunitcolor": "white"
          },
          "hoverlabel": {
           "align": "left"
          },
          "hovermode": "closest",
          "mapbox": {
           "style": "light"
          },
          "paper_bgcolor": "white",
          "plot_bgcolor": "#E5ECF6",
          "polar": {
           "angularaxis": {
            "gridcolor": "white",
            "linecolor": "white",
            "ticks": ""
           },
           "bgcolor": "#E5ECF6",
           "radialaxis": {
            "gridcolor": "white",
            "linecolor": "white",
            "ticks": ""
           }
          },
          "scene": {
           "xaxis": {
            "backgroundcolor": "#E5ECF6",
            "gridcolor": "white",
            "gridwidth": 2,
            "linecolor": "white",
            "showbackground": true,
            "ticks": "",
            "zerolinecolor": "white"
           },
           "yaxis": {
            "backgroundcolor": "#E5ECF6",
            "gridcolor": "white",
            "gridwidth": 2,
            "linecolor": "white",
            "showbackground": true,
            "ticks": "",
            "zerolinecolor": "white"
           },
           "zaxis": {
            "backgroundcolor": "#E5ECF6",
            "gridcolor": "white",
            "gridwidth": 2,
            "linecolor": "white",
            "showbackground": true,
            "ticks": "",
            "zerolinecolor": "white"
           }
          },
          "shapedefaults": {
           "line": {
            "color": "#2a3f5f"
           }
          },
          "ternary": {
           "aaxis": {
            "gridcolor": "white",
            "linecolor": "white",
            "ticks": ""
           },
           "baxis": {
            "gridcolor": "white",
            "linecolor": "white",
            "ticks": ""
           },
           "bgcolor": "#E5ECF6",
           "caxis": {
            "gridcolor": "white",
            "linecolor": "white",
            "ticks": ""
           }
          },
          "title": {
           "x": 0.05
          },
          "xaxis": {
           "automargin": true,
           "gridcolor": "white",
           "linecolor": "white",
           "ticks": "",
           "title": {
            "standoff": 15
           },
           "zerolinecolor": "white",
           "zerolinewidth": 2
          },
          "yaxis": {
           "automargin": true,
           "gridcolor": "white",
           "linecolor": "white",
           "ticks": "",
           "title": {
            "standoff": 15
           },
           "zerolinecolor": "white",
           "zerolinewidth": 2
          }
         }
        },
        "title": {
         "text": "SeBS: Minimum Spanning Tree, runtimes (ms)",
         "x": 0.5,
         "xanchor": "center"
        },
        "xaxis": {
         "autorange": true,
         "range": [
          26.262870987280436,
          133.73712901271958
         ],
         "tickmode": "array",
         "tickvals": [
          32,
          64,
          96,
          128
         ],
         "title": {
          "text": "Concurrent calls"
         },
         "type": "linear"
        },
        "yaxis": {
         "autorange": true,
         "range": [
          36.42509579809725,
          107.89947806553911
         ],
         "title": {
          "text": "Runtime (ms)"
         },
         "type": "linear"
        }
       }
      },
      "image/png": "[encoded data removed]",
      "text/html": [
       "<div>                            <div id=\"d9707d55-90c2-4472-b776-451f28e8ae1e\" class=\"plotly-graph-div\" style=\"height:525px; width:100%;\"></div>            <script type=\"text/javascript\">                require([\"plotly\"], function(Plotly) {                    window.PLOTLYENV=window.PLOTLYENV || {};                                    if (document.getElementById(\"d9707d55-90c2-4472-b776-451f28e8ae1e\")) {                    Plotly.newPlot(                        \"d9707d55-90c2-4472-b776-451f28e8ae1e\",                        [{\"error_y\":{\"array\":[1.5460977984027822,1.516434122002462,0.6986288315288597,0.8431439647136245],\"symmetric\":true,\"type\":\"data\"},\"marker\":{\"color\":\"rgba(151, 209, 233, 255)\"},\"name\":\"kOps 1x 72vCPU 144Gb x86_64\",\"x\":[32,64,96,128],\"y\":[99.44602272727273,102.40767045454545,101.58333333333333,103.04332386363636],\"type\":\"scatter\"},{\"error_y\":{\"array\":[1.2897149197864732,1.0493038962239325,0.8849780354729341,0.7401559850744924],\"symmetric\":true,\"type\":\"data\"},\"marker\":{\"color\":\"rgba(0, 120, 179, 255)\"},\"name\":\"kOps 8x 8vCPU 16Gb x86_64\",\"x\":[32,64,96,128],\"y\":[45.65056818181818,64.46732954545455,65.66856060606061,66.515625],\"type\":\"scatter\"},{\"error_y\":{\"array\":[1.2150952729539193,0.7795734259846006,0.8499426530471873,0.7550523725032776],\"symmetric\":true,\"type\":\"data\"},\"marker\":{\"color\":\"rgba(179, 223, 146, 255)\"},\"name\":\"kOps 16x 4vCPU 8Gb x86_64\",\"x\":[32,64,96,128],\"y\":[41.28125,44.803125,79.0375,81.95],\"type\":\"scatter\"},{\"error_y\":{\"array\":[1.3039192220851314,1.0145510309147556,0.869838530884539,0.7637748724406308],\"symmetric\":true,\"type\":\"data\"},\"marker\":{\"color\":\"rgba(49, 169, 90, 255)\"},\"name\":\"EKS 8x 8vCPU 16Gb x86_64\",\"x\":[32,64,96,128],\"y\":[46.47443181818182,66.78267045454545,66.13352272727273,66.3174715909091],\"type\":\"scatter\"}],                        {\"template\":{\"data\":{\"histogram2dcontour\":[{\"type\":\"histogram2dcontour\",\"colorbar\":{\"outlinewidth\":0,\"ticks\":\"\"},\"colorscale\":[[0.0,\"#0d0887\"],[0.1111111111111111,\"#46039f\"],[0.2222222222222222,\"#7201a8\"],[0.3333333333333333,\"#9c179e\"],[0.4444444444444444,\"#bd3786\"],[0.5555555555555556,\"#d8576b\"],[0.6666666666666666,\"#ed7953\"],[0.7777777777777778,\"#fb9f3a\"],[0.8888888888888888,\"#fdca26\"],[1.0,\"#f0f921\"]]}],\"choropleth\":[{\"type\":\"choropleth\",\"colorbar\":{\"outlinewidth\":0,\"ticks\":\"\"}}],\"histogram2d\":[{\"type\":\"histogram2d\",\"colorbar\":{\"outlinewidth\":0,\"ticks\":\"\"},\"colorscale\":[[0.0,\"#0d0887\"],[0.1111111111111111,\"#46039f\"],[0.2222222222222222,\"#7201a8\"],[0.3333333333333333,\"#9c179e\"],[0.4444444444444444,\"#bd3786\"],[0.5555555555555556,\"#d8576b\"],[0.6666666666666666,\"#ed7953\"],[0.7777777777777778,\"#fb9f3a\"],[0.8888888888888888,\"#fdca26\"],[1.0,\"#f0f921\"]]}],\"heatmap\":[{\"type\":\"heatmap\",\"colorbar\":{\"outlinewidth\":0,\"ticks\":\"\"},\"colorscale\":[[0.0,\"#0d0887\"],[0.1111111111111111,\"#46039f\"],[0.2222222222222222,\"#7201a8\"],[0.3333333333333333,\"#9c179e\"],[0.4444444444444444,\"#bd3786\"],[0.5555555555555556,\"#d8576b\"],[0.6666666666666666,\"#ed7953\"],[0.7777777777777778,\"#fb9f3a\"],[0.8888888888888888,\"#fdca26\"],[1.0,\"#f0f921\"]]}],\"heatmapgl\":[{\"type\":\"heatmapgl\",\"colorbar\":{\"outlinewidth\":0,\"ticks\":\"\"},\"colorscale\":[[0.0,\"#0d0887\"],[0.1111111111111111,\"#46039f\"],[0.2222222222222222,\"#7201a8\"],[0.3333333333333333,\"#9c179e\"],[0.4444444444444444,\"#bd3786\"],[0.5555555555555556,\"#d8576b\"],[0.6666666666666666,\"#ed7953\"],[0.7777777777777778,\"#fb9f3a\"],[0.8888888888888888,\"#fdca26\"],[1.0,\"#f0f921\"]]}],\"contourcarpet\":[{\"type\":\"contourcarpet\",\"colorbar\":{\"outlinewidth\":0,\"ticks\":\"\"}}],\"contour\":[{\"type\":\"contour\",\"colorbar\":{\"outlinewidth\":0,\"ticks\":\"\"},\"colorscale\":[[0.0,\"#0d0887\"],[0.1111111111111111,\"#46039f\"],[0.2222222222222222,\"#7201a8\"],[0.3333333333333333,\"#9c179e\"],[0.4444444444444444,\"#bd3786\"],[0.5555555555555556,\"#d8576b\"],[0.6666666666666666,\"#ed7953\"],[0.7777777777777778,\"#fb9f3a\"],[0.8888888888888888,\"#fdca26\"],[1.0,\"#f0f921\"]]}],\"surface\":[{\"type\":\"surface\",\"colorbar\":{\"outlinewidth\":0,\"ticks\":\"\"},\"colorscale\":[[0.0,\"#0d0887\"],[0.1111111111111111,\"#46039f\"],[0.2222222222222222,\"#7201a8\"],[0.3333333333333333,\"#9c179e\"],[0.4444444444444444,\"#bd3786\"],[0.5555555555555556,\"#d8576b\"],[0.6666666666666666,\"#ed7953\"],[0.7777777777777778,\"#fb9f3a\"],[0.8888888888888888,\"#fdca26\"],[1.0,\"#f0f921\"]]}],\"mesh3d\":[{\"type\":\"mesh3d\",\"colorbar\":{\"outlinewidth\":0,\"ticks\":\"\"}}],\"scatter\":[{\"fillpattern\":{\"fillmode\":\"overlay\",\"size\":10,\"solidity\":0.2},\"type\":\"scatter\"}],\"parcoords\":[{\"type\":\"parcoords\",\"line\":{\"colorbar\":{\"outlinewidth\":0,\"ticks\":\"\"}}}],\"scatterpolargl\":[{\"type\":\"scatterpolargl\",\"marker\":{\"colorbar\":{\"outlinewidth\":0,\"ticks\":\"\"}}}],\"bar\":[{\"error_x\":{\"color\":\"#2a3f5f\"},\"error_y\":{\"color\":\"#2a3f5f\"},\"marker\":{\"line\":{\"color\":\"#E5ECF6\",\"width\":0.5},\"pattern\":{\"fillmode\":\"overlay\",\"size\":10,\"solidity\":0.2}},\"type\":\"bar\"}],\"scattergeo\":[{\"type\":\"scattergeo\",\"marker\":{\"colorbar\":{\"outlinewidth\":0,\"ticks\":\"\"}}}],\"scatterpolar\":[{\"type\":\"scatterpolar\",\"marker\":{\"colorbar\":{\"outlinewidth\":0,\"ticks\":\"\"}}}],\"histogram\":[{\"marker\":{\"pattern\":{\"fillmode\":\"overlay\",\"size\":10,\"solidity\":0.2}},\"type\":\"histogram\"}],\"scattergl\":[{\"type\":\"scattergl\",\"marker\":{\"colorbar\":{\"outlinewidth\":0,\"ticks\":\"\"}}}],\"scatter3d\":[{\"type\":\"scatter3d\",\"line\":{\"colorbar\":{\"outlinewidth\":0,\"ticks\":\"\"}},\"marker\":{\"colorbar\":{\"outlinewidth\":0,\"ticks\":\"\"}}}],\"scattermapbox\":[{\"type\":\"scattermapbox\",\"marker\":{\"colorbar\":{\"outlinewidth\":0,\"ticks\":\"\"}}}],\"scatterternary\":[{\"type\":\"scatterternary\",\"marker\":{\"colorbar\":{\"outlinewidth\":0,\"ticks\":\"\"}}}],\"scattercarpet\":[{\"type\":\"scattercarpet\",\"marker\":{\"colorbar\":{\"outlinewidth\":0,\"ticks\":\"\"}}}],\"carpet\":[{\"aaxis\":{\"endlinecolor\":\"#2a3f5f\",\"gridcolor\":\"white\",\"linecolor\":\"white\",\"minorgridcolor\":\"white\",\"startlinecolor\":\"#2a3f5f\"},\"baxis\":{\"endlinecolor\":\"#2a3f5f\",\"gridcolor\":\"white\",\"linecolor\":\"white\",\"minorgridcolor\":\"white\",\"startlinecolor\":\"#2a3f5f\"},\"type\":\"carpet\"}],\"table\":[{\"cells\":{\"fill\":{\"color\":\"#EBF0F8\"},\"line\":{\"color\":\"white\"}},\"header\":{\"fill\":{\"color\":\"#C8D4E3\"},\"line\":{\"color\":\"white\"}},\"type\":\"table\"}],\"barpolar\":[{\"marker\":{\"line\":{\"color\":\"#E5ECF6\",\"width\":0.5},\"pattern\":{\"fillmode\":\"overlay\",\"size\":10,\"solidity\":0.2}},\"type\":\"barpolar\"}],\"pie\":[{\"automargin\":true,\"type\":\"pie\"}]},\"layout\":{\"autotypenumbers\":\"strict\",\"colorway\":[\"#636efa\",\"#EF553B\",\"#00cc96\",\"#ab63fa\",\"#FFA15A\",\"#19d3f3\",\"#FF6692\",\"#B6E880\",\"#FF97FF\",\"#FECB52\"],\"font\":{\"color\":\"#2a3f5f\"},\"hovermode\":\"closest\",\"hoverlabel\":{\"align\":\"left\"},\"paper_bgcolor\":\"white\",\"plot_bgcolor\":\"#E5ECF6\",\"polar\":{\"bgcolor\":\"#E5ECF6\",\"angularaxis\":{\"gridcolor\":\"white\",\"linecolor\":\"white\",\"ticks\":\"\"},\"radialaxis\":{\"gridcolor\":\"white\",\"linecolor\":\"white\",\"ticks\":\"\"}},\"ternary\":{\"bgcolor\":\"#E5ECF6\",\"aaxis\":{\"gridcolor\":\"white\",\"linecolor\":\"white\",\"ticks\":\"\"},\"baxis\":{\"gridcolor\":\"white\",\"linecolor\":\"white\",\"ticks\":\"\"},\"caxis\":{\"gridcolor\":\"white\",\"linecolor\":\"white\",\"ticks\":\"\"}},\"coloraxis\":{\"colorbar\":{\"outlinewidth\":0,\"ticks\":\"\"}},\"colorscale\":{\"sequential\":[[0.0,\"#0d0887\"],[0.1111111111111111,\"#46039f\"],[0.2222222222222222,\"#7201a8\"],[0.3333333333333333,\"#9c179e\"],[0.4444444444444444,\"#bd3786\"],[0.5555555555555556,\"#d8576b\"],[0.6666666666666666,\"#ed7953\"],[0.7777777777777778,\"#fb9f3a\"],[0.8888888888888888,\"#fdca26\"],[1.0,\"#f0f921\"]],\"sequentialminus\":[[0.0,\"#0d0887\"],[0.1111111111111111,\"#46039f\"],[0.2222222222222222,\"#7201a8\"],[0.3333333333333333,\"#9c179e\"],[0.4444444444444444,\"#bd3786\"],[0.5555555555555556,\"#d8576b\"],[0.6666666666666666,\"#ed7953\"],[0.7777777777777778,\"#fb9f3a\"],[0.8888888888888888,\"#fdca26\"],[1.0,\"#f0f921\"]],\"diverging\":[[0,\"#8e0152\"],[0.1,\"#c51b7d\"],[0.2,\"#de77ae\"],[0.3,\"#f1b6da\"],[0.4,\"#fde0ef\"],[0.5,\"#f7f7f7\"],[0.6,\"#e6f5d0\"],[0.7,\"#b8e186\"],[0.8,\"#7fbc41\"],[0.9,\"#4d9221\"],[1,\"#276419\"]]},\"xaxis\":{\"gridcolor\":\"white\",\"linecolor\":\"white\",\"ticks\":\"\",\"title\":{\"standoff\":15},\"zerolinecolor\":\"white\",\"automargin\":true,\"zerolinewidth\":2},\"yaxis\":{\"gridcolor\":\"white\",\"linecolor\":\"white\",\"ticks\":\"\",\"title\":{\"standoff\":15},\"zerolinecolor\":\"white\",\"automargin\":true,\"zerolinewidth\":2},\"scene\":{\"xaxis\":{\"backgroundcolor\":\"#E5ECF6\",\"gridcolor\":\"white\",\"linecolor\":\"white\",\"showbackground\":true,\"ticks\":\"\",\"zerolinecolor\":\"white\",\"gridwidth\":2},\"yaxis\":{\"backgroundcolor\":\"#E5ECF6\",\"gridcolor\":\"white\",\"linecolor\":\"white\",\"showbackground\":true,\"ticks\":\"\",\"zerolinecolor\":\"white\",\"gridwidth\":2},\"zaxis\":{\"backgroundcolor\":\"#E5ECF6\",\"gridcolor\":\"white\",\"linecolor\":\"white\",\"showbackground\":true,\"ticks\":\"\",\"zerolinecolor\":\"white\",\"gridwidth\":2}},\"shapedefaults\":{\"line\":{\"color\":\"#2a3f5f\"}},\"annotationdefaults\":{\"arrowcolor\":\"#2a3f5f\",\"arrowhead\":0,\"arrowwidth\":1},\"geo\":{\"bgcolor\":\"white\",\"landcolor\":\"#E5ECF6\",\"subunitcolor\":\"white\",\"showland\":true,\"showlakes\":true,\"lakecolor\":\"white\"},\"title\":{\"x\":0.05},\"mapbox\":{\"style\":\"light\"}}},\"legend\":{\"orientation\":\"h\",\"yanchor\":\"bottom\",\"y\":1.02,\"xanchor\":\"center\",\"x\":0.47},\"margin\":{\"b\":1,\"l\":1,\"r\":1,\"autoexpand\":true},\"font\":{\"size\":16},\"title\":{\"text\":\"SeBS: Minimum Spanning Tree, runtimes (ms)\",\"x\":0.5,\"xanchor\":\"center\"},\"xaxis\":{\"title\":{\"text\":\"Concurrent calls\"},\"tickmode\":\"array\",\"tickvals\":[32,64,96,128]},\"yaxis\":{\"title\":{\"text\":\"Runtime (ms)\"}},\"plot_bgcolor\":\"rgba(245,245,255,255)\"},                        {\"responsive\": true}                    ).then(function(){\n",
       "                            \n",
       "var gd = document.getElementById('d9707d55-90c2-4472-b776-451f28e8ae1e');\n",
       "var x = new MutationObserver(function (mutations, observer) {{\n",
       "        var display = window.getComputedStyle(gd).display;\n",
       "        if (!display || display === 'none') {{\n",
       "            console.log([gd, 'removed!']);\n",
       "            Plotly.purge(gd);\n",
       "            observer.disconnect();\n",
       "        }}\n",
       "}});\n",
       "\n",
       "// Listen for the removal of the full notebook cells\n",
       "var notebookContainer = gd.closest('#notebook-container');\n",
       "if (notebookContainer) {{\n",
       "    x.observe(notebookContainer, {childList: true});\n",
       "}}\n",
       "\n",
       "// Listen for the clearing of the current output cell\n",
       "var outputEl = gd.closest('.output');\n",
       "if (outputEl) {{\n",
       "    x.observe(outputEl, {childList: true});\n",
       "}}\n",
       "\n",
       "                        })                };                });            </script>        </div>"
      ]
     },
     "metadata": {},
     "output_type": "display_data"
    }
   ],
   "source": [
    "fig = create_figure('SeBS: Minimum Spanning Tree, runtimes (ms)', 'Concurrent calls', 'Runtime (ms)', concurrent_calls)\n",
    "\n",
    "for i, k in enumerate(clusters):\n",
    "    fig.add_trace(\n",
    "        go.Scatter(\n",
    "            x = concurrent_calls,\n",
    "            y = [sebs_df[k]['mst'][c]['runtime'].mean() for c in concurrent_calls],\n",
    "            error_y=dict(\n",
    "                type='data',\n",
    "                symmetric=True,\n",
    "                array=[sebs_df[k]['mst'][c]['runtime'].sem() for c in concurrent_calls]\n",
    "            ),\n",
    "            name = k,\n",
    "            marker_color=colorPallet[i]\n",
    "        )\n",
    "    )\n",
    "\n",
    "fig.show()\n",
    "\n",
    "# Save graph\n",
    "write_image(fig, 'sebs_mst_runtime_scatter.png')"
   ]
  },
  {
   "cell_type": "code",
   "execution_count": 41,
   "id": "56cce1f1-2d83-4d42-917a-bcc4a62c9a7b",
   "metadata": {},
   "outputs": [
    {
     "data": {
      "application/vnd.plotly.v1+json": {
       "config": {
        "plotlyServerURL": "https://plot.ly"
       },
       "data": [
        {
         "error_y": {
          "array": [
           2.726868882076327,
           1.947967137477886,
           1.5113999539231964,
           1.2815479216123673
          ],
          "symmetric": true,
          "type": "data"
         },
         "marker": {
          "color": "rgba(151, 209, 233, 255)"
         },
         "name": "kOps 1x 72vCPU 144Gb x86_64",
         "type": "scatter",
         "x": [
          32,
          64,
          96,
          128
         ],
         "y": [
          190.61079545454547,
          195.9659090909091,
          198.04166666666666,
          198.23508522727272
         ]
        },
        {
         "error_y": {
          "array": [
           2.325594323936425,
           1.6325760528269204,
           1.2774528191245194,
           1.1215225714302222
          ],
          "symmetric": true,
          "type": "data"
         },
         "marker": {
          "color": "rgba(0, 120, 179, 255)"
         },
         "name": "kOps 8x 8vCPU 16Gb x86_64",
         "type": "scatter",
         "x": [
          32,
          64,
          96,
          128
         ],
         "y": [
          81.95454545454545,
          112.66335227272727,
          120.43276515151516,
          125.37428977272727
         ]
        },
        {
         "error_y": {
          "array": [
           2.0512612133418733,
           1.5777021369811908,
           1.3390979902253182,
           1.0782631179074826
          ],
          "symmetric": true,
          "type": "data"
         },
         "marker": {
          "color": "rgba(179, 223, 146, 255)"
         },
         "name": "kOps 16x 4vCPU 8Gb x86_64",
         "type": "scatter",
         "x": [
          32,
          64,
          96,
          128
         ],
         "y": [
          73.76988636363636,
          84.390625,
          142.703125,
          142.80390625
         ]
        },
        {
         "error_y": {
          "array": [
           2.4145438820825498,
           1.5909711200276,
           1.3431916808153976,
           1.167392948709584
          ],
          "symmetric": true,
          "type": "data"
         },
         "marker": {
          "color": "rgba(49, 169, 90, 255)"
         },
         "name": "EKS 8x 8vCPU 16Gb x86_64",
         "type": "scatter",
         "x": [
          32,
          64,
          96,
          128
         ],
         "y": [
          84.76704545454545,
          116.66051136363636,
          122.10700757575758,
          124.60795454545455
         ]
        }
       ],
       "layout": {
        "autosize": true,
        "font": {
         "size": 16
        },
        "legend": {
         "orientation": "h",
         "x": 0.47,
         "xanchor": "center",
         "y": 1.02,
         "yanchor": "bottom"
        },
        "margin": {
         "autoexpand": true,
         "b": 1,
         "l": 1,
         "r": 1
        },
        "plot_bgcolor": "rgba(245,245,255,255)",
        "template": {
         "data": {
          "bar": [
           {
            "error_x": {
             "color": "#2a3f5f"
            },
            "error_y": {
             "color": "#2a3f5f"
            },
            "marker": {
             "line": {
              "color": "#E5ECF6",
              "width": 0.5
             },
             "pattern": {
              "fillmode": "overlay",
              "size": 10,
              "solidity": 0.2
             }
            },
            "type": "bar"
           }
          ],
          "barpolar": [
           {
            "marker": {
             "line": {
              "color": "#E5ECF6",
              "width": 0.5
             },
             "pattern": {
              "fillmode": "overlay",
              "size": 10,
              "solidity": 0.2
             }
            },
            "type": "barpolar"
           }
          ],
          "carpet": [
           {
            "aaxis": {
             "endlinecolor": "#2a3f5f",
             "gridcolor": "white",
             "linecolor": "white",
             "minorgridcolor": "white",
             "startlinecolor": "#2a3f5f"
            },
            "baxis": {
             "endlinecolor": "#2a3f5f",
             "gridcolor": "white",
             "linecolor": "white",
             "minorgridcolor": "white",
             "startlinecolor": "#2a3f5f"
            },
            "type": "carpet"
           }
          ],
          "choropleth": [
           {
            "colorbar": {
             "outlinewidth": 0,
             "ticks": ""
            },
            "type": "choropleth"
           }
          ],
          "contour": [
           {
            "colorbar": {
             "outlinewidth": 0,
             "ticks": ""
            },
            "colorscale": [
             [
              0,
              "#0d0887"
             ],
             [
              0.1111111111111111,
              "#46039f"
             ],
             [
              0.2222222222222222,
              "#7201a8"
             ],
             [
              0.3333333333333333,
              "#9c179e"
             ],
             [
              0.4444444444444444,
              "#bd3786"
             ],
             [
              0.5555555555555556,
              "#d8576b"
             ],
             [
              0.6666666666666666,
              "#ed7953"
             ],
             [
              0.7777777777777778,
              "#fb9f3a"
             ],
             [
              0.8888888888888888,
              "#fdca26"
             ],
             [
              1,
              "#f0f921"
             ]
            ],
            "type": "contour"
           }
          ],
          "contourcarpet": [
           {
            "colorbar": {
             "outlinewidth": 0,
             "ticks": ""
            },
            "type": "contourcarpet"
           }
          ],
          "heatmap": [
           {
            "colorbar": {
             "outlinewidth": 0,
             "ticks": ""
            },
            "colorscale": [
             [
              0,
              "#0d0887"
             ],
             [
              0.1111111111111111,
              "#46039f"
             ],
             [
              0.2222222222222222,
              "#7201a8"
             ],
             [
              0.3333333333333333,
              "#9c179e"
             ],
             [
              0.4444444444444444,
              "#bd3786"
             ],
             [
              0.5555555555555556,
              "#d8576b"
             ],
             [
              0.6666666666666666,
              "#ed7953"
             ],
             [
              0.7777777777777778,
              "#fb9f3a"
             ],
             [
              0.8888888888888888,
              "#fdca26"
             ],
             [
              1,
              "#f0f921"
             ]
            ],
            "type": "heatmap"
           }
          ],
          "heatmapgl": [
           {
            "colorbar": {
             "outlinewidth": 0,
             "ticks": ""
            },
            "colorscale": [
             [
              0,
              "#0d0887"
             ],
             [
              0.1111111111111111,
              "#46039f"
             ],
             [
              0.2222222222222222,
              "#7201a8"
             ],
             [
              0.3333333333333333,
              "#9c179e"
             ],
             [
              0.4444444444444444,
              "#bd3786"
             ],
             [
              0.5555555555555556,
              "#d8576b"
             ],
             [
              0.6666666666666666,
              "#ed7953"
             ],
             [
              0.7777777777777778,
              "#fb9f3a"
             ],
             [
              0.8888888888888888,
              "#fdca26"
             ],
             [
              1,
              "#f0f921"
             ]
            ],
            "type": "heatmapgl"
           }
          ],
          "histogram": [
           {
            "marker": {
             "pattern": {
              "fillmode": "overlay",
              "size": 10,
              "solidity": 0.2
             }
            },
            "type": "histogram"
           }
          ],
          "histogram2d": [
           {
            "colorbar": {
             "outlinewidth": 0,
             "ticks": ""
            },
            "colorscale": [
             [
              0,
              "#0d0887"
             ],
             [
              0.1111111111111111,
              "#46039f"
             ],
             [
              0.2222222222222222,
              "#7201a8"
             ],
             [
              0.3333333333333333,
              "#9c179e"
             ],
             [
              0.4444444444444444,
              "#bd3786"
             ],
             [
              0.5555555555555556,
              "#d8576b"
             ],
             [
              0.6666666666666666,
              "#ed7953"
             ],
             [
              0.7777777777777778,
              "#fb9f3a"
             ],
             [
              0.8888888888888888,
              "#fdca26"
             ],
             [
              1,
              "#f0f921"
             ]
            ],
            "type": "histogram2d"
           }
          ],
          "histogram2dcontour": [
           {
            "colorbar": {
             "outlinewidth": 0,
             "ticks": ""
            },
            "colorscale": [
             [
              0,
              "#0d0887"
             ],
             [
              0.1111111111111111,
              "#46039f"
             ],
             [
              0.2222222222222222,
              "#7201a8"
             ],
             [
              0.3333333333333333,
              "#9c179e"
             ],
             [
              0.4444444444444444,
              "#bd3786"
             ],
             [
              0.5555555555555556,
              "#d8576b"
             ],
             [
              0.6666666666666666,
              "#ed7953"
             ],
             [
              0.7777777777777778,
              "#fb9f3a"
             ],
             [
              0.8888888888888888,
              "#fdca26"
             ],
             [
              1,
              "#f0f921"
             ]
            ],
            "type": "histogram2dcontour"
           }
          ],
          "mesh3d": [
           {
            "colorbar": {
             "outlinewidth": 0,
             "ticks": ""
            },
            "type": "mesh3d"
           }
          ],
          "parcoords": [
           {
            "line": {
             "colorbar": {
              "outlinewidth": 0,
              "ticks": ""
             }
            },
            "type": "parcoords"
           }
          ],
          "pie": [
           {
            "automargin": true,
            "type": "pie"
           }
          ],
          "scatter": [
           {
            "fillpattern": {
             "fillmode": "overlay",
             "size": 10,
             "solidity": 0.2
            },
            "type": "scatter"
           }
          ],
          "scatter3d": [
           {
            "line": {
             "colorbar": {
              "outlinewidth": 0,
              "ticks": ""
             }
            },
            "marker": {
             "colorbar": {
              "outlinewidth": 0,
              "ticks": ""
             }
            },
            "type": "scatter3d"
           }
          ],
          "scattercarpet": [
           {
            "marker": {
             "colorbar": {
              "outlinewidth": 0,
              "ticks": ""
             }
            },
            "type": "scattercarpet"
           }
          ],
          "scattergeo": [
           {
            "marker": {
             "colorbar": {
              "outlinewidth": 0,
              "ticks": ""
             }
            },
            "type": "scattergeo"
           }
          ],
          "scattergl": [
           {
            "marker": {
             "colorbar": {
              "outlinewidth": 0,
              "ticks": ""
             }
            },
            "type": "scattergl"
           }
          ],
          "scattermapbox": [
           {
            "marker": {
             "colorbar": {
              "outlinewidth": 0,
              "ticks": ""
             }
            },
            "type": "scattermapbox"
           }
          ],
          "scatterpolar": [
           {
            "marker": {
             "colorbar": {
              "outlinewidth": 0,
              "ticks": ""
             }
            },
            "type": "scatterpolar"
           }
          ],
          "scatterpolargl": [
           {
            "marker": {
             "colorbar": {
              "outlinewidth": 0,
              "ticks": ""
             }
            },
            "type": "scatterpolargl"
           }
          ],
          "scatterternary": [
           {
            "marker": {
             "colorbar": {
              "outlinewidth": 0,
              "ticks": ""
             }
            },
            "type": "scatterternary"
           }
          ],
          "surface": [
           {
            "colorbar": {
             "outlinewidth": 0,
             "ticks": ""
            },
            "colorscale": [
             [
              0,
              "#0d0887"
             ],
             [
              0.1111111111111111,
              "#46039f"
             ],
             [
              0.2222222222222222,
              "#7201a8"
             ],
             [
              0.3333333333333333,
              "#9c179e"
             ],
             [
              0.4444444444444444,
              "#bd3786"
             ],
             [
              0.5555555555555556,
              "#d8576b"
             ],
             [
              0.6666666666666666,
              "#ed7953"
             ],
             [
              0.7777777777777778,
              "#fb9f3a"
             ],
             [
              0.8888888888888888,
              "#fdca26"
             ],
             [
              1,
              "#f0f921"
             ]
            ],
            "type": "surface"
           }
          ],
          "table": [
           {
            "cells": {
             "fill": {
              "color": "#EBF0F8"
             },
             "line": {
              "color": "white"
             }
            },
            "header": {
             "fill": {
              "color": "#C8D4E3"
             },
             "line": {
              "color": "white"
             }
            },
            "type": "table"
           }
          ]
         },
         "layout": {
          "annotationdefaults": {
           "arrowcolor": "#2a3f5f",
           "arrowhead": 0,
           "arrowwidth": 1
          },
          "autotypenumbers": "strict",
          "coloraxis": {
           "colorbar": {
            "outlinewidth": 0,
            "ticks": ""
           }
          },
          "colorscale": {
           "diverging": [
            [
             0,
             "#8e0152"
            ],
            [
             0.1,
             "#c51b7d"
            ],
            [
             0.2,
             "#de77ae"
            ],
            [
             0.3,
             "#f1b6da"
            ],
            [
             0.4,
             "#fde0ef"
            ],
            [
             0.5,
             "#f7f7f7"
            ],
            [
             0.6,
             "#e6f5d0"
            ],
            [
             0.7,
             "#b8e186"
            ],
            [
             0.8,
             "#7fbc41"
            ],
            [
             0.9,
             "#4d9221"
            ],
            [
             1,
             "#276419"
            ]
           ],
           "sequential": [
            [
             0,
             "#0d0887"
            ],
            [
             0.1111111111111111,
             "#46039f"
            ],
            [
             0.2222222222222222,
             "#7201a8"
            ],
            [
             0.3333333333333333,
             "#9c179e"
            ],
            [
             0.4444444444444444,
             "#bd3786"
            ],
            [
             0.5555555555555556,
             "#d8576b"
            ],
            [
             0.6666666666666666,
             "#ed7953"
            ],
            [
             0.7777777777777778,
             "#fb9f3a"
            ],
            [
             0.8888888888888888,
             "#fdca26"
            ],
            [
             1,
             "#f0f921"
            ]
           ],
           "sequentialminus": [
            [
             0,
             "#0d0887"
            ],
            [
             0.1111111111111111,
             "#46039f"
            ],
            [
             0.2222222222222222,
             "#7201a8"
            ],
            [
             0.3333333333333333,
             "#9c179e"
            ],
            [
             0.4444444444444444,
             "#bd3786"
            ],
            [
             0.5555555555555556,
             "#d8576b"
            ],
            [
             0.6666666666666666,
             "#ed7953"
            ],
            [
             0.7777777777777778,
             "#fb9f3a"
            ],
            [
             0.8888888888888888,
             "#fdca26"
            ],
            [
             1,
             "#f0f921"
            ]
           ]
          },
          "colorway": [
           "#636efa",
           "#EF553B",
           "#00cc96",
           "#ab63fa",
           "#FFA15A",
           "#19d3f3",
           "#FF6692",
           "#B6E880",
           "#FF97FF",
           "#FECB52"
          ],
          "font": {
           "color": "#2a3f5f"
          },
          "geo": {
           "bgcolor": "white",
           "lakecolor": "white",
           "landcolor": "#E5ECF6",
           "showlakes": true,
           "showland": true,
           "subunitcolor": "white"
          },
          "hoverlabel": {
           "align": "left"
          },
          "hovermode": "closest",
          "mapbox": {
           "style": "light"
          },
          "paper_bgcolor": "white",
          "plot_bgcolor": "#E5ECF6",
          "polar": {
           "angularaxis": {
            "gridcolor": "white",
            "linecolor": "white",
            "ticks": ""
           },
           "bgcolor": "#E5ECF6",
           "radialaxis": {
            "gridcolor": "white",
            "linecolor": "white",
            "ticks": ""
           }
          },
          "scene": {
           "xaxis": {
            "backgroundcolor": "#E5ECF6",
            "gridcolor": "white",
            "gridwidth": 2,
            "linecolor": "white",
            "showbackground": true,
            "ticks": "",
            "zerolinecolor": "white"
           },
           "yaxis": {
            "backgroundcolor": "#E5ECF6",
            "gridcolor": "white",
            "gridwidth": 2,
            "linecolor": "white",
            "showbackground": true,
            "ticks": "",
            "zerolinecolor": "white"
           },
           "zaxis": {
            "backgroundcolor": "#E5ECF6",
            "gridcolor": "white",
            "gridwidth": 2,
            "linecolor": "white",
            "showbackground": true,
            "ticks": "",
            "zerolinecolor": "white"
           }
          },
          "shapedefaults": {
           "line": {
            "color": "#2a3f5f"
           }
          },
          "ternary": {
           "aaxis": {
            "gridcolor": "white",
            "linecolor": "white",
            "ticks": ""
           },
           "baxis": {
            "gridcolor": "white",
            "linecolor": "white",
            "ticks": ""
           },
           "bgcolor": "#E5ECF6",
           "caxis": {
            "gridcolor": "white",
            "linecolor": "white",
            "ticks": ""
           }
          },
          "title": {
           "x": 0.05
          },
          "xaxis": {
           "automargin": true,
           "gridcolor": "white",
           "linecolor": "white",
           "ticks": "",
           "title": {
            "standoff": 15
           },
           "zerolinecolor": "white",
           "zerolinewidth": 2
          },
          "yaxis": {
           "automargin": true,
           "gridcolor": "white",
           "linecolor": "white",
           "ticks": "",
           "title": {
            "standoff": 15
           },
           "zerolinecolor": "white",
           "zerolinewidth": 2
          }
         }
        },
        "title": {
         "text": "SeBS: Pagerank, runtimes (ms)",
         "x": 0.5,
         "xanchor": "center"
        },
        "xaxis": {
         "autorange": true,
         "range": [
          26.262870987280436,
          133.73712901271958
         ],
         "tickmode": "array",
         "tickvals": [
          32,
          64,
          96,
          128
         ],
         "title": {
          "text": "Concurrent calls"
         },
         "type": "linear"
        },
        "yaxis": {
         "autorange": true,
         "range": [
          63.983586120759085,
          208.02138547015
         ],
         "title": {
          "text": "Runtime (ms)"
         },
         "type": "linear"
        }
       }
      },
      "image/png": "[encoded data removed]",
      "text/html": [
       "<div>                            <div id=\"3171b624-4d65-4e41-8248-353118d0d0d3\" class=\"plotly-graph-div\" style=\"height:525px; width:100%;\"></div>            <script type=\"text/javascript\">                require([\"plotly\"], function(Plotly) {                    window.PLOTLYENV=window.PLOTLYENV || {};                                    if (document.getElementById(\"3171b624-4d65-4e41-8248-353118d0d0d3\")) {                    Plotly.newPlot(                        \"3171b624-4d65-4e41-8248-353118d0d0d3\",                        [{\"error_y\":{\"array\":[2.726868882076327,1.947967137477886,1.5113999539231964,1.2815479216123673],\"symmetric\":true,\"type\":\"data\"},\"marker\":{\"color\":\"rgba(151, 209, 233, 255)\"},\"name\":\"kOps 1x 72vCPU 144Gb x86_64\",\"x\":[32,64,96,128],\"y\":[190.61079545454547,195.9659090909091,198.04166666666666,198.23508522727272],\"type\":\"scatter\"},{\"error_y\":{\"array\":[2.325594323936425,1.6325760528269204,1.2774528191245194,1.1215225714302222],\"symmetric\":true,\"type\":\"data\"},\"marker\":{\"color\":\"rgba(0, 120, 179, 255)\"},\"name\":\"kOps 8x 8vCPU 16Gb x86_64\",\"x\":[32,64,96,128],\"y\":[81.95454545454545,112.66335227272727,120.43276515151516,125.37428977272727],\"type\":\"scatter\"},{\"error_y\":{\"array\":[2.0512612133418733,1.5777021369811908,1.3390979902253182,1.0782631179074826],\"symmetric\":true,\"type\":\"data\"},\"marker\":{\"color\":\"rgba(179, 223, 146, 255)\"},\"name\":\"kOps 16x 4vCPU 8Gb x86_64\",\"x\":[32,64,96,128],\"y\":[73.76988636363636,84.390625,142.703125,142.80390625],\"type\":\"scatter\"},{\"error_y\":{\"array\":[2.4145438820825498,1.5909711200276,1.3431916808153976,1.167392948709584],\"symmetric\":true,\"type\":\"data\"},\"marker\":{\"color\":\"rgba(49, 169, 90, 255)\"},\"name\":\"EKS 8x 8vCPU 16Gb x86_64\",\"x\":[32,64,96,128],\"y\":[84.76704545454545,116.66051136363636,122.10700757575758,124.60795454545455],\"type\":\"scatter\"}],                        {\"template\":{\"data\":{\"histogram2dcontour\":[{\"type\":\"histogram2dcontour\",\"colorbar\":{\"outlinewidth\":0,\"ticks\":\"\"},\"colorscale\":[[0.0,\"#0d0887\"],[0.1111111111111111,\"#46039f\"],[0.2222222222222222,\"#7201a8\"],[0.3333333333333333,\"#9c179e\"],[0.4444444444444444,\"#bd3786\"],[0.5555555555555556,\"#d8576b\"],[0.6666666666666666,\"#ed7953\"],[0.7777777777777778,\"#fb9f3a\"],[0.8888888888888888,\"#fdca26\"],[1.0,\"#f0f921\"]]}],\"choropleth\":[{\"type\":\"choropleth\",\"colorbar\":{\"outlinewidth\":0,\"ticks\":\"\"}}],\"histogram2d\":[{\"type\":\"histogram2d\",\"colorbar\":{\"outlinewidth\":0,\"ticks\":\"\"},\"colorscale\":[[0.0,\"#0d0887\"],[0.1111111111111111,\"#46039f\"],[0.2222222222222222,\"#7201a8\"],[0.3333333333333333,\"#9c179e\"],[0.4444444444444444,\"#bd3786\"],[0.5555555555555556,\"#d8576b\"],[0.6666666666666666,\"#ed7953\"],[0.7777777777777778,\"#fb9f3a\"],[0.8888888888888888,\"#fdca26\"],[1.0,\"#f0f921\"]]}],\"heatmap\":[{\"type\":\"heatmap\",\"colorbar\":{\"outlinewidth\":0,\"ticks\":\"\"},\"colorscale\":[[0.0,\"#0d0887\"],[0.1111111111111111,\"#46039f\"],[0.2222222222222222,\"#7201a8\"],[0.3333333333333333,\"#9c179e\"],[0.4444444444444444,\"#bd3786\"],[0.5555555555555556,\"#d8576b\"],[0.6666666666666666,\"#ed7953\"],[0.7777777777777778,\"#fb9f3a\"],[0.8888888888888888,\"#fdca26\"],[1.0,\"#f0f921\"]]}],\"heatmapgl\":[{\"type\":\"heatmapgl\",\"colorbar\":{\"outlinewidth\":0,\"ticks\":\"\"},\"colorscale\":[[0.0,\"#0d0887\"],[0.1111111111111111,\"#46039f\"],[0.2222222222222222,\"#7201a8\"],[0.3333333333333333,\"#9c179e\"],[0.4444444444444444,\"#bd3786\"],[0.5555555555555556,\"#d8576b\"],[0.6666666666666666,\"#ed7953\"],[0.7777777777777778,\"#fb9f3a\"],[0.8888888888888888,\"#fdca26\"],[1.0,\"#f0f921\"]]}],\"contourcarpet\":[{\"type\":\"contourcarpet\",\"colorbar\":{\"outlinewidth\":0,\"ticks\":\"\"}}],\"contour\":[{\"type\":\"contour\",\"colorbar\":{\"outlinewidth\":0,\"ticks\":\"\"},\"colorscale\":[[0.0,\"#0d0887\"],[0.1111111111111111,\"#46039f\"],[0.2222222222222222,\"#7201a8\"],[0.3333333333333333,\"#9c179e\"],[0.4444444444444444,\"#bd3786\"],[0.5555555555555556,\"#d8576b\"],[0.6666666666666666,\"#ed7953\"],[0.7777777777777778,\"#fb9f3a\"],[0.8888888888888888,\"#fdca26\"],[1.0,\"#f0f921\"]]}],\"surface\":[{\"type\":\"surface\",\"colorbar\":{\"outlinewidth\":0,\"ticks\":\"\"},\"colorscale\":[[0.0,\"#0d0887\"],[0.1111111111111111,\"#46039f\"],[0.2222222222222222,\"#7201a8\"],[0.3333333333333333,\"#9c179e\"],[0.4444444444444444,\"#bd3786\"],[0.5555555555555556,\"#d8576b\"],[0.6666666666666666,\"#ed7953\"],[0.7777777777777778,\"#fb9f3a\"],[0.8888888888888888,\"#fdca26\"],[1.0,\"#f0f921\"]]}],\"mesh3d\":[{\"type\":\"mesh3d\",\"colorbar\":{\"outlinewidth\":0,\"ticks\":\"\"}}],\"scatter\":[{\"fillpattern\":{\"fillmode\":\"overlay\",\"size\":10,\"solidity\":0.2},\"type\":\"scatter\"}],\"parcoords\":[{\"type\":\"parcoords\",\"line\":{\"colorbar\":{\"outlinewidth\":0,\"ticks\":\"\"}}}],\"scatterpolargl\":[{\"type\":\"scatterpolargl\",\"marker\":{\"colorbar\":{\"outlinewidth\":0,\"ticks\":\"\"}}}],\"bar\":[{\"error_x\":{\"color\":\"#2a3f5f\"},\"error_y\":{\"color\":\"#2a3f5f\"},\"marker\":{\"line\":{\"color\":\"#E5ECF6\",\"width\":0.5},\"pattern\":{\"fillmode\":\"overlay\",\"size\":10,\"solidity\":0.2}},\"type\":\"bar\"}],\"scattergeo\":[{\"type\":\"scattergeo\",\"marker\":{\"colorbar\":{\"outlinewidth\":0,\"ticks\":\"\"}}}],\"scatterpolar\":[{\"type\":\"scatterpolar\",\"marker\":{\"colorbar\":{\"outlinewidth\":0,\"ticks\":\"\"}}}],\"histogram\":[{\"marker\":{\"pattern\":{\"fillmode\":\"overlay\",\"size\":10,\"solidity\":0.2}},\"type\":\"histogram\"}],\"scattergl\":[{\"type\":\"scattergl\",\"marker\":{\"colorbar\":{\"outlinewidth\":0,\"ticks\":\"\"}}}],\"scatter3d\":[{\"type\":\"scatter3d\",\"line\":{\"colorbar\":{\"outlinewidth\":0,\"ticks\":\"\"}},\"marker\":{\"colorbar\":{\"outlinewidth\":0,\"ticks\":\"\"}}}],\"scattermapbox\":[{\"type\":\"scattermapbox\",\"marker\":{\"colorbar\":{\"outlinewidth\":0,\"ticks\":\"\"}}}],\"scatterternary\":[{\"type\":\"scatterternary\",\"marker\":{\"colorbar\":{\"outlinewidth\":0,\"ticks\":\"\"}}}],\"scattercarpet\":[{\"type\":\"scattercarpet\",\"marker\":{\"colorbar\":{\"outlinewidth\":0,\"ticks\":\"\"}}}],\"carpet\":[{\"aaxis\":{\"endlinecolor\":\"#2a3f5f\",\"gridcolor\":\"white\",\"linecolor\":\"white\",\"minorgridcolor\":\"white\",\"startlinecolor\":\"#2a3f5f\"},\"baxis\":{\"endlinecolor\":\"#2a3f5f\",\"gridcolor\":\"white\",\"linecolor\":\"white\",\"minorgridcolor\":\"white\",\"startlinecolor\":\"#2a3f5f\"},\"type\":\"carpet\"}],\"table\":[{\"cells\":{\"fill\":{\"color\":\"#EBF0F8\"},\"line\":{\"color\":\"white\"}},\"header\":{\"fill\":{\"color\":\"#C8D4E3\"},\"line\":{\"color\":\"white\"}},\"type\":\"table\"}],\"barpolar\":[{\"marker\":{\"line\":{\"color\":\"#E5ECF6\",\"width\":0.5},\"pattern\":{\"fillmode\":\"overlay\",\"size\":10,\"solidity\":0.2}},\"type\":\"barpolar\"}],\"pie\":[{\"automargin\":true,\"type\":\"pie\"}]},\"layout\":{\"autotypenumbers\":\"strict\",\"colorway\":[\"#636efa\",\"#EF553B\",\"#00cc96\",\"#ab63fa\",\"#FFA15A\",\"#19d3f3\",\"#FF6692\",\"#B6E880\",\"#FF97FF\",\"#FECB52\"],\"font\":{\"color\":\"#2a3f5f\"},\"hovermode\":\"closest\",\"hoverlabel\":{\"align\":\"left\"},\"paper_bgcolor\":\"white\",\"plot_bgcolor\":\"#E5ECF6\",\"polar\":{\"bgcolor\":\"#E5ECF6\",\"angularaxis\":{\"gridcolor\":\"white\",\"linecolor\":\"white\",\"ticks\":\"\"},\"radialaxis\":{\"gridcolor\":\"white\",\"linecolor\":\"white\",\"ticks\":\"\"}},\"ternary\":{\"bgcolor\":\"#E5ECF6\",\"aaxis\":{\"gridcolor\":\"white\",\"linecolor\":\"white\",\"ticks\":\"\"},\"baxis\":{\"gridcolor\":\"white\",\"linecolor\":\"white\",\"ticks\":\"\"},\"caxis\":{\"gridcolor\":\"white\",\"linecolor\":\"white\",\"ticks\":\"\"}},\"coloraxis\":{\"colorbar\":{\"outlinewidth\":0,\"ticks\":\"\"}},\"colorscale\":{\"sequential\":[[0.0,\"#0d0887\"],[0.1111111111111111,\"#46039f\"],[0.2222222222222222,\"#7201a8\"],[0.3333333333333333,\"#9c179e\"],[0.4444444444444444,\"#bd3786\"],[0.5555555555555556,\"#d8576b\"],[0.6666666666666666,\"#ed7953\"],[0.7777777777777778,\"#fb9f3a\"],[0.8888888888888888,\"#fdca26\"],[1.0,\"#f0f921\"]],\"sequentialminus\":[[0.0,\"#0d0887\"],[0.1111111111111111,\"#46039f\"],[0.2222222222222222,\"#7201a8\"],[0.3333333333333333,\"#9c179e\"],[0.4444444444444444,\"#bd3786\"],[0.5555555555555556,\"#d8576b\"],[0.6666666666666666,\"#ed7953\"],[0.7777777777777778,\"#fb9f3a\"],[0.8888888888888888,\"#fdca26\"],[1.0,\"#f0f921\"]],\"diverging\":[[0,\"#8e0152\"],[0.1,\"#c51b7d\"],[0.2,\"#de77ae\"],[0.3,\"#f1b6da\"],[0.4,\"#fde0ef\"],[0.5,\"#f7f7f7\"],[0.6,\"#e6f5d0\"],[0.7,\"#b8e186\"],[0.8,\"#7fbc41\"],[0.9,\"#4d9221\"],[1,\"#276419\"]]},\"xaxis\":{\"gridcolor\":\"white\",\"linecolor\":\"white\",\"ticks\":\"\",\"title\":{\"standoff\":15},\"zerolinecolor\":\"white\",\"automargin\":true,\"zerolinewidth\":2},\"yaxis\":{\"gridcolor\":\"white\",\"linecolor\":\"white\",\"ticks\":\"\",\"title\":{\"standoff\":15},\"zerolinecolor\":\"white\",\"automargin\":true,\"zerolinewidth\":2},\"scene\":{\"xaxis\":{\"backgroundcolor\":\"#E5ECF6\",\"gridcolor\":\"white\",\"linecolor\":\"white\",\"showbackground\":true,\"ticks\":\"\",\"zerolinecolor\":\"white\",\"gridwidth\":2},\"yaxis\":{\"backgroundcolor\":\"#E5ECF6\",\"gridcolor\":\"white\",\"linecolor\":\"white\",\"showbackground\":true,\"ticks\":\"\",\"zerolinecolor\":\"white\",\"gridwidth\":2},\"zaxis\":{\"backgroundcolor\":\"#E5ECF6\",\"gridcolor\":\"white\",\"linecolor\":\"white\",\"showbackground\":true,\"ticks\":\"\",\"zerolinecolor\":\"white\",\"gridwidth\":2}},\"shapedefaults\":{\"line\":{\"color\":\"#2a3f5f\"}},\"annotationdefaults\":{\"arrowcolor\":\"#2a3f5f\",\"arrowhead\":0,\"arrowwidth\":1},\"geo\":{\"bgcolor\":\"white\",\"landcolor\":\"#E5ECF6\",\"subunitcolor\":\"white\",\"showland\":true,\"showlakes\":true,\"lakecolor\":\"white\"},\"title\":{\"x\":0.05},\"mapbox\":{\"style\":\"light\"}}},\"legend\":{\"orientation\":\"h\",\"yanchor\":\"bottom\",\"y\":1.02,\"xanchor\":\"center\",\"x\":0.47},\"margin\":{\"b\":1,\"l\":1,\"r\":1,\"autoexpand\":true},\"font\":{\"size\":16},\"title\":{\"text\":\"SeBS: Pagerank, runtimes (ms)\",\"x\":0.5,\"xanchor\":\"center\"},\"xaxis\":{\"title\":{\"text\":\"Concurrent calls\"},\"tickmode\":\"array\",\"tickvals\":[32,64,96,128]},\"yaxis\":{\"title\":{\"text\":\"Runtime (ms)\"}},\"plot_bgcolor\":\"rgba(245,245,255,255)\"},                        {\"responsive\": true}                    ).then(function(){\n",
       "                            \n",
       "var gd = document.getElementById('3171b624-4d65-4e41-8248-353118d0d0d3');\n",
       "var x = new MutationObserver(function (mutations, observer) {{\n",
       "        var display = window.getComputedStyle(gd).display;\n",
       "        if (!display || display === 'none') {{\n",
       "            console.log([gd, 'removed!']);\n",
       "            Plotly.purge(gd);\n",
       "            observer.disconnect();\n",
       "        }}\n",
       "}});\n",
       "\n",
       "// Listen for the removal of the full notebook cells\n",
       "var notebookContainer = gd.closest('#notebook-container');\n",
       "if (notebookContainer) {{\n",
       "    x.observe(notebookContainer, {childList: true});\n",
       "}}\n",
       "\n",
       "// Listen for the clearing of the current output cell\n",
       "var outputEl = gd.closest('.output');\n",
       "if (outputEl) {{\n",
       "    x.observe(outputEl, {childList: true});\n",
       "}}\n",
       "\n",
       "                        })                };                });            </script>        </div>"
      ]
     },
     "metadata": {},
     "output_type": "display_data"
    }
   ],
   "source": [
    "fig = create_figure('SeBS: Pagerank, runtimes (ms)', 'Concurrent calls', 'Runtime (ms)', concurrent_calls)\n",
    "\n",
    "for i, k in enumerate(clusters):\n",
    "    fig.add_trace(\n",
    "        go.Scatter(\n",
    "            x = concurrent_calls,\n",
    "            y = [sebs_df[k]['pagerank'][c]['runtime'].mean() for c in concurrent_calls],\n",
    "            error_y=dict(\n",
    "                type='data',\n",
    "                symmetric=True,\n",
    "                array=[sebs_df[k]['pagerank'][c]['runtime'].sem() for c in concurrent_calls]\n",
    "            ),\n",
    "            name = k,\n",
    "            marker_color=colorPallet[i]\n",
    "        )\n",
    "    )\n",
    "    \n",
    "fig.show()\n",
    "\n",
    "# Save graph\n",
    "write_image(fig, 'sebs_pagerank_runtime_scatter.png')"
   ]
  },
  {
   "cell_type": "code",
   "execution_count": 28,
   "id": "d2f269e9-cbc1-4544-8f66-2f3cd522ac86",
   "metadata": {},
   "outputs": [
    {
     "data": {
      "text/html": [
       "<h3>Standard deviation (ms), cluster <b>kOps 1x 72vCPU 144Gb x86_64</b></h3>"
      ],
      "text/plain": [
       "<IPython.core.display.HTML object>"
      ]
     },
     "metadata": {},
     "output_type": "display_data"
    },
    {
     "data": {
      "text/html": [
       "<table>\n",
       "<thead>\n",
       "<tr><th style=\"text-align: right;\">  concurrent calls</th><th style=\"text-align: right;\">    dna</th><th style=\"text-align: right;\">     bfs</th><th style=\"text-align: right;\">    mst</th><th style=\"text-align: right;\">  pagerank</th></tr>\n",
       "</thead>\n",
       "<tbody>\n",
       "<tr><td style=\"text-align: right;\">                32</td><td style=\"text-align: right;\">2336.19</td><td style=\"text-align: right;\"> 30.1518</td><td style=\"text-align: right;\">29.0074</td><td style=\"text-align: right;\">   51.1606</td></tr>\n",
       "<tr><td style=\"text-align: right;\">                64</td><td style=\"text-align: right;\">2478.02</td><td style=\"text-align: right;\"> 45.7842</td><td style=\"text-align: right;\">40.2355</td><td style=\"text-align: right;\">   51.6854</td></tr>\n",
       "<tr><td style=\"text-align: right;\">                96</td><td style=\"text-align: right;\">2202.65</td><td style=\"text-align: right;\"> 24.0276</td><td style=\"text-align: right;\">22.7027</td><td style=\"text-align: right;\">   49.1147</td></tr>\n",
       "<tr><td style=\"text-align: right;\">               128</td><td style=\"text-align: right;\">2309.33</td><td style=\"text-align: right;\">426.752 </td><td style=\"text-align: right;\">31.6376</td><td style=\"text-align: right;\">   48.0879</td></tr>\n",
       "</tbody>\n",
       "</table>"
      ],
      "text/plain": [
       "'<table>\\n<thead>\\n<tr><th style=\"text-align: right;\">  concurrent calls</th><th style=\"text-align: right;\">    dna</th><th style=\"text-align: right;\">     bfs</th><th style=\"text-align: right;\">    mst</th><th style=\"text-align: right;\">  pagerank</th></tr>\\n</thead>\\n<tbody>\\n<tr><td style=\"text-align: right;\">                32</td><td style=\"text-align: right;\">2336.19</td><td style=\"text-align: right;\"> 30.1518</td><td style=\"text-align: right;\">29.0074</td><td style=\"text-align: right;\">   51.1606</td></tr>\\n<tr><td style=\"text-align: right;\">                64</td><td style=\"text-align: right;\">2478.02</td><td style=\"text-align: right;\"> 45.7842</td><td style=\"text-align: right;\">40.2355</td><td style=\"text-align: right;\">   51.6854</td></tr>\\n<tr><td style=\"text-align: right;\">                96</td><td style=\"text-align: right;\">2202.65</td><td style=\"text-align: right;\"> 24.0276</td><td style=\"text-align: right;\">22.7027</td><td style=\"text-align: right;\">   49.1147</td></tr>\\n<tr><td style=\"text-align: right;\">               128</td><td style=\"text-align: right;\">2309.33</td><td style=\"text-align: right;\">426.752 </td><td style=\"text-align: right;\">31.6376</td><td style=\"text-align: right;\">   48.0879</td></tr>\\n</tbody>\\n</table>'"
      ]
     },
     "metadata": {},
     "output_type": "display_data"
    },
    {
     "name": "stdout",
     "output_type": "stream",
     "text": [
      "\n"
     ]
    },
    {
     "data": {
      "text/html": [
       "<h3>Standard deviation (ms), cluster <b>kOps 8x 8vCPU 16Gb x86_64</b></h3>"
      ],
      "text/plain": [
       "<IPython.core.display.HTML object>"
      ]
     },
     "metadata": {},
     "output_type": "display_data"
    },
    {
     "data": {
      "text/html": [
       "<table>\n",
       "<thead>\n",
       "<tr><th style=\"text-align: right;\">  concurrent calls</th><th style=\"text-align: right;\">    dna</th><th style=\"text-align: right;\">     bfs</th><th style=\"text-align: right;\">    mst</th><th style=\"text-align: right;\">  pagerank</th></tr>\n",
       "</thead>\n",
       "<tbody>\n",
       "<tr><td style=\"text-align: right;\">                32</td><td style=\"text-align: right;\">4400.35</td><td style=\"text-align: right;\"> 37.8438</td><td style=\"text-align: right;\">24.1972</td><td style=\"text-align: right;\">   43.632 </td></tr>\n",
       "<tr><td style=\"text-align: right;\">                64</td><td style=\"text-align: right;\">5512.08</td><td style=\"text-align: right;\"> 27.9015</td><td style=\"text-align: right;\">27.8412</td><td style=\"text-align: right;\">   43.3171</td></tr>\n",
       "<tr><td style=\"text-align: right;\">                96</td><td style=\"text-align: right;\">9351.38</td><td style=\"text-align: right;\">428.532 </td><td style=\"text-align: right;\">28.7584</td><td style=\"text-align: right;\">   41.5123</td></tr>\n",
       "<tr><td style=\"text-align: right;\">               128</td><td style=\"text-align: right;\">7510.12</td><td style=\"text-align: right;\">397.6   </td><td style=\"text-align: right;\">27.7731</td><td style=\"text-align: right;\">   42.0833</td></tr>\n",
       "</tbody>\n",
       "</table>"
      ],
      "text/plain": [
       "'<table>\\n<thead>\\n<tr><th style=\"text-align: right;\">  concurrent calls</th><th style=\"text-align: right;\">    dna</th><th style=\"text-align: right;\">     bfs</th><th style=\"text-align: right;\">    mst</th><th style=\"text-align: right;\">  pagerank</th></tr>\\n</thead>\\n<tbody>\\n<tr><td style=\"text-align: right;\">                32</td><td style=\"text-align: right;\">4400.35</td><td style=\"text-align: right;\"> 37.8438</td><td style=\"text-align: right;\">24.1972</td><td style=\"text-align: right;\">   43.632 </td></tr>\\n<tr><td style=\"text-align: right;\">                64</td><td style=\"text-align: right;\">5512.08</td><td style=\"text-align: right;\"> 27.9015</td><td style=\"text-align: right;\">27.8412</td><td style=\"text-align: right;\">   43.3171</td></tr>\\n<tr><td style=\"text-align: right;\">                96</td><td style=\"text-align: right;\">9351.38</td><td style=\"text-align: right;\">428.532 </td><td style=\"text-align: right;\">28.7584</td><td style=\"text-align: right;\">   41.5123</td></tr>\\n<tr><td style=\"text-align: right;\">               128</td><td style=\"text-align: right;\">7510.12</td><td style=\"text-align: right;\">397.6   </td><td style=\"text-align: right;\">27.7731</td><td style=\"text-align: right;\">   42.0833</td></tr>\\n</tbody>\\n</table>'"
      ]
     },
     "metadata": {},
     "output_type": "display_data"
    },
    {
     "name": "stdout",
     "output_type": "stream",
     "text": [
      "\n"
     ]
    },
    {
     "data": {
      "text/html": [
       "<h3>Standard deviation (ms), cluster <b>kOps 16x 4vCPU 8Gb x86_64</b></h3>"
      ],
      "text/plain": [
       "<IPython.core.display.HTML object>"
      ]
     },
     "metadata": {},
     "output_type": "display_data"
    },
    {
     "data": {
      "text/html": [
       "<table>\n",
       "<thead>\n",
       "<tr><th style=\"text-align: right;\">  concurrent calls</th><th style=\"text-align: right;\">    dna</th><th style=\"text-align: right;\">    bfs</th><th style=\"text-align: right;\">    mst</th><th style=\"text-align: right;\">  pagerank</th></tr>\n",
       "</thead>\n",
       "<tbody>\n",
       "<tr><td style=\"text-align: right;\">                32</td><td style=\"text-align: right;\">15491.9</td><td style=\"text-align: right;\">29.7565</td><td style=\"text-align: right;\">22.7972</td><td style=\"text-align: right;\">   38.4851</td></tr>\n",
       "<tr><td style=\"text-align: right;\">                64</td><td style=\"text-align: right;\">32924.1</td><td style=\"text-align: right;\">25.0545</td><td style=\"text-align: right;\">19.7218</td><td style=\"text-align: right;\">   39.9131</td></tr>\n",
       "<tr><td style=\"text-align: right;\">                96</td><td style=\"text-align: right;\">10750.6</td><td style=\"text-align: right;\">26.8804</td><td style=\"text-align: right;\">26.3345</td><td style=\"text-align: right;\">   41.4904</td></tr>\n",
       "<tr><td style=\"text-align: right;\">               128</td><td style=\"text-align: right;\">10472.2</td><td style=\"text-align: right;\">25.5724</td><td style=\"text-align: right;\">27.0136</td><td style=\"text-align: right;\">   38.5771</td></tr>\n",
       "</tbody>\n",
       "</table>"
      ],
      "text/plain": [
       "'<table>\\n<thead>\\n<tr><th style=\"text-align: right;\">  concurrent calls</th><th style=\"text-align: right;\">    dna</th><th style=\"text-align: right;\">    bfs</th><th style=\"text-align: right;\">    mst</th><th style=\"text-align: right;\">  pagerank</th></tr>\\n</thead>\\n<tbody>\\n<tr><td style=\"text-align: right;\">                32</td><td style=\"text-align: right;\">15491.9</td><td style=\"text-align: right;\">29.7565</td><td style=\"text-align: right;\">22.7972</td><td style=\"text-align: right;\">   38.4851</td></tr>\\n<tr><td style=\"text-align: right;\">                64</td><td style=\"text-align: right;\">32924.1</td><td style=\"text-align: right;\">25.0545</td><td style=\"text-align: right;\">19.7218</td><td style=\"text-align: right;\">   39.9131</td></tr>\\n<tr><td style=\"text-align: right;\">                96</td><td style=\"text-align: right;\">10750.6</td><td style=\"text-align: right;\">26.8804</td><td style=\"text-align: right;\">26.3345</td><td style=\"text-align: right;\">   41.4904</td></tr>\\n<tr><td style=\"text-align: right;\">               128</td><td style=\"text-align: right;\">10472.2</td><td style=\"text-align: right;\">25.5724</td><td style=\"text-align: right;\">27.0136</td><td style=\"text-align: right;\">   38.5771</td></tr>\\n</tbody>\\n</table>'"
      ]
     },
     "metadata": {},
     "output_type": "display_data"
    },
    {
     "name": "stdout",
     "output_type": "stream",
     "text": [
      "\n"
     ]
    },
    {
     "data": {
      "text/html": [
       "<h3>Standard deviation (ms), cluster <b>EKS 8x 8vCPU 16Gb x86_64</b></h3>"
      ],
      "text/plain": [
       "<IPython.core.display.HTML object>"
      ]
     },
     "metadata": {},
     "output_type": "display_data"
    },
    {
     "data": {
      "text/html": [
       "<table>\n",
       "<thead>\n",
       "<tr><th style=\"text-align: right;\">  concurrent calls</th><th style=\"text-align: right;\">    dna</th><th style=\"text-align: right;\">    bfs</th><th style=\"text-align: right;\">    mst</th><th style=\"text-align: right;\">  pagerank</th></tr>\n",
       "</thead>\n",
       "<tbody>\n",
       "<tr><td style=\"text-align: right;\">                32</td><td style=\"text-align: right;\">4317.71</td><td style=\"text-align: right;\">31.3217</td><td style=\"text-align: right;\">24.4637</td><td style=\"text-align: right;\">   45.3009</td></tr>\n",
       "<tr><td style=\"text-align: right;\">                64</td><td style=\"text-align: right;\">5625.96</td><td style=\"text-align: right;\">28.0706</td><td style=\"text-align: right;\">26.9191</td><td style=\"text-align: right;\">   42.2132</td></tr>\n",
       "<tr><td style=\"text-align: right;\">                96</td><td style=\"text-align: right;\">7656.34</td><td style=\"text-align: right;\">28.7101</td><td style=\"text-align: right;\">28.2664</td><td style=\"text-align: right;\">   43.6486</td></tr>\n",
       "<tr><td style=\"text-align: right;\">               128</td><td style=\"text-align: right;\">7815.96</td><td style=\"text-align: right;\">29.2769</td><td style=\"text-align: right;\">28.6594</td><td style=\"text-align: right;\">   43.8045</td></tr>\n",
       "</tbody>\n",
       "</table>"
      ],
      "text/plain": [
       "'<table>\\n<thead>\\n<tr><th style=\"text-align: right;\">  concurrent calls</th><th style=\"text-align: right;\">    dna</th><th style=\"text-align: right;\">    bfs</th><th style=\"text-align: right;\">    mst</th><th style=\"text-align: right;\">  pagerank</th></tr>\\n</thead>\\n<tbody>\\n<tr><td style=\"text-align: right;\">                32</td><td style=\"text-align: right;\">4317.71</td><td style=\"text-align: right;\">31.3217</td><td style=\"text-align: right;\">24.4637</td><td style=\"text-align: right;\">   45.3009</td></tr>\\n<tr><td style=\"text-align: right;\">                64</td><td style=\"text-align: right;\">5625.96</td><td style=\"text-align: right;\">28.0706</td><td style=\"text-align: right;\">26.9191</td><td style=\"text-align: right;\">   42.2132</td></tr>\\n<tr><td style=\"text-align: right;\">                96</td><td style=\"text-align: right;\">7656.34</td><td style=\"text-align: right;\">28.7101</td><td style=\"text-align: right;\">28.2664</td><td style=\"text-align: right;\">   43.6486</td></tr>\\n<tr><td style=\"text-align: right;\">               128</td><td style=\"text-align: right;\">7815.96</td><td style=\"text-align: right;\">29.2769</td><td style=\"text-align: right;\">28.6594</td><td style=\"text-align: right;\">   43.8045</td></tr>\\n</tbody>\\n</table>'"
      ]
     },
     "metadata": {},
     "output_type": "display_data"
    },
    {
     "name": "stdout",
     "output_type": "stream",
     "text": [
      "\n"
     ]
    }
   ],
   "source": [
    "# Standard deviation runtime\n",
    "table=dict()\n",
    "for k in clusters:\n",
    "    data=[]\n",
    "    for count, value in enumerate(concurrent_calls):\n",
    "        data.append([value])\n",
    "        for m in methods:\n",
    "            std_runtime=sebs_df[k][m][value]['runtime'].std()\n",
    "            data[count].append(std_runtime)\n",
    "    table[k] = tabulate(data, tablefmt='html', headers=headers)\n",
    "    display(HTML(f'<h3>Standard deviation (ms), cluster <b>{k}</b></h3>'))\n",
    "    display(table[k])\n",
    "    print()"
   ]
  },
  {
   "cell_type": "code",
   "execution_count": 29,
   "id": "f2e38e9e-e169-4c8c-a5a9-cfbdc2f92b3f",
   "metadata": {},
   "outputs": [
    {
     "data": {
      "text/html": [
       "<h3>CV runtimes (ms), cluster <b>kOps 1x 72vCPU 144Gb x86_64</b></h3>"
      ],
      "text/plain": [
       "<IPython.core.display.HTML object>"
      ]
     },
     "metadata": {},
     "output_type": "display_data"
    },
    {
     "data": {
      "text/html": [
       "<table>\n",
       "<thead>\n",
       "<tr><th style=\"text-align: right;\">  concurrent calls</th><th style=\"text-align: right;\">     dna</th><th style=\"text-align: right;\">     bfs</th><th style=\"text-align: right;\">     mst</th><th style=\"text-align: right;\">  pagerank</th></tr>\n",
       "</thead>\n",
       "<tbody>\n",
       "<tr><td style=\"text-align: right;\">                32</td><td style=\"text-align: right;\">0.129549</td><td style=\"text-align: right;\">0.29683 </td><td style=\"text-align: right;\">0.29169 </td><td style=\"text-align: right;\">  0.268403</td></tr>\n",
       "<tr><td style=\"text-align: right;\">                64</td><td style=\"text-align: right;\">0.136949</td><td style=\"text-align: right;\">0.435339</td><td style=\"text-align: right;\">0.392896</td><td style=\"text-align: right;\">  0.263747</td></tr>\n",
       "<tr><td style=\"text-align: right;\">                96</td><td style=\"text-align: right;\">0.120518</td><td style=\"text-align: right;\">0.232931</td><td style=\"text-align: right;\">0.223489</td><td style=\"text-align: right;\">  0.248002</td></tr>\n",
       "<tr><td style=\"text-align: right;\">               128</td><td style=\"text-align: right;\">0.125435</td><td style=\"text-align: right;\">2.7752  </td><td style=\"text-align: right;\">0.307032</td><td style=\"text-align: right;\">  0.24258 </td></tr>\n",
       "</tbody>\n",
       "</table>"
      ],
      "text/plain": [
       "'<table>\\n<thead>\\n<tr><th style=\"text-align: right;\">  concurrent calls</th><th style=\"text-align: right;\">     dna</th><th style=\"text-align: right;\">     bfs</th><th style=\"text-align: right;\">     mst</th><th style=\"text-align: right;\">  pagerank</th></tr>\\n</thead>\\n<tbody>\\n<tr><td style=\"text-align: right;\">                32</td><td style=\"text-align: right;\">0.129549</td><td style=\"text-align: right;\">0.29683 </td><td style=\"text-align: right;\">0.29169 </td><td style=\"text-align: right;\">  0.268403</td></tr>\\n<tr><td style=\"text-align: right;\">                64</td><td style=\"text-align: right;\">0.136949</td><td style=\"text-align: right;\">0.435339</td><td style=\"text-align: right;\">0.392896</td><td style=\"text-align: right;\">  0.263747</td></tr>\\n<tr><td style=\"text-align: right;\">                96</td><td style=\"text-align: right;\">0.120518</td><td style=\"text-align: right;\">0.232931</td><td style=\"text-align: right;\">0.223489</td><td style=\"text-align: right;\">  0.248002</td></tr>\\n<tr><td style=\"text-align: right;\">               128</td><td style=\"text-align: right;\">0.125435</td><td style=\"text-align: right;\">2.7752  </td><td style=\"text-align: right;\">0.307032</td><td style=\"text-align: right;\">  0.24258 </td></tr>\\n</tbody>\\n</table>'"
      ]
     },
     "metadata": {},
     "output_type": "display_data"
    },
    {
     "name": "stdout",
     "output_type": "stream",
     "text": [
      "\n"
     ]
    },
    {
     "data": {
      "text/html": [
       "<h3>CV runtimes (ms), cluster <b>kOps 8x 8vCPU 16Gb x86_64</b></h3>"
      ],
      "text/plain": [
       "<IPython.core.display.HTML object>"
      ]
     },
     "metadata": {},
     "output_type": "display_data"
    },
    {
     "data": {
      "text/html": [
       "<table>\n",
       "<thead>\n",
       "<tr><th style=\"text-align: right;\">  concurrent calls</th><th style=\"text-align: right;\">     dna</th><th style=\"text-align: right;\">     bfs</th><th style=\"text-align: right;\">     mst</th><th style=\"text-align: right;\">  pagerank</th></tr>\n",
       "</thead>\n",
       "<tbody>\n",
       "<tr><td style=\"text-align: right;\">                32</td><td style=\"text-align: right;\">0.282134</td><td style=\"text-align: right;\">0.550114</td><td style=\"text-align: right;\">0.530052</td><td style=\"text-align: right;\">  0.532393</td></tr>\n",
       "<tr><td style=\"text-align: right;\">                64</td><td style=\"text-align: right;\">0.332589</td><td style=\"text-align: right;\">0.400201</td><td style=\"text-align: right;\">0.431865</td><td style=\"text-align: right;\">  0.384483</td></tr>\n",
       "<tr><td style=\"text-align: right;\">                96</td><td style=\"text-align: right;\">0.461422</td><td style=\"text-align: right;\">3.82027 </td><td style=\"text-align: right;\">0.437932</td><td style=\"text-align: right;\">  0.344693</td></tr>\n",
       "<tr><td style=\"text-align: right;\">               128</td><td style=\"text-align: right;\">0.398997</td><td style=\"text-align: right;\">3.26295 </td><td style=\"text-align: right;\">0.417543</td><td style=\"text-align: right;\">  0.335661</td></tr>\n",
       "</tbody>\n",
       "</table>"
      ],
      "text/plain": [
       "'<table>\\n<thead>\\n<tr><th style=\"text-align: right;\">  concurrent calls</th><th style=\"text-align: right;\">     dna</th><th style=\"text-align: right;\">     bfs</th><th style=\"text-align: right;\">     mst</th><th style=\"text-align: right;\">  pagerank</th></tr>\\n</thead>\\n<tbody>\\n<tr><td style=\"text-align: right;\">                32</td><td style=\"text-align: right;\">0.282134</td><td style=\"text-align: right;\">0.550114</td><td style=\"text-align: right;\">0.530052</td><td style=\"text-align: right;\">  0.532393</td></tr>\\n<tr><td style=\"text-align: right;\">                64</td><td style=\"text-align: right;\">0.332589</td><td style=\"text-align: right;\">0.400201</td><td style=\"text-align: right;\">0.431865</td><td style=\"text-align: right;\">  0.384483</td></tr>\\n<tr><td style=\"text-align: right;\">                96</td><td style=\"text-align: right;\">0.461422</td><td style=\"text-align: right;\">3.82027 </td><td style=\"text-align: right;\">0.437932</td><td style=\"text-align: right;\">  0.344693</td></tr>\\n<tr><td style=\"text-align: right;\">               128</td><td style=\"text-align: right;\">0.398997</td><td style=\"text-align: right;\">3.26295 </td><td style=\"text-align: right;\">0.417543</td><td style=\"text-align: right;\">  0.335661</td></tr>\\n</tbody>\\n</table>'"
      ]
     },
     "metadata": {},
     "output_type": "display_data"
    },
    {
     "name": "stdout",
     "output_type": "stream",
     "text": [
      "\n"
     ]
    },
    {
     "data": {
      "text/html": [
       "<h3>CV runtimes (ms), cluster <b>kOps 16x 4vCPU 8Gb x86_64</b></h3>"
      ],
      "text/plain": [
       "<IPython.core.display.HTML object>"
      ]
     },
     "metadata": {},
     "output_type": "display_data"
    },
    {
     "data": {
      "text/html": [
       "<table>\n",
       "<thead>\n",
       "<tr><th style=\"text-align: right;\">  concurrent calls</th><th style=\"text-align: right;\">     dna</th><th style=\"text-align: right;\">     bfs</th><th style=\"text-align: right;\">     mst</th><th style=\"text-align: right;\">  pagerank</th></tr>\n",
       "</thead>\n",
       "<tbody>\n",
       "<tr><td style=\"text-align: right;\">                32</td><td style=\"text-align: right;\">0.506054</td><td style=\"text-align: right;\">0.579587</td><td style=\"text-align: right;\">0.552241</td><td style=\"text-align: right;\">  0.521691</td></tr>\n",
       "<tr><td style=\"text-align: right;\">                64</td><td style=\"text-align: right;\">0.553821</td><td style=\"text-align: right;\">0.482382</td><td style=\"text-align: right;\">0.440189</td><td style=\"text-align: right;\">  0.472956</td></tr>\n",
       "<tr><td style=\"text-align: right;\">                96</td><td style=\"text-align: right;\">0.491582</td><td style=\"text-align: right;\">0.325433</td><td style=\"text-align: right;\">0.33319 </td><td style=\"text-align: right;\">  0.290746</td></tr>\n",
       "<tr><td style=\"text-align: right;\">               128</td><td style=\"text-align: right;\">0.455931</td><td style=\"text-align: right;\">0.306503</td><td style=\"text-align: right;\">0.329635</td><td style=\"text-align: right;\">  0.27014 </td></tr>\n",
       "</tbody>\n",
       "</table>"
      ],
      "text/plain": [
       "'<table>\\n<thead>\\n<tr><th style=\"text-align: right;\">  concurrent calls</th><th style=\"text-align: right;\">     dna</th><th style=\"text-align: right;\">     bfs</th><th style=\"text-align: right;\">     mst</th><th style=\"text-align: right;\">  pagerank</th></tr>\\n</thead>\\n<tbody>\\n<tr><td style=\"text-align: right;\">                32</td><td style=\"text-align: right;\">0.506054</td><td style=\"text-align: right;\">0.579587</td><td style=\"text-align: right;\">0.552241</td><td style=\"text-align: right;\">  0.521691</td></tr>\\n<tr><td style=\"text-align: right;\">                64</td><td style=\"text-align: right;\">0.553821</td><td style=\"text-align: right;\">0.482382</td><td style=\"text-align: right;\">0.440189</td><td style=\"text-align: right;\">  0.472956</td></tr>\\n<tr><td style=\"text-align: right;\">                96</td><td style=\"text-align: right;\">0.491582</td><td style=\"text-align: right;\">0.325433</td><td style=\"text-align: right;\">0.33319 </td><td style=\"text-align: right;\">  0.290746</td></tr>\\n<tr><td style=\"text-align: right;\">               128</td><td style=\"text-align: right;\">0.455931</td><td style=\"text-align: right;\">0.306503</td><td style=\"text-align: right;\">0.329635</td><td style=\"text-align: right;\">  0.27014 </td></tr>\\n</tbody>\\n</table>'"
      ]
     },
     "metadata": {},
     "output_type": "display_data"
    },
    {
     "name": "stdout",
     "output_type": "stream",
     "text": [
      "\n"
     ]
    },
    {
     "data": {
      "text/html": [
       "<h3>CV runtimes (ms), cluster <b>EKS 8x 8vCPU 16Gb x86_64</b></h3>"
      ],
      "text/plain": [
       "<IPython.core.display.HTML object>"
      ]
     },
     "metadata": {},
     "output_type": "display_data"
    },
    {
     "data": {
      "text/html": [
       "<table>\n",
       "<thead>\n",
       "<tr><th style=\"text-align: right;\">  concurrent calls</th><th style=\"text-align: right;\">     dna</th><th style=\"text-align: right;\">     bfs</th><th style=\"text-align: right;\">     mst</th><th style=\"text-align: right;\">  pagerank</th></tr>\n",
       "</thead>\n",
       "<tbody>\n",
       "<tr><td style=\"text-align: right;\">                32</td><td style=\"text-align: right;\">0.285405</td><td style=\"text-align: right;\">0.462197</td><td style=\"text-align: right;\">0.52639 </td><td style=\"text-align: right;\">  0.534416</td></tr>\n",
       "<tr><td style=\"text-align: right;\">                64</td><td style=\"text-align: right;\">0.332326</td><td style=\"text-align: right;\">0.39578 </td><td style=\"text-align: right;\">0.403085</td><td style=\"text-align: right;\">  0.361847</td></tr>\n",
       "<tr><td style=\"text-align: right;\">                96</td><td style=\"text-align: right;\">0.436048</td><td style=\"text-align: right;\">0.386215</td><td style=\"text-align: right;\">0.427414</td><td style=\"text-align: right;\">  0.357462</td></tr>\n",
       "<tr><td style=\"text-align: right;\">               128</td><td style=\"text-align: right;\">0.432438</td><td style=\"text-align: right;\">0.377646</td><td style=\"text-align: right;\">0.432154</td><td style=\"text-align: right;\">  0.351538</td></tr>\n",
       "</tbody>\n",
       "</table>"
      ],
      "text/plain": [
       "'<table>\\n<thead>\\n<tr><th style=\"text-align: right;\">  concurrent calls</th><th style=\"text-align: right;\">     dna</th><th style=\"text-align: right;\">     bfs</th><th style=\"text-align: right;\">     mst</th><th style=\"text-align: right;\">  pagerank</th></tr>\\n</thead>\\n<tbody>\\n<tr><td style=\"text-align: right;\">                32</td><td style=\"text-align: right;\">0.285405</td><td style=\"text-align: right;\">0.462197</td><td style=\"text-align: right;\">0.52639 </td><td style=\"text-align: right;\">  0.534416</td></tr>\\n<tr><td style=\"text-align: right;\">                64</td><td style=\"text-align: right;\">0.332326</td><td style=\"text-align: right;\">0.39578 </td><td style=\"text-align: right;\">0.403085</td><td style=\"text-align: right;\">  0.361847</td></tr>\\n<tr><td style=\"text-align: right;\">                96</td><td style=\"text-align: right;\">0.436048</td><td style=\"text-align: right;\">0.386215</td><td style=\"text-align: right;\">0.427414</td><td style=\"text-align: right;\">  0.357462</td></tr>\\n<tr><td style=\"text-align: right;\">               128</td><td style=\"text-align: right;\">0.432438</td><td style=\"text-align: right;\">0.377646</td><td style=\"text-align: right;\">0.432154</td><td style=\"text-align: right;\">  0.351538</td></tr>\\n</tbody>\\n</table>'"
      ]
     },
     "metadata": {},
     "output_type": "display_data"
    },
    {
     "name": "stdout",
     "output_type": "stream",
     "text": [
      "\n"
     ]
    }
   ],
   "source": [
    "# CV runtime\n",
    "table=dict()\n",
    "for k in clusters:\n",
    "    data=[]\n",
    "    for count, value in enumerate(concurrent_calls):\n",
    "        data.append([value])\n",
    "        for m in methods:\n",
    "            mean_runtime=sebs_df[k][m][value]['runtime'].mean()\n",
    "            std_runtime=sebs_df[k][m][value]['runtime'].std()\n",
    "            cv_runtime=std_runtime/mean_runtime\n",
    "            data[count].append(cv_runtime)\n",
    "    table[k] = tabulate(data, tablefmt='html', headers=headers)\n",
    "    display(HTML(f'<h3>CV runtimes (ms), cluster <b>{k}</b></h3>'))\n",
    "    display(table[k])\n",
    "    print()"
   ]
  },
  {
   "cell_type": "code",
   "execution_count": 46,
   "id": "cda21f1e-8653-4a49-b57d-3f3f5f6c1e44",
   "metadata": {},
   "outputs": [
    {
     "data": {
      "application/vnd.plotly.v1+json": {
       "config": {
        "plotlyServerURL": "https://plot.ly"
       },
       "data": [
        {
         "marker": {
          "color": "rgba(151, 209, 233, 255)"
         },
         "name": "kOps 1x 72vCPU 144Gb x86_64",
         "text": [
          "19.2 %",
          "6.88 %",
          "4.09 %",
          "1.86 %"
         ],
         "textposition": "outside",
         "type": "bar",
         "x": [
          32,
          64,
          96,
          128
         ],
         "y": [
          19.201271541723692,
          6.88438529714988,
          4.089412885736774,
          1.8616137797123826
         ]
        },
        {
         "marker": {
          "color": "rgba(0, 120, 179, 255)"
         },
         "name": "kOps 8x 8vCPU 16Gb x86_64",
         "text": [
          "3.1 %",
          "-2.1 %",
          "15.42 %",
          "4.14 %"
         ],
         "textposition": "outside",
         "type": "bar",
         "x": [
          32,
          64,
          96,
          128
         ],
         "y": [
          3.0954206507975597,
          -2.101569863441516,
          15.422415877235272,
          4.140385086121574
         ]
        },
        {
         "marker": {
          "color": "rgba(179, 223, 146, 255)"
         },
         "name": "kOps 16x 4vCPU 8Gb x86_64",
         "text": [
          "102.36 %",
          "251.17 %",
          "24.55 %",
          "27.08 %"
         ],
         "textposition": "outside",
         "type": "bar",
         "x": [
          32,
          64,
          96,
          128
         ],
         "y": [
          102.35623561905503,
          251.16632151771898,
          24.55132384606934,
          27.08103921579416
         ]
        }
       ],
       "layout": {
        "autosize": true,
        "font": {
         "size": 16
        },
        "legend": {
         "orientation": "h",
         "x": 0.47,
         "xanchor": "center",
         "y": 1.02,
         "yanchor": "bottom"
        },
        "margin": {
         "autoexpand": true,
         "b": 1,
         "l": 1,
         "r": 1
        },
        "plot_bgcolor": "rgba(245,245,255,255)",
        "template": {
         "data": {
          "bar": [
           {
            "error_x": {
             "color": "#2a3f5f"
            },
            "error_y": {
             "color": "#2a3f5f"
            },
            "marker": {
             "line": {
              "color": "#E5ECF6",
              "width": 0.5
             },
             "pattern": {
              "fillmode": "overlay",
              "size": 10,
              "solidity": 0.2
             }
            },
            "type": "bar"
           }
          ],
          "barpolar": [
           {
            "marker": {
             "line": {
              "color": "#E5ECF6",
              "width": 0.5
             },
             "pattern": {
              "fillmode": "overlay",
              "size": 10,
              "solidity": 0.2
             }
            },
            "type": "barpolar"
           }
          ],
          "carpet": [
           {
            "aaxis": {
             "endlinecolor": "#2a3f5f",
             "gridcolor": "white",
             "linecolor": "white",
             "minorgridcolor": "white",
             "startlinecolor": "#2a3f5f"
            },
            "baxis": {
             "endlinecolor": "#2a3f5f",
             "gridcolor": "white",
             "linecolor": "white",
             "minorgridcolor": "white",
             "startlinecolor": "#2a3f5f"
            },
            "type": "carpet"
           }
          ],
          "choropleth": [
           {
            "colorbar": {
             "outlinewidth": 0,
             "ticks": ""
            },
            "type": "choropleth"
           }
          ],
          "contour": [
           {
            "colorbar": {
             "outlinewidth": 0,
             "ticks": ""
            },
            "colorscale": [
             [
              0,
              "#0d0887"
             ],
             [
              0.1111111111111111,
              "#46039f"
             ],
             [
              0.2222222222222222,
              "#7201a8"
             ],
             [
              0.3333333333333333,
              "#9c179e"
             ],
             [
              0.4444444444444444,
              "#bd3786"
             ],
             [
              0.5555555555555556,
              "#d8576b"
             ],
             [
              0.6666666666666666,
              "#ed7953"
             ],
             [
              0.7777777777777778,
              "#fb9f3a"
             ],
             [
              0.8888888888888888,
              "#fdca26"
             ],
             [
              1,
              "#f0f921"
             ]
            ],
            "type": "contour"
           }
          ],
          "contourcarpet": [
           {
            "colorbar": {
             "outlinewidth": 0,
             "ticks": ""
            },
            "type": "contourcarpet"
           }
          ],
          "heatmap": [
           {
            "colorbar": {
             "outlinewidth": 0,
             "ticks": ""
            },
            "colorscale": [
             [
              0,
              "#0d0887"
             ],
             [
              0.1111111111111111,
              "#46039f"
             ],
             [
              0.2222222222222222,
              "#7201a8"
             ],
             [
              0.3333333333333333,
              "#9c179e"
             ],
             [
              0.4444444444444444,
              "#bd3786"
             ],
             [
              0.5555555555555556,
              "#d8576b"
             ],
             [
              0.6666666666666666,
              "#ed7953"
             ],
             [
              0.7777777777777778,
              "#fb9f3a"
             ],
             [
              0.8888888888888888,
              "#fdca26"
             ],
             [
              1,
              "#f0f921"
             ]
            ],
            "type": "heatmap"
           }
          ],
          "heatmapgl": [
           {
            "colorbar": {
             "outlinewidth": 0,
             "ticks": ""
            },
            "colorscale": [
             [
              0,
              "#0d0887"
             ],
             [
              0.1111111111111111,
              "#46039f"
             ],
             [
              0.2222222222222222,
              "#7201a8"
             ],
             [
              0.3333333333333333,
              "#9c179e"
             ],
             [
              0.4444444444444444,
              "#bd3786"
             ],
             [
              0.5555555555555556,
              "#d8576b"
             ],
             [
              0.6666666666666666,
              "#ed7953"
             ],
             [
              0.7777777777777778,
              "#fb9f3a"
             ],
             [
              0.8888888888888888,
              "#fdca26"
             ],
             [
              1,
              "#f0f921"
             ]
            ],
            "type": "heatmapgl"
           }
          ],
          "histogram": [
           {
            "marker": {
             "pattern": {
              "fillmode": "overlay",
              "size": 10,
              "solidity": 0.2
             }
            },
            "type": "histogram"
           }
          ],
          "histogram2d": [
           {
            "colorbar": {
             "outlinewidth": 0,
             "ticks": ""
            },
            "colorscale": [
             [
              0,
              "#0d0887"
             ],
             [
              0.1111111111111111,
              "#46039f"
             ],
             [
              0.2222222222222222,
              "#7201a8"
             ],
             [
              0.3333333333333333,
              "#9c179e"
             ],
             [
              0.4444444444444444,
              "#bd3786"
             ],
             [
              0.5555555555555556,
              "#d8576b"
             ],
             [
              0.6666666666666666,
              "#ed7953"
             ],
             [
              0.7777777777777778,
              "#fb9f3a"
             ],
             [
              0.8888888888888888,
              "#fdca26"
             ],
             [
              1,
              "#f0f921"
             ]
            ],
            "type": "histogram2d"
           }
          ],
          "histogram2dcontour": [
           {
            "colorbar": {
             "outlinewidth": 0,
             "ticks": ""
            },
            "colorscale": [
             [
              0,
              "#0d0887"
             ],
             [
              0.1111111111111111,
              "#46039f"
             ],
             [
              0.2222222222222222,
              "#7201a8"
             ],
             [
              0.3333333333333333,
              "#9c179e"
             ],
             [
              0.4444444444444444,
              "#bd3786"
             ],
             [
              0.5555555555555556,
              "#d8576b"
             ],
             [
              0.6666666666666666,
              "#ed7953"
             ],
             [
              0.7777777777777778,
              "#fb9f3a"
             ],
             [
              0.8888888888888888,
              "#fdca26"
             ],
             [
              1,
              "#f0f921"
             ]
            ],
            "type": "histogram2dcontour"
           }
          ],
          "mesh3d": [
           {
            "colorbar": {
             "outlinewidth": 0,
             "ticks": ""
            },
            "type": "mesh3d"
           }
          ],
          "parcoords": [
           {
            "line": {
             "colorbar": {
              "outlinewidth": 0,
              "ticks": ""
             }
            },
            "type": "parcoords"
           }
          ],
          "pie": [
           {
            "automargin": true,
            "type": "pie"
           }
          ],
          "scatter": [
           {
            "fillpattern": {
             "fillmode": "overlay",
             "size": 10,
             "solidity": 0.2
            },
            "type": "scatter"
           }
          ],
          "scatter3d": [
           {
            "line": {
             "colorbar": {
              "outlinewidth": 0,
              "ticks": ""
             }
            },
            "marker": {
             "colorbar": {
              "outlinewidth": 0,
              "ticks": ""
             }
            },
            "type": "scatter3d"
           }
          ],
          "scattercarpet": [
           {
            "marker": {
             "colorbar": {
              "outlinewidth": 0,
              "ticks": ""
             }
            },
            "type": "scattercarpet"
           }
          ],
          "scattergeo": [
           {
            "marker": {
             "colorbar": {
              "outlinewidth": 0,
              "ticks": ""
             }
            },
            "type": "scattergeo"
           }
          ],
          "scattergl": [
           {
            "marker": {
             "colorbar": {
              "outlinewidth": 0,
              "ticks": ""
             }
            },
            "type": "scattergl"
           }
          ],
          "scattermapbox": [
           {
            "marker": {
             "colorbar": {
              "outlinewidth": 0,
              "ticks": ""
             }
            },
            "type": "scattermapbox"
           }
          ],
          "scatterpolar": [
           {
            "marker": {
             "colorbar": {
              "outlinewidth": 0,
              "ticks": ""
             }
            },
            "type": "scatterpolar"
           }
          ],
          "scatterpolargl": [
           {
            "marker": {
             "colorbar": {
              "outlinewidth": 0,
              "ticks": ""
             }
            },
            "type": "scatterpolargl"
           }
          ],
          "scatterternary": [
           {
            "marker": {
             "colorbar": {
              "outlinewidth": 0,
              "ticks": ""
             }
            },
            "type": "scatterternary"
           }
          ],
          "surface": [
           {
            "colorbar": {
             "outlinewidth": 0,
             "ticks": ""
            },
            "colorscale": [
             [
              0,
              "#0d0887"
             ],
             [
              0.1111111111111111,
              "#46039f"
             ],
             [
              0.2222222222222222,
              "#7201a8"
             ],
             [
              0.3333333333333333,
              "#9c179e"
             ],
             [
              0.4444444444444444,
              "#bd3786"
             ],
             [
              0.5555555555555556,
              "#d8576b"
             ],
             [
              0.6666666666666666,
              "#ed7953"
             ],
             [
              0.7777777777777778,
              "#fb9f3a"
             ],
             [
              0.8888888888888888,
              "#fdca26"
             ],
             [
              1,
              "#f0f921"
             ]
            ],
            "type": "surface"
           }
          ],
          "table": [
           {
            "cells": {
             "fill": {
              "color": "#EBF0F8"
             },
             "line": {
              "color": "white"
             }
            },
            "header": {
             "fill": {
              "color": "#C8D4E3"
             },
             "line": {
              "color": "white"
             }
            },
            "type": "table"
           }
          ]
         },
         "layout": {
          "annotationdefaults": {
           "arrowcolor": "#2a3f5f",
           "arrowhead": 0,
           "arrowwidth": 1
          },
          "autotypenumbers": "strict",
          "coloraxis": {
           "colorbar": {
            "outlinewidth": 0,
            "ticks": ""
           }
          },
          "colorscale": {
           "diverging": [
            [
             0,
             "#8e0152"
            ],
            [
             0.1,
             "#c51b7d"
            ],
            [
             0.2,
             "#de77ae"
            ],
            [
             0.3,
             "#f1b6da"
            ],
            [
             0.4,
             "#fde0ef"
            ],
            [
             0.5,
             "#f7f7f7"
            ],
            [
             0.6,
             "#e6f5d0"
            ],
            [
             0.7,
             "#b8e186"
            ],
            [
             0.8,
             "#7fbc41"
            ],
            [
             0.9,
             "#4d9221"
            ],
            [
             1,
             "#276419"
            ]
           ],
           "sequential": [
            [
             0,
             "#0d0887"
            ],
            [
             0.1111111111111111,
             "#46039f"
            ],
            [
             0.2222222222222222,
             "#7201a8"
            ],
            [
             0.3333333333333333,
             "#9c179e"
            ],
            [
             0.4444444444444444,
             "#bd3786"
            ],
            [
             0.5555555555555556,
             "#d8576b"
            ],
            [
             0.6666666666666666,
             "#ed7953"
            ],
            [
             0.7777777777777778,
             "#fb9f3a"
            ],
            [
             0.8888888888888888,
             "#fdca26"
            ],
            [
             1,
             "#f0f921"
            ]
           ],
           "sequentialminus": [
            [
             0,
             "#0d0887"
            ],
            [
             0.1111111111111111,
             "#46039f"
            ],
            [
             0.2222222222222222,
             "#7201a8"
            ],
            [
             0.3333333333333333,
             "#9c179e"
            ],
            [
             0.4444444444444444,
             "#bd3786"
            ],
            [
             0.5555555555555556,
             "#d8576b"
            ],
            [
             0.6666666666666666,
             "#ed7953"
            ],
            [
             0.7777777777777778,
             "#fb9f3a"
            ],
            [
             0.8888888888888888,
             "#fdca26"
            ],
            [
             1,
             "#f0f921"
            ]
           ]
          },
          "colorway": [
           "#636efa",
           "#EF553B",
           "#00cc96",
           "#ab63fa",
           "#FFA15A",
           "#19d3f3",
           "#FF6692",
           "#B6E880",
           "#FF97FF",
           "#FECB52"
          ],
          "font": {
           "color": "#2a3f5f"
          },
          "geo": {
           "bgcolor": "white",
           "lakecolor": "white",
           "landcolor": "#E5ECF6",
           "showlakes": true,
           "showland": true,
           "subunitcolor": "white"
          },
          "hoverlabel": {
           "align": "left"
          },
          "hovermode": "closest",
          "mapbox": {
           "style": "light"
          },
          "paper_bgcolor": "white",
          "plot_bgcolor": "#E5ECF6",
          "polar": {
           "angularaxis": {
            "gridcolor": "white",
            "linecolor": "white",
            "ticks": ""
           },
           "bgcolor": "#E5ECF6",
           "radialaxis": {
            "gridcolor": "white",
            "linecolor": "white",
            "ticks": ""
           }
          },
          "scene": {
           "xaxis": {
            "backgroundcolor": "#E5ECF6",
            "gridcolor": "white",
            "gridwidth": 2,
            "linecolor": "white",
            "showbackground": true,
            "ticks": "",
            "zerolinecolor": "white"
           },
           "yaxis": {
            "backgroundcolor": "#E5ECF6",
            "gridcolor": "white",
            "gridwidth": 2,
            "linecolor": "white",
            "showbackground": true,
            "ticks": "",
            "zerolinecolor": "white"
           },
           "zaxis": {
            "backgroundcolor": "#E5ECF6",
            "gridcolor": "white",
            "gridwidth": 2,
            "linecolor": "white",
            "showbackground": true,
            "ticks": "",
            "zerolinecolor": "white"
           }
          },
          "shapedefaults": {
           "line": {
            "color": "#2a3f5f"
           }
          },
          "ternary": {
           "aaxis": {
            "gridcolor": "white",
            "linecolor": "white",
            "ticks": ""
           },
           "baxis": {
            "gridcolor": "white",
            "linecolor": "white",
            "ticks": ""
           },
           "bgcolor": "#E5ECF6",
           "caxis": {
            "gridcolor": "white",
            "linecolor": "white",
            "ticks": ""
           }
          },
          "title": {
           "x": 0.05
          },
          "xaxis": {
           "automargin": true,
           "gridcolor": "white",
           "linecolor": "white",
           "ticks": "",
           "title": {
            "standoff": 15
           },
           "zerolinecolor": "white",
           "zerolinewidth": 2
          },
          "yaxis": {
           "automargin": true,
           "gridcolor": "white",
           "linecolor": "white",
           "ticks": "",
           "title": {
            "standoff": 15
           },
           "zerolinecolor": "white",
           "zerolinewidth": 2
          }
         }
        },
        "title": {
         "text": "SeBS: DNA Visualization, EKS normalized runtime differences",
         "x": 0.5,
         "xanchor": "center"
        },
        "xaxis": {
         "autorange": true,
         "range": [
          16,
          144
         ],
         "tickmode": "array",
         "tickvals": [
          32,
          64,
          96,
          128
         ],
         "title": {
          "text": "Concurrent calls"
         },
         "type": "linear"
        },
        "yaxis": {
         "range": [
          -15,
          265
         ],
         "title": {
          "text": "% change"
         },
         "type": "linear"
        }
       }
      },
      "image/png": "[encoded data removed]",
      "text/html": [
       "<div>                            <div id=\"3eaddd6d-2ce3-427a-ab50-2ad72ea46e3d\" class=\"plotly-graph-div\" style=\"height:525px; width:100%;\"></div>            <script type=\"text/javascript\">                require([\"plotly\"], function(Plotly) {                    window.PLOTLYENV=window.PLOTLYENV || {};                                    if (document.getElementById(\"3eaddd6d-2ce3-427a-ab50-2ad72ea46e3d\")) {                    Plotly.newPlot(                        \"3eaddd6d-2ce3-427a-ab50-2ad72ea46e3d\",                        [{\"marker\":{\"color\":\"rgba(151, 209, 233, 255)\"},\"name\":\"kOps 1x 72vCPU 144Gb x86_64\",\"text\":[\"19.2 %\",\"6.88 %\",\"4.09 %\",\"1.86 %\"],\"textposition\":\"outside\",\"x\":[32,64,96,128],\"y\":[19.201271541723692,6.88438529714988,4.089412885736774,1.8616137797123826],\"type\":\"bar\"},{\"marker\":{\"color\":\"rgba(0, 120, 179, 255)\"},\"name\":\"kOps 8x 8vCPU 16Gb x86_64\",\"text\":[\"3.1 %\",\"-2.1 %\",\"15.42 %\",\"4.14 %\"],\"textposition\":\"outside\",\"x\":[32,64,96,128],\"y\":[3.0954206507975597,-2.101569863441516,15.422415877235272,4.140385086121574],\"type\":\"bar\"},{\"marker\":{\"color\":\"rgba(179, 223, 146, 255)\"},\"name\":\"kOps 16x 4vCPU 8Gb x86_64\",\"text\":[\"102.36 %\",\"251.17 %\",\"24.55 %\",\"27.08 %\"],\"textposition\":\"outside\",\"x\":[32,64,96,128],\"y\":[102.35623561905503,251.16632151771898,24.55132384606934,27.08103921579416],\"type\":\"bar\"}],                        {\"template\":{\"data\":{\"histogram2dcontour\":[{\"type\":\"histogram2dcontour\",\"colorbar\":{\"outlinewidth\":0,\"ticks\":\"\"},\"colorscale\":[[0.0,\"#0d0887\"],[0.1111111111111111,\"#46039f\"],[0.2222222222222222,\"#7201a8\"],[0.3333333333333333,\"#9c179e\"],[0.4444444444444444,\"#bd3786\"],[0.5555555555555556,\"#d8576b\"],[0.6666666666666666,\"#ed7953\"],[0.7777777777777778,\"#fb9f3a\"],[0.8888888888888888,\"#fdca26\"],[1.0,\"#f0f921\"]]}],\"choropleth\":[{\"type\":\"choropleth\",\"colorbar\":{\"outlinewidth\":0,\"ticks\":\"\"}}],\"histogram2d\":[{\"type\":\"histogram2d\",\"colorbar\":{\"outlinewidth\":0,\"ticks\":\"\"},\"colorscale\":[[0.0,\"#0d0887\"],[0.1111111111111111,\"#46039f\"],[0.2222222222222222,\"#7201a8\"],[0.3333333333333333,\"#9c179e\"],[0.4444444444444444,\"#bd3786\"],[0.5555555555555556,\"#d8576b\"],[0.6666666666666666,\"#ed7953\"],[0.7777777777777778,\"#fb9f3a\"],[0.8888888888888888,\"#fdca26\"],[1.0,\"#f0f921\"]]}],\"heatmap\":[{\"type\":\"heatmap\",\"colorbar\":{\"outlinewidth\":0,\"ticks\":\"\"},\"colorscale\":[[0.0,\"#0d0887\"],[0.1111111111111111,\"#46039f\"],[0.2222222222222222,\"#7201a8\"],[0.3333333333333333,\"#9c179e\"],[0.4444444444444444,\"#bd3786\"],[0.5555555555555556,\"#d8576b\"],[0.6666666666666666,\"#ed7953\"],[0.7777777777777778,\"#fb9f3a\"],[0.8888888888888888,\"#fdca26\"],[1.0,\"#f0f921\"]]}],\"heatmapgl\":[{\"type\":\"heatmapgl\",\"colorbar\":{\"outlinewidth\":0,\"ticks\":\"\"},\"colorscale\":[[0.0,\"#0d0887\"],[0.1111111111111111,\"#46039f\"],[0.2222222222222222,\"#7201a8\"],[0.3333333333333333,\"#9c179e\"],[0.4444444444444444,\"#bd3786\"],[0.5555555555555556,\"#d8576b\"],[0.6666666666666666,\"#ed7953\"],[0.7777777777777778,\"#fb9f3a\"],[0.8888888888888888,\"#fdca26\"],[1.0,\"#f0f921\"]]}],\"contourcarpet\":[{\"type\":\"contourcarpet\",\"colorbar\":{\"outlinewidth\":0,\"ticks\":\"\"}}],\"contour\":[{\"type\":\"contour\",\"colorbar\":{\"outlinewidth\":0,\"ticks\":\"\"},\"colorscale\":[[0.0,\"#0d0887\"],[0.1111111111111111,\"#46039f\"],[0.2222222222222222,\"#7201a8\"],[0.3333333333333333,\"#9c179e\"],[0.4444444444444444,\"#bd3786\"],[0.5555555555555556,\"#d8576b\"],[0.6666666666666666,\"#ed7953\"],[0.7777777777777778,\"#fb9f3a\"],[0.8888888888888888,\"#fdca26\"],[1.0,\"#f0f921\"]]}],\"surface\":[{\"type\":\"surface\",\"colorbar\":{\"outlinewidth\":0,\"ticks\":\"\"},\"colorscale\":[[0.0,\"#0d0887\"],[0.1111111111111111,\"#46039f\"],[0.2222222222222222,\"#7201a8\"],[0.3333333333333333,\"#9c179e\"],[0.4444444444444444,\"#bd3786\"],[0.5555555555555556,\"#d8576b\"],[0.6666666666666666,\"#ed7953\"],[0.7777777777777778,\"#fb9f3a\"],[0.8888888888888888,\"#fdca26\"],[1.0,\"#f0f921\"]]}],\"mesh3d\":[{\"type\":\"mesh3d\",\"colorbar\":{\"outlinewidth\":0,\"ticks\":\"\"}}],\"scatter\":[{\"fillpattern\":{\"fillmode\":\"overlay\",\"size\":10,\"solidity\":0.2},\"type\":\"scatter\"}],\"parcoords\":[{\"type\":\"parcoords\",\"line\":{\"colorbar\":{\"outlinewidth\":0,\"ticks\":\"\"}}}],\"scatterpolargl\":[{\"type\":\"scatterpolargl\",\"marker\":{\"colorbar\":{\"outlinewidth\":0,\"ticks\":\"\"}}}],\"bar\":[{\"error_x\":{\"color\":\"#2a3f5f\"},\"error_y\":{\"color\":\"#2a3f5f\"},\"marker\":{\"line\":{\"color\":\"#E5ECF6\",\"width\":0.5},\"pattern\":{\"fillmode\":\"overlay\",\"size\":10,\"solidity\":0.2}},\"type\":\"bar\"}],\"scattergeo\":[{\"type\":\"scattergeo\",\"marker\":{\"colorbar\":{\"outlinewidth\":0,\"ticks\":\"\"}}}],\"scatterpolar\":[{\"type\":\"scatterpolar\",\"marker\":{\"colorbar\":{\"outlinewidth\":0,\"ticks\":\"\"}}}],\"histogram\":[{\"marker\":{\"pattern\":{\"fillmode\":\"overlay\",\"size\":10,\"solidity\":0.2}},\"type\":\"histogram\"}],\"scattergl\":[{\"type\":\"scattergl\",\"marker\":{\"colorbar\":{\"outlinewidth\":0,\"ticks\":\"\"}}}],\"scatter3d\":[{\"type\":\"scatter3d\",\"line\":{\"colorbar\":{\"outlinewidth\":0,\"ticks\":\"\"}},\"marker\":{\"colorbar\":{\"outlinewidth\":0,\"ticks\":\"\"}}}],\"scattermapbox\":[{\"type\":\"scattermapbox\",\"marker\":{\"colorbar\":{\"outlinewidth\":0,\"ticks\":\"\"}}}],\"scatterternary\":[{\"type\":\"scatterternary\",\"marker\":{\"colorbar\":{\"outlinewidth\":0,\"ticks\":\"\"}}}],\"scattercarpet\":[{\"type\":\"scattercarpet\",\"marker\":{\"colorbar\":{\"outlinewidth\":0,\"ticks\":\"\"}}}],\"carpet\":[{\"aaxis\":{\"endlinecolor\":\"#2a3f5f\",\"gridcolor\":\"white\",\"linecolor\":\"white\",\"minorgridcolor\":\"white\",\"startlinecolor\":\"#2a3f5f\"},\"baxis\":{\"endlinecolor\":\"#2a3f5f\",\"gridcolor\":\"white\",\"linecolor\":\"white\",\"minorgridcolor\":\"white\",\"startlinecolor\":\"#2a3f5f\"},\"type\":\"carpet\"}],\"table\":[{\"cells\":{\"fill\":{\"color\":\"#EBF0F8\"},\"line\":{\"color\":\"white\"}},\"header\":{\"fill\":{\"color\":\"#C8D4E3\"},\"line\":{\"color\":\"white\"}},\"type\":\"table\"}],\"barpolar\":[{\"marker\":{\"line\":{\"color\":\"#E5ECF6\",\"width\":0.5},\"pattern\":{\"fillmode\":\"overlay\",\"size\":10,\"solidity\":0.2}},\"type\":\"barpolar\"}],\"pie\":[{\"automargin\":true,\"type\":\"pie\"}]},\"layout\":{\"autotypenumbers\":\"strict\",\"colorway\":[\"#636efa\",\"#EF553B\",\"#00cc96\",\"#ab63fa\",\"#FFA15A\",\"#19d3f3\",\"#FF6692\",\"#B6E880\",\"#FF97FF\",\"#FECB52\"],\"font\":{\"color\":\"#2a3f5f\"},\"hovermode\":\"closest\",\"hoverlabel\":{\"align\":\"left\"},\"paper_bgcolor\":\"white\",\"plot_bgcolor\":\"#E5ECF6\",\"polar\":{\"bgcolor\":\"#E5ECF6\",\"angularaxis\":{\"gridcolor\":\"white\",\"linecolor\":\"white\",\"ticks\":\"\"},\"radialaxis\":{\"gridcolor\":\"white\",\"linecolor\":\"white\",\"ticks\":\"\"}},\"ternary\":{\"bgcolor\":\"#E5ECF6\",\"aaxis\":{\"gridcolor\":\"white\",\"linecolor\":\"white\",\"ticks\":\"\"},\"baxis\":{\"gridcolor\":\"white\",\"linecolor\":\"white\",\"ticks\":\"\"},\"caxis\":{\"gridcolor\":\"white\",\"linecolor\":\"white\",\"ticks\":\"\"}},\"coloraxis\":{\"colorbar\":{\"outlinewidth\":0,\"ticks\":\"\"}},\"colorscale\":{\"sequential\":[[0.0,\"#0d0887\"],[0.1111111111111111,\"#46039f\"],[0.2222222222222222,\"#7201a8\"],[0.3333333333333333,\"#9c179e\"],[0.4444444444444444,\"#bd3786\"],[0.5555555555555556,\"#d8576b\"],[0.6666666666666666,\"#ed7953\"],[0.7777777777777778,\"#fb9f3a\"],[0.8888888888888888,\"#fdca26\"],[1.0,\"#f0f921\"]],\"sequentialminus\":[[0.0,\"#0d0887\"],[0.1111111111111111,\"#46039f\"],[0.2222222222222222,\"#7201a8\"],[0.3333333333333333,\"#9c179e\"],[0.4444444444444444,\"#bd3786\"],[0.5555555555555556,\"#d8576b\"],[0.6666666666666666,\"#ed7953\"],[0.7777777777777778,\"#fb9f3a\"],[0.8888888888888888,\"#fdca26\"],[1.0,\"#f0f921\"]],\"diverging\":[[0,\"#8e0152\"],[0.1,\"#c51b7d\"],[0.2,\"#de77ae\"],[0.3,\"#f1b6da\"],[0.4,\"#fde0ef\"],[0.5,\"#f7f7f7\"],[0.6,\"#e6f5d0\"],[0.7,\"#b8e186\"],[0.8,\"#7fbc41\"],[0.9,\"#4d9221\"],[1,\"#276419\"]]},\"xaxis\":{\"gridcolor\":\"white\",\"linecolor\":\"white\",\"ticks\":\"\",\"title\":{\"standoff\":15},\"zerolinecolor\":\"white\",\"automargin\":true,\"zerolinewidth\":2},\"yaxis\":{\"gridcolor\":\"white\",\"linecolor\":\"white\",\"ticks\":\"\",\"title\":{\"standoff\":15},\"zerolinecolor\":\"white\",\"automargin\":true,\"zerolinewidth\":2},\"scene\":{\"xaxis\":{\"backgroundcolor\":\"#E5ECF6\",\"gridcolor\":\"white\",\"linecolor\":\"white\",\"showbackground\":true,\"ticks\":\"\",\"zerolinecolor\":\"white\",\"gridwidth\":2},\"yaxis\":{\"backgroundcolor\":\"#E5ECF6\",\"gridcolor\":\"white\",\"linecolor\":\"white\",\"showbackground\":true,\"ticks\":\"\",\"zerolinecolor\":\"white\",\"gridwidth\":2},\"zaxis\":{\"backgroundcolor\":\"#E5ECF6\",\"gridcolor\":\"white\",\"linecolor\":\"white\",\"showbackground\":true,\"ticks\":\"\",\"zerolinecolor\":\"white\",\"gridwidth\":2}},\"shapedefaults\":{\"line\":{\"color\":\"#2a3f5f\"}},\"annotationdefaults\":{\"arrowcolor\":\"#2a3f5f\",\"arrowhead\":0,\"arrowwidth\":1},\"geo\":{\"bgcolor\":\"white\",\"landcolor\":\"#E5ECF6\",\"subunitcolor\":\"white\",\"showland\":true,\"showlakes\":true,\"lakecolor\":\"white\"},\"title\":{\"x\":0.05},\"mapbox\":{\"style\":\"light\"}}},\"legend\":{\"orientation\":\"h\",\"yanchor\":\"bottom\",\"y\":1.02,\"xanchor\":\"center\",\"x\":0.47},\"margin\":{\"b\":1,\"l\":1,\"r\":1,\"autoexpand\":true},\"font\":{\"size\":16},\"title\":{\"text\":\"SeBS: DNA Visualization, EKS normalized runtime differences\",\"x\":0.5,\"xanchor\":\"center\"},\"xaxis\":{\"title\":{\"text\":\"Concurrent calls\"},\"tickmode\":\"array\",\"tickvals\":[32,64,96,128]},\"yaxis\":{\"title\":{\"text\":\"% change\"},\"range\":[-15,265]},\"plot_bgcolor\":\"rgba(245,245,255,255)\"},                        {\"responsive\": true}                    ).then(function(){\n",
       "                            \n",
       "var gd = document.getElementById('3eaddd6d-2ce3-427a-ab50-2ad72ea46e3d');\n",
       "var x = new MutationObserver(function (mutations, observer) {{\n",
       "        var display = window.getComputedStyle(gd).display;\n",
       "        if (!display || display === 'none') {{\n",
       "            console.log([gd, 'removed!']);\n",
       "            Plotly.purge(gd);\n",
       "            observer.disconnect();\n",
       "        }}\n",
       "}});\n",
       "\n",
       "// Listen for the removal of the full notebook cells\n",
       "var notebookContainer = gd.closest('#notebook-container');\n",
       "if (notebookContainer) {{\n",
       "    x.observe(notebookContainer, {childList: true});\n",
       "}}\n",
       "\n",
       "// Listen for the clearing of the current output cell\n",
       "var outputEl = gd.closest('.output');\n",
       "if (outputEl) {{\n",
       "    x.observe(outputEl, {childList: true});\n",
       "}}\n",
       "\n",
       "                        })                };                });            </script>        </div>"
      ]
     },
     "metadata": {},
     "output_type": "display_data"
    }
   ],
   "source": [
    "fig = create_figure('SeBS: DNA Visualization, EKS normalized runtime differences', 'Concurrent calls', '% change', concurrent_calls)\n",
    "\n",
    "for i, k in enumerate(list(clusters.keys())[:-1]):\n",
    "    y_data=[]\n",
    "    y_text=[]\n",
    "    for c in concurrent_calls:\n",
    "        kops_mean=sebs_df[k]['dna'][c]['runtime'].mean()\n",
    "        eks_mean=sebs_df['EKS 8x 8vCPU 16Gb x86_64']['dna'][c]['runtime'].mean()\n",
    "        percent_change=(kops_mean - eks_mean) * 100 / eks_mean\n",
    "        y_data.append(percent_change)\n",
    "        y_text.append(f'{round(percent_change, 2)} %')\n",
    "    fig.add_trace(go.Bar(name=k,\n",
    "                         x=concurrent_calls,\n",
    "                         y=y_data,\n",
    "                         marker_color=colorPallet[i],\n",
    "                         text=y_text,\n",
    "                         textposition='outside'))\n",
    "fig.update_layout(yaxis_range=[-15,265])\n",
    "\n",
    "fig.show()\n",
    "\n",
    "# Save graph\n",
    "write_image(fig, 'sebs_dna_percentage_difference.png')"
   ]
  },
  {
   "cell_type": "code",
   "execution_count": 31,
   "id": "53bf74d2-db4e-4ec5-a4c0-5b2a26e4bc36",
   "metadata": {},
   "outputs": [
    {
     "data": {
      "text/html": [
       "<h3><b>kOps 1x 72vCPU 144Gb x86_64</b> and <b>EKS 8x 8vCPU 16Gb x86_64</b> independent t-test (DNA Visualization)</h3>"
      ],
      "text/plain": [
       "<IPython.core.display.HTML object>"
      ]
     },
     "metadata": {},
     "output_type": "display_data"
    },
    {
     "name": "stdout",
     "output_type": "stream",
     "text": [
      "32 concurrent calls\n",
      "Ttest_indResult(statistic=11.101488762940454, pvalue=1.7067440928369475e-26)\n",
      "64 concurrent calls\n",
      "Ttest_indResult(statistic=5.030181611403259, pvalue=5.531954693034239e-07)\n",
      "96 concurrent calls\n",
      "Ttest_indResult(statistic=2.9288131090670126, pvalue=0.0034390711379472345)\n",
      "128 concurrent calls\n",
      "Ttest_indResult(statistic=1.5384674116735335, pvalue=0.12404764615338489)\n"
     ]
    },
    {
     "data": {
      "text/html": [
       "<h3><b>kOps 8x 8vCPU 16Gb x86_64</b> and <b>EKS 8x 8vCPU 16Gb x86_64</b> independent t-test (DNA Visualization)</h3>"
      ],
      "text/plain": [
       "<IPython.core.display.HTML object>"
      ]
     },
     "metadata": {},
     "output_type": "display_data"
    },
    {
     "name": "stdout",
     "output_type": "stream",
     "text": [
      "32 concurrent calls\n",
      "Ttest_indResult(statistic=1.4251443909020016, pvalue=0.1545599091627799)\n",
      "64 concurrent calls\n",
      "Ttest_indResult(statistic=-1.1985214953518124, pvalue=0.23091603304443417)\n",
      "96 concurrent calls\n",
      "Ttest_indResult(statistic=7.241590814632211, pvalue=6.212260415443479e-13)\n",
      "128 concurrent calls\n",
      "Ttest_indResult(statistic=2.5676334867361876, pvalue=0.010291613601740742)\n"
     ]
    },
    {
     "data": {
      "text/html": [
       "<h3><b>kOps 16x 4vCPU 8Gb x86_64</b> and <b>EKS 8x 8vCPU 16Gb x86_64</b> independent t-test (DNA Visualization)</h3>"
      ],
      "text/plain": [
       "<IPython.core.display.HTML object>"
      ]
     },
     "metadata": {},
     "output_type": "display_data"
    },
    {
     "name": "stdout",
     "output_type": "stream",
     "text": [
      "32 concurrent calls\n",
      "Ttest_indResult(statistic=18.06458203829675, pvalue=3.40788158743933e-60)\n",
      "64 concurrent calls\n",
      "Ttest_indResult(statistic=33.72998370614279, pvalue=3.8504727517734026e-181)\n",
      "96 concurrent calls\n",
      "Ttest_indResult(statistic=10.30672803618744, pvalue=2.7272335755982252e-24)\n",
      "128 concurrent calls\n",
      "Ttest_indResult(statistic=13.810392671756134, pvalue=5.792119436809326e-42)\n"
     ]
    }
   ],
   "source": [
    "for k in list(clusters)[:-1]:\n",
    "    display(HTML(f'<h3><b>{k}</b> and <b>EKS 8x 8vCPU 16Gb x86_64</b> independent t-test (DNA Visualization)</h3>'))\n",
    "    for i in range(32,129,32):\n",
    "        print(f'{i} concurrent calls')\n",
    "        print(stats.ttest_ind(sebs_df[k]['dna'][i]['runtime'], sebs_df['EKS 8x 8vCPU 16Gb x86_64']['dna'][i]['runtime']))"
   ]
  },
  {
   "cell_type": "code",
   "execution_count": 50,
   "id": "6c0e4f90-e9a4-4c0f-aea6-b827f894b435",
   "metadata": {},
   "outputs": [
    {
     "data": {
      "application/vnd.plotly.v1+json": {
       "config": {
        "plotlyServerURL": "https://plot.ly"
       },
       "data": [
        {
         "marker": {
          "color": "rgba(151, 209, 233, 255)"
         },
         "name": "kOps 1x 72vCPU 144Gb x86_64",
         "text": [
          "49.9 %",
          "48.28 %",
          "38.76 %",
          "98.35 %"
         ],
         "textposition": "outside",
         "type": "bar",
         "x": [
          32,
          64,
          96,
          128
         ],
         "y": [
          49.89519577429362,
          48.28263002944064,
          38.764331210191074,
          98.35371719115021
         ]
        },
        {
         "marker": {
          "color": "rgba(0, 120, 179, 255)"
         },
         "name": "kOps 8x 8vCPU 16Gb x86_64",
         "text": [
          "1.51 %",
          "-1.7 %",
          "50.9 %",
          "57.18 %"
         ],
         "textposition": "outside",
         "type": "bar",
         "x": [
          32,
          64,
          96,
          128
         ],
         "y": [
          1.5133730192001418,
          -1.7003464781398294,
          50.89808917197451,
          57.17924052952224
         ]
        },
        {
         "marker": {
          "color": "rgba(179, 223, 146, 255)"
         },
         "name": "kOps 16x 4vCPU 8Gb x86_64",
         "text": [
          "-24.24 %",
          "-26.77 %",
          "11.11 %",
          "7.62 %"
         ],
         "textposition": "outside",
         "type": "bar",
         "x": [
          32,
          64,
          96,
          128
         ],
         "y": [
          -24.239121321371673,
          -26.768740862390096,
          11.11401273885349,
          7.620722825340111
         ]
        }
       ],
       "layout": {
        "autosize": true,
        "font": {
         "size": 16
        },
        "legend": {
         "orientation": "h",
         "x": 0.47,
         "xanchor": "center",
         "y": 1.02,
         "yanchor": "bottom"
        },
        "margin": {
         "autoexpand": true,
         "b": 1,
         "l": 1,
         "r": 1
        },
        "plot_bgcolor": "rgba(245,245,255,255)",
        "template": {
         "data": {
          "bar": [
           {
            "error_x": {
             "color": "#2a3f5f"
            },
            "error_y": {
             "color": "#2a3f5f"
            },
            "marker": {
             "line": {
              "color": "#E5ECF6",
              "width": 0.5
             },
             "pattern": {
              "fillmode": "overlay",
              "size": 10,
              "solidity": 0.2
             }
            },
            "type": "bar"
           }
          ],
          "barpolar": [
           {
            "marker": {
             "line": {
              "color": "#E5ECF6",
              "width": 0.5
             },
             "pattern": {
              "fillmode": "overlay",
              "size": 10,
              "solidity": 0.2
             }
            },
            "type": "barpolar"
           }
          ],
          "carpet": [
           {
            "aaxis": {
             "endlinecolor": "#2a3f5f",
             "gridcolor": "white",
             "linecolor": "white",
             "minorgridcolor": "white",
             "startlinecolor": "#2a3f5f"
            },
            "baxis": {
             "endlinecolor": "#2a3f5f",
             "gridcolor": "white",
             "linecolor": "white",
             "minorgridcolor": "white",
             "startlinecolor": "#2a3f5f"
            },
            "type": "carpet"
           }
          ],
          "choropleth": [
           {
            "colorbar": {
             "outlinewidth": 0,
             "ticks": ""
            },
            "type": "choropleth"
           }
          ],
          "contour": [
           {
            "colorbar": {
             "outlinewidth": 0,
             "ticks": ""
            },
            "colorscale": [
             [
              0,
              "#0d0887"
             ],
             [
              0.1111111111111111,
              "#46039f"
             ],
             [
              0.2222222222222222,
              "#7201a8"
             ],
             [
              0.3333333333333333,
              "#9c179e"
             ],
             [
              0.4444444444444444,
              "#bd3786"
             ],
             [
              0.5555555555555556,
              "#d8576b"
             ],
             [
              0.6666666666666666,
              "#ed7953"
             ],
             [
              0.7777777777777778,
              "#fb9f3a"
             ],
             [
              0.8888888888888888,
              "#fdca26"
             ],
             [
              1,
              "#f0f921"
             ]
            ],
            "type": "contour"
           }
          ],
          "contourcarpet": [
           {
            "colorbar": {
             "outlinewidth": 0,
             "ticks": ""
            },
            "type": "contourcarpet"
           }
          ],
          "heatmap": [
           {
            "colorbar": {
             "outlinewidth": 0,
             "ticks": ""
            },
            "colorscale": [
             [
              0,
              "#0d0887"
             ],
             [
              0.1111111111111111,
              "#46039f"
             ],
             [
              0.2222222222222222,
              "#7201a8"
             ],
             [
              0.3333333333333333,
              "#9c179e"
             ],
             [
              0.4444444444444444,
              "#bd3786"
             ],
             [
              0.5555555555555556,
              "#d8576b"
             ],
             [
              0.6666666666666666,
              "#ed7953"
             ],
             [
              0.7777777777777778,
              "#fb9f3a"
             ],
             [
              0.8888888888888888,
              "#fdca26"
             ],
             [
              1,
              "#f0f921"
             ]
            ],
            "type": "heatmap"
           }
          ],
          "heatmapgl": [
           {
            "colorbar": {
             "outlinewidth": 0,
             "ticks": ""
            },
            "colorscale": [
             [
              0,
              "#0d0887"
             ],
             [
              0.1111111111111111,
              "#46039f"
             ],
             [
              0.2222222222222222,
              "#7201a8"
             ],
             [
              0.3333333333333333,
              "#9c179e"
             ],
             [
              0.4444444444444444,
              "#bd3786"
             ],
             [
              0.5555555555555556,
              "#d8576b"
             ],
             [
              0.6666666666666666,
              "#ed7953"
             ],
             [
              0.7777777777777778,
              "#fb9f3a"
             ],
             [
              0.8888888888888888,
              "#fdca26"
             ],
             [
              1,
              "#f0f921"
             ]
            ],
            "type": "heatmapgl"
           }
          ],
          "histogram": [
           {
            "marker": {
             "pattern": {
              "fillmode": "overlay",
              "size": 10,
              "solidity": 0.2
             }
            },
            "type": "histogram"
           }
          ],
          "histogram2d": [
           {
            "colorbar": {
             "outlinewidth": 0,
             "ticks": ""
            },
            "colorscale": [
             [
              0,
              "#0d0887"
             ],
             [
              0.1111111111111111,
              "#46039f"
             ],
             [
              0.2222222222222222,
              "#7201a8"
             ],
             [
              0.3333333333333333,
              "#9c179e"
             ],
             [
              0.4444444444444444,
              "#bd3786"
             ],
             [
              0.5555555555555556,
              "#d8576b"
             ],
             [
              0.6666666666666666,
              "#ed7953"
             ],
             [
              0.7777777777777778,
              "#fb9f3a"
             ],
             [
              0.8888888888888888,
              "#fdca26"
             ],
             [
              1,
              "#f0f921"
             ]
            ],
            "type": "histogram2d"
           }
          ],
          "histogram2dcontour": [
           {
            "colorbar": {
             "outlinewidth": 0,
             "ticks": ""
            },
            "colorscale": [
             [
              0,
              "#0d0887"
             ],
             [
              0.1111111111111111,
              "#46039f"
             ],
             [
              0.2222222222222222,
              "#7201a8"
             ],
             [
              0.3333333333333333,
              "#9c179e"
             ],
             [
              0.4444444444444444,
              "#bd3786"
             ],
             [
              0.5555555555555556,
              "#d8576b"
             ],
             [
              0.6666666666666666,
              "#ed7953"
             ],
             [
              0.7777777777777778,
              "#fb9f3a"
             ],
             [
              0.8888888888888888,
              "#fdca26"
             ],
             [
              1,
              "#f0f921"
             ]
            ],
            "type": "histogram2dcontour"
           }
          ],
          "mesh3d": [
           {
            "colorbar": {
             "outlinewidth": 0,
             "ticks": ""
            },
            "type": "mesh3d"
           }
          ],
          "parcoords": [
           {
            "line": {
             "colorbar": {
              "outlinewidth": 0,
              "ticks": ""
             }
            },
            "type": "parcoords"
           }
          ],
          "pie": [
           {
            "automargin": true,
            "type": "pie"
           }
          ],
          "scatter": [
           {
            "fillpattern": {
             "fillmode": "overlay",
             "size": 10,
             "solidity": 0.2
            },
            "type": "scatter"
           }
          ],
          "scatter3d": [
           {
            "line": {
             "colorbar": {
              "outlinewidth": 0,
              "ticks": ""
             }
            },
            "marker": {
             "colorbar": {
              "outlinewidth": 0,
              "ticks": ""
             }
            },
            "type": "scatter3d"
           }
          ],
          "scattercarpet": [
           {
            "marker": {
             "colorbar": {
              "outlinewidth": 0,
              "ticks": ""
             }
            },
            "type": "scattercarpet"
           }
          ],
          "scattergeo": [
           {
            "marker": {
             "colorbar": {
              "outlinewidth": 0,
              "ticks": ""
             }
            },
            "type": "scattergeo"
           }
          ],
          "scattergl": [
           {
            "marker": {
             "colorbar": {
              "outlinewidth": 0,
              "ticks": ""
             }
            },
            "type": "scattergl"
           }
          ],
          "scattermapbox": [
           {
            "marker": {
             "colorbar": {
              "outlinewidth": 0,
              "ticks": ""
             }
            },
            "type": "scattermapbox"
           }
          ],
          "scatterpolar": [
           {
            "marker": {
             "colorbar": {
              "outlinewidth": 0,
              "ticks": ""
             }
            },
            "type": "scatterpolar"
           }
          ],
          "scatterpolargl": [
           {
            "marker": {
             "colorbar": {
              "outlinewidth": 0,
              "ticks": ""
             }
            },
            "type": "scatterpolargl"
           }
          ],
          "scatterternary": [
           {
            "marker": {
             "colorbar": {
              "outlinewidth": 0,
              "ticks": ""
             }
            },
            "type": "scatterternary"
           }
          ],
          "surface": [
           {
            "colorbar": {
             "outlinewidth": 0,
             "ticks": ""
            },
            "colorscale": [
             [
              0,
              "#0d0887"
             ],
             [
              0.1111111111111111,
              "#46039f"
             ],
             [
              0.2222222222222222,
              "#7201a8"
             ],
             [
              0.3333333333333333,
              "#9c179e"
             ],
             [
              0.4444444444444444,
              "#bd3786"
             ],
             [
              0.5555555555555556,
              "#d8576b"
             ],
             [
              0.6666666666666666,
              "#ed7953"
             ],
             [
              0.7777777777777778,
              "#fb9f3a"
             ],
             [
              0.8888888888888888,
              "#fdca26"
             ],
             [
              1,
              "#f0f921"
             ]
            ],
            "type": "surface"
           }
          ],
          "table": [
           {
            "cells": {
             "fill": {
              "color": "#EBF0F8"
             },
             "line": {
              "color": "white"
             }
            },
            "header": {
             "fill": {
              "color": "#C8D4E3"
             },
             "line": {
              "color": "white"
             }
            },
            "type": "table"
           }
          ]
         },
         "layout": {
          "annotationdefaults": {
           "arrowcolor": "#2a3f5f",
           "arrowhead": 0,
           "arrowwidth": 1
          },
          "autotypenumbers": "strict",
          "coloraxis": {
           "colorbar": {
            "outlinewidth": 0,
            "ticks": ""
           }
          },
          "colorscale": {
           "diverging": [
            [
             0,
             "#8e0152"
            ],
            [
             0.1,
             "#c51b7d"
            ],
            [
             0.2,
             "#de77ae"
            ],
            [
             0.3,
             "#f1b6da"
            ],
            [
             0.4,
             "#fde0ef"
            ],
            [
             0.5,
             "#f7f7f7"
            ],
            [
             0.6,
             "#e6f5d0"
            ],
            [
             0.7,
             "#b8e186"
            ],
            [
             0.8,
             "#7fbc41"
            ],
            [
             0.9,
             "#4d9221"
            ],
            [
             1,
             "#276419"
            ]
           ],
           "sequential": [
            [
             0,
             "#0d0887"
            ],
            [
             0.1111111111111111,
             "#46039f"
            ],
            [
             0.2222222222222222,
             "#7201a8"
            ],
            [
             0.3333333333333333,
             "#9c179e"
            ],
            [
             0.4444444444444444,
             "#bd3786"
            ],
            [
             0.5555555555555556,
             "#d8576b"
            ],
            [
             0.6666666666666666,
             "#ed7953"
            ],
            [
             0.7777777777777778,
             "#fb9f3a"
            ],
            [
             0.8888888888888888,
             "#fdca26"
            ],
            [
             1,
             "#f0f921"
            ]
           ],
           "sequentialminus": [
            [
             0,
             "#0d0887"
            ],
            [
             0.1111111111111111,
             "#46039f"
            ],
            [
             0.2222222222222222,
             "#7201a8"
            ],
            [
             0.3333333333333333,
             "#9c179e"
            ],
            [
             0.4444444444444444,
             "#bd3786"
            ],
            [
             0.5555555555555556,
             "#d8576b"
            ],
            [
             0.6666666666666666,
             "#ed7953"
            ],
            [
             0.7777777777777778,
             "#fb9f3a"
            ],
            [
             0.8888888888888888,
             "#fdca26"
            ],
            [
             1,
             "#f0f921"
            ]
           ]
          },
          "colorway": [
           "#636efa",
           "#EF553B",
           "#00cc96",
           "#ab63fa",
           "#FFA15A",
           "#19d3f3",
           "#FF6692",
           "#B6E880",
           "#FF97FF",
           "#FECB52"
          ],
          "font": {
           "color": "#2a3f5f"
          },
          "geo": {
           "bgcolor": "white",
           "lakecolor": "white",
           "landcolor": "#E5ECF6",
           "showlakes": true,
           "showland": true,
           "subunitcolor": "white"
          },
          "hoverlabel": {
           "align": "left"
          },
          "hovermode": "closest",
          "mapbox": {
           "style": "light"
          },
          "paper_bgcolor": "white",
          "plot_bgcolor": "#E5ECF6",
          "polar": {
           "angularaxis": {
            "gridcolor": "white",
            "linecolor": "white",
            "ticks": ""
           },
           "bgcolor": "#E5ECF6",
           "radialaxis": {
            "gridcolor": "white",
            "linecolor": "white",
            "ticks": ""
           }
          },
          "scene": {
           "xaxis": {
            "backgroundcolor": "#E5ECF6",
            "gridcolor": "white",
            "gridwidth": 2,
            "linecolor": "white",
            "showbackground": true,
            "ticks": "",
            "zerolinecolor": "white"
           },
           "yaxis": {
            "backgroundcolor": "#E5ECF6",
            "gridcolor": "white",
            "gridwidth": 2,
            "linecolor": "white",
            "showbackground": true,
            "ticks": "",
            "zerolinecolor": "white"
           },
           "zaxis": {
            "backgroundcolor": "#E5ECF6",
            "gridcolor": "white",
            "gridwidth": 2,
            "linecolor": "white",
            "showbackground": true,
            "ticks": "",
            "zerolinecolor": "white"
           }
          },
          "shapedefaults": {
           "line": {
            "color": "#2a3f5f"
           }
          },
          "ternary": {
           "aaxis": {
            "gridcolor": "white",
            "linecolor": "white",
            "ticks": ""
           },
           "baxis": {
            "gridcolor": "white",
            "linecolor": "white",
            "ticks": ""
           },
           "bgcolor": "#E5ECF6",
           "caxis": {
            "gridcolor": "white",
            "linecolor": "white",
            "ticks": ""
           }
          },
          "title": {
           "x": 0.05
          },
          "xaxis": {
           "automargin": true,
           "gridcolor": "white",
           "linecolor": "white",
           "ticks": "",
           "title": {
            "standoff": 15
           },
           "zerolinecolor": "white",
           "zerolinewidth": 2
          },
          "yaxis": {
           "automargin": true,
           "gridcolor": "white",
           "linecolor": "white",
           "ticks": "",
           "title": {
            "standoff": 15
           },
           "zerolinecolor": "white",
           "zerolinewidth": 2
          }
         }
        },
        "title": {
         "text": "SeBS: Breadth First Search, EKS normalized runtime differences",
         "x": 0.5,
         "xanchor": "center"
        },
        "xaxis": {
         "autorange": true,
         "range": [
          16,
          144
         ],
         "tickmode": "array",
         "tickvals": [
          32,
          64,
          96,
          128
         ],
         "title": {
          "text": "Concurrent calls"
         },
         "type": "linear"
        },
        "yaxis": {
         "range": [
          -40,
          110
         ],
         "title": {
          "text": "% change"
         },
         "type": "linear"
        }
       }
      },
      "image/png": "[encoded data removed]",
      "text/html": [
       "<div>                            <div id=\"9a06827a-3d4f-4b9e-8b6c-9915ed3337f3\" class=\"plotly-graph-div\" style=\"height:525px; width:100%;\"></div>            <script type=\"text/javascript\">                require([\"plotly\"], function(Plotly) {                    window.PLOTLYENV=window.PLOTLYENV || {};                                    if (document.getElementById(\"9a06827a-3d4f-4b9e-8b6c-9915ed3337f3\")) {                    Plotly.newPlot(                        \"9a06827a-3d4f-4b9e-8b6c-9915ed3337f3\",                        [{\"marker\":{\"color\":\"rgba(151, 209, 233, 255)\"},\"name\":\"kOps 1x 72vCPU 144Gb x86_64\",\"text\":[\"49.9 %\",\"48.28 %\",\"38.76 %\",\"98.35 %\"],\"textposition\":\"outside\",\"x\":[32,64,96,128],\"y\":[49.89519577429362,48.28263002944064,38.764331210191074,98.35371719115021],\"type\":\"bar\"},{\"marker\":{\"color\":\"rgba(0, 120, 179, 255)\"},\"name\":\"kOps 8x 8vCPU 16Gb x86_64\",\"text\":[\"1.51 %\",\"-1.7 %\",\"50.9 %\",\"57.18 %\"],\"textposition\":\"outside\",\"x\":[32,64,96,128],\"y\":[1.5133730192001418,-1.7003464781398294,50.89808917197451,57.17924052952224],\"type\":\"bar\"},{\"marker\":{\"color\":\"rgba(179, 223, 146, 255)\"},\"name\":\"kOps 16x 4vCPU 8Gb x86_64\",\"text\":[\"-24.24 %\",\"-26.77 %\",\"11.11 %\",\"7.62 %\"],\"textposition\":\"outside\",\"x\":[32,64,96,128],\"y\":[-24.239121321371673,-26.768740862390096,11.11401273885349,7.620722825340111],\"type\":\"bar\"}],                        {\"template\":{\"data\":{\"histogram2dcontour\":[{\"type\":\"histogram2dcontour\",\"colorbar\":{\"outlinewidth\":0,\"ticks\":\"\"},\"colorscale\":[[0.0,\"#0d0887\"],[0.1111111111111111,\"#46039f\"],[0.2222222222222222,\"#7201a8\"],[0.3333333333333333,\"#9c179e\"],[0.4444444444444444,\"#bd3786\"],[0.5555555555555556,\"#d8576b\"],[0.6666666666666666,\"#ed7953\"],[0.7777777777777778,\"#fb9f3a\"],[0.8888888888888888,\"#fdca26\"],[1.0,\"#f0f921\"]]}],\"choropleth\":[{\"type\":\"choropleth\",\"colorbar\":{\"outlinewidth\":0,\"ticks\":\"\"}}],\"histogram2d\":[{\"type\":\"histogram2d\",\"colorbar\":{\"outlinewidth\":0,\"ticks\":\"\"},\"colorscale\":[[0.0,\"#0d0887\"],[0.1111111111111111,\"#46039f\"],[0.2222222222222222,\"#7201a8\"],[0.3333333333333333,\"#9c179e\"],[0.4444444444444444,\"#bd3786\"],[0.5555555555555556,\"#d8576b\"],[0.6666666666666666,\"#ed7953\"],[0.7777777777777778,\"#fb9f3a\"],[0.8888888888888888,\"#fdca26\"],[1.0,\"#f0f921\"]]}],\"heatmap\":[{\"type\":\"heatmap\",\"colorbar\":{\"outlinewidth\":0,\"ticks\":\"\"},\"colorscale\":[[0.0,\"#0d0887\"],[0.1111111111111111,\"#46039f\"],[0.2222222222222222,\"#7201a8\"],[0.3333333333333333,\"#9c179e\"],[0.4444444444444444,\"#bd3786\"],[0.5555555555555556,\"#d8576b\"],[0.6666666666666666,\"#ed7953\"],[0.7777777777777778,\"#fb9f3a\"],[0.8888888888888888,\"#fdca26\"],[1.0,\"#f0f921\"]]}],\"heatmapgl\":[{\"type\":\"heatmapgl\",\"colorbar\":{\"outlinewidth\":0,\"ticks\":\"\"},\"colorscale\":[[0.0,\"#0d0887\"],[0.1111111111111111,\"#46039f\"],[0.2222222222222222,\"#7201a8\"],[0.3333333333333333,\"#9c179e\"],[0.4444444444444444,\"#bd3786\"],[0.5555555555555556,\"#d8576b\"],[0.6666666666666666,\"#ed7953\"],[0.7777777777777778,\"#fb9f3a\"],[0.8888888888888888,\"#fdca26\"],[1.0,\"#f0f921\"]]}],\"contourcarpet\":[{\"type\":\"contourcarpet\",\"colorbar\":{\"outlinewidth\":0,\"ticks\":\"\"}}],\"contour\":[{\"type\":\"contour\",\"colorbar\":{\"outlinewidth\":0,\"ticks\":\"\"},\"colorscale\":[[0.0,\"#0d0887\"],[0.1111111111111111,\"#46039f\"],[0.2222222222222222,\"#7201a8\"],[0.3333333333333333,\"#9c179e\"],[0.4444444444444444,\"#bd3786\"],[0.5555555555555556,\"#d8576b\"],[0.6666666666666666,\"#ed7953\"],[0.7777777777777778,\"#fb9f3a\"],[0.8888888888888888,\"#fdca26\"],[1.0,\"#f0f921\"]]}],\"surface\":[{\"type\":\"surface\",\"colorbar\":{\"outlinewidth\":0,\"ticks\":\"\"},\"colorscale\":[[0.0,\"#0d0887\"],[0.1111111111111111,\"#46039f\"],[0.2222222222222222,\"#7201a8\"],[0.3333333333333333,\"#9c179e\"],[0.4444444444444444,\"#bd3786\"],[0.5555555555555556,\"#d8576b\"],[0.6666666666666666,\"#ed7953\"],[0.7777777777777778,\"#fb9f3a\"],[0.8888888888888888,\"#fdca26\"],[1.0,\"#f0f921\"]]}],\"mesh3d\":[{\"type\":\"mesh3d\",\"colorbar\":{\"outlinewidth\":0,\"ticks\":\"\"}}],\"scatter\":[{\"fillpattern\":{\"fillmode\":\"overlay\",\"size\":10,\"solidity\":0.2},\"type\":\"scatter\"}],\"parcoords\":[{\"type\":\"parcoords\",\"line\":{\"colorbar\":{\"outlinewidth\":0,\"ticks\":\"\"}}}],\"scatterpolargl\":[{\"type\":\"scatterpolargl\",\"marker\":{\"colorbar\":{\"outlinewidth\":0,\"ticks\":\"\"}}}],\"bar\":[{\"error_x\":{\"color\":\"#2a3f5f\"},\"error_y\":{\"color\":\"#2a3f5f\"},\"marker\":{\"line\":{\"color\":\"#E5ECF6\",\"width\":0.5},\"pattern\":{\"fillmode\":\"overlay\",\"size\":10,\"solidity\":0.2}},\"type\":\"bar\"}],\"scattergeo\":[{\"type\":\"scattergeo\",\"marker\":{\"colorbar\":{\"outlinewidth\":0,\"ticks\":\"\"}}}],\"scatterpolar\":[{\"type\":\"scatterpolar\",\"marker\":{\"colorbar\":{\"outlinewidth\":0,\"ticks\":\"\"}}}],\"histogram\":[{\"marker\":{\"pattern\":{\"fillmode\":\"overlay\",\"size\":10,\"solidity\":0.2}},\"type\":\"histogram\"}],\"scattergl\":[{\"type\":\"scattergl\",\"marker\":{\"colorbar\":{\"outlinewidth\":0,\"ticks\":\"\"}}}],\"scatter3d\":[{\"type\":\"scatter3d\",\"line\":{\"colorbar\":{\"outlinewidth\":0,\"ticks\":\"\"}},\"marker\":{\"colorbar\":{\"outlinewidth\":0,\"ticks\":\"\"}}}],\"scattermapbox\":[{\"type\":\"scattermapbox\",\"marker\":{\"colorbar\":{\"outlinewidth\":0,\"ticks\":\"\"}}}],\"scatterternary\":[{\"type\":\"scatterternary\",\"marker\":{\"colorbar\":{\"outlinewidth\":0,\"ticks\":\"\"}}}],\"scattercarpet\":[{\"type\":\"scattercarpet\",\"marker\":{\"colorbar\":{\"outlinewidth\":0,\"ticks\":\"\"}}}],\"carpet\":[{\"aaxis\":{\"endlinecolor\":\"#2a3f5f\",\"gridcolor\":\"white\",\"linecolor\":\"white\",\"minorgridcolor\":\"white\",\"startlinecolor\":\"#2a3f5f\"},\"baxis\":{\"endlinecolor\":\"#2a3f5f\",\"gridcolor\":\"white\",\"linecolor\":\"white\",\"minorgridcolor\":\"white\",\"startlinecolor\":\"#2a3f5f\"},\"type\":\"carpet\"}],\"table\":[{\"cells\":{\"fill\":{\"color\":\"#EBF0F8\"},\"line\":{\"color\":\"white\"}},\"header\":{\"fill\":{\"color\":\"#C8D4E3\"},\"line\":{\"color\":\"white\"}},\"type\":\"table\"}],\"barpolar\":[{\"marker\":{\"line\":{\"color\":\"#E5ECF6\",\"width\":0.5},\"pattern\":{\"fillmode\":\"overlay\",\"size\":10,\"solidity\":0.2}},\"type\":\"barpolar\"}],\"pie\":[{\"automargin\":true,\"type\":\"pie\"}]},\"layout\":{\"autotypenumbers\":\"strict\",\"colorway\":[\"#636efa\",\"#EF553B\",\"#00cc96\",\"#ab63fa\",\"#FFA15A\",\"#19d3f3\",\"#FF6692\",\"#B6E880\",\"#FF97FF\",\"#FECB52\"],\"font\":{\"color\":\"#2a3f5f\"},\"hovermode\":\"closest\",\"hoverlabel\":{\"align\":\"left\"},\"paper_bgcolor\":\"white\",\"plot_bgcolor\":\"#E5ECF6\",\"polar\":{\"bgcolor\":\"#E5ECF6\",\"angularaxis\":{\"gridcolor\":\"white\",\"linecolor\":\"white\",\"ticks\":\"\"},\"radialaxis\":{\"gridcolor\":\"white\",\"linecolor\":\"white\",\"ticks\":\"\"}},\"ternary\":{\"bgcolor\":\"#E5ECF6\",\"aaxis\":{\"gridcolor\":\"white\",\"linecolor\":\"white\",\"ticks\":\"\"},\"baxis\":{\"gridcolor\":\"white\",\"linecolor\":\"white\",\"ticks\":\"\"},\"caxis\":{\"gridcolor\":\"white\",\"linecolor\":\"white\",\"ticks\":\"\"}},\"coloraxis\":{\"colorbar\":{\"outlinewidth\":0,\"ticks\":\"\"}},\"colorscale\":{\"sequential\":[[0.0,\"#0d0887\"],[0.1111111111111111,\"#46039f\"],[0.2222222222222222,\"#7201a8\"],[0.3333333333333333,\"#9c179e\"],[0.4444444444444444,\"#bd3786\"],[0.5555555555555556,\"#d8576b\"],[0.6666666666666666,\"#ed7953\"],[0.7777777777777778,\"#fb9f3a\"],[0.8888888888888888,\"#fdca26\"],[1.0,\"#f0f921\"]],\"sequentialminus\":[[0.0,\"#0d0887\"],[0.1111111111111111,\"#46039f\"],[0.2222222222222222,\"#7201a8\"],[0.3333333333333333,\"#9c179e\"],[0.4444444444444444,\"#bd3786\"],[0.5555555555555556,\"#d8576b\"],[0.6666666666666666,\"#ed7953\"],[0.7777777777777778,\"#fb9f3a\"],[0.8888888888888888,\"#fdca26\"],[1.0,\"#f0f921\"]],\"diverging\":[[0,\"#8e0152\"],[0.1,\"#c51b7d\"],[0.2,\"#de77ae\"],[0.3,\"#f1b6da\"],[0.4,\"#fde0ef\"],[0.5,\"#f7f7f7\"],[0.6,\"#e6f5d0\"],[0.7,\"#b8e186\"],[0.8,\"#7fbc41\"],[0.9,\"#4d9221\"],[1,\"#276419\"]]},\"xaxis\":{\"gridcolor\":\"white\",\"linecolor\":\"white\",\"ticks\":\"\",\"title\":{\"standoff\":15},\"zerolinecolor\":\"white\",\"automargin\":true,\"zerolinewidth\":2},\"yaxis\":{\"gridcolor\":\"white\",\"linecolor\":\"white\",\"ticks\":\"\",\"title\":{\"standoff\":15},\"zerolinecolor\":\"white\",\"automargin\":true,\"zerolinewidth\":2},\"scene\":{\"xaxis\":{\"backgroundcolor\":\"#E5ECF6\",\"gridcolor\":\"white\",\"linecolor\":\"white\",\"showbackground\":true,\"ticks\":\"\",\"zerolinecolor\":\"white\",\"gridwidth\":2},\"yaxis\":{\"backgroundcolor\":\"#E5ECF6\",\"gridcolor\":\"white\",\"linecolor\":\"white\",\"showbackground\":true,\"ticks\":\"\",\"zerolinecolor\":\"white\",\"gridwidth\":2},\"zaxis\":{\"backgroundcolor\":\"#E5ECF6\",\"gridcolor\":\"white\",\"linecolor\":\"white\",\"showbackground\":true,\"ticks\":\"\",\"zerolinecolor\":\"white\",\"gridwidth\":2}},\"shapedefaults\":{\"line\":{\"color\":\"#2a3f5f\"}},\"annotationdefaults\":{\"arrowcolor\":\"#2a3f5f\",\"arrowhead\":0,\"arrowwidth\":1},\"geo\":{\"bgcolor\":\"white\",\"landcolor\":\"#E5ECF6\",\"subunitcolor\":\"white\",\"showland\":true,\"showlakes\":true,\"lakecolor\":\"white\"},\"title\":{\"x\":0.05},\"mapbox\":{\"style\":\"light\"}}},\"legend\":{\"orientation\":\"h\",\"yanchor\":\"bottom\",\"y\":1.02,\"xanchor\":\"center\",\"x\":0.47},\"margin\":{\"b\":1,\"l\":1,\"r\":1,\"autoexpand\":true},\"font\":{\"size\":16},\"title\":{\"text\":\"SeBS: Breadth First Search, EKS normalized runtime differences\",\"x\":0.5,\"xanchor\":\"center\"},\"xaxis\":{\"title\":{\"text\":\"Concurrent calls\"},\"tickmode\":\"array\",\"tickvals\":[32,64,96,128]},\"yaxis\":{\"title\":{\"text\":\"% change\"},\"range\":[-40,110]},\"plot_bgcolor\":\"rgba(245,245,255,255)\"},                        {\"responsive\": true}                    ).then(function(){\n",
       "                            \n",
       "var gd = document.getElementById('9a06827a-3d4f-4b9e-8b6c-9915ed3337f3');\n",
       "var x = new MutationObserver(function (mutations, observer) {{\n",
       "        var display = window.getComputedStyle(gd).display;\n",
       "        if (!display || display === 'none') {{\n",
       "            console.log([gd, 'removed!']);\n",
       "            Plotly.purge(gd);\n",
       "            observer.disconnect();\n",
       "        }}\n",
       "}});\n",
       "\n",
       "// Listen for the removal of the full notebook cells\n",
       "var notebookContainer = gd.closest('#notebook-container');\n",
       "if (notebookContainer) {{\n",
       "    x.observe(notebookContainer, {childList: true});\n",
       "}}\n",
       "\n",
       "// Listen for the clearing of the current output cell\n",
       "var outputEl = gd.closest('.output');\n",
       "if (outputEl) {{\n",
       "    x.observe(outputEl, {childList: true});\n",
       "}}\n",
       "\n",
       "                        })                };                });            </script>        </div>"
      ]
     },
     "metadata": {},
     "output_type": "display_data"
    }
   ],
   "source": [
    "fig = create_figure('SeBS: Breadth First Search, EKS normalized runtime differences', 'Concurrent calls', '% change', concurrent_calls)\n",
    "\n",
    "for i, k in enumerate(list(clusters.keys())[:-1]):\n",
    "    y_data=[]\n",
    "    y_text=[]\n",
    "    for c in concurrent_calls:\n",
    "        kops_mean=sebs_df[k]['bfs'][c]['runtime'].mean()\n",
    "        eks_mean=sebs_df['EKS 8x 8vCPU 16Gb x86_64']['bfs'][c]['runtime'].mean()\n",
    "        percent_change=(kops_mean - eks_mean) * 100 / eks_mean\n",
    "        y_data.append(percent_change)\n",
    "        y_text.append(f'{round(percent_change, 2)} %')\n",
    "    fig.add_trace(go.Bar(name=k,\n",
    "                         x=concurrent_calls,\n",
    "                         y=y_data,\n",
    "                         marker_color=colorPallet[i],\n",
    "                         text=y_text,\n",
    "                         textposition='outside'))\n",
    "fig.update_layout(yaxis_range=[-40,110])\n",
    "fig.show()\n",
    "\n",
    "# Save graph\n",
    "write_image(fig, 'sebs_bfs_percentage_difference.png')"
   ]
  },
  {
   "cell_type": "code",
   "execution_count": 33,
   "id": "91805494-6abe-4ce6-9007-c4c34ab0597c",
   "metadata": {},
   "outputs": [
    {
     "data": {
      "text/html": [
       "<h3><b>kOps 1x 72vCPU 144Gb x86_64</b> and <b>EKS 8x 8vCPU 16Gb x86_64</b> independent t-test (Breadth First Search)</h3>"
      ],
      "text/plain": [
       "<IPython.core.display.HTML object>"
      ]
     },
     "metadata": {},
     "output_type": "display_data"
    },
    {
     "name": "stdout",
     "output_type": "stream",
     "text": [
      "32 concurrent calls\n",
      "Ttest_indResult(statistic=14.591385937970829, pvalue=2.5939278992952715e-42)\n",
      "64 concurrent calls\n",
      "Ttest_indResult(statistic=16.91865691937615, pvalue=1.3708395893385962e-58)\n",
      "96 concurrent calls\n",
      "Ttest_indResult(statistic=25.012589960590027, pvalue=3.819108984091684e-121)\n",
      "128 concurrent calls\n",
      "Ttest_indResult(statistic=6.6886487339589635, pvalue=2.7067902925545843e-11)\n"
     ]
    },
    {
     "data": {
      "text/html": [
       "<h3><b>kOps 8x 8vCPU 16Gb x86_64</b> and <b>EKS 8x 8vCPU 16Gb x86_64</b> independent t-test (Breadth First Search)</h3>"
      ],
      "text/plain": [
       "<IPython.core.display.HTML object>"
      ]
     },
     "metadata": {},
     "output_type": "display_data"
    },
    {
     "name": "stdout",
     "output_type": "stream",
     "text": [
      "32 concurrent calls\n",
      "Ttest_indResult(statistic=0.3916866885259684, pvalue=0.6954085951901683)\n",
      "64 concurrent calls\n",
      "Ttest_indResult(statistic=-0.8084681221756149, pvalue=0.4189579215732139)\n",
      "96 concurrent calls\n",
      "Ttest_indResult(statistic=2.862751400620855, pvalue=0.004241238574824475)\n",
      "128 concurrent calls\n",
      "Ttest_indResult(statistic=4.172150724032215, pvalue=3.108747925965763e-05)\n"
     ]
    },
    {
     "data": {
      "text/html": [
       "<h3><b>kOps 16x 4vCPU 8Gb x86_64</b> and <b>EKS 8x 8vCPU 16Gb x86_64</b> independent t-test (Breadth First Search)</h3>"
      ],
      "text/plain": [
       "<IPython.core.display.HTML object>"
      ]
     },
     "metadata": {},
     "output_type": "display_data"
    },
    {
     "name": "stdout",
     "output_type": "stream",
     "text": [
      "32 concurrent calls\n",
      "Ttest_indResult(statistic=-7.133334612454758, pvalue=2.4447754091408145e-12)\n",
      "64 concurrent calls\n",
      "Ttest_indResult(statistic=-13.030633122742609, pvalue=1.2358998052053654e-36)\n",
      "96 concurrent calls\n",
      "Ttest_indResult(statistic=6.651412073377436, pvalue=3.7282711140270924e-11)\n",
      "128 concurrent calls\n",
      "Ttest_indResult(statistic=5.547692081780463, pvalue=3.177141827016687e-08)\n"
     ]
    }
   ],
   "source": [
    "for k in list(clusters)[:-1]:\n",
    "    display(HTML(f'<h3><b>{k}</b> and <b>EKS 8x 8vCPU 16Gb x86_64</b> independent t-test (Breadth First Search)</h3>'))\n",
    "    for i in range(32,129,32):\n",
    "        print(f'{i} concurrent calls')\n",
    "        print(stats.ttest_ind(sebs_df[k]['bfs'][i]['runtime'], sebs_df['EKS 8x 8vCPU 16Gb x86_64']['bfs'][i]['runtime']))"
   ]
  },
  {
   "cell_type": "code",
   "execution_count": 52,
   "id": "9b2f5d07-edd1-4213-a04a-a6c3c48d0432",
   "metadata": {},
   "outputs": [
    {
     "data": {
      "application/vnd.plotly.v1+json": {
       "config": {
        "plotlyServerURL": "https://plot.ly"
       },
       "data": [
        {
         "marker": {
          "color": "rgba(151, 209, 233, 255)"
         },
         "name": "kOps 1x 72vCPU 144Gb x86_64",
         "text": [
          "113.98 %",
          "53.34 %",
          "53.6 %",
          "55.38 %"
         ],
         "textposition": "outside",
         "type": "bar",
         "x": [
          32,
          64,
          96,
          128
         ],
         "y": [
          113.98007213154838,
          53.34467723067106,
          53.603390752752816,
          55.378848728246304
         ]
        },
        {
         "marker": {
          "color": "rgba(0, 120, 179, 255)"
         },
         "name": "kOps 8x 8vCPU 16Gb x86_64",
         "text": [
          "-1.77 %",
          "-3.47 %",
          "-0.7 %",
          "0.3 %"
         ],
         "textposition": "outside",
         "type": "bar",
         "x": [
          32,
          64,
          96,
          128
         ],
         "y": [
          -1.772724494162243,
          -3.4669786238434503,
          -0.7030657101536486,
          0.29879518072288763
         ]
        },
        {
         "marker": {
          "color": "rgba(179, 223, 146, 255)"
         },
         "name": "kOps 16x 4vCPU 8Gb x86_64",
         "text": [
          "-11.17 %",
          "-32.91 %",
          "19.51 %",
          "23.57 %"
         ],
         "textposition": "outside",
         "type": "bar",
         "x": [
          32,
          64,
          96,
          128
         ],
         "y": [
          -11.1742771563054,
          -32.91204934595341,
          19.51200652949008,
          23.572262382864793
         ]
        }
       ],
       "layout": {
        "autosize": true,
        "font": {
         "size": 16
        },
        "legend": {
         "orientation": "h",
         "x": 0.47,
         "xanchor": "center",
         "y": 1.02,
         "yanchor": "bottom"
        },
        "margin": {
         "autoexpand": true,
         "b": 1,
         "l": 1,
         "r": 1
        },
        "plot_bgcolor": "rgba(245,245,255,255)",
        "template": {
         "data": {
          "bar": [
           {
            "error_x": {
             "color": "#2a3f5f"
            },
            "error_y": {
             "color": "#2a3f5f"
            },
            "marker": {
             "line": {
              "color": "#E5ECF6",
              "width": 0.5
             },
             "pattern": {
              "fillmode": "overlay",
              "size": 10,
              "solidity": 0.2
             }
            },
            "type": "bar"
           }
          ],
          "barpolar": [
           {
            "marker": {
             "line": {
              "color": "#E5ECF6",
              "width": 0.5
             },
             "pattern": {
              "fillmode": "overlay",
              "size": 10,
              "solidity": 0.2
             }
            },
            "type": "barpolar"
           }
          ],
          "carpet": [
           {
            "aaxis": {
             "endlinecolor": "#2a3f5f",
             "gridcolor": "white",
             "linecolor": "white",
             "minorgridcolor": "white",
             "startlinecolor": "#2a3f5f"
            },
            "baxis": {
             "endlinecolor": "#2a3f5f",
             "gridcolor": "white",
             "linecolor": "white",
             "minorgridcolor": "white",
             "startlinecolor": "#2a3f5f"
            },
            "type": "carpet"
           }
          ],
          "choropleth": [
           {
            "colorbar": {
             "outlinewidth": 0,
             "ticks": ""
            },
            "type": "choropleth"
           }
          ],
          "contour": [
           {
            "colorbar": {
             "outlinewidth": 0,
             "ticks": ""
            },
            "colorscale": [
             [
              0,
              "#0d0887"
             ],
             [
              0.1111111111111111,
              "#46039f"
             ],
             [
              0.2222222222222222,
              "#7201a8"
             ],
             [
              0.3333333333333333,
              "#9c179e"
             ],
             [
              0.4444444444444444,
              "#bd3786"
             ],
             [
              0.5555555555555556,
              "#d8576b"
             ],
             [
              0.6666666666666666,
              "#ed7953"
             ],
             [
              0.7777777777777778,
              "#fb9f3a"
             ],
             [
              0.8888888888888888,
              "#fdca26"
             ],
             [
              1,
              "#f0f921"
             ]
            ],
            "type": "contour"
           }
          ],
          "contourcarpet": [
           {
            "colorbar": {
             "outlinewidth": 0,
             "ticks": ""
            },
            "type": "contourcarpet"
           }
          ],
          "heatmap": [
           {
            "colorbar": {
             "outlinewidth": 0,
             "ticks": ""
            },
            "colorscale": [
             [
              0,
              "#0d0887"
             ],
             [
              0.1111111111111111,
              "#46039f"
             ],
             [
              0.2222222222222222,
              "#7201a8"
             ],
             [
              0.3333333333333333,
              "#9c179e"
             ],
             [
              0.4444444444444444,
              "#bd3786"
             ],
             [
              0.5555555555555556,
              "#d8576b"
             ],
             [
              0.6666666666666666,
              "#ed7953"
             ],
             [
              0.7777777777777778,
              "#fb9f3a"
             ],
             [
              0.8888888888888888,
              "#fdca26"
             ],
             [
              1,
              "#f0f921"
             ]
            ],
            "type": "heatmap"
           }
          ],
          "heatmapgl": [
           {
            "colorbar": {
             "outlinewidth": 0,
             "ticks": ""
            },
            "colorscale": [
             [
              0,
              "#0d0887"
             ],
             [
              0.1111111111111111,
              "#46039f"
             ],
             [
              0.2222222222222222,
              "#7201a8"
             ],
             [
              0.3333333333333333,
              "#9c179e"
             ],
             [
              0.4444444444444444,
              "#bd3786"
             ],
             [
              0.5555555555555556,
              "#d8576b"
             ],
             [
              0.6666666666666666,
              "#ed7953"
             ],
             [
              0.7777777777777778,
              "#fb9f3a"
             ],
             [
              0.8888888888888888,
              "#fdca26"
             ],
             [
              1,
              "#f0f921"
             ]
            ],
            "type": "heatmapgl"
           }
          ],
          "histogram": [
           {
            "marker": {
             "pattern": {
              "fillmode": "overlay",
              "size": 10,
              "solidity": 0.2
             }
            },
            "type": "histogram"
           }
          ],
          "histogram2d": [
           {
            "colorbar": {
             "outlinewidth": 0,
             "ticks": ""
            },
            "colorscale": [
             [
              0,
              "#0d0887"
             ],
             [
              0.1111111111111111,
              "#46039f"
             ],
             [
              0.2222222222222222,
              "#7201a8"
             ],
             [
              0.3333333333333333,
              "#9c179e"
             ],
             [
              0.4444444444444444,
              "#bd3786"
             ],
             [
              0.5555555555555556,
              "#d8576b"
             ],
             [
              0.6666666666666666,
              "#ed7953"
             ],
             [
              0.7777777777777778,
              "#fb9f3a"
             ],
             [
              0.8888888888888888,
              "#fdca26"
             ],
             [
              1,
              "#f0f921"
             ]
            ],
            "type": "histogram2d"
           }
          ],
          "histogram2dcontour": [
           {
            "colorbar": {
             "outlinewidth": 0,
             "ticks": ""
            },
            "colorscale": [
             [
              0,
              "#0d0887"
             ],
             [
              0.1111111111111111,
              "#46039f"
             ],
             [
              0.2222222222222222,
              "#7201a8"
             ],
             [
              0.3333333333333333,
              "#9c179e"
             ],
             [
              0.4444444444444444,
              "#bd3786"
             ],
             [
              0.5555555555555556,
              "#d8576b"
             ],
             [
              0.6666666666666666,
              "#ed7953"
             ],
             [
              0.7777777777777778,
              "#fb9f3a"
             ],
             [
              0.8888888888888888,
              "#fdca26"
             ],
             [
              1,
              "#f0f921"
             ]
            ],
            "type": "histogram2dcontour"
           }
          ],
          "mesh3d": [
           {
            "colorbar": {
             "outlinewidth": 0,
             "ticks": ""
            },
            "type": "mesh3d"
           }
          ],
          "parcoords": [
           {
            "line": {
             "colorbar": {
              "outlinewidth": 0,
              "ticks": ""
             }
            },
            "type": "parcoords"
           }
          ],
          "pie": [
           {
            "automargin": true,
            "type": "pie"
           }
          ],
          "scatter": [
           {
            "fillpattern": {
             "fillmode": "overlay",
             "size": 10,
             "solidity": 0.2
            },
            "type": "scatter"
           }
          ],
          "scatter3d": [
           {
            "line": {
             "colorbar": {
              "outlinewidth": 0,
              "ticks": ""
             }
            },
            "marker": {
             "colorbar": {
              "outlinewidth": 0,
              "ticks": ""
             }
            },
            "type": "scatter3d"
           }
          ],
          "scattercarpet": [
           {
            "marker": {
             "colorbar": {
              "outlinewidth": 0,
              "ticks": ""
             }
            },
            "type": "scattercarpet"
           }
          ],
          "scattergeo": [
           {
            "marker": {
             "colorbar": {
              "outlinewidth": 0,
              "ticks": ""
             }
            },
            "type": "scattergeo"
           }
          ],
          "scattergl": [
           {
            "marker": {
             "colorbar": {
              "outlinewidth": 0,
              "ticks": ""
             }
            },
            "type": "scattergl"
           }
          ],
          "scattermapbox": [
           {
            "marker": {
             "colorbar": {
              "outlinewidth": 0,
              "ticks": ""
             }
            },
            "type": "scattermapbox"
           }
          ],
          "scatterpolar": [
           {
            "marker": {
             "colorbar": {
              "outlinewidth": 0,
              "ticks": ""
             }
            },
            "type": "scatterpolar"
           }
          ],
          "scatterpolargl": [
           {
            "marker": {
             "colorbar": {
              "outlinewidth": 0,
              "ticks": ""
             }
            },
            "type": "scatterpolargl"
           }
          ],
          "scatterternary": [
           {
            "marker": {
             "colorbar": {
              "outlinewidth": 0,
              "ticks": ""
             }
            },
            "type": "scatterternary"
           }
          ],
          "surface": [
           {
            "colorbar": {
             "outlinewidth": 0,
             "ticks": ""
            },
            "colorscale": [
             [
              0,
              "#0d0887"
             ],
             [
              0.1111111111111111,
              "#46039f"
             ],
             [
              0.2222222222222222,
              "#7201a8"
             ],
             [
              0.3333333333333333,
              "#9c179e"
             ],
             [
              0.4444444444444444,
              "#bd3786"
             ],
             [
              0.5555555555555556,
              "#d8576b"
             ],
             [
              0.6666666666666666,
              "#ed7953"
             ],
             [
              0.7777777777777778,
              "#fb9f3a"
             ],
             [
              0.8888888888888888,
              "#fdca26"
             ],
             [
              1,
              "#f0f921"
             ]
            ],
            "type": "surface"
           }
          ],
          "table": [
           {
            "cells": {
             "fill": {
              "color": "#EBF0F8"
             },
             "line": {
              "color": "white"
             }
            },
            "header": {
             "fill": {
              "color": "#C8D4E3"
             },
             "line": {
              "color": "white"
             }
            },
            "type": "table"
           }
          ]
         },
         "layout": {
          "annotationdefaults": {
           "arrowcolor": "#2a3f5f",
           "arrowhead": 0,
           "arrowwidth": 1
          },
          "autotypenumbers": "strict",
          "coloraxis": {
           "colorbar": {
            "outlinewidth": 0,
            "ticks": ""
           }
          },
          "colorscale": {
           "diverging": [
            [
             0,
             "#8e0152"
            ],
            [
             0.1,
             "#c51b7d"
            ],
            [
             0.2,
             "#de77ae"
            ],
            [
             0.3,
             "#f1b6da"
            ],
            [
             0.4,
             "#fde0ef"
            ],
            [
             0.5,
             "#f7f7f7"
            ],
            [
             0.6,
             "#e6f5d0"
            ],
            [
             0.7,
             "#b8e186"
            ],
            [
             0.8,
             "#7fbc41"
            ],
            [
             0.9,
             "#4d9221"
            ],
            [
             1,
             "#276419"
            ]
           ],
           "sequential": [
            [
             0,
             "#0d0887"
            ],
            [
             0.1111111111111111,
             "#46039f"
            ],
            [
             0.2222222222222222,
             "#7201a8"
            ],
            [
             0.3333333333333333,
             "#9c179e"
            ],
            [
             0.4444444444444444,
             "#bd3786"
            ],
            [
             0.5555555555555556,
             "#d8576b"
            ],
            [
             0.6666666666666666,
             "#ed7953"
            ],
            [
             0.7777777777777778,
             "#fb9f3a"
            ],
            [
             0.8888888888888888,
             "#fdca26"
            ],
            [
             1,
             "#f0f921"
            ]
           ],
           "sequentialminus": [
            [
             0,
             "#0d0887"
            ],
            [
             0.1111111111111111,
             "#46039f"
            ],
            [
             0.2222222222222222,
             "#7201a8"
            ],
            [
             0.3333333333333333,
             "#9c179e"
            ],
            [
             0.4444444444444444,
             "#bd3786"
            ],
            [
             0.5555555555555556,
             "#d8576b"
            ],
            [
             0.6666666666666666,
             "#ed7953"
            ],
            [
             0.7777777777777778,
             "#fb9f3a"
            ],
            [
             0.8888888888888888,
             "#fdca26"
            ],
            [
             1,
             "#f0f921"
            ]
           ]
          },
          "colorway": [
           "#636efa",
           "#EF553B",
           "#00cc96",
           "#ab63fa",
           "#FFA15A",
           "#19d3f3",
           "#FF6692",
           "#B6E880",
           "#FF97FF",
           "#FECB52"
          ],
          "font": {
           "color": "#2a3f5f"
          },
          "geo": {
           "bgcolor": "white",
           "lakecolor": "white",
           "landcolor": "#E5ECF6",
           "showlakes": true,
           "showland": true,
           "subunitcolor": "white"
          },
          "hoverlabel": {
           "align": "left"
          },
          "hovermode": "closest",
          "mapbox": {
           "style": "light"
          },
          "paper_bgcolor": "white",
          "plot_bgcolor": "#E5ECF6",
          "polar": {
           "angularaxis": {
            "gridcolor": "white",
            "linecolor": "white",
            "ticks": ""
           },
           "bgcolor": "#E5ECF6",
           "radialaxis": {
            "gridcolor": "white",
            "linecolor": "white",
            "ticks": ""
           }
          },
          "scene": {
           "xaxis": {
            "backgroundcolor": "#E5ECF6",
            "gridcolor": "white",
            "gridwidth": 2,
            "linecolor": "white",
            "showbackground": true,
            "ticks": "",
            "zerolinecolor": "white"
           },
           "yaxis": {
            "backgroundcolor": "#E5ECF6",
            "gridcolor": "white",
            "gridwidth": 2,
            "linecolor": "white",
            "showbackground": true,
            "ticks": "",
            "zerolinecolor": "white"
           },
           "zaxis": {
            "backgroundcolor": "#E5ECF6",
            "gridcolor": "white",
            "gridwidth": 2,
            "linecolor": "white",
            "showbackground": true,
            "ticks": "",
            "zerolinecolor": "white"
           }
          },
          "shapedefaults": {
           "line": {
            "color": "#2a3f5f"
           }
          },
          "ternary": {
           "aaxis": {
            "gridcolor": "white",
            "linecolor": "white",
            "ticks": ""
           },
           "baxis": {
            "gridcolor": "white",
            "linecolor": "white",
            "ticks": ""
           },
           "bgcolor": "#E5ECF6",
           "caxis": {
            "gridcolor": "white",
            "linecolor": "white",
            "ticks": ""
           }
          },
          "title": {
           "x": 0.05
          },
          "xaxis": {
           "automargin": true,
           "gridcolor": "white",
           "linecolor": "white",
           "ticks": "",
           "title": {
            "standoff": 15
           },
           "zerolinecolor": "white",
           "zerolinewidth": 2
          },
          "yaxis": {
           "automargin": true,
           "gridcolor": "white",
           "linecolor": "white",
           "ticks": "",
           "title": {
            "standoff": 15
           },
           "zerolinecolor": "white",
           "zerolinewidth": 2
          }
         }
        },
        "title": {
         "text": "SeBS: Minimum Spanning Tree, EKS normalized runtime differences",
         "x": 0.5,
         "xanchor": "center"
        },
        "xaxis": {
         "autorange": true,
         "range": [
          16,
          144
         ],
         "tickmode": "array",
         "tickvals": [
          32,
          64,
          96,
          128
         ],
         "title": {
          "text": "Concurrent calls"
         },
         "type": "linear"
        },
        "yaxis": {
         "range": [
          -45,
          125
         ],
         "title": {
          "text": "% change"
         },
         "type": "linear"
        }
       }
      },
      "image/png": "[encoded data removed]",
      "text/html": [
       "<div>                            <div id=\"dc62d389-5802-42a6-8996-2108c20258e0\" class=\"plotly-graph-div\" style=\"height:525px; width:100%;\"></div>            <script type=\"text/javascript\">                require([\"plotly\"], function(Plotly) {                    window.PLOTLYENV=window.PLOTLYENV || {};                                    if (document.getElementById(\"dc62d389-5802-42a6-8996-2108c20258e0\")) {                    Plotly.newPlot(                        \"dc62d389-5802-42a6-8996-2108c20258e0\",                        [{\"marker\":{\"color\":\"rgba(151, 209, 233, 255)\"},\"name\":\"kOps 1x 72vCPU 144Gb x86_64\",\"text\":[\"113.98 %\",\"53.34 %\",\"53.6 %\",\"55.38 %\"],\"textposition\":\"outside\",\"x\":[32,64,96,128],\"y\":[113.98007213154838,53.34467723067106,53.603390752752816,55.378848728246304],\"type\":\"bar\"},{\"marker\":{\"color\":\"rgba(0, 120, 179, 255)\"},\"name\":\"kOps 8x 8vCPU 16Gb x86_64\",\"text\":[\"-1.77 %\",\"-3.47 %\",\"-0.7 %\",\"0.3 %\"],\"textposition\":\"outside\",\"x\":[32,64,96,128],\"y\":[-1.772724494162243,-3.4669786238434503,-0.7030657101536486,0.29879518072288763],\"type\":\"bar\"},{\"marker\":{\"color\":\"rgba(179, 223, 146, 255)\"},\"name\":\"kOps 16x 4vCPU 8Gb x86_64\",\"text\":[\"-11.17 %\",\"-32.91 %\",\"19.51 %\",\"23.57 %\"],\"textposition\":\"outside\",\"x\":[32,64,96,128],\"y\":[-11.1742771563054,-32.91204934595341,19.51200652949008,23.572262382864793],\"type\":\"bar\"}],                        {\"template\":{\"data\":{\"histogram2dcontour\":[{\"type\":\"histogram2dcontour\",\"colorbar\":{\"outlinewidth\":0,\"ticks\":\"\"},\"colorscale\":[[0.0,\"#0d0887\"],[0.1111111111111111,\"#46039f\"],[0.2222222222222222,\"#7201a8\"],[0.3333333333333333,\"#9c179e\"],[0.4444444444444444,\"#bd3786\"],[0.5555555555555556,\"#d8576b\"],[0.6666666666666666,\"#ed7953\"],[0.7777777777777778,\"#fb9f3a\"],[0.8888888888888888,\"#fdca26\"],[1.0,\"#f0f921\"]]}],\"choropleth\":[{\"type\":\"choropleth\",\"colorbar\":{\"outlinewidth\":0,\"ticks\":\"\"}}],\"histogram2d\":[{\"type\":\"histogram2d\",\"colorbar\":{\"outlinewidth\":0,\"ticks\":\"\"},\"colorscale\":[[0.0,\"#0d0887\"],[0.1111111111111111,\"#46039f\"],[0.2222222222222222,\"#7201a8\"],[0.3333333333333333,\"#9c179e\"],[0.4444444444444444,\"#bd3786\"],[0.5555555555555556,\"#d8576b\"],[0.6666666666666666,\"#ed7953\"],[0.7777777777777778,\"#fb9f3a\"],[0.8888888888888888,\"#fdca26\"],[1.0,\"#f0f921\"]]}],\"heatmap\":[{\"type\":\"heatmap\",\"colorbar\":{\"outlinewidth\":0,\"ticks\":\"\"},\"colorscale\":[[0.0,\"#0d0887\"],[0.1111111111111111,\"#46039f\"],[0.2222222222222222,\"#7201a8\"],[0.3333333333333333,\"#9c179e\"],[0.4444444444444444,\"#bd3786\"],[0.5555555555555556,\"#d8576b\"],[0.6666666666666666,\"#ed7953\"],[0.7777777777777778,\"#fb9f3a\"],[0.8888888888888888,\"#fdca26\"],[1.0,\"#f0f921\"]]}],\"heatmapgl\":[{\"type\":\"heatmapgl\",\"colorbar\":{\"outlinewidth\":0,\"ticks\":\"\"},\"colorscale\":[[0.0,\"#0d0887\"],[0.1111111111111111,\"#46039f\"],[0.2222222222222222,\"#7201a8\"],[0.3333333333333333,\"#9c179e\"],[0.4444444444444444,\"#bd3786\"],[0.5555555555555556,\"#d8576b\"],[0.6666666666666666,\"#ed7953\"],[0.7777777777777778,\"#fb9f3a\"],[0.8888888888888888,\"#fdca26\"],[1.0,\"#f0f921\"]]}],\"contourcarpet\":[{\"type\":\"contourcarpet\",\"colorbar\":{\"outlinewidth\":0,\"ticks\":\"\"}}],\"contour\":[{\"type\":\"contour\",\"colorbar\":{\"outlinewidth\":0,\"ticks\":\"\"},\"colorscale\":[[0.0,\"#0d0887\"],[0.1111111111111111,\"#46039f\"],[0.2222222222222222,\"#7201a8\"],[0.3333333333333333,\"#9c179e\"],[0.4444444444444444,\"#bd3786\"],[0.5555555555555556,\"#d8576b\"],[0.6666666666666666,\"#ed7953\"],[0.7777777777777778,\"#fb9f3a\"],[0.8888888888888888,\"#fdca26\"],[1.0,\"#f0f921\"]]}],\"surface\":[{\"type\":\"surface\",\"colorbar\":{\"outlinewidth\":0,\"ticks\":\"\"},\"colorscale\":[[0.0,\"#0d0887\"],[0.1111111111111111,\"#46039f\"],[0.2222222222222222,\"#7201a8\"],[0.3333333333333333,\"#9c179e\"],[0.4444444444444444,\"#bd3786\"],[0.5555555555555556,\"#d8576b\"],[0.6666666666666666,\"#ed7953\"],[0.7777777777777778,\"#fb9f3a\"],[0.8888888888888888,\"#fdca26\"],[1.0,\"#f0f921\"]]}],\"mesh3d\":[{\"type\":\"mesh3d\",\"colorbar\":{\"outlinewidth\":0,\"ticks\":\"\"}}],\"scatter\":[{\"fillpattern\":{\"fillmode\":\"overlay\",\"size\":10,\"solidity\":0.2},\"type\":\"scatter\"}],\"parcoords\":[{\"type\":\"parcoords\",\"line\":{\"colorbar\":{\"outlinewidth\":0,\"ticks\":\"\"}}}],\"scatterpolargl\":[{\"type\":\"scatterpolargl\",\"marker\":{\"colorbar\":{\"outlinewidth\":0,\"ticks\":\"\"}}}],\"bar\":[{\"error_x\":{\"color\":\"#2a3f5f\"},\"error_y\":{\"color\":\"#2a3f5f\"},\"marker\":{\"line\":{\"color\":\"#E5ECF6\",\"width\":0.5},\"pattern\":{\"fillmode\":\"overlay\",\"size\":10,\"solidity\":0.2}},\"type\":\"bar\"}],\"scattergeo\":[{\"type\":\"scattergeo\",\"marker\":{\"colorbar\":{\"outlinewidth\":0,\"ticks\":\"\"}}}],\"scatterpolar\":[{\"type\":\"scatterpolar\",\"marker\":{\"colorbar\":{\"outlinewidth\":0,\"ticks\":\"\"}}}],\"histogram\":[{\"marker\":{\"pattern\":{\"fillmode\":\"overlay\",\"size\":10,\"solidity\":0.2}},\"type\":\"histogram\"}],\"scattergl\":[{\"type\":\"scattergl\",\"marker\":{\"colorbar\":{\"outlinewidth\":0,\"ticks\":\"\"}}}],\"scatter3d\":[{\"type\":\"scatter3d\",\"line\":{\"colorbar\":{\"outlinewidth\":0,\"ticks\":\"\"}},\"marker\":{\"colorbar\":{\"outlinewidth\":0,\"ticks\":\"\"}}}],\"scattermapbox\":[{\"type\":\"scattermapbox\",\"marker\":{\"colorbar\":{\"outlinewidth\":0,\"ticks\":\"\"}}}],\"scatterternary\":[{\"type\":\"scatterternary\",\"marker\":{\"colorbar\":{\"outlinewidth\":0,\"ticks\":\"\"}}}],\"scattercarpet\":[{\"type\":\"scattercarpet\",\"marker\":{\"colorbar\":{\"outlinewidth\":0,\"ticks\":\"\"}}}],\"carpet\":[{\"aaxis\":{\"endlinecolor\":\"#2a3f5f\",\"gridcolor\":\"white\",\"linecolor\":\"white\",\"minorgridcolor\":\"white\",\"startlinecolor\":\"#2a3f5f\"},\"baxis\":{\"endlinecolor\":\"#2a3f5f\",\"gridcolor\":\"white\",\"linecolor\":\"white\",\"minorgridcolor\":\"white\",\"startlinecolor\":\"#2a3f5f\"},\"type\":\"carpet\"}],\"table\":[{\"cells\":{\"fill\":{\"color\":\"#EBF0F8\"},\"line\":{\"color\":\"white\"}},\"header\":{\"fill\":{\"color\":\"#C8D4E3\"},\"line\":{\"color\":\"white\"}},\"type\":\"table\"}],\"barpolar\":[{\"marker\":{\"line\":{\"color\":\"#E5ECF6\",\"width\":0.5},\"pattern\":{\"fillmode\":\"overlay\",\"size\":10,\"solidity\":0.2}},\"type\":\"barpolar\"}],\"pie\":[{\"automargin\":true,\"type\":\"pie\"}]},\"layout\":{\"autotypenumbers\":\"strict\",\"colorway\":[\"#636efa\",\"#EF553B\",\"#00cc96\",\"#ab63fa\",\"#FFA15A\",\"#19d3f3\",\"#FF6692\",\"#B6E880\",\"#FF97FF\",\"#FECB52\"],\"font\":{\"color\":\"#2a3f5f\"},\"hovermode\":\"closest\",\"hoverlabel\":{\"align\":\"left\"},\"paper_bgcolor\":\"white\",\"plot_bgcolor\":\"#E5ECF6\",\"polar\":{\"bgcolor\":\"#E5ECF6\",\"angularaxis\":{\"gridcolor\":\"white\",\"linecolor\":\"white\",\"ticks\":\"\"},\"radialaxis\":{\"gridcolor\":\"white\",\"linecolor\":\"white\",\"ticks\":\"\"}},\"ternary\":{\"bgcolor\":\"#E5ECF6\",\"aaxis\":{\"gridcolor\":\"white\",\"linecolor\":\"white\",\"ticks\":\"\"},\"baxis\":{\"gridcolor\":\"white\",\"linecolor\":\"white\",\"ticks\":\"\"},\"caxis\":{\"gridcolor\":\"white\",\"linecolor\":\"white\",\"ticks\":\"\"}},\"coloraxis\":{\"colorbar\":{\"outlinewidth\":0,\"ticks\":\"\"}},\"colorscale\":{\"sequential\":[[0.0,\"#0d0887\"],[0.1111111111111111,\"#46039f\"],[0.2222222222222222,\"#7201a8\"],[0.3333333333333333,\"#9c179e\"],[0.4444444444444444,\"#bd3786\"],[0.5555555555555556,\"#d8576b\"],[0.6666666666666666,\"#ed7953\"],[0.7777777777777778,\"#fb9f3a\"],[0.8888888888888888,\"#fdca26\"],[1.0,\"#f0f921\"]],\"sequentialminus\":[[0.0,\"#0d0887\"],[0.1111111111111111,\"#46039f\"],[0.2222222222222222,\"#7201a8\"],[0.3333333333333333,\"#9c179e\"],[0.4444444444444444,\"#bd3786\"],[0.5555555555555556,\"#d8576b\"],[0.6666666666666666,\"#ed7953\"],[0.7777777777777778,\"#fb9f3a\"],[0.8888888888888888,\"#fdca26\"],[1.0,\"#f0f921\"]],\"diverging\":[[0,\"#8e0152\"],[0.1,\"#c51b7d\"],[0.2,\"#de77ae\"],[0.3,\"#f1b6da\"],[0.4,\"#fde0ef\"],[0.5,\"#f7f7f7\"],[0.6,\"#e6f5d0\"],[0.7,\"#b8e186\"],[0.8,\"#7fbc41\"],[0.9,\"#4d9221\"],[1,\"#276419\"]]},\"xaxis\":{\"gridcolor\":\"white\",\"linecolor\":\"white\",\"ticks\":\"\",\"title\":{\"standoff\":15},\"zerolinecolor\":\"white\",\"automargin\":true,\"zerolinewidth\":2},\"yaxis\":{\"gridcolor\":\"white\",\"linecolor\":\"white\",\"ticks\":\"\",\"title\":{\"standoff\":15},\"zerolinecolor\":\"white\",\"automargin\":true,\"zerolinewidth\":2},\"scene\":{\"xaxis\":{\"backgroundcolor\":\"#E5ECF6\",\"gridcolor\":\"white\",\"linecolor\":\"white\",\"showbackground\":true,\"ticks\":\"\",\"zerolinecolor\":\"white\",\"gridwidth\":2},\"yaxis\":{\"backgroundcolor\":\"#E5ECF6\",\"gridcolor\":\"white\",\"linecolor\":\"white\",\"showbackground\":true,\"ticks\":\"\",\"zerolinecolor\":\"white\",\"gridwidth\":2},\"zaxis\":{\"backgroundcolor\":\"#E5ECF6\",\"gridcolor\":\"white\",\"linecolor\":\"white\",\"showbackground\":true,\"ticks\":\"\",\"zerolinecolor\":\"white\",\"gridwidth\":2}},\"shapedefaults\":{\"line\":{\"color\":\"#2a3f5f\"}},\"annotationdefaults\":{\"arrowcolor\":\"#2a3f5f\",\"arrowhead\":0,\"arrowwidth\":1},\"geo\":{\"bgcolor\":\"white\",\"landcolor\":\"#E5ECF6\",\"subunitcolor\":\"white\",\"showland\":true,\"showlakes\":true,\"lakecolor\":\"white\"},\"title\":{\"x\":0.05},\"mapbox\":{\"style\":\"light\"}}},\"legend\":{\"orientation\":\"h\",\"yanchor\":\"bottom\",\"y\":1.02,\"xanchor\":\"center\",\"x\":0.47},\"margin\":{\"b\":1,\"l\":1,\"r\":1,\"autoexpand\":true},\"font\":{\"size\":16},\"title\":{\"text\":\"SeBS: Minimum Spanning Tree, EKS normalized runtime differences\",\"x\":0.5,\"xanchor\":\"center\"},\"xaxis\":{\"title\":{\"text\":\"Concurrent calls\"},\"tickmode\":\"array\",\"tickvals\":[32,64,96,128]},\"yaxis\":{\"title\":{\"text\":\"% change\"},\"range\":[-45,125]},\"plot_bgcolor\":\"rgba(245,245,255,255)\"},                        {\"responsive\": true}                    ).then(function(){\n",
       "                            \n",
       "var gd = document.getElementById('dc62d389-5802-42a6-8996-2108c20258e0');\n",
       "var x = new MutationObserver(function (mutations, observer) {{\n",
       "        var display = window.getComputedStyle(gd).display;\n",
       "        if (!display || display === 'none') {{\n",
       "            console.log([gd, 'removed!']);\n",
       "            Plotly.purge(gd);\n",
       "            observer.disconnect();\n",
       "        }}\n",
       "}});\n",
       "\n",
       "// Listen for the removal of the full notebook cells\n",
       "var notebookContainer = gd.closest('#notebook-container');\n",
       "if (notebookContainer) {{\n",
       "    x.observe(notebookContainer, {childList: true});\n",
       "}}\n",
       "\n",
       "// Listen for the clearing of the current output cell\n",
       "var outputEl = gd.closest('.output');\n",
       "if (outputEl) {{\n",
       "    x.observe(outputEl, {childList: true});\n",
       "}}\n",
       "\n",
       "                        })                };                });            </script>        </div>"
      ]
     },
     "metadata": {},
     "output_type": "display_data"
    }
   ],
   "source": [
    "fig = create_figure('SeBS: Minimum Spanning Tree, EKS normalized runtime differences', 'Concurrent calls', '% change', concurrent_calls)\n",
    "\n",
    "for i, k in enumerate(list(clusters.keys())[:-1]):\n",
    "    y_data=[]\n",
    "    y_text=[]\n",
    "    for c in concurrent_calls:\n",
    "        kops_mean=sebs_df[k]['mst'][c]['runtime'].mean()\n",
    "        eks_mean=sebs_df['EKS 8x 8vCPU 16Gb x86_64']['mst'][c]['runtime'].mean()\n",
    "        percent_change=(kops_mean - eks_mean) * 100 / eks_mean\n",
    "        y_data.append(percent_change)\n",
    "        y_text.append(f'{round(percent_change, 2)} %')\n",
    "    fig.add_trace(go.Bar(name=k,\n",
    "                         x=concurrent_calls,\n",
    "                         y=y_data,\n",
    "                         marker_color=colorPallet[i],\n",
    "                         text=y_text,\n",
    "                         textposition='outside'))\n",
    "fig.update_layout(yaxis_range=[-45,125])\n",
    "fig.show()\n",
    "\n",
    "# Save graph\n",
    "write_image(fig, 'sebs_mst_percentage_difference.png')"
   ]
  },
  {
   "cell_type": "code",
   "execution_count": 35,
   "id": "65a19334-f67f-4866-93fc-fdcd8643c014",
   "metadata": {},
   "outputs": [
    {
     "data": {
      "text/html": [
       "<h3><b>kOps 1x 72vCPU 144Gb x86_64</b> and <b>EKS 8x 8vCPU 16Gb x86_64</b> independent t-test (Minimum Spanning Tree)</h3>"
      ],
      "text/plain": [
       "<IPython.core.display.HTML object>"
      ]
     },
     "metadata": {},
     "output_type": "display_data"
    },
    {
     "name": "stdout",
     "output_type": "stream",
     "text": [
      "32 concurrent calls\n",
      "Ttest_indResult(statistic=26.190768941773467, pvalue=5.265530026649533e-106)\n",
      "64 concurrent calls\n",
      "Ttest_indResult(statistic=19.525645311229614, pvalue=2.5674203068036294e-75)\n",
      "96 concurrent calls\n",
      "Ttest_indResult(statistic=31.774691687111066, pvalue=2.1055706525940303e-181)\n",
      "128 concurrent calls\n",
      "Ttest_indResult(statistic=32.28225295462179, pvalue=8.756794264699957e-195)\n"
     ]
    },
    {
     "data": {
      "text/html": [
       "<h3><b>kOps 8x 8vCPU 16Gb x86_64</b> and <b>EKS 8x 8vCPU 16Gb x86_64</b> independent t-test (Minimum Spanning Tree)</h3>"
      ],
      "text/plain": [
       "<IPython.core.display.HTML object>"
      ]
     },
     "metadata": {},
     "output_type": "display_data"
    },
    {
     "name": "stdout",
     "output_type": "stream",
     "text": [
      "32 concurrent calls\n",
      "Ttest_indResult(statistic=-0.4492158847180817, pvalue=0.6534145789277719)\n",
      "64 concurrent calls\n",
      "Ttest_indResult(statistic=-1.5863142083619999, pvalue=0.1128929092506524)\n",
      "96 concurrent calls\n",
      "Ttest_indResult(statistic=-0.37470085487847327, pvalue=0.707920611463195)\n",
      "128 concurrent calls\n",
      "Ttest_indResult(statistic=0.18630955370852104, pvalue=0.852215445146286)\n"
     ]
    },
    {
     "data": {
      "text/html": [
       "<h3><b>kOps 16x 4vCPU 8Gb x86_64</b> and <b>EKS 8x 8vCPU 16Gb x86_64</b> independent t-test (Minimum Spanning Tree)</h3>"
      ],
      "text/plain": [
       "<IPython.core.display.HTML object>"
      ]
     },
     "metadata": {},
     "output_type": "display_data"
    },
    {
     "name": "stdout",
     "output_type": "stream",
     "text": [
      "32 concurrent calls\n",
      "Ttest_indResult(statistic=-2.9137214660647888, pvalue=0.0036850349973712353)\n",
      "64 concurrent calls\n",
      "Ttest_indResult(statistic=-16.933580878222426, pvalue=1.914100176819247e-58)\n",
      "96 concurrent calls\n",
      "Ttest_indResult(statistic=10.574844283245213, pvalue=1.789574411979273e-25)\n",
      "128 concurrent calls\n",
      "Ttest_indResult(statistic=14.514650180206152, pvalue=5.15722865205636e-46)\n"
     ]
    }
   ],
   "source": [
    "for k in list(clusters)[:-1]:\n",
    "    display(HTML(f'<h3><b>{k}</b> and <b>EKS 8x 8vCPU 16Gb x86_64</b> independent t-test (Minimum Spanning Tree)</h3>'))\n",
    "    for i in range(32,129,32):\n",
    "        print(f'{i} concurrent calls')\n",
    "        print(stats.ttest_ind(sebs_df[k]['mst'][i]['runtime'], sebs_df['EKS 8x 8vCPU 16Gb x86_64']['mst'][i]['runtime']))"
   ]
  },
  {
   "cell_type": "code",
   "execution_count": 55,
   "id": "de7e07c8-28d2-4b1e-90d7-877d5edd8c7e",
   "metadata": {},
   "outputs": [
    {
     "data": {
      "application/vnd.plotly.v1+json": {
       "config": {
        "plotlyServerURL": "https://plot.ly"
       },
       "data": [
        {
         "marker": {
          "color": "rgba(151, 209, 233, 255)"
         },
         "name": "kOps 1x 72vCPU 144Gb x86_64",
         "text": [
          "124.86 %",
          "67.98 %",
          "62.19 %",
          "59.09 %"
         ],
         "textposition": "outside",
         "type": "bar",
         "x": [
          32,
          64,
          96,
          128
         ],
         "y": [
          124.86426704202697,
          67.97964178304862,
          62.18697894451122,
          59.087022935570644
         ]
        },
        {
         "marker": {
          "color": "rgba(0, 120, 179, 255)"
         },
         "name": "kOps 8x 8vCPU 16Gb x86_64",
         "text": [
          "-3.32 %",
          "-3.43 %",
          "-1.37 %",
          "0.61 %"
         ],
         "textposition": "outside",
         "type": "bar",
         "x": [
          32,
          64,
          96,
          128
         ],
         "y": [
          -3.317916750452443,
          -3.4263171352384685,
          -1.3711272247857595,
          0.6149970361588557
         ]
        },
        {
         "marker": {
          "color": "rgba(179, 223, 146, 255)"
         },
         "name": "kOps 16x 4vCPU 8Gb x86_64",
         "text": [
          "-12.97 %",
          "-27.66 %",
          "16.87 %",
          "14.6 %"
         ],
         "textposition": "outside",
         "type": "bar",
         "x": [
          32,
          64,
          96,
          128
         ],
         "y": [
          -12.973389637375163,
          -27.66136200367714,
          16.867268990654928,
          14.60256030276778
         ]
        }
       ],
       "layout": {
        "autosize": true,
        "font": {
         "size": 16
        },
        "legend": {
         "orientation": "h",
         "x": 0.47,
         "xanchor": "center",
         "y": 1.02,
         "yanchor": "bottom"
        },
        "margin": {
         "autoexpand": true,
         "b": 1,
         "l": 1,
         "r": 1
        },
        "plot_bgcolor": "rgba(245,245,255,255)",
        "template": {
         "data": {
          "bar": [
           {
            "error_x": {
             "color": "#2a3f5f"
            },
            "error_y": {
             "color": "#2a3f5f"
            },
            "marker": {
             "line": {
              "color": "#E5ECF6",
              "width": 0.5
             },
             "pattern": {
              "fillmode": "overlay",
              "size": 10,
              "solidity": 0.2
             }
            },
            "type": "bar"
           }
          ],
          "barpolar": [
           {
            "marker": {
             "line": {
              "color": "#E5ECF6",
              "width": 0.5
             },
             "pattern": {
              "fillmode": "overlay",
              "size": 10,
              "solidity": 0.2
             }
            },
            "type": "barpolar"
           }
          ],
          "carpet": [
           {
            "aaxis": {
             "endlinecolor": "#2a3f5f",
             "gridcolor": "white",
             "linecolor": "white",
             "minorgridcolor": "white",
             "startlinecolor": "#2a3f5f"
            },
            "baxis": {
             "endlinecolor": "#2a3f5f",
             "gridcolor": "white",
             "linecolor": "white",
             "minorgridcolor": "white",
             "startlinecolor": "#2a3f5f"
            },
            "type": "carpet"
           }
          ],
          "choropleth": [
           {
            "colorbar": {
             "outlinewidth": 0,
             "ticks": ""
            },
            "type": "choropleth"
           }
          ],
          "contour": [
           {
            "colorbar": {
             "outlinewidth": 0,
             "ticks": ""
            },
            "colorscale": [
             [
              0,
              "#0d0887"
             ],
             [
              0.1111111111111111,
              "#46039f"
             ],
             [
              0.2222222222222222,
              "#7201a8"
             ],
             [
              0.3333333333333333,
              "#9c179e"
             ],
             [
              0.4444444444444444,
              "#bd3786"
             ],
             [
              0.5555555555555556,
              "#d8576b"
             ],
             [
              0.6666666666666666,
              "#ed7953"
             ],
             [
              0.7777777777777778,
              "#fb9f3a"
             ],
             [
              0.8888888888888888,
              "#fdca26"
             ],
             [
              1,
              "#f0f921"
             ]
            ],
            "type": "contour"
           }
          ],
          "contourcarpet": [
           {
            "colorbar": {
             "outlinewidth": 0,
             "ticks": ""
            },
            "type": "contourcarpet"
           }
          ],
          "heatmap": [
           {
            "colorbar": {
             "outlinewidth": 0,
             "ticks": ""
            },
            "colorscale": [
             [
              0,
              "#0d0887"
             ],
             [
              0.1111111111111111,
              "#46039f"
             ],
             [
              0.2222222222222222,
              "#7201a8"
             ],
             [
              0.3333333333333333,
              "#9c179e"
             ],
             [
              0.4444444444444444,
              "#bd3786"
             ],
             [
              0.5555555555555556,
              "#d8576b"
             ],
             [
              0.6666666666666666,
              "#ed7953"
             ],
             [
              0.7777777777777778,
              "#fb9f3a"
             ],
             [
              0.8888888888888888,
              "#fdca26"
             ],
             [
              1,
              "#f0f921"
             ]
            ],
            "type": "heatmap"
           }
          ],
          "heatmapgl": [
           {
            "colorbar": {
             "outlinewidth": 0,
             "ticks": ""
            },
            "colorscale": [
             [
              0,
              "#0d0887"
             ],
             [
              0.1111111111111111,
              "#46039f"
             ],
             [
              0.2222222222222222,
              "#7201a8"
             ],
             [
              0.3333333333333333,
              "#9c179e"
             ],
             [
              0.4444444444444444,
              "#bd3786"
             ],
             [
              0.5555555555555556,
              "#d8576b"
             ],
             [
              0.6666666666666666,
              "#ed7953"
             ],
             [
              0.7777777777777778,
              "#fb9f3a"
             ],
             [
              0.8888888888888888,
              "#fdca26"
             ],
             [
              1,
              "#f0f921"
             ]
            ],
            "type": "heatmapgl"
           }
          ],
          "histogram": [
           {
            "marker": {
             "pattern": {
              "fillmode": "overlay",
              "size": 10,
              "solidity": 0.2
             }
            },
            "type": "histogram"
           }
          ],
          "histogram2d": [
           {
            "colorbar": {
             "outlinewidth": 0,
             "ticks": ""
            },
            "colorscale": [
             [
              0,
              "#0d0887"
             ],
             [
              0.1111111111111111,
              "#46039f"
             ],
             [
              0.2222222222222222,
              "#7201a8"
             ],
             [
              0.3333333333333333,
              "#9c179e"
             ],
             [
              0.4444444444444444,
              "#bd3786"
             ],
             [
              0.5555555555555556,
              "#d8576b"
             ],
             [
              0.6666666666666666,
              "#ed7953"
             ],
             [
              0.7777777777777778,
              "#fb9f3a"
             ],
             [
              0.8888888888888888,
              "#fdca26"
             ],
             [
              1,
              "#f0f921"
             ]
            ],
            "type": "histogram2d"
           }
          ],
          "histogram2dcontour": [
           {
            "colorbar": {
             "outlinewidth": 0,
             "ticks": ""
            },
            "colorscale": [
             [
              0,
              "#0d0887"
             ],
             [
              0.1111111111111111,
              "#46039f"
             ],
             [
              0.2222222222222222,
              "#7201a8"
             ],
             [
              0.3333333333333333,
              "#9c179e"
             ],
             [
              0.4444444444444444,
              "#bd3786"
             ],
             [
              0.5555555555555556,
              "#d8576b"
             ],
             [
              0.6666666666666666,
              "#ed7953"
             ],
             [
              0.7777777777777778,
              "#fb9f3a"
             ],
             [
              0.8888888888888888,
              "#fdca26"
             ],
             [
              1,
              "#f0f921"
             ]
            ],
            "type": "histogram2dcontour"
           }
          ],
          "mesh3d": [
           {
            "colorbar": {
             "outlinewidth": 0,
             "ticks": ""
            },
            "type": "mesh3d"
           }
          ],
          "parcoords": [
           {
            "line": {
             "colorbar": {
              "outlinewidth": 0,
              "ticks": ""
             }
            },
            "type": "parcoords"
           }
          ],
          "pie": [
           {
            "automargin": true,
            "type": "pie"
           }
          ],
          "scatter": [
           {
            "fillpattern": {
             "fillmode": "overlay",
             "size": 10,
             "solidity": 0.2
            },
            "type": "scatter"
           }
          ],
          "scatter3d": [
           {
            "line": {
             "colorbar": {
              "outlinewidth": 0,
              "ticks": ""
             }
            },
            "marker": {
             "colorbar": {
              "outlinewidth": 0,
              "ticks": ""
             }
            },
            "type": "scatter3d"
           }
          ],
          "scattercarpet": [
           {
            "marker": {
             "colorbar": {
              "outlinewidth": 0,
              "ticks": ""
             }
            },
            "type": "scattercarpet"
           }
          ],
          "scattergeo": [
           {
            "marker": {
             "colorbar": {
              "outlinewidth": 0,
              "ticks": ""
             }
            },
            "type": "scattergeo"
           }
          ],
          "scattergl": [
           {
            "marker": {
             "colorbar": {
              "outlinewidth": 0,
              "ticks": ""
             }
            },
            "type": "scattergl"
           }
          ],
          "scattermapbox": [
           {
            "marker": {
             "colorbar": {
              "outlinewidth": 0,
              "ticks": ""
             }
            },
            "type": "scattermapbox"
           }
          ],
          "scatterpolar": [
           {
            "marker": {
             "colorbar": {
              "outlinewidth": 0,
              "ticks": ""
             }
            },
            "type": "scatterpolar"
           }
          ],
          "scatterpolargl": [
           {
            "marker": {
             "colorbar": {
              "outlinewidth": 0,
              "ticks": ""
             }
            },
            "type": "scatterpolargl"
           }
          ],
          "scatterternary": [
           {
            "marker": {
             "colorbar": {
              "outlinewidth": 0,
              "ticks": ""
             }
            },
            "type": "scatterternary"
           }
          ],
          "surface": [
           {
            "colorbar": {
             "outlinewidth": 0,
             "ticks": ""
            },
            "colorscale": [
             [
              0,
              "#0d0887"
             ],
             [
              0.1111111111111111,
              "#46039f"
             ],
             [
              0.2222222222222222,
              "#7201a8"
             ],
             [
              0.3333333333333333,
              "#9c179e"
             ],
             [
              0.4444444444444444,
              "#bd3786"
             ],
             [
              0.5555555555555556,
              "#d8576b"
             ],
             [
              0.6666666666666666,
              "#ed7953"
             ],
             [
              0.7777777777777778,
              "#fb9f3a"
             ],
             [
              0.8888888888888888,
              "#fdca26"
             ],
             [
              1,
              "#f0f921"
             ]
            ],
            "type": "surface"
           }
          ],
          "table": [
           {
            "cells": {
             "fill": {
              "color": "#EBF0F8"
             },
             "line": {
              "color": "white"
             }
            },
            "header": {
             "fill": {
              "color": "#C8D4E3"
             },
             "line": {
              "color": "white"
             }
            },
            "type": "table"
           }
          ]
         },
         "layout": {
          "annotationdefaults": {
           "arrowcolor": "#2a3f5f",
           "arrowhead": 0,
           "arrowwidth": 1
          },
          "autotypenumbers": "strict",
          "coloraxis": {
           "colorbar": {
            "outlinewidth": 0,
            "ticks": ""
           }
          },
          "colorscale": {
           "diverging": [
            [
             0,
             "#8e0152"
            ],
            [
             0.1,
             "#c51b7d"
            ],
            [
             0.2,
             "#de77ae"
            ],
            [
             0.3,
             "#f1b6da"
            ],
            [
             0.4,
             "#fde0ef"
            ],
            [
             0.5,
             "#f7f7f7"
            ],
            [
             0.6,
             "#e6f5d0"
            ],
            [
             0.7,
             "#b8e186"
            ],
            [
             0.8,
             "#7fbc41"
            ],
            [
             0.9,
             "#4d9221"
            ],
            [
             1,
             "#276419"
            ]
           ],
           "sequential": [
            [
             0,
             "#0d0887"
            ],
            [
             0.1111111111111111,
             "#46039f"
            ],
            [
             0.2222222222222222,
             "#7201a8"
            ],
            [
             0.3333333333333333,
             "#9c179e"
            ],
            [
             0.4444444444444444,
             "#bd3786"
            ],
            [
             0.5555555555555556,
             "#d8576b"
            ],
            [
             0.6666666666666666,
             "#ed7953"
            ],
            [
             0.7777777777777778,
             "#fb9f3a"
            ],
            [
             0.8888888888888888,
             "#fdca26"
            ],
            [
             1,
             "#f0f921"
            ]
           ],
           "sequentialminus": [
            [
             0,
             "#0d0887"
            ],
            [
             0.1111111111111111,
             "#46039f"
            ],
            [
             0.2222222222222222,
             "#7201a8"
            ],
            [
             0.3333333333333333,
             "#9c179e"
            ],
            [
             0.4444444444444444,
             "#bd3786"
            ],
            [
             0.5555555555555556,
             "#d8576b"
            ],
            [
             0.6666666666666666,
             "#ed7953"
            ],
            [
             0.7777777777777778,
             "#fb9f3a"
            ],
            [
             0.8888888888888888,
             "#fdca26"
            ],
            [
             1,
             "#f0f921"
            ]
           ]
          },
          "colorway": [
           "#636efa",
           "#EF553B",
           "#00cc96",
           "#ab63fa",
           "#FFA15A",
           "#19d3f3",
           "#FF6692",
           "#B6E880",
           "#FF97FF",
           "#FECB52"
          ],
          "font": {
           "color": "#2a3f5f"
          },
          "geo": {
           "bgcolor": "white",
           "lakecolor": "white",
           "landcolor": "#E5ECF6",
           "showlakes": true,
           "showland": true,
           "subunitcolor": "white"
          },
          "hoverlabel": {
           "align": "left"
          },
          "hovermode": "closest",
          "mapbox": {
           "style": "light"
          },
          "paper_bgcolor": "white",
          "plot_bgcolor": "#E5ECF6",
          "polar": {
           "angularaxis": {
            "gridcolor": "white",
            "linecolor": "white",
            "ticks": ""
           },
           "bgcolor": "#E5ECF6",
           "radialaxis": {
            "gridcolor": "white",
            "linecolor": "white",
            "ticks": ""
           }
          },
          "scene": {
           "xaxis": {
            "backgroundcolor": "#E5ECF6",
            "gridcolor": "white",
            "gridwidth": 2,
            "linecolor": "white",
            "showbackground": true,
            "ticks": "",
            "zerolinecolor": "white"
           },
           "yaxis": {
            "backgroundcolor": "#E5ECF6",
            "gridcolor": "white",
            "gridwidth": 2,
            "linecolor": "white",
            "showbackground": true,
            "ticks": "",
            "zerolinecolor": "white"
           },
           "zaxis": {
            "backgroundcolor": "#E5ECF6",
            "gridcolor": "white",
            "gridwidth": 2,
            "linecolor": "white",
            "showbackground": true,
            "ticks": "",
            "zerolinecolor": "white"
           }
          },
          "shapedefaults": {
           "line": {
            "color": "#2a3f5f"
           }
          },
          "ternary": {
           "aaxis": {
            "gridcolor": "white",
            "linecolor": "white",
            "ticks": ""
           },
           "baxis": {
            "gridcolor": "white",
            "linecolor": "white",
            "ticks": ""
           },
           "bgcolor": "#E5ECF6",
           "caxis": {
            "gridcolor": "white",
            "linecolor": "white",
            "ticks": ""
           }
          },
          "title": {
           "x": 0.05
          },
          "xaxis": {
           "automargin": true,
           "gridcolor": "white",
           "linecolor": "white",
           "ticks": "",
           "title": {
            "standoff": 15
           },
           "zerolinecolor": "white",
           "zerolinewidth": 2
          },
          "yaxis": {
           "automargin": true,
           "gridcolor": "white",
           "linecolor": "white",
           "ticks": "",
           "title": {
            "standoff": 15
           },
           "zerolinecolor": "white",
           "zerolinewidth": 2
          }
         }
        },
        "title": {
         "text": "SeBS: Pagerank, EKS normalized runtime differences",
         "x": 0.5,
         "xanchor": "center"
        },
        "xaxis": {
         "autorange": true,
         "range": [
          16,
          144
         ],
         "tickmode": "array",
         "tickvals": [
          32,
          64,
          96,
          128
         ],
         "title": {
          "text": "Concurrent calls"
         },
         "type": "linear"
        },
        "yaxis": {
         "range": [
          -35,
          135
         ],
         "title": {
          "text": "% change"
         },
         "type": "linear"
        }
       }
      },
      "image/png": "[encoded data removed]",
      "text/html": [
       "<div>                            <div id=\"6e8bfa27-c529-4c66-b7fc-42afd6df1821\" class=\"plotly-graph-div\" style=\"height:525px; width:100%;\"></div>            <script type=\"text/javascript\">                require([\"plotly\"], function(Plotly) {                    window.PLOTLYENV=window.PLOTLYENV || {};                                    if (document.getElementById(\"6e8bfa27-c529-4c66-b7fc-42afd6df1821\")) {                    Plotly.newPlot(                        \"6e8bfa27-c529-4c66-b7fc-42afd6df1821\",                        [{\"marker\":{\"color\":\"rgba(151, 209, 233, 255)\"},\"name\":\"kOps 1x 72vCPU 144Gb x86_64\",\"text\":[\"124.86 %\",\"67.98 %\",\"62.19 %\",\"59.09 %\"],\"textposition\":\"outside\",\"x\":[32,64,96,128],\"y\":[124.86426704202697,67.97964178304862,62.18697894451122,59.087022935570644],\"type\":\"bar\"},{\"marker\":{\"color\":\"rgba(0, 120, 179, 255)\"},\"name\":\"kOps 8x 8vCPU 16Gb x86_64\",\"text\":[\"-3.32 %\",\"-3.43 %\",\"-1.37 %\",\"0.61 %\"],\"textposition\":\"outside\",\"x\":[32,64,96,128],\"y\":[-3.317916750452443,-3.4263171352384685,-1.3711272247857595,0.6149970361588557],\"type\":\"bar\"},{\"marker\":{\"color\":\"rgba(179, 223, 146, 255)\"},\"name\":\"kOps 16x 4vCPU 8Gb x86_64\",\"text\":[\"-12.97 %\",\"-27.66 %\",\"16.87 %\",\"14.6 %\"],\"textposition\":\"outside\",\"x\":[32,64,96,128],\"y\":[-12.973389637375163,-27.66136200367714,16.867268990654928,14.60256030276778],\"type\":\"bar\"}],                        {\"template\":{\"data\":{\"histogram2dcontour\":[{\"type\":\"histogram2dcontour\",\"colorbar\":{\"outlinewidth\":0,\"ticks\":\"\"},\"colorscale\":[[0.0,\"#0d0887\"],[0.1111111111111111,\"#46039f\"],[0.2222222222222222,\"#7201a8\"],[0.3333333333333333,\"#9c179e\"],[0.4444444444444444,\"#bd3786\"],[0.5555555555555556,\"#d8576b\"],[0.6666666666666666,\"#ed7953\"],[0.7777777777777778,\"#fb9f3a\"],[0.8888888888888888,\"#fdca26\"],[1.0,\"#f0f921\"]]}],\"choropleth\":[{\"type\":\"choropleth\",\"colorbar\":{\"outlinewidth\":0,\"ticks\":\"\"}}],\"histogram2d\":[{\"type\":\"histogram2d\",\"colorbar\":{\"outlinewidth\":0,\"ticks\":\"\"},\"colorscale\":[[0.0,\"#0d0887\"],[0.1111111111111111,\"#46039f\"],[0.2222222222222222,\"#7201a8\"],[0.3333333333333333,\"#9c179e\"],[0.4444444444444444,\"#bd3786\"],[0.5555555555555556,\"#d8576b\"],[0.6666666666666666,\"#ed7953\"],[0.7777777777777778,\"#fb9f3a\"],[0.8888888888888888,\"#fdca26\"],[1.0,\"#f0f921\"]]}],\"heatmap\":[{\"type\":\"heatmap\",\"colorbar\":{\"outlinewidth\":0,\"ticks\":\"\"},\"colorscale\":[[0.0,\"#0d0887\"],[0.1111111111111111,\"#46039f\"],[0.2222222222222222,\"#7201a8\"],[0.3333333333333333,\"#9c179e\"],[0.4444444444444444,\"#bd3786\"],[0.5555555555555556,\"#d8576b\"],[0.6666666666666666,\"#ed7953\"],[0.7777777777777778,\"#fb9f3a\"],[0.8888888888888888,\"#fdca26\"],[1.0,\"#f0f921\"]]}],\"heatmapgl\":[{\"type\":\"heatmapgl\",\"colorbar\":{\"outlinewidth\":0,\"ticks\":\"\"},\"colorscale\":[[0.0,\"#0d0887\"],[0.1111111111111111,\"#46039f\"],[0.2222222222222222,\"#7201a8\"],[0.3333333333333333,\"#9c179e\"],[0.4444444444444444,\"#bd3786\"],[0.5555555555555556,\"#d8576b\"],[0.6666666666666666,\"#ed7953\"],[0.7777777777777778,\"#fb9f3a\"],[0.8888888888888888,\"#fdca26\"],[1.0,\"#f0f921\"]]}],\"contourcarpet\":[{\"type\":\"contourcarpet\",\"colorbar\":{\"outlinewidth\":0,\"ticks\":\"\"}}],\"contour\":[{\"type\":\"contour\",\"colorbar\":{\"outlinewidth\":0,\"ticks\":\"\"},\"colorscale\":[[0.0,\"#0d0887\"],[0.1111111111111111,\"#46039f\"],[0.2222222222222222,\"#7201a8\"],[0.3333333333333333,\"#9c179e\"],[0.4444444444444444,\"#bd3786\"],[0.5555555555555556,\"#d8576b\"],[0.6666666666666666,\"#ed7953\"],[0.7777777777777778,\"#fb9f3a\"],[0.8888888888888888,\"#fdca26\"],[1.0,\"#f0f921\"]]}],\"surface\":[{\"type\":\"surface\",\"colorbar\":{\"outlinewidth\":0,\"ticks\":\"\"},\"colorscale\":[[0.0,\"#0d0887\"],[0.1111111111111111,\"#46039f\"],[0.2222222222222222,\"#7201a8\"],[0.3333333333333333,\"#9c179e\"],[0.4444444444444444,\"#bd3786\"],[0.5555555555555556,\"#d8576b\"],[0.6666666666666666,\"#ed7953\"],[0.7777777777777778,\"#fb9f3a\"],[0.8888888888888888,\"#fdca26\"],[1.0,\"#f0f921\"]]}],\"mesh3d\":[{\"type\":\"mesh3d\",\"colorbar\":{\"outlinewidth\":0,\"ticks\":\"\"}}],\"scatter\":[{\"fillpattern\":{\"fillmode\":\"overlay\",\"size\":10,\"solidity\":0.2},\"type\":\"scatter\"}],\"parcoords\":[{\"type\":\"parcoords\",\"line\":{\"colorbar\":{\"outlinewidth\":0,\"ticks\":\"\"}}}],\"scatterpolargl\":[{\"type\":\"scatterpolargl\",\"marker\":{\"colorbar\":{\"outlinewidth\":0,\"ticks\":\"\"}}}],\"bar\":[{\"error_x\":{\"color\":\"#2a3f5f\"},\"error_y\":{\"color\":\"#2a3f5f\"},\"marker\":{\"line\":{\"color\":\"#E5ECF6\",\"width\":0.5},\"pattern\":{\"fillmode\":\"overlay\",\"size\":10,\"solidity\":0.2}},\"type\":\"bar\"}],\"scattergeo\":[{\"type\":\"scattergeo\",\"marker\":{\"colorbar\":{\"outlinewidth\":0,\"ticks\":\"\"}}}],\"scatterpolar\":[{\"type\":\"scatterpolar\",\"marker\":{\"colorbar\":{\"outlinewidth\":0,\"ticks\":\"\"}}}],\"histogram\":[{\"marker\":{\"pattern\":{\"fillmode\":\"overlay\",\"size\":10,\"solidity\":0.2}},\"type\":\"histogram\"}],\"scattergl\":[{\"type\":\"scattergl\",\"marker\":{\"colorbar\":{\"outlinewidth\":0,\"ticks\":\"\"}}}],\"scatter3d\":[{\"type\":\"scatter3d\",\"line\":{\"colorbar\":{\"outlinewidth\":0,\"ticks\":\"\"}},\"marker\":{\"colorbar\":{\"outlinewidth\":0,\"ticks\":\"\"}}}],\"scattermapbox\":[{\"type\":\"scattermapbox\",\"marker\":{\"colorbar\":{\"outlinewidth\":0,\"ticks\":\"\"}}}],\"scatterternary\":[{\"type\":\"scatterternary\",\"marker\":{\"colorbar\":{\"outlinewidth\":0,\"ticks\":\"\"}}}],\"scattercarpet\":[{\"type\":\"scattercarpet\",\"marker\":{\"colorbar\":{\"outlinewidth\":0,\"ticks\":\"\"}}}],\"carpet\":[{\"aaxis\":{\"endlinecolor\":\"#2a3f5f\",\"gridcolor\":\"white\",\"linecolor\":\"white\",\"minorgridcolor\":\"white\",\"startlinecolor\":\"#2a3f5f\"},\"baxis\":{\"endlinecolor\":\"#2a3f5f\",\"gridcolor\":\"white\",\"linecolor\":\"white\",\"minorgridcolor\":\"white\",\"startlinecolor\":\"#2a3f5f\"},\"type\":\"carpet\"}],\"table\":[{\"cells\":{\"fill\":{\"color\":\"#EBF0F8\"},\"line\":{\"color\":\"white\"}},\"header\":{\"fill\":{\"color\":\"#C8D4E3\"},\"line\":{\"color\":\"white\"}},\"type\":\"table\"}],\"barpolar\":[{\"marker\":{\"line\":{\"color\":\"#E5ECF6\",\"width\":0.5},\"pattern\":{\"fillmode\":\"overlay\",\"size\":10,\"solidity\":0.2}},\"type\":\"barpolar\"}],\"pie\":[{\"automargin\":true,\"type\":\"pie\"}]},\"layout\":{\"autotypenumbers\":\"strict\",\"colorway\":[\"#636efa\",\"#EF553B\",\"#00cc96\",\"#ab63fa\",\"#FFA15A\",\"#19d3f3\",\"#FF6692\",\"#B6E880\",\"#FF97FF\",\"#FECB52\"],\"font\":{\"color\":\"#2a3f5f\"},\"hovermode\":\"closest\",\"hoverlabel\":{\"align\":\"left\"},\"paper_bgcolor\":\"white\",\"plot_bgcolor\":\"#E5ECF6\",\"polar\":{\"bgcolor\":\"#E5ECF6\",\"angularaxis\":{\"gridcolor\":\"white\",\"linecolor\":\"white\",\"ticks\":\"\"},\"radialaxis\":{\"gridcolor\":\"white\",\"linecolor\":\"white\",\"ticks\":\"\"}},\"ternary\":{\"bgcolor\":\"#E5ECF6\",\"aaxis\":{\"gridcolor\":\"white\",\"linecolor\":\"white\",\"ticks\":\"\"},\"baxis\":{\"gridcolor\":\"white\",\"linecolor\":\"white\",\"ticks\":\"\"},\"caxis\":{\"gridcolor\":\"white\",\"linecolor\":\"white\",\"ticks\":\"\"}},\"coloraxis\":{\"colorbar\":{\"outlinewidth\":0,\"ticks\":\"\"}},\"colorscale\":{\"sequential\":[[0.0,\"#0d0887\"],[0.1111111111111111,\"#46039f\"],[0.2222222222222222,\"#7201a8\"],[0.3333333333333333,\"#9c179e\"],[0.4444444444444444,\"#bd3786\"],[0.5555555555555556,\"#d8576b\"],[0.6666666666666666,\"#ed7953\"],[0.7777777777777778,\"#fb9f3a\"],[0.8888888888888888,\"#fdca26\"],[1.0,\"#f0f921\"]],\"sequentialminus\":[[0.0,\"#0d0887\"],[0.1111111111111111,\"#46039f\"],[0.2222222222222222,\"#7201a8\"],[0.3333333333333333,\"#9c179e\"],[0.4444444444444444,\"#bd3786\"],[0.5555555555555556,\"#d8576b\"],[0.6666666666666666,\"#ed7953\"],[0.7777777777777778,\"#fb9f3a\"],[0.8888888888888888,\"#fdca26\"],[1.0,\"#f0f921\"]],\"diverging\":[[0,\"#8e0152\"],[0.1,\"#c51b7d\"],[0.2,\"#de77ae\"],[0.3,\"#f1b6da\"],[0.4,\"#fde0ef\"],[0.5,\"#f7f7f7\"],[0.6,\"#e6f5d0\"],[0.7,\"#b8e186\"],[0.8,\"#7fbc41\"],[0.9,\"#4d9221\"],[1,\"#276419\"]]},\"xaxis\":{\"gridcolor\":\"white\",\"linecolor\":\"white\",\"ticks\":\"\",\"title\":{\"standoff\":15},\"zerolinecolor\":\"white\",\"automargin\":true,\"zerolinewidth\":2},\"yaxis\":{\"gridcolor\":\"white\",\"linecolor\":\"white\",\"ticks\":\"\",\"title\":{\"standoff\":15},\"zerolinecolor\":\"white\",\"automargin\":true,\"zerolinewidth\":2},\"scene\":{\"xaxis\":{\"backgroundcolor\":\"#E5ECF6\",\"gridcolor\":\"white\",\"linecolor\":\"white\",\"showbackground\":true,\"ticks\":\"\",\"zerolinecolor\":\"white\",\"gridwidth\":2},\"yaxis\":{\"backgroundcolor\":\"#E5ECF6\",\"gridcolor\":\"white\",\"linecolor\":\"white\",\"showbackground\":true,\"ticks\":\"\",\"zerolinecolor\":\"white\",\"gridwidth\":2},\"zaxis\":{\"backgroundcolor\":\"#E5ECF6\",\"gridcolor\":\"white\",\"linecolor\":\"white\",\"showbackground\":true,\"ticks\":\"\",\"zerolinecolor\":\"white\",\"gridwidth\":2}},\"shapedefaults\":{\"line\":{\"color\":\"#2a3f5f\"}},\"annotationdefaults\":{\"arrowcolor\":\"#2a3f5f\",\"arrowhead\":0,\"arrowwidth\":1},\"geo\":{\"bgcolor\":\"white\",\"landcolor\":\"#E5ECF6\",\"subunitcolor\":\"white\",\"showland\":true,\"showlakes\":true,\"lakecolor\":\"white\"},\"title\":{\"x\":0.05},\"mapbox\":{\"style\":\"light\"}}},\"legend\":{\"orientation\":\"h\",\"yanchor\":\"bottom\",\"y\":1.02,\"xanchor\":\"center\",\"x\":0.47},\"margin\":{\"b\":1,\"l\":1,\"r\":1,\"autoexpand\":true},\"font\":{\"size\":16},\"title\":{\"text\":\"SeBS: Pagerank, EKS normalized runtime differences\",\"x\":0.5,\"xanchor\":\"center\"},\"xaxis\":{\"title\":{\"text\":\"Concurrent calls\"},\"tickmode\":\"array\",\"tickvals\":[32,64,96,128]},\"yaxis\":{\"title\":{\"text\":\"% change\"},\"range\":[-35,135]},\"plot_bgcolor\":\"rgba(245,245,255,255)\"},                        {\"responsive\": true}                    ).then(function(){\n",
       "                            \n",
       "var gd = document.getElementById('6e8bfa27-c529-4c66-b7fc-42afd6df1821');\n",
       "var x = new MutationObserver(function (mutations, observer) {{\n",
       "        var display = window.getComputedStyle(gd).display;\n",
       "        if (!display || display === 'none') {{\n",
       "            console.log([gd, 'removed!']);\n",
       "            Plotly.purge(gd);\n",
       "            observer.disconnect();\n",
       "        }}\n",
       "}});\n",
       "\n",
       "// Listen for the removal of the full notebook cells\n",
       "var notebookContainer = gd.closest('#notebook-container');\n",
       "if (notebookContainer) {{\n",
       "    x.observe(notebookContainer, {childList: true});\n",
       "}}\n",
       "\n",
       "// Listen for the clearing of the current output cell\n",
       "var outputEl = gd.closest('.output');\n",
       "if (outputEl) {{\n",
       "    x.observe(outputEl, {childList: true});\n",
       "}}\n",
       "\n",
       "                        })                };                });            </script>        </div>"
      ]
     },
     "metadata": {},
     "output_type": "display_data"
    }
   ],
   "source": [
    "fig = create_figure('SeBS: Pagerank, EKS normalized runtime differences', 'Concurrent calls', '% change', concurrent_calls)\n",
    "\n",
    "for i, k in enumerate(list(clusters.keys())[:-1]):\n",
    "    y_data=[]\n",
    "    y_text=[]\n",
    "    for c in concurrent_calls:\n",
    "        kops_mean=sebs_df[k]['pagerank'][c]['runtime'].mean()\n",
    "        eks_mean=sebs_df['EKS 8x 8vCPU 16Gb x86_64']['pagerank'][c]['runtime'].mean()\n",
    "        percent_change=(kops_mean - eks_mean) * 100 / eks_mean\n",
    "        y_data.append(percent_change)\n",
    "        y_text.append(f'{round(percent_change, 2)} %')\n",
    "    fig.add_trace(go.Bar(name=k,\n",
    "                         x=concurrent_calls,\n",
    "                         y=y_data,\n",
    "                         marker_color=colorPallet[i],\n",
    "                         text=y_text,\n",
    "                         textposition='outside'))\n",
    "fig.update_layout(yaxis_range=[-35,135])\n",
    "fig.show()\n",
    "\n",
    "# Save graph\n",
    "write_image(fig, 'sebs_pagerank_percentage_difference.png')"
   ]
  },
  {
   "cell_type": "code",
   "execution_count": 37,
   "id": "0e6c51cc-2247-4288-a626-d8d7ecb0cf2a",
   "metadata": {},
   "outputs": [
    {
     "data": {
      "text/html": [
       "<h3><b>kOps 1x 72vCPU 144Gb x86_64</b> and <b>EKS 8x 8vCPU 16Gb x86_64</b> independent t-test (Pagerank)</h3>"
      ],
      "text/plain": [
       "<IPython.core.display.HTML object>"
      ]
     },
     "metadata": {},
     "output_type": "display_data"
    },
    {
     "name": "stdout",
     "output_type": "stream",
     "text": [
      "32 concurrent calls\n",
      "Ttest_indResult(statistic=29.06015359329322, pvalue=1.6320034835034288e-122)\n",
      "64 concurrent calls\n",
      "Ttest_indResult(statistic=31.531615202881373, pvalue=1.7104636906046387e-165)\n",
      "96 concurrent calls\n",
      "Ttest_indResult(statistic=37.554188377974064, pvalue=8.17117080694781e-237)\n",
      "128 concurrent calls\n",
      "Ttest_indResult(statistic=42.47205301579724, pvalue=5.127913121373634e-305)\n"
     ]
    },
    {
     "data": {
      "text/html": [
       "<h3><b>kOps 8x 8vCPU 16Gb x86_64</b> and <b>EKS 8x 8vCPU 16Gb x86_64</b> independent t-test (Pagerank)</h3>"
      ],
      "text/plain": [
       "<IPython.core.display.HTML object>"
      ]
     },
     "metadata": {},
     "output_type": "display_data"
    },
    {
     "name": "stdout",
     "output_type": "stream",
     "text": [
      "32 concurrent calls\n",
      "Ttest_indResult(statistic=-0.8389577176568068, pvalue=0.40177862512175944)\n",
      "64 concurrent calls\n",
      "Ttest_indResult(statistic=-1.7534614912272835, pvalue=0.07974071548679858)\n",
      "96 concurrent calls\n",
      "Ttest_indResult(statistic=-0.9032097779907601, pvalue=0.3665176690671659)\n",
      "128 concurrent calls\n",
      "Ttest_indResult(statistic=0.47338755086220563, pvalue=0.6359734299756474)\n"
     ]
    },
    {
     "data": {
      "text/html": [
       "<h3><b>kOps 16x 4vCPU 8Gb x86_64</b> and <b>EKS 8x 8vCPU 16Gb x86_64</b> independent t-test (Pagerank)</h3>"
      ],
      "text/plain": [
       "<IPython.core.display.HTML object>"
      ]
     },
     "metadata": {},
     "output_type": "display_data"
    },
    {
     "name": "stdout",
     "output_type": "stream",
     "text": [
      "32 concurrent calls\n",
      "Ttest_indResult(statistic=-3.47107115185134, pvalue=0.0005501178750108452)\n",
      "64 concurrent calls\n",
      "Ttest_indResult(statistic=-14.363913186478667, pvalue=1.2548143597097889e-43)\n",
      "96 concurrent calls\n",
      "Ttest_indResult(statistic=10.83292871337774, pvalue=1.28192087938729e-26)\n",
      "128 concurrent calls\n",
      "Ttest_indResult(statistic=11.381244564754605, pvalue=2.410790215496347e-29)\n"
     ]
    }
   ],
   "source": [
    "for k in list(clusters)[:-1]:\n",
    "    display(HTML(f'<h3><b>{k}</b> and <b>EKS 8x 8vCPU 16Gb x86_64</b> independent t-test (Pagerank)</h3>'))\n",
    "    for i in range(32,129,32):\n",
    "        print(f'{i} concurrent calls')\n",
    "        print(stats.ttest_ind(sebs_df[k]['pagerank'][i]['runtime'], sebs_df['EKS 8x 8vCPU 16Gb x86_64']['pagerank'][i]['runtime']))"
   ]
  }
 ],
 "metadata": {
  "kernelspec": {
   "display_name": "Python 3 (ipykernel)",
   "language": "python",
   "name": "python3"
  },
  "language_info": {
   "codemirror_mode": {
    "name": "ipython",
    "version": 3
   },
   "file_extension": ".py",
   "mimetype": "text/x-python",
   "name": "python",
   "nbconvert_exporter": "python",
   "pygments_lexer": "ipython3",
   "version": "3.10.8"
  }
 },
 "nbformat": 4,
 "nbformat_minor": 5
}
