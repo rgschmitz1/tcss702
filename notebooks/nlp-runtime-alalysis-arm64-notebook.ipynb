{
 "cells": [
  {
   "cell_type": "markdown",
   "id": "8fb4a0c2",
   "metadata": {},
   "source": [
    "# Import packages to parse results"
   ]
  },
  {
   "cell_type": "code",
   "execution_count": 1,
   "id": "f6434575",
   "metadata": {},
   "outputs": [
    {
     "name": "stdout",
     "output_type": "stream",
     "text": [
      "importing Jupyter notebook from shared_notebook.ipynb\n",
      "Stored 'colorPallet' (list)\n"
     ]
    }
   ],
   "source": [
    "import plotly.graph_objects as go\n",
    "import scipy.stats as stats\n",
    "from tabulate import tabulate\n",
    "from IPython.display import HTML\n",
    "\n",
    "# Import from shared notebook containing helper methods\n",
    "import import_ipynb\n",
    "from shared_notebook import create_dataframe, write_image, create_figure"
   ]
  },
  {
   "cell_type": "markdown",
   "id": "f5ae4383-f902-48b7-bbf8-d4f6ac38e4ad",
   "metadata": {},
   "source": [
    "### Set default color palete and size for making plots"
   ]
  },
  {
   "cell_type": "code",
   "execution_count": 2,
   "id": "fbd18091-8188-4b3d-b35d-76ba4c65181e",
   "metadata": {},
   "outputs": [],
   "source": [
    "%store -r colorPallet"
   ]
  },
  {
   "cell_type": "markdown",
   "id": "bf43f7e6-e857-4149-9698-9700fdb543b1",
   "metadata": {},
   "source": [
    "## Log file locations relative to notebook"
   ]
  },
  {
   "cell_type": "markdown",
   "id": "97097fec-1bac-4491-8891-e97604c8192d",
   "metadata": {},
   "source": [
    "### For NLP, we have 3 functions which must be ran in sequential order"
   ]
  },
  {
   "cell_type": "code",
   "execution_count": 3,
   "id": "fb24c5a9-bc17-4660-85fb-b5a1af831db7",
   "metadata": {},
   "outputs": [],
   "source": [
    "# kOps clusters (running on AWS)\n",
    "# AWS EKS cluster\n",
    "clusters={\n",
    "    'kOps 8x 8vCPU 16Gb arm64': 'kops-multi-tenant-spot-8x-8vcpu-16gb-arm64',\n",
    "    'EKS 8x 8vCPU 16Gb arm64': 'eks-multi-tenant-spot-8x-8vcpu-16gb-arm64',\n",
    "    'kOps 8x 8vCPU 16Gb x86_64': 'kops-multi-tenant-spot-8x-8vcpu-16gb',\n",
    "    'EKS 8x 8vCPU 16Gb x86_64': 'eks-multi-tenant-spot-8x-8vcpu-16gb',\n",
    "}\n",
    "methods=('preprocess', 'train', 'query')\n",
    "headers=list(methods)\n",
    "headers.insert(0, 'cluster')"
   ]
  },
  {
   "cell_type": "code",
   "execution_count": 4,
   "id": "46e74179-e20c-4708-9fc7-05dde1d7a2f2",
   "metadata": {},
   "outputs": [],
   "source": [
    "nlp_df=dict()\n",
    "for k, v in clusters.items():\n",
    "    nlp_df[k]=dict()\n",
    "    for m in methods:\n",
    "        nlp_df[k][m]=create_dataframe(f\"../logs/openfaas/{v}/nlp/*{m}*\")"
   ]
  },
  {
   "cell_type": "code",
   "execution_count": 8,
   "id": "90650540-f4ea-4cdb-b1f4-36572562e088",
   "metadata": {},
   "outputs": [
    {
     "data": {
      "application/vnd.plotly.v1+json": {
       "config": {
        "plotlyServerURL": "https://plot.ly"
       },
       "data": [
        {
         "error_y": {
          "array": [
           0.3891613332967875,
           0.36266784466720453,
           1.2720111761388821
          ],
          "symmetric": true,
          "type": "data"
         },
         "marker": {
          "color": "rgba(151, 209, 233, 255)"
         },
         "name": "kOps 8x 8vCPU 16Gb arm64",
         "text": [
          "120.9",
          "81.12",
          "232.01"
         ],
         "textposition": "outside",
         "type": "bar",
         "x": [
          "preprocess",
          "train",
          "query"
         ],
         "y": [
          120.9039,
          81.12410000000001,
          232.0071
         ]
        },
        {
         "error_y": {
          "array": [
           0.6914624799011954,
           0.6083973527957603,
           5.348311243436255
          ],
          "symmetric": true,
          "type": "data"
         },
         "marker": {
          "color": "rgba(0, 120, 179, 255)"
         },
         "name": "EKS 8x 8vCPU 16Gb arm64",
         "text": [
          "122.02",
          "81.25",
          "240.48"
         ],
         "textposition": "outside",
         "type": "bar",
         "x": [
          "preprocess",
          "train",
          "query"
         ],
         "y": [
          122.0245,
          81.2515,
          240.4803
         ]
        },
        {
         "error_y": {
          "array": [
           0.860604761522707,
           1.6645915735298753,
           31.188203816346974
          ],
          "symmetric": true,
          "type": "data"
         },
         "marker": {
          "color": "rgba(179, 223, 146, 255)"
         },
         "name": "kOps 8x 8vCPU 16Gb x86_64",
         "text": [
          "118.45",
          "127.93",
          "355.09"
         ],
         "textposition": "outside",
         "type": "bar",
         "x": [
          "preprocess",
          "train",
          "query"
         ],
         "y": [
          118.454,
          127.9322,
          355.08729999999997
         ]
        },
        {
         "error_y": {
          "array": [
           0.9047473312109481,
           1.170326834217215,
           21.31080236773516
          ],
          "symmetric": true,
          "type": "data"
         },
         "marker": {
          "color": "rgba(49, 169, 90, 255)"
         },
         "name": "EKS 8x 8vCPU 16Gb x86_64",
         "text": [
          "120.54",
          "125.3",
          "366.63"
         ],
         "textposition": "outside",
         "type": "bar",
         "x": [
          "preprocess",
          "train",
          "query"
         ],
         "y": [
          120.541,
          125.29589999999999,
          366.62829999999997
         ]
        }
       ],
       "layout": {
        "autosize": true,
        "font": {
         "size": 16
        },
        "legend": {
         "orientation": "h",
         "x": 0.47,
         "xanchor": "center",
         "y": 1.02,
         "yanchor": "bottom"
        },
        "margin": {
         "autoexpand": true,
         "b": 1,
         "l": 1,
         "r": 1
        },
        "plot_bgcolor": "rgba(245,245,255,255)",
        "template": {
         "data": {
          "bar": [
           {
            "error_x": {
             "color": "#2a3f5f"
            },
            "error_y": {
             "color": "#2a3f5f"
            },
            "marker": {
             "line": {
              "color": "#E5ECF6",
              "width": 0.5
             },
             "pattern": {
              "fillmode": "overlay",
              "size": 10,
              "solidity": 0.2
             }
            },
            "type": "bar"
           }
          ],
          "barpolar": [
           {
            "marker": {
             "line": {
              "color": "#E5ECF6",
              "width": 0.5
             },
             "pattern": {
              "fillmode": "overlay",
              "size": 10,
              "solidity": 0.2
             }
            },
            "type": "barpolar"
           }
          ],
          "carpet": [
           {
            "aaxis": {
             "endlinecolor": "#2a3f5f",
             "gridcolor": "white",
             "linecolor": "white",
             "minorgridcolor": "white",
             "startlinecolor": "#2a3f5f"
            },
            "baxis": {
             "endlinecolor": "#2a3f5f",
             "gridcolor": "white",
             "linecolor": "white",
             "minorgridcolor": "white",
             "startlinecolor": "#2a3f5f"
            },
            "type": "carpet"
           }
          ],
          "choropleth": [
           {
            "colorbar": {
             "outlinewidth": 0,
             "ticks": ""
            },
            "type": "choropleth"
           }
          ],
          "contour": [
           {
            "colorbar": {
             "outlinewidth": 0,
             "ticks": ""
            },
            "colorscale": [
             [
              0,
              "#0d0887"
             ],
             [
              0.1111111111111111,
              "#46039f"
             ],
             [
              0.2222222222222222,
              "#7201a8"
             ],
             [
              0.3333333333333333,
              "#9c179e"
             ],
             [
              0.4444444444444444,
              "#bd3786"
             ],
             [
              0.5555555555555556,
              "#d8576b"
             ],
             [
              0.6666666666666666,
              "#ed7953"
             ],
             [
              0.7777777777777778,
              "#fb9f3a"
             ],
             [
              0.8888888888888888,
              "#fdca26"
             ],
             [
              1,
              "#f0f921"
             ]
            ],
            "type": "contour"
           }
          ],
          "contourcarpet": [
           {
            "colorbar": {
             "outlinewidth": 0,
             "ticks": ""
            },
            "type": "contourcarpet"
           }
          ],
          "heatmap": [
           {
            "colorbar": {
             "outlinewidth": 0,
             "ticks": ""
            },
            "colorscale": [
             [
              0,
              "#0d0887"
             ],
             [
              0.1111111111111111,
              "#46039f"
             ],
             [
              0.2222222222222222,
              "#7201a8"
             ],
             [
              0.3333333333333333,
              "#9c179e"
             ],
             [
              0.4444444444444444,
              "#bd3786"
             ],
             [
              0.5555555555555556,
              "#d8576b"
             ],
             [
              0.6666666666666666,
              "#ed7953"
             ],
             [
              0.7777777777777778,
              "#fb9f3a"
             ],
             [
              0.8888888888888888,
              "#fdca26"
             ],
             [
              1,
              "#f0f921"
             ]
            ],
            "type": "heatmap"
           }
          ],
          "heatmapgl": [
           {
            "colorbar": {
             "outlinewidth": 0,
             "ticks": ""
            },
            "colorscale": [
             [
              0,
              "#0d0887"
             ],
             [
              0.1111111111111111,
              "#46039f"
             ],
             [
              0.2222222222222222,
              "#7201a8"
             ],
             [
              0.3333333333333333,
              "#9c179e"
             ],
             [
              0.4444444444444444,
              "#bd3786"
             ],
             [
              0.5555555555555556,
              "#d8576b"
             ],
             [
              0.6666666666666666,
              "#ed7953"
             ],
             [
              0.7777777777777778,
              "#fb9f3a"
             ],
             [
              0.8888888888888888,
              "#fdca26"
             ],
             [
              1,
              "#f0f921"
             ]
            ],
            "type": "heatmapgl"
           }
          ],
          "histogram": [
           {
            "marker": {
             "pattern": {
              "fillmode": "overlay",
              "size": 10,
              "solidity": 0.2
             }
            },
            "type": "histogram"
           }
          ],
          "histogram2d": [
           {
            "colorbar": {
             "outlinewidth": 0,
             "ticks": ""
            },
            "colorscale": [
             [
              0,
              "#0d0887"
             ],
             [
              0.1111111111111111,
              "#46039f"
             ],
             [
              0.2222222222222222,
              "#7201a8"
             ],
             [
              0.3333333333333333,
              "#9c179e"
             ],
             [
              0.4444444444444444,
              "#bd3786"
             ],
             [
              0.5555555555555556,
              "#d8576b"
             ],
             [
              0.6666666666666666,
              "#ed7953"
             ],
             [
              0.7777777777777778,
              "#fb9f3a"
             ],
             [
              0.8888888888888888,
              "#fdca26"
             ],
             [
              1,
              "#f0f921"
             ]
            ],
            "type": "histogram2d"
           }
          ],
          "histogram2dcontour": [
           {
            "colorbar": {
             "outlinewidth": 0,
             "ticks": ""
            },
            "colorscale": [
             [
              0,
              "#0d0887"
             ],
             [
              0.1111111111111111,
              "#46039f"
             ],
             [
              0.2222222222222222,
              "#7201a8"
             ],
             [
              0.3333333333333333,
              "#9c179e"
             ],
             [
              0.4444444444444444,
              "#bd3786"
             ],
             [
              0.5555555555555556,
              "#d8576b"
             ],
             [
              0.6666666666666666,
              "#ed7953"
             ],
             [
              0.7777777777777778,
              "#fb9f3a"
             ],
             [
              0.8888888888888888,
              "#fdca26"
             ],
             [
              1,
              "#f0f921"
             ]
            ],
            "type": "histogram2dcontour"
           }
          ],
          "mesh3d": [
           {
            "colorbar": {
             "outlinewidth": 0,
             "ticks": ""
            },
            "type": "mesh3d"
           }
          ],
          "parcoords": [
           {
            "line": {
             "colorbar": {
              "outlinewidth": 0,
              "ticks": ""
             }
            },
            "type": "parcoords"
           }
          ],
          "pie": [
           {
            "automargin": true,
            "type": "pie"
           }
          ],
          "scatter": [
           {
            "fillpattern": {
             "fillmode": "overlay",
             "size": 10,
             "solidity": 0.2
            },
            "type": "scatter"
           }
          ],
          "scatter3d": [
           {
            "line": {
             "colorbar": {
              "outlinewidth": 0,
              "ticks": ""
             }
            },
            "marker": {
             "colorbar": {
              "outlinewidth": 0,
              "ticks": ""
             }
            },
            "type": "scatter3d"
           }
          ],
          "scattercarpet": [
           {
            "marker": {
             "colorbar": {
              "outlinewidth": 0,
              "ticks": ""
             }
            },
            "type": "scattercarpet"
           }
          ],
          "scattergeo": [
           {
            "marker": {
             "colorbar": {
              "outlinewidth": 0,
              "ticks": ""
             }
            },
            "type": "scattergeo"
           }
          ],
          "scattergl": [
           {
            "marker": {
             "colorbar": {
              "outlinewidth": 0,
              "ticks": ""
             }
            },
            "type": "scattergl"
           }
          ],
          "scattermapbox": [
           {
            "marker": {
             "colorbar": {
              "outlinewidth": 0,
              "ticks": ""
             }
            },
            "type": "scattermapbox"
           }
          ],
          "scatterpolar": [
           {
            "marker": {
             "colorbar": {
              "outlinewidth": 0,
              "ticks": ""
             }
            },
            "type": "scatterpolar"
           }
          ],
          "scatterpolargl": [
           {
            "marker": {
             "colorbar": {
              "outlinewidth": 0,
              "ticks": ""
             }
            },
            "type": "scatterpolargl"
           }
          ],
          "scatterternary": [
           {
            "marker": {
             "colorbar": {
              "outlinewidth": 0,
              "ticks": ""
             }
            },
            "type": "scatterternary"
           }
          ],
          "surface": [
           {
            "colorbar": {
             "outlinewidth": 0,
             "ticks": ""
            },
            "colorscale": [
             [
              0,
              "#0d0887"
             ],
             [
              0.1111111111111111,
              "#46039f"
             ],
             [
              0.2222222222222222,
              "#7201a8"
             ],
             [
              0.3333333333333333,
              "#9c179e"
             ],
             [
              0.4444444444444444,
              "#bd3786"
             ],
             [
              0.5555555555555556,
              "#d8576b"
             ],
             [
              0.6666666666666666,
              "#ed7953"
             ],
             [
              0.7777777777777778,
              "#fb9f3a"
             ],
             [
              0.8888888888888888,
              "#fdca26"
             ],
             [
              1,
              "#f0f921"
             ]
            ],
            "type": "surface"
           }
          ],
          "table": [
           {
            "cells": {
             "fill": {
              "color": "#EBF0F8"
             },
             "line": {
              "color": "white"
             }
            },
            "header": {
             "fill": {
              "color": "#C8D4E3"
             },
             "line": {
              "color": "white"
             }
            },
            "type": "table"
           }
          ]
         },
         "layout": {
          "annotationdefaults": {
           "arrowcolor": "#2a3f5f",
           "arrowhead": 0,
           "arrowwidth": 1
          },
          "autotypenumbers": "strict",
          "coloraxis": {
           "colorbar": {
            "outlinewidth": 0,
            "ticks": ""
           }
          },
          "colorscale": {
           "diverging": [
            [
             0,
             "#8e0152"
            ],
            [
             0.1,
             "#c51b7d"
            ],
            [
             0.2,
             "#de77ae"
            ],
            [
             0.3,
             "#f1b6da"
            ],
            [
             0.4,
             "#fde0ef"
            ],
            [
             0.5,
             "#f7f7f7"
            ],
            [
             0.6,
             "#e6f5d0"
            ],
            [
             0.7,
             "#b8e186"
            ],
            [
             0.8,
             "#7fbc41"
            ],
            [
             0.9,
             "#4d9221"
            ],
            [
             1,
             "#276419"
            ]
           ],
           "sequential": [
            [
             0,
             "#0d0887"
            ],
            [
             0.1111111111111111,
             "#46039f"
            ],
            [
             0.2222222222222222,
             "#7201a8"
            ],
            [
             0.3333333333333333,
             "#9c179e"
            ],
            [
             0.4444444444444444,
             "#bd3786"
            ],
            [
             0.5555555555555556,
             "#d8576b"
            ],
            [
             0.6666666666666666,
             "#ed7953"
            ],
            [
             0.7777777777777778,
             "#fb9f3a"
            ],
            [
             0.8888888888888888,
             "#fdca26"
            ],
            [
             1,
             "#f0f921"
            ]
           ],
           "sequentialminus": [
            [
             0,
             "#0d0887"
            ],
            [
             0.1111111111111111,
             "#46039f"
            ],
            [
             0.2222222222222222,
             "#7201a8"
            ],
            [
             0.3333333333333333,
             "#9c179e"
            ],
            [
             0.4444444444444444,
             "#bd3786"
            ],
            [
             0.5555555555555556,
             "#d8576b"
            ],
            [
             0.6666666666666666,
             "#ed7953"
            ],
            [
             0.7777777777777778,
             "#fb9f3a"
            ],
            [
             0.8888888888888888,
             "#fdca26"
            ],
            [
             1,
             "#f0f921"
            ]
           ]
          },
          "colorway": [
           "#636efa",
           "#EF553B",
           "#00cc96",
           "#ab63fa",
           "#FFA15A",
           "#19d3f3",
           "#FF6692",
           "#B6E880",
           "#FF97FF",
           "#FECB52"
          ],
          "font": {
           "color": "#2a3f5f"
          },
          "geo": {
           "bgcolor": "white",
           "lakecolor": "white",
           "landcolor": "#E5ECF6",
           "showlakes": true,
           "showland": true,
           "subunitcolor": "white"
          },
          "hoverlabel": {
           "align": "left"
          },
          "hovermode": "closest",
          "mapbox": {
           "style": "light"
          },
          "paper_bgcolor": "white",
          "plot_bgcolor": "#E5ECF6",
          "polar": {
           "angularaxis": {
            "gridcolor": "white",
            "linecolor": "white",
            "ticks": ""
           },
           "bgcolor": "#E5ECF6",
           "radialaxis": {
            "gridcolor": "white",
            "linecolor": "white",
            "ticks": ""
           }
          },
          "scene": {
           "xaxis": {
            "backgroundcolor": "#E5ECF6",
            "gridcolor": "white",
            "gridwidth": 2,
            "linecolor": "white",
            "showbackground": true,
            "ticks": "",
            "zerolinecolor": "white"
           },
           "yaxis": {
            "backgroundcolor": "#E5ECF6",
            "gridcolor": "white",
            "gridwidth": 2,
            "linecolor": "white",
            "showbackground": true,
            "ticks": "",
            "zerolinecolor": "white"
           },
           "zaxis": {
            "backgroundcolor": "#E5ECF6",
            "gridcolor": "white",
            "gridwidth": 2,
            "linecolor": "white",
            "showbackground": true,
            "ticks": "",
            "zerolinecolor": "white"
           }
          },
          "shapedefaults": {
           "line": {
            "color": "#2a3f5f"
           }
          },
          "ternary": {
           "aaxis": {
            "gridcolor": "white",
            "linecolor": "white",
            "ticks": ""
           },
           "baxis": {
            "gridcolor": "white",
            "linecolor": "white",
            "ticks": ""
           },
           "bgcolor": "#E5ECF6",
           "caxis": {
            "gridcolor": "white",
            "linecolor": "white",
            "ticks": ""
           }
          },
          "title": {
           "x": 0.05
          },
          "xaxis": {
           "automargin": true,
           "gridcolor": "white",
           "linecolor": "white",
           "ticks": "",
           "title": {
            "standoff": 15
           },
           "zerolinecolor": "white",
           "zerolinewidth": 2
          },
          "yaxis": {
           "automargin": true,
           "gridcolor": "white",
           "linecolor": "white",
           "ticks": "",
           "title": {
            "standoff": 15
           },
           "zerolinecolor": "white",
           "zerolinewidth": 2
          }
         }
        },
        "title": {
         "text": "NLP: arm64 vs x86_64, function runtimes (sec)",
         "x": 0.5,
         "xanchor": "center"
        },
        "xaxis": {
         "autorange": true,
         "range": [
          -0.5,
          2.5
         ],
         "title": {
          "text": "Functions"
         },
         "type": "category"
        },
        "yaxis": {
         "autorange": true,
         "range": [
          0,
          408.35694986077385
         ],
         "title": {
          "text": "Runtime (sec)"
         },
         "type": "linear"
        }
       }
      },
      "image/png": "[encoded data removed]",
      "text/html": [
       "<div>                            <div id=\"d1309141-8f34-49cd-83a3-6f04d614d3cb\" class=\"plotly-graph-div\" style=\"height:525px; width:100%;\"></div>            <script type=\"text/javascript\">                require([\"plotly\"], function(Plotly) {                    window.PLOTLYENV=window.PLOTLYENV || {};                                    if (document.getElementById(\"d1309141-8f34-49cd-83a3-6f04d614d3cb\")) {                    Plotly.newPlot(                        \"d1309141-8f34-49cd-83a3-6f04d614d3cb\",                        [{\"error_y\":{\"array\":[0.3891613332967875,0.36266784466720453,1.2720111761388821],\"symmetric\":true,\"type\":\"data\"},\"marker\":{\"color\":\"rgba(151, 209, 233, 255)\"},\"name\":\"kOps 8x 8vCPU 16Gb arm64\",\"text\":[\"120.9\",\"81.12\",\"232.01\"],\"textposition\":\"outside\",\"x\":[\"preprocess\",\"train\",\"query\"],\"y\":[120.9039,81.12410000000001,232.0071],\"type\":\"bar\"},{\"error_y\":{\"array\":[0.6914624799011954,0.6083973527957603,5.348311243436255],\"symmetric\":true,\"type\":\"data\"},\"marker\":{\"color\":\"rgba(0, 120, 179, 255)\"},\"name\":\"EKS 8x 8vCPU 16Gb arm64\",\"text\":[\"122.02\",\"81.25\",\"240.48\"],\"textposition\":\"outside\",\"x\":[\"preprocess\",\"train\",\"query\"],\"y\":[122.0245,81.2515,240.4803],\"type\":\"bar\"},{\"error_y\":{\"array\":[0.860604761522707,1.6645915735298753,31.188203816346974],\"symmetric\":true,\"type\":\"data\"},\"marker\":{\"color\":\"rgba(179, 223, 146, 255)\"},\"name\":\"kOps 8x 8vCPU 16Gb x86_64\",\"text\":[\"118.45\",\"127.93\",\"355.09\"],\"textposition\":\"outside\",\"x\":[\"preprocess\",\"train\",\"query\"],\"y\":[118.454,127.9322,355.08729999999997],\"type\":\"bar\"},{\"error_y\":{\"array\":[0.9047473312109481,1.170326834217215,21.31080236773516],\"symmetric\":true,\"type\":\"data\"},\"marker\":{\"color\":\"rgba(49, 169, 90, 255)\"},\"name\":\"EKS 8x 8vCPU 16Gb x86_64\",\"text\":[\"120.54\",\"125.3\",\"366.63\"],\"textposition\":\"outside\",\"x\":[\"preprocess\",\"train\",\"query\"],\"y\":[120.541,125.29589999999999,366.62829999999997],\"type\":\"bar\"}],                        {\"template\":{\"data\":{\"histogram2dcontour\":[{\"type\":\"histogram2dcontour\",\"colorbar\":{\"outlinewidth\":0,\"ticks\":\"\"},\"colorscale\":[[0.0,\"#0d0887\"],[0.1111111111111111,\"#46039f\"],[0.2222222222222222,\"#7201a8\"],[0.3333333333333333,\"#9c179e\"],[0.4444444444444444,\"#bd3786\"],[0.5555555555555556,\"#d8576b\"],[0.6666666666666666,\"#ed7953\"],[0.7777777777777778,\"#fb9f3a\"],[0.8888888888888888,\"#fdca26\"],[1.0,\"#f0f921\"]]}],\"choropleth\":[{\"type\":\"choropleth\",\"colorbar\":{\"outlinewidth\":0,\"ticks\":\"\"}}],\"histogram2d\":[{\"type\":\"histogram2d\",\"colorbar\":{\"outlinewidth\":0,\"ticks\":\"\"},\"colorscale\":[[0.0,\"#0d0887\"],[0.1111111111111111,\"#46039f\"],[0.2222222222222222,\"#7201a8\"],[0.3333333333333333,\"#9c179e\"],[0.4444444444444444,\"#bd3786\"],[0.5555555555555556,\"#d8576b\"],[0.6666666666666666,\"#ed7953\"],[0.7777777777777778,\"#fb9f3a\"],[0.8888888888888888,\"#fdca26\"],[1.0,\"#f0f921\"]]}],\"heatmap\":[{\"type\":\"heatmap\",\"colorbar\":{\"outlinewidth\":0,\"ticks\":\"\"},\"colorscale\":[[0.0,\"#0d0887\"],[0.1111111111111111,\"#46039f\"],[0.2222222222222222,\"#7201a8\"],[0.3333333333333333,\"#9c179e\"],[0.4444444444444444,\"#bd3786\"],[0.5555555555555556,\"#d8576b\"],[0.6666666666666666,\"#ed7953\"],[0.7777777777777778,\"#fb9f3a\"],[0.8888888888888888,\"#fdca26\"],[1.0,\"#f0f921\"]]}],\"heatmapgl\":[{\"type\":\"heatmapgl\",\"colorbar\":{\"outlinewidth\":0,\"ticks\":\"\"},\"colorscale\":[[0.0,\"#0d0887\"],[0.1111111111111111,\"#46039f\"],[0.2222222222222222,\"#7201a8\"],[0.3333333333333333,\"#9c179e\"],[0.4444444444444444,\"#bd3786\"],[0.5555555555555556,\"#d8576b\"],[0.6666666666666666,\"#ed7953\"],[0.7777777777777778,\"#fb9f3a\"],[0.8888888888888888,\"#fdca26\"],[1.0,\"#f0f921\"]]}],\"contourcarpet\":[{\"type\":\"contourcarpet\",\"colorbar\":{\"outlinewidth\":0,\"ticks\":\"\"}}],\"contour\":[{\"type\":\"contour\",\"colorbar\":{\"outlinewidth\":0,\"ticks\":\"\"},\"colorscale\":[[0.0,\"#0d0887\"],[0.1111111111111111,\"#46039f\"],[0.2222222222222222,\"#7201a8\"],[0.3333333333333333,\"#9c179e\"],[0.4444444444444444,\"#bd3786\"],[0.5555555555555556,\"#d8576b\"],[0.6666666666666666,\"#ed7953\"],[0.7777777777777778,\"#fb9f3a\"],[0.8888888888888888,\"#fdca26\"],[1.0,\"#f0f921\"]]}],\"surface\":[{\"type\":\"surface\",\"colorbar\":{\"outlinewidth\":0,\"ticks\":\"\"},\"colorscale\":[[0.0,\"#0d0887\"],[0.1111111111111111,\"#46039f\"],[0.2222222222222222,\"#7201a8\"],[0.3333333333333333,\"#9c179e\"],[0.4444444444444444,\"#bd3786\"],[0.5555555555555556,\"#d8576b\"],[0.6666666666666666,\"#ed7953\"],[0.7777777777777778,\"#fb9f3a\"],[0.8888888888888888,\"#fdca26\"],[1.0,\"#f0f921\"]]}],\"mesh3d\":[{\"type\":\"mesh3d\",\"colorbar\":{\"outlinewidth\":0,\"ticks\":\"\"}}],\"scatter\":[{\"fillpattern\":{\"fillmode\":\"overlay\",\"size\":10,\"solidity\":0.2},\"type\":\"scatter\"}],\"parcoords\":[{\"type\":\"parcoords\",\"line\":{\"colorbar\":{\"outlinewidth\":0,\"ticks\":\"\"}}}],\"scatterpolargl\":[{\"type\":\"scatterpolargl\",\"marker\":{\"colorbar\":{\"outlinewidth\":0,\"ticks\":\"\"}}}],\"bar\":[{\"error_x\":{\"color\":\"#2a3f5f\"},\"error_y\":{\"color\":\"#2a3f5f\"},\"marker\":{\"line\":{\"color\":\"#E5ECF6\",\"width\":0.5},\"pattern\":{\"fillmode\":\"overlay\",\"size\":10,\"solidity\":0.2}},\"type\":\"bar\"}],\"scattergeo\":[{\"type\":\"scattergeo\",\"marker\":{\"colorbar\":{\"outlinewidth\":0,\"ticks\":\"\"}}}],\"scatterpolar\":[{\"type\":\"scatterpolar\",\"marker\":{\"colorbar\":{\"outlinewidth\":0,\"ticks\":\"\"}}}],\"histogram\":[{\"marker\":{\"pattern\":{\"fillmode\":\"overlay\",\"size\":10,\"solidity\":0.2}},\"type\":\"histogram\"}],\"scattergl\":[{\"type\":\"scattergl\",\"marker\":{\"colorbar\":{\"outlinewidth\":0,\"ticks\":\"\"}}}],\"scatter3d\":[{\"type\":\"scatter3d\",\"line\":{\"colorbar\":{\"outlinewidth\":0,\"ticks\":\"\"}},\"marker\":{\"colorbar\":{\"outlinewidth\":0,\"ticks\":\"\"}}}],\"scattermapbox\":[{\"type\":\"scattermapbox\",\"marker\":{\"colorbar\":{\"outlinewidth\":0,\"ticks\":\"\"}}}],\"scatterternary\":[{\"type\":\"scatterternary\",\"marker\":{\"colorbar\":{\"outlinewidth\":0,\"ticks\":\"\"}}}],\"scattercarpet\":[{\"type\":\"scattercarpet\",\"marker\":{\"colorbar\":{\"outlinewidth\":0,\"ticks\":\"\"}}}],\"carpet\":[{\"aaxis\":{\"endlinecolor\":\"#2a3f5f\",\"gridcolor\":\"white\",\"linecolor\":\"white\",\"minorgridcolor\":\"white\",\"startlinecolor\":\"#2a3f5f\"},\"baxis\":{\"endlinecolor\":\"#2a3f5f\",\"gridcolor\":\"white\",\"linecolor\":\"white\",\"minorgridcolor\":\"white\",\"startlinecolor\":\"#2a3f5f\"},\"type\":\"carpet\"}],\"table\":[{\"cells\":{\"fill\":{\"color\":\"#EBF0F8\"},\"line\":{\"color\":\"white\"}},\"header\":{\"fill\":{\"color\":\"#C8D4E3\"},\"line\":{\"color\":\"white\"}},\"type\":\"table\"}],\"barpolar\":[{\"marker\":{\"line\":{\"color\":\"#E5ECF6\",\"width\":0.5},\"pattern\":{\"fillmode\":\"overlay\",\"size\":10,\"solidity\":0.2}},\"type\":\"barpolar\"}],\"pie\":[{\"automargin\":true,\"type\":\"pie\"}]},\"layout\":{\"autotypenumbers\":\"strict\",\"colorway\":[\"#636efa\",\"#EF553B\",\"#00cc96\",\"#ab63fa\",\"#FFA15A\",\"#19d3f3\",\"#FF6692\",\"#B6E880\",\"#FF97FF\",\"#FECB52\"],\"font\":{\"color\":\"#2a3f5f\"},\"hovermode\":\"closest\",\"hoverlabel\":{\"align\":\"left\"},\"paper_bgcolor\":\"white\",\"plot_bgcolor\":\"#E5ECF6\",\"polar\":{\"bgcolor\":\"#E5ECF6\",\"angularaxis\":{\"gridcolor\":\"white\",\"linecolor\":\"white\",\"ticks\":\"\"},\"radialaxis\":{\"gridcolor\":\"white\",\"linecolor\":\"white\",\"ticks\":\"\"}},\"ternary\":{\"bgcolor\":\"#E5ECF6\",\"aaxis\":{\"gridcolor\":\"white\",\"linecolor\":\"white\",\"ticks\":\"\"},\"baxis\":{\"gridcolor\":\"white\",\"linecolor\":\"white\",\"ticks\":\"\"},\"caxis\":{\"gridcolor\":\"white\",\"linecolor\":\"white\",\"ticks\":\"\"}},\"coloraxis\":{\"colorbar\":{\"outlinewidth\":0,\"ticks\":\"\"}},\"colorscale\":{\"sequential\":[[0.0,\"#0d0887\"],[0.1111111111111111,\"#46039f\"],[0.2222222222222222,\"#7201a8\"],[0.3333333333333333,\"#9c179e\"],[0.4444444444444444,\"#bd3786\"],[0.5555555555555556,\"#d8576b\"],[0.6666666666666666,\"#ed7953\"],[0.7777777777777778,\"#fb9f3a\"],[0.8888888888888888,\"#fdca26\"],[1.0,\"#f0f921\"]],\"sequentialminus\":[[0.0,\"#0d0887\"],[0.1111111111111111,\"#46039f\"],[0.2222222222222222,\"#7201a8\"],[0.3333333333333333,\"#9c179e\"],[0.4444444444444444,\"#bd3786\"],[0.5555555555555556,\"#d8576b\"],[0.6666666666666666,\"#ed7953\"],[0.7777777777777778,\"#fb9f3a\"],[0.8888888888888888,\"#fdca26\"],[1.0,\"#f0f921\"]],\"diverging\":[[0,\"#8e0152\"],[0.1,\"#c51b7d\"],[0.2,\"#de77ae\"],[0.3,\"#f1b6da\"],[0.4,\"#fde0ef\"],[0.5,\"#f7f7f7\"],[0.6,\"#e6f5d0\"],[0.7,\"#b8e186\"],[0.8,\"#7fbc41\"],[0.9,\"#4d9221\"],[1,\"#276419\"]]},\"xaxis\":{\"gridcolor\":\"white\",\"linecolor\":\"white\",\"ticks\":\"\",\"title\":{\"standoff\":15},\"zerolinecolor\":\"white\",\"automargin\":true,\"zerolinewidth\":2},\"yaxis\":{\"gridcolor\":\"white\",\"linecolor\":\"white\",\"ticks\":\"\",\"title\":{\"standoff\":15},\"zerolinecolor\":\"white\",\"automargin\":true,\"zerolinewidth\":2},\"scene\":{\"xaxis\":{\"backgroundcolor\":\"#E5ECF6\",\"gridcolor\":\"white\",\"linecolor\":\"white\",\"showbackground\":true,\"ticks\":\"\",\"zerolinecolor\":\"white\",\"gridwidth\":2},\"yaxis\":{\"backgroundcolor\":\"#E5ECF6\",\"gridcolor\":\"white\",\"linecolor\":\"white\",\"showbackground\":true,\"ticks\":\"\",\"zerolinecolor\":\"white\",\"gridwidth\":2},\"zaxis\":{\"backgroundcolor\":\"#E5ECF6\",\"gridcolor\":\"white\",\"linecolor\":\"white\",\"showbackground\":true,\"ticks\":\"\",\"zerolinecolor\":\"white\",\"gridwidth\":2}},\"shapedefaults\":{\"line\":{\"color\":\"#2a3f5f\"}},\"annotationdefaults\":{\"arrowcolor\":\"#2a3f5f\",\"arrowhead\":0,\"arrowwidth\":1},\"geo\":{\"bgcolor\":\"white\",\"landcolor\":\"#E5ECF6\",\"subunitcolor\":\"white\",\"showland\":true,\"showlakes\":true,\"lakecolor\":\"white\"},\"title\":{\"x\":0.05},\"mapbox\":{\"style\":\"light\"}}},\"legend\":{\"orientation\":\"h\",\"yanchor\":\"bottom\",\"y\":1.02,\"xanchor\":\"center\",\"x\":0.47},\"margin\":{\"b\":1,\"l\":1,\"r\":1,\"autoexpand\":true},\"font\":{\"size\":16},\"title\":{\"text\":\"NLP: arm64 vs x86_64, function runtimes (sec)\",\"x\":0.5,\"xanchor\":\"center\"},\"xaxis\":{\"title\":{\"text\":\"Functions\"}},\"yaxis\":{\"title\":{\"text\":\"Runtime (sec)\"}},\"plot_bgcolor\":\"rgba(245,245,255,255)\"},                        {\"responsive\": true}                    ).then(function(){\n",
       "                            \n",
       "var gd = document.getElementById('d1309141-8f34-49cd-83a3-6f04d614d3cb');\n",
       "var x = new MutationObserver(function (mutations, observer) {{\n",
       "        var display = window.getComputedStyle(gd).display;\n",
       "        if (!display || display === 'none') {{\n",
       "            console.log([gd, 'removed!']);\n",
       "            Plotly.purge(gd);\n",
       "            observer.disconnect();\n",
       "        }}\n",
       "}});\n",
       "\n",
       "// Listen for the removal of the full notebook cells\n",
       "var notebookContainer = gd.closest('#notebook-container');\n",
       "if (notebookContainer) {{\n",
       "    x.observe(notebookContainer, {childList: true});\n",
       "}}\n",
       "\n",
       "// Listen for the clearing of the current output cell\n",
       "var outputEl = gd.closest('.output');\n",
       "if (outputEl) {{\n",
       "    x.observe(outputEl, {childList: true});\n",
       "}}\n",
       "\n",
       "                        })                };                });            </script>        </div>"
      ]
     },
     "metadata": {},
     "output_type": "display_data"
    }
   ],
   "source": [
    "fig = create_figure('NLP: arm64 vs x86_64, function runtimes (sec)', 'Functions', 'Runtime (sec)')\n",
    "\n",
    "for i, k in enumerate(clusters):\n",
    "    y_data=[nlp_df[k][m]['runtime'].mean()/1000 for m in methods]\n",
    "    fig.add_trace(\n",
    "        go.Bar(\n",
    "            x = methods,\n",
    "            y = y_data,\n",
    "            error_y=dict(\n",
    "                type='data',\n",
    "                symmetric=True,\n",
    "                array=[nlp_df[k][m]['runtime'].sem()/1000 for m in methods]\n",
    "            ),\n",
    "            name = k,\n",
    "            text=[round(v, 2) for v in y_data],\n",
    "            textposition='outside',\n",
    "            # mode='markers',\n",
    "            # marker=dict(size=10),\n",
    "            marker_color=colorPallet[i]\n",
    "        )\n",
    "    )\n",
    "\n",
    "fig.show()\n",
    "write_image(fig, 'nlp_arm64_runtime_bar.png')"
   ]
  },
  {
   "cell_type": "markdown",
   "id": "ebe1118b-a733-4cee-b483-21b720efa9c3",
   "metadata": {},
   "source": [
    "# Using tabulate to create tables for results"
   ]
  },
  {
   "cell_type": "code",
   "execution_count": 6,
   "id": "a6c9b775-112e-40ec-8dff-50b7120d496b",
   "metadata": {},
   "outputs": [
    {
     "data": {
      "text/html": [
       "<h3>NLP: Mean runtimes (sec)</h3>"
      ],
      "text/plain": [
       "<IPython.core.display.HTML object>"
      ]
     },
     "metadata": {},
     "output_type": "display_data"
    },
    {
     "data": {
      "text/html": [
       "<table>\n",
       "<thead>\n",
       "<tr><th>cluster                  </th><th style=\"text-align: right;\">  preprocess</th><th style=\"text-align: right;\">   train</th><th style=\"text-align: right;\">  query</th></tr>\n",
       "</thead>\n",
       "<tbody>\n",
       "<tr><td>kOps 8x 8vCPU 16Gb arm64 </td><td style=\"text-align: right;\">     120.904</td><td style=\"text-align: right;\"> 81.1241</td><td style=\"text-align: right;\">232.007</td></tr>\n",
       "<tr><td>EKS 8x 8vCPU 16Gb arm64  </td><td style=\"text-align: right;\">     122.025</td><td style=\"text-align: right;\"> 81.2515</td><td style=\"text-align: right;\">240.48 </td></tr>\n",
       "<tr><td>kOps 8x 8vCPU 16Gb x86_64</td><td style=\"text-align: right;\">     118.454</td><td style=\"text-align: right;\">127.932 </td><td style=\"text-align: right;\">355.087</td></tr>\n",
       "<tr><td>EKS 8x 8vCPU 16Gb x86_64 </td><td style=\"text-align: right;\">     120.541</td><td style=\"text-align: right;\">125.296 </td><td style=\"text-align: right;\">366.628</td></tr>\n",
       "</tbody>\n",
       "</table>"
      ],
      "text/plain": [
       "'<table>\\n<thead>\\n<tr><th>cluster                  </th><th style=\"text-align: right;\">  preprocess</th><th style=\"text-align: right;\">   train</th><th style=\"text-align: right;\">  query</th></tr>\\n</thead>\\n<tbody>\\n<tr><td>kOps 8x 8vCPU 16Gb arm64 </td><td style=\"text-align: right;\">     120.904</td><td style=\"text-align: right;\"> 81.1241</td><td style=\"text-align: right;\">232.007</td></tr>\\n<tr><td>EKS 8x 8vCPU 16Gb arm64  </td><td style=\"text-align: right;\">     122.025</td><td style=\"text-align: right;\"> 81.2515</td><td style=\"text-align: right;\">240.48 </td></tr>\\n<tr><td>kOps 8x 8vCPU 16Gb x86_64</td><td style=\"text-align: right;\">     118.454</td><td style=\"text-align: right;\">127.932 </td><td style=\"text-align: right;\">355.087</td></tr>\\n<tr><td>EKS 8x 8vCPU 16Gb x86_64 </td><td style=\"text-align: right;\">     120.541</td><td style=\"text-align: right;\">125.296 </td><td style=\"text-align: right;\">366.628</td></tr>\\n</tbody>\\n</table>'"
      ]
     },
     "metadata": {},
     "output_type": "display_data"
    },
    {
     "data": {
      "text/html": [
       "<h3>NLP: Standard deviation (sec)</h3>"
      ],
      "text/plain": [
       "<IPython.core.display.HTML object>"
      ]
     },
     "metadata": {},
     "output_type": "display_data"
    },
    {
     "data": {
      "text/html": [
       "<table>\n",
       "<thead>\n",
       "<tr><th>cluster                  </th><th style=\"text-align: right;\">  preprocess</th><th style=\"text-align: right;\">  train</th><th style=\"text-align: right;\">   query</th></tr>\n",
       "</thead>\n",
       "<tbody>\n",
       "<tr><td>kOps 8x 8vCPU 16Gb arm64 </td><td style=\"text-align: right;\">     1.23064</td><td style=\"text-align: right;\">1.14686</td><td style=\"text-align: right;\"> 4.02245</td></tr>\n",
       "<tr><td>EKS 8x 8vCPU 16Gb arm64  </td><td style=\"text-align: right;\">     2.1866 </td><td style=\"text-align: right;\">1.92392</td><td style=\"text-align: right;\">16.9128 </td></tr>\n",
       "<tr><td>kOps 8x 8vCPU 16Gb x86_64</td><td style=\"text-align: right;\">     2.72147</td><td style=\"text-align: right;\">5.2639 </td><td style=\"text-align: right;\">98.6258 </td></tr>\n",
       "<tr><td>EKS 8x 8vCPU 16Gb x86_64 </td><td style=\"text-align: right;\">     2.86106</td><td style=\"text-align: right;\">3.7009 </td><td style=\"text-align: right;\">67.3907 </td></tr>\n",
       "</tbody>\n",
       "</table>"
      ],
      "text/plain": [
       "'<table>\\n<thead>\\n<tr><th>cluster                  </th><th style=\"text-align: right;\">  preprocess</th><th style=\"text-align: right;\">  train</th><th style=\"text-align: right;\">   query</th></tr>\\n</thead>\\n<tbody>\\n<tr><td>kOps 8x 8vCPU 16Gb arm64 </td><td style=\"text-align: right;\">     1.23064</td><td style=\"text-align: right;\">1.14686</td><td style=\"text-align: right;\"> 4.02245</td></tr>\\n<tr><td>EKS 8x 8vCPU 16Gb arm64  </td><td style=\"text-align: right;\">     2.1866 </td><td style=\"text-align: right;\">1.92392</td><td style=\"text-align: right;\">16.9128 </td></tr>\\n<tr><td>kOps 8x 8vCPU 16Gb x86_64</td><td style=\"text-align: right;\">     2.72147</td><td style=\"text-align: right;\">5.2639 </td><td style=\"text-align: right;\">98.6258 </td></tr>\\n<tr><td>EKS 8x 8vCPU 16Gb x86_64 </td><td style=\"text-align: right;\">     2.86106</td><td style=\"text-align: right;\">3.7009 </td><td style=\"text-align: right;\">67.3907 </td></tr>\\n</tbody>\\n</table>'"
      ]
     },
     "metadata": {},
     "output_type": "display_data"
    },
    {
     "data": {
      "text/html": [
       "<h3>NLP: Coefficient of variation</h3>"
      ],
      "text/plain": [
       "<IPython.core.display.HTML object>"
      ]
     },
     "metadata": {},
     "output_type": "display_data"
    },
    {
     "data": {
      "text/html": [
       "<table>\n",
       "<thead>\n",
       "<tr><th>cluster                  </th><th style=\"text-align: right;\">  preprocess</th><th style=\"text-align: right;\">    train</th><th style=\"text-align: right;\">    query</th></tr>\n",
       "</thead>\n",
       "<tbody>\n",
       "<tr><td>kOps 8x 8vCPU 16Gb arm64 </td><td style=\"text-align: right;\">   0.0101786</td><td style=\"text-align: right;\">0.0141371</td><td style=\"text-align: right;\">0.0173376</td></tr>\n",
       "<tr><td>EKS 8x 8vCPU 16Gb arm64  </td><td style=\"text-align: right;\">   0.0179193</td><td style=\"text-align: right;\">0.0236786</td><td style=\"text-align: right;\">0.0703294</td></tr>\n",
       "<tr><td>kOps 8x 8vCPU 16Gb x86_64</td><td style=\"text-align: right;\">   0.0229749</td><td style=\"text-align: right;\">0.041146 </td><td style=\"text-align: right;\">0.277751 </td></tr>\n",
       "<tr><td>EKS 8x 8vCPU 16Gb x86_64 </td><td style=\"text-align: right;\">   0.0237352</td><td style=\"text-align: right;\">0.0295373</td><td style=\"text-align: right;\">0.183812 </td></tr>\n",
       "</tbody>\n",
       "</table>"
      ],
      "text/plain": [
       "'<table>\\n<thead>\\n<tr><th>cluster                  </th><th style=\"text-align: right;\">  preprocess</th><th style=\"text-align: right;\">    train</th><th style=\"text-align: right;\">    query</th></tr>\\n</thead>\\n<tbody>\\n<tr><td>kOps 8x 8vCPU 16Gb arm64 </td><td style=\"text-align: right;\">   0.0101786</td><td style=\"text-align: right;\">0.0141371</td><td style=\"text-align: right;\">0.0173376</td></tr>\\n<tr><td>EKS 8x 8vCPU 16Gb arm64  </td><td style=\"text-align: right;\">   0.0179193</td><td style=\"text-align: right;\">0.0236786</td><td style=\"text-align: right;\">0.0703294</td></tr>\\n<tr><td>kOps 8x 8vCPU 16Gb x86_64</td><td style=\"text-align: right;\">   0.0229749</td><td style=\"text-align: right;\">0.041146 </td><td style=\"text-align: right;\">0.277751 </td></tr>\\n<tr><td>EKS 8x 8vCPU 16Gb x86_64 </td><td style=\"text-align: right;\">   0.0237352</td><td style=\"text-align: right;\">0.0295373</td><td style=\"text-align: right;\">0.183812 </td></tr>\\n</tbody>\\n</table>'"
      ]
     },
     "metadata": {},
     "output_type": "display_data"
    },
    {
     "data": {
      "text/html": [
       "<h3>NLP: Standard erorr of the mean (sec)</h3>"
      ],
      "text/plain": [
       "<IPython.core.display.HTML object>"
      ]
     },
     "metadata": {},
     "output_type": "display_data"
    },
    {
     "data": {
      "text/html": [
       "<table>\n",
       "<thead>\n",
       "<tr><th>cluster                  </th><th style=\"text-align: right;\">  preprocess</th><th style=\"text-align: right;\">   train</th><th style=\"text-align: right;\">   query</th></tr>\n",
       "</thead>\n",
       "<tbody>\n",
       "<tr><td>kOps 8x 8vCPU 16Gb arm64 </td><td style=\"text-align: right;\">    0.389161</td><td style=\"text-align: right;\">0.362668</td><td style=\"text-align: right;\"> 1.27201</td></tr>\n",
       "<tr><td>EKS 8x 8vCPU 16Gb arm64  </td><td style=\"text-align: right;\">    0.691462</td><td style=\"text-align: right;\">0.608397</td><td style=\"text-align: right;\"> 5.34831</td></tr>\n",
       "<tr><td>kOps 8x 8vCPU 16Gb x86_64</td><td style=\"text-align: right;\">    0.860605</td><td style=\"text-align: right;\">1.66459 </td><td style=\"text-align: right;\">31.1882 </td></tr>\n",
       "<tr><td>EKS 8x 8vCPU 16Gb x86_64 </td><td style=\"text-align: right;\">    0.904747</td><td style=\"text-align: right;\">1.17033 </td><td style=\"text-align: right;\">21.3108 </td></tr>\n",
       "</tbody>\n",
       "</table>"
      ],
      "text/plain": [
       "'<table>\\n<thead>\\n<tr><th>cluster                  </th><th style=\"text-align: right;\">  preprocess</th><th style=\"text-align: right;\">   train</th><th style=\"text-align: right;\">   query</th></tr>\\n</thead>\\n<tbody>\\n<tr><td>kOps 8x 8vCPU 16Gb arm64 </td><td style=\"text-align: right;\">    0.389161</td><td style=\"text-align: right;\">0.362668</td><td style=\"text-align: right;\"> 1.27201</td></tr>\\n<tr><td>EKS 8x 8vCPU 16Gb arm64  </td><td style=\"text-align: right;\">    0.691462</td><td style=\"text-align: right;\">0.608397</td><td style=\"text-align: right;\"> 5.34831</td></tr>\\n<tr><td>kOps 8x 8vCPU 16Gb x86_64</td><td style=\"text-align: right;\">    0.860605</td><td style=\"text-align: right;\">1.66459 </td><td style=\"text-align: right;\">31.1882 </td></tr>\\n<tr><td>EKS 8x 8vCPU 16Gb x86_64 </td><td style=\"text-align: right;\">    0.904747</td><td style=\"text-align: right;\">1.17033 </td><td style=\"text-align: right;\">21.3108 </td></tr>\\n</tbody>\\n</table>'"
      ]
     },
     "metadata": {},
     "output_type": "display_data"
    }
   ],
   "source": [
    "# Mean runtime\n",
    "table=dict()\n",
    "data=dict()\n",
    "stats=('mean', 'std', 'cv', 'sem')\n",
    "for s in stats:\n",
    "    data[s]=[]\n",
    "for i, k in enumerate(clusters):\n",
    "    for s in stats:\n",
    "        data[s].append([])\n",
    "        data[s][i].append(k)\n",
    "    for m in methods:\n",
    "        mean=nlp_df[k][m]['runtime'].mean()/1000\n",
    "        std=nlp_df[k][m]['runtime'].std()/1000\n",
    "        sem=nlp_df[k][m]['runtime'].sem()/1000\n",
    "        data['mean'][i].append(mean)\n",
    "        data['std'][i].append(std)\n",
    "        data['cv'][i].append(std/mean)\n",
    "        data['sem'][i].append(sem)\n",
    "\n",
    "table['mean']=tabulate(data['mean'], tablefmt='html', headers=headers)\n",
    "display(HTML('<h3>NLP: Mean runtimes (sec)</h3>'))\n",
    "display(table['mean'])\n",
    "\n",
    "table['std']=tabulate(data['std'], tablefmt='html', headers=headers)\n",
    "display(HTML('<h3>NLP: Standard deviation (sec)</h3>'))\n",
    "display(table['std'])\n",
    "\n",
    "table['cv']=tabulate(data['cv'], tablefmt='html', headers=headers)\n",
    "display(HTML('<h3>NLP: Coefficient of variation</h3>'))\n",
    "display(table['cv'])\n",
    "\n",
    "table['sem']=tabulate(data['sem'], tablefmt='html', headers=headers)\n",
    "display(HTML('<h3>NLP: Standard erorr of the mean (sec)</h3>'))\n",
    "display(table['sem'])"
   ]
  },
  {
   "cell_type": "code",
   "execution_count": 7,
   "id": "c2c37fff-1db0-4c33-8015-8c15dfea16fd",
   "metadata": {},
   "outputs": [
    {
     "data": {
      "application/vnd.plotly.v1+json": {
       "config": {
        "plotlyServerURL": "https://plot.ly"
       },
       "data": [
        {
         "marker": {
          "color": "rgba(151, 209, 233, 255)"
         },
         "name": "kOps 8x 8vCPU 16Gb arm64",
         "text": [
          "0.3 %",
          "-35.25 %",
          "-36.72 %"
         ],
         "textposition": "outside",
         "type": "bar",
         "x": [
          "preprocess",
          "train",
          "query"
         ],
         "y": [
          0.3010593905807934,
          -35.25398676253572,
          -36.71871484007099
         ]
        },
        {
         "marker": {
          "color": "rgba(0, 120, 179, 255)"
         },
         "name": "EKS 8x 8vCPU 16Gb arm64",
         "text": [
          "1.23 %",
          "-35.15 %",
          "-34.41 %"
         ],
         "textposition": "outside",
         "type": "bar",
         "x": [
          "preprocess",
          "train",
          "query"
         ],
         "y": [
          1.230701587011888,
          -35.15230745778592,
          -34.4076002861754
         ]
        },
        {
         "marker": {
          "color": "rgba(179, 223, 146, 255)"
         },
         "name": "kOps 8x 8vCPU 16Gb x86_64",
         "text": [
          "-1.73 %",
          "2.1 %",
          "-3.15 %"
         ],
         "textposition": "outside",
         "type": "bar",
         "x": [
          "preprocess",
          "train",
          "query"
         ],
         "y": [
          -1.7313611136459794,
          2.1040592708939423,
          -3.1478748367215514
         ]
        }
       ],
       "layout": {
        "autosize": true,
        "font": {
         "size": 16
        },
        "legend": {
         "orientation": "h",
         "x": 0.47,
         "xanchor": "center",
         "y": 1.02,
         "yanchor": "bottom"
        },
        "margin": {
         "autoexpand": true,
         "b": 1,
         "l": 1,
         "r": 1
        },
        "plot_bgcolor": "rgba(245,245,255,255)",
        "template": {
         "data": {
          "bar": [
           {
            "error_x": {
             "color": "#2a3f5f"
            },
            "error_y": {
             "color": "#2a3f5f"
            },
            "marker": {
             "line": {
              "color": "#E5ECF6",
              "width": 0.5
             },
             "pattern": {
              "fillmode": "overlay",
              "size": 10,
              "solidity": 0.2
             }
            },
            "type": "bar"
           }
          ],
          "barpolar": [
           {
            "marker": {
             "line": {
              "color": "#E5ECF6",
              "width": 0.5
             },
             "pattern": {
              "fillmode": "overlay",
              "size": 10,
              "solidity": 0.2
             }
            },
            "type": "barpolar"
           }
          ],
          "carpet": [
           {
            "aaxis": {
             "endlinecolor": "#2a3f5f",
             "gridcolor": "white",
             "linecolor": "white",
             "minorgridcolor": "white",
             "startlinecolor": "#2a3f5f"
            },
            "baxis": {
             "endlinecolor": "#2a3f5f",
             "gridcolor": "white",
             "linecolor": "white",
             "minorgridcolor": "white",
             "startlinecolor": "#2a3f5f"
            },
            "type": "carpet"
           }
          ],
          "choropleth": [
           {
            "colorbar": {
             "outlinewidth": 0,
             "ticks": ""
            },
            "type": "choropleth"
           }
          ],
          "contour": [
           {
            "colorbar": {
             "outlinewidth": 0,
             "ticks": ""
            },
            "colorscale": [
             [
              0,
              "#0d0887"
             ],
             [
              0.1111111111111111,
              "#46039f"
             ],
             [
              0.2222222222222222,
              "#7201a8"
             ],
             [
              0.3333333333333333,
              "#9c179e"
             ],
             [
              0.4444444444444444,
              "#bd3786"
             ],
             [
              0.5555555555555556,
              "#d8576b"
             ],
             [
              0.6666666666666666,
              "#ed7953"
             ],
             [
              0.7777777777777778,
              "#fb9f3a"
             ],
             [
              0.8888888888888888,
              "#fdca26"
             ],
             [
              1,
              "#f0f921"
             ]
            ],
            "type": "contour"
           }
          ],
          "contourcarpet": [
           {
            "colorbar": {
             "outlinewidth": 0,
             "ticks": ""
            },
            "type": "contourcarpet"
           }
          ],
          "heatmap": [
           {
            "colorbar": {
             "outlinewidth": 0,
             "ticks": ""
            },
            "colorscale": [
             [
              0,
              "#0d0887"
             ],
             [
              0.1111111111111111,
              "#46039f"
             ],
             [
              0.2222222222222222,
              "#7201a8"
             ],
             [
              0.3333333333333333,
              "#9c179e"
             ],
             [
              0.4444444444444444,
              "#bd3786"
             ],
             [
              0.5555555555555556,
              "#d8576b"
             ],
             [
              0.6666666666666666,
              "#ed7953"
             ],
             [
              0.7777777777777778,
              "#fb9f3a"
             ],
             [
              0.8888888888888888,
              "#fdca26"
             ],
             [
              1,
              "#f0f921"
             ]
            ],
            "type": "heatmap"
           }
          ],
          "heatmapgl": [
           {
            "colorbar": {
             "outlinewidth": 0,
             "ticks": ""
            },
            "colorscale": [
             [
              0,
              "#0d0887"
             ],
             [
              0.1111111111111111,
              "#46039f"
             ],
             [
              0.2222222222222222,
              "#7201a8"
             ],
             [
              0.3333333333333333,
              "#9c179e"
             ],
             [
              0.4444444444444444,
              "#bd3786"
             ],
             [
              0.5555555555555556,
              "#d8576b"
             ],
             [
              0.6666666666666666,
              "#ed7953"
             ],
             [
              0.7777777777777778,
              "#fb9f3a"
             ],
             [
              0.8888888888888888,
              "#fdca26"
             ],
             [
              1,
              "#f0f921"
             ]
            ],
            "type": "heatmapgl"
           }
          ],
          "histogram": [
           {
            "marker": {
             "pattern": {
              "fillmode": "overlay",
              "size": 10,
              "solidity": 0.2
             }
            },
            "type": "histogram"
           }
          ],
          "histogram2d": [
           {
            "colorbar": {
             "outlinewidth": 0,
             "ticks": ""
            },
            "colorscale": [
             [
              0,
              "#0d0887"
             ],
             [
              0.1111111111111111,
              "#46039f"
             ],
             [
              0.2222222222222222,
              "#7201a8"
             ],
             [
              0.3333333333333333,
              "#9c179e"
             ],
             [
              0.4444444444444444,
              "#bd3786"
             ],
             [
              0.5555555555555556,
              "#d8576b"
             ],
             [
              0.6666666666666666,
              "#ed7953"
             ],
             [
              0.7777777777777778,
              "#fb9f3a"
             ],
             [
              0.8888888888888888,
              "#fdca26"
             ],
             [
              1,
              "#f0f921"
             ]
            ],
            "type": "histogram2d"
           }
          ],
          "histogram2dcontour": [
           {
            "colorbar": {
             "outlinewidth": 0,
             "ticks": ""
            },
            "colorscale": [
             [
              0,
              "#0d0887"
             ],
             [
              0.1111111111111111,
              "#46039f"
             ],
             [
              0.2222222222222222,
              "#7201a8"
             ],
             [
              0.3333333333333333,
              "#9c179e"
             ],
             [
              0.4444444444444444,
              "#bd3786"
             ],
             [
              0.5555555555555556,
              "#d8576b"
             ],
             [
              0.6666666666666666,
              "#ed7953"
             ],
             [
              0.7777777777777778,
              "#fb9f3a"
             ],
             [
              0.8888888888888888,
              "#fdca26"
             ],
             [
              1,
              "#f0f921"
             ]
            ],
            "type": "histogram2dcontour"
           }
          ],
          "mesh3d": [
           {
            "colorbar": {
             "outlinewidth": 0,
             "ticks": ""
            },
            "type": "mesh3d"
           }
          ],
          "parcoords": [
           {
            "line": {
             "colorbar": {
              "outlinewidth": 0,
              "ticks": ""
             }
            },
            "type": "parcoords"
           }
          ],
          "pie": [
           {
            "automargin": true,
            "type": "pie"
           }
          ],
          "scatter": [
           {
            "fillpattern": {
             "fillmode": "overlay",
             "size": 10,
             "solidity": 0.2
            },
            "type": "scatter"
           }
          ],
          "scatter3d": [
           {
            "line": {
             "colorbar": {
              "outlinewidth": 0,
              "ticks": ""
             }
            },
            "marker": {
             "colorbar": {
              "outlinewidth": 0,
              "ticks": ""
             }
            },
            "type": "scatter3d"
           }
          ],
          "scattercarpet": [
           {
            "marker": {
             "colorbar": {
              "outlinewidth": 0,
              "ticks": ""
             }
            },
            "type": "scattercarpet"
           }
          ],
          "scattergeo": [
           {
            "marker": {
             "colorbar": {
              "outlinewidth": 0,
              "ticks": ""
             }
            },
            "type": "scattergeo"
           }
          ],
          "scattergl": [
           {
            "marker": {
             "colorbar": {
              "outlinewidth": 0,
              "ticks": ""
             }
            },
            "type": "scattergl"
           }
          ],
          "scattermapbox": [
           {
            "marker": {
             "colorbar": {
              "outlinewidth": 0,
              "ticks": ""
             }
            },
            "type": "scattermapbox"
           }
          ],
          "scatterpolar": [
           {
            "marker": {
             "colorbar": {
              "outlinewidth": 0,
              "ticks": ""
             }
            },
            "type": "scatterpolar"
           }
          ],
          "scatterpolargl": [
           {
            "marker": {
             "colorbar": {
              "outlinewidth": 0,
              "ticks": ""
             }
            },
            "type": "scatterpolargl"
           }
          ],
          "scatterternary": [
           {
            "marker": {
             "colorbar": {
              "outlinewidth": 0,
              "ticks": ""
             }
            },
            "type": "scatterternary"
           }
          ],
          "surface": [
           {
            "colorbar": {
             "outlinewidth": 0,
             "ticks": ""
            },
            "colorscale": [
             [
              0,
              "#0d0887"
             ],
             [
              0.1111111111111111,
              "#46039f"
             ],
             [
              0.2222222222222222,
              "#7201a8"
             ],
             [
              0.3333333333333333,
              "#9c179e"
             ],
             [
              0.4444444444444444,
              "#bd3786"
             ],
             [
              0.5555555555555556,
              "#d8576b"
             ],
             [
              0.6666666666666666,
              "#ed7953"
             ],
             [
              0.7777777777777778,
              "#fb9f3a"
             ],
             [
              0.8888888888888888,
              "#fdca26"
             ],
             [
              1,
              "#f0f921"
             ]
            ],
            "type": "surface"
           }
          ],
          "table": [
           {
            "cells": {
             "fill": {
              "color": "#EBF0F8"
             },
             "line": {
              "color": "white"
             }
            },
            "header": {
             "fill": {
              "color": "#C8D4E3"
             },
             "line": {
              "color": "white"
             }
            },
            "type": "table"
           }
          ]
         },
         "layout": {
          "annotationdefaults": {
           "arrowcolor": "#2a3f5f",
           "arrowhead": 0,
           "arrowwidth": 1
          },
          "autotypenumbers": "strict",
          "coloraxis": {
           "colorbar": {
            "outlinewidth": 0,
            "ticks": ""
           }
          },
          "colorscale": {
           "diverging": [
            [
             0,
             "#8e0152"
            ],
            [
             0.1,
             "#c51b7d"
            ],
            [
             0.2,
             "#de77ae"
            ],
            [
             0.3,
             "#f1b6da"
            ],
            [
             0.4,
             "#fde0ef"
            ],
            [
             0.5,
             "#f7f7f7"
            ],
            [
             0.6,
             "#e6f5d0"
            ],
            [
             0.7,
             "#b8e186"
            ],
            [
             0.8,
             "#7fbc41"
            ],
            [
             0.9,
             "#4d9221"
            ],
            [
             1,
             "#276419"
            ]
           ],
           "sequential": [
            [
             0,
             "#0d0887"
            ],
            [
             0.1111111111111111,
             "#46039f"
            ],
            [
             0.2222222222222222,
             "#7201a8"
            ],
            [
             0.3333333333333333,
             "#9c179e"
            ],
            [
             0.4444444444444444,
             "#bd3786"
            ],
            [
             0.5555555555555556,
             "#d8576b"
            ],
            [
             0.6666666666666666,
             "#ed7953"
            ],
            [
             0.7777777777777778,
             "#fb9f3a"
            ],
            [
             0.8888888888888888,
             "#fdca26"
            ],
            [
             1,
             "#f0f921"
            ]
           ],
           "sequentialminus": [
            [
             0,
             "#0d0887"
            ],
            [
             0.1111111111111111,
             "#46039f"
            ],
            [
             0.2222222222222222,
             "#7201a8"
            ],
            [
             0.3333333333333333,
             "#9c179e"
            ],
            [
             0.4444444444444444,
             "#bd3786"
            ],
            [
             0.5555555555555556,
             "#d8576b"
            ],
            [
             0.6666666666666666,
             "#ed7953"
            ],
            [
             0.7777777777777778,
             "#fb9f3a"
            ],
            [
             0.8888888888888888,
             "#fdca26"
            ],
            [
             1,
             "#f0f921"
            ]
           ]
          },
          "colorway": [
           "#636efa",
           "#EF553B",
           "#00cc96",
           "#ab63fa",
           "#FFA15A",
           "#19d3f3",
           "#FF6692",
           "#B6E880",
           "#FF97FF",
           "#FECB52"
          ],
          "font": {
           "color": "#2a3f5f"
          },
          "geo": {
           "bgcolor": "white",
           "lakecolor": "white",
           "landcolor": "#E5ECF6",
           "showlakes": true,
           "showland": true,
           "subunitcolor": "white"
          },
          "hoverlabel": {
           "align": "left"
          },
          "hovermode": "closest",
          "mapbox": {
           "style": "light"
          },
          "paper_bgcolor": "white",
          "plot_bgcolor": "#E5ECF6",
          "polar": {
           "angularaxis": {
            "gridcolor": "white",
            "linecolor": "white",
            "ticks": ""
           },
           "bgcolor": "#E5ECF6",
           "radialaxis": {
            "gridcolor": "white",
            "linecolor": "white",
            "ticks": ""
           }
          },
          "scene": {
           "xaxis": {
            "backgroundcolor": "#E5ECF6",
            "gridcolor": "white",
            "gridwidth": 2,
            "linecolor": "white",
            "showbackground": true,
            "ticks": "",
            "zerolinecolor": "white"
           },
           "yaxis": {
            "backgroundcolor": "#E5ECF6",
            "gridcolor": "white",
            "gridwidth": 2,
            "linecolor": "white",
            "showbackground": true,
            "ticks": "",
            "zerolinecolor": "white"
           },
           "zaxis": {
            "backgroundcolor": "#E5ECF6",
            "gridcolor": "white",
            "gridwidth": 2,
            "linecolor": "white",
            "showbackground": true,
            "ticks": "",
            "zerolinecolor": "white"
           }
          },
          "shapedefaults": {
           "line": {
            "color": "#2a3f5f"
           }
          },
          "ternary": {
           "aaxis": {
            "gridcolor": "white",
            "linecolor": "white",
            "ticks": ""
           },
           "baxis": {
            "gridcolor": "white",
            "linecolor": "white",
            "ticks": ""
           },
           "bgcolor": "#E5ECF6",
           "caxis": {
            "gridcolor": "white",
            "linecolor": "white",
            "ticks": ""
           }
          },
          "title": {
           "x": 0.05
          },
          "xaxis": {
           "automargin": true,
           "gridcolor": "white",
           "linecolor": "white",
           "ticks": "",
           "title": {
            "standoff": 15
           },
           "zerolinecolor": "white",
           "zerolinewidth": 2
          },
          "yaxis": {
           "automargin": true,
           "gridcolor": "white",
           "linecolor": "white",
           "ticks": "",
           "title": {
            "standoff": 15
           },
           "zerolinecolor": "white",
           "zerolinewidth": 2
          }
         }
        },
        "title": {
         "text": "NLP: arm64 vs x86_64, EKS normalized runtime differences",
         "x": 0.5,
         "xanchor": "center"
        },
        "xaxis": {
         "autorange": true,
         "range": [
          -0.5,
          2.5
         ],
         "title": {
          "text": "Function"
         },
         "type": "category"
        },
        "yaxis": {
         "range": [
          -40,
          10
         ],
         "title": {
          "text": "% change"
         },
         "type": "linear"
        }
       }
      },
      "image/png": "[encoded data removed]",
      "text/html": [
       "<div>                            <div id=\"6cc96a6a-af1e-4471-9f17-f2d2d56f3f7d\" class=\"plotly-graph-div\" style=\"height:525px; width:100%;\"></div>            <script type=\"text/javascript\">                require([\"plotly\"], function(Plotly) {                    window.PLOTLYENV=window.PLOTLYENV || {};                                    if (document.getElementById(\"6cc96a6a-af1e-4471-9f17-f2d2d56f3f7d\")) {                    Plotly.newPlot(                        \"6cc96a6a-af1e-4471-9f17-f2d2d56f3f7d\",                        [{\"marker\":{\"color\":\"rgba(151, 209, 233, 255)\"},\"name\":\"kOps 8x 8vCPU 16Gb arm64\",\"text\":[\"0.3 %\",\"-35.25 %\",\"-36.72 %\"],\"textposition\":\"outside\",\"x\":[\"preprocess\",\"train\",\"query\"],\"y\":[0.3010593905807934,-35.25398676253572,-36.71871484007099],\"type\":\"bar\"},{\"marker\":{\"color\":\"rgba(0, 120, 179, 255)\"},\"name\":\"EKS 8x 8vCPU 16Gb arm64\",\"text\":[\"1.23 %\",\"-35.15 %\",\"-34.41 %\"],\"textposition\":\"outside\",\"x\":[\"preprocess\",\"train\",\"query\"],\"y\":[1.230701587011888,-35.15230745778592,-34.4076002861754],\"type\":\"bar\"},{\"marker\":{\"color\":\"rgba(179, 223, 146, 255)\"},\"name\":\"kOps 8x 8vCPU 16Gb x86_64\",\"text\":[\"-1.73 %\",\"2.1 %\",\"-3.15 %\"],\"textposition\":\"outside\",\"x\":[\"preprocess\",\"train\",\"query\"],\"y\":[-1.7313611136459794,2.1040592708939423,-3.1478748367215514],\"type\":\"bar\"}],                        {\"template\":{\"data\":{\"histogram2dcontour\":[{\"type\":\"histogram2dcontour\",\"colorbar\":{\"outlinewidth\":0,\"ticks\":\"\"},\"colorscale\":[[0.0,\"#0d0887\"],[0.1111111111111111,\"#46039f\"],[0.2222222222222222,\"#7201a8\"],[0.3333333333333333,\"#9c179e\"],[0.4444444444444444,\"#bd3786\"],[0.5555555555555556,\"#d8576b\"],[0.6666666666666666,\"#ed7953\"],[0.7777777777777778,\"#fb9f3a\"],[0.8888888888888888,\"#fdca26\"],[1.0,\"#f0f921\"]]}],\"choropleth\":[{\"type\":\"choropleth\",\"colorbar\":{\"outlinewidth\":0,\"ticks\":\"\"}}],\"histogram2d\":[{\"type\":\"histogram2d\",\"colorbar\":{\"outlinewidth\":0,\"ticks\":\"\"},\"colorscale\":[[0.0,\"#0d0887\"],[0.1111111111111111,\"#46039f\"],[0.2222222222222222,\"#7201a8\"],[0.3333333333333333,\"#9c179e\"],[0.4444444444444444,\"#bd3786\"],[0.5555555555555556,\"#d8576b\"],[0.6666666666666666,\"#ed7953\"],[0.7777777777777778,\"#fb9f3a\"],[0.8888888888888888,\"#fdca26\"],[1.0,\"#f0f921\"]]}],\"heatmap\":[{\"type\":\"heatmap\",\"colorbar\":{\"outlinewidth\":0,\"ticks\":\"\"},\"colorscale\":[[0.0,\"#0d0887\"],[0.1111111111111111,\"#46039f\"],[0.2222222222222222,\"#7201a8\"],[0.3333333333333333,\"#9c179e\"],[0.4444444444444444,\"#bd3786\"],[0.5555555555555556,\"#d8576b\"],[0.6666666666666666,\"#ed7953\"],[0.7777777777777778,\"#fb9f3a\"],[0.8888888888888888,\"#fdca26\"],[1.0,\"#f0f921\"]]}],\"heatmapgl\":[{\"type\":\"heatmapgl\",\"colorbar\":{\"outlinewidth\":0,\"ticks\":\"\"},\"colorscale\":[[0.0,\"#0d0887\"],[0.1111111111111111,\"#46039f\"],[0.2222222222222222,\"#7201a8\"],[0.3333333333333333,\"#9c179e\"],[0.4444444444444444,\"#bd3786\"],[0.5555555555555556,\"#d8576b\"],[0.6666666666666666,\"#ed7953\"],[0.7777777777777778,\"#fb9f3a\"],[0.8888888888888888,\"#fdca26\"],[1.0,\"#f0f921\"]]}],\"contourcarpet\":[{\"type\":\"contourcarpet\",\"colorbar\":{\"outlinewidth\":0,\"ticks\":\"\"}}],\"contour\":[{\"type\":\"contour\",\"colorbar\":{\"outlinewidth\":0,\"ticks\":\"\"},\"colorscale\":[[0.0,\"#0d0887\"],[0.1111111111111111,\"#46039f\"],[0.2222222222222222,\"#7201a8\"],[0.3333333333333333,\"#9c179e\"],[0.4444444444444444,\"#bd3786\"],[0.5555555555555556,\"#d8576b\"],[0.6666666666666666,\"#ed7953\"],[0.7777777777777778,\"#fb9f3a\"],[0.8888888888888888,\"#fdca26\"],[1.0,\"#f0f921\"]]}],\"surface\":[{\"type\":\"surface\",\"colorbar\":{\"outlinewidth\":0,\"ticks\":\"\"},\"colorscale\":[[0.0,\"#0d0887\"],[0.1111111111111111,\"#46039f\"],[0.2222222222222222,\"#7201a8\"],[0.3333333333333333,\"#9c179e\"],[0.4444444444444444,\"#bd3786\"],[0.5555555555555556,\"#d8576b\"],[0.6666666666666666,\"#ed7953\"],[0.7777777777777778,\"#fb9f3a\"],[0.8888888888888888,\"#fdca26\"],[1.0,\"#f0f921\"]]}],\"mesh3d\":[{\"type\":\"mesh3d\",\"colorbar\":{\"outlinewidth\":0,\"ticks\":\"\"}}],\"scatter\":[{\"fillpattern\":{\"fillmode\":\"overlay\",\"size\":10,\"solidity\":0.2},\"type\":\"scatter\"}],\"parcoords\":[{\"type\":\"parcoords\",\"line\":{\"colorbar\":{\"outlinewidth\":0,\"ticks\":\"\"}}}],\"scatterpolargl\":[{\"type\":\"scatterpolargl\",\"marker\":{\"colorbar\":{\"outlinewidth\":0,\"ticks\":\"\"}}}],\"bar\":[{\"error_x\":{\"color\":\"#2a3f5f\"},\"error_y\":{\"color\":\"#2a3f5f\"},\"marker\":{\"line\":{\"color\":\"#E5ECF6\",\"width\":0.5},\"pattern\":{\"fillmode\":\"overlay\",\"size\":10,\"solidity\":0.2}},\"type\":\"bar\"}],\"scattergeo\":[{\"type\":\"scattergeo\",\"marker\":{\"colorbar\":{\"outlinewidth\":0,\"ticks\":\"\"}}}],\"scatterpolar\":[{\"type\":\"scatterpolar\",\"marker\":{\"colorbar\":{\"outlinewidth\":0,\"ticks\":\"\"}}}],\"histogram\":[{\"marker\":{\"pattern\":{\"fillmode\":\"overlay\",\"size\":10,\"solidity\":0.2}},\"type\":\"histogram\"}],\"scattergl\":[{\"type\":\"scattergl\",\"marker\":{\"colorbar\":{\"outlinewidth\":0,\"ticks\":\"\"}}}],\"scatter3d\":[{\"type\":\"scatter3d\",\"line\":{\"colorbar\":{\"outlinewidth\":0,\"ticks\":\"\"}},\"marker\":{\"colorbar\":{\"outlinewidth\":0,\"ticks\":\"\"}}}],\"scattermapbox\":[{\"type\":\"scattermapbox\",\"marker\":{\"colorbar\":{\"outlinewidth\":0,\"ticks\":\"\"}}}],\"scatterternary\":[{\"type\":\"scatterternary\",\"marker\":{\"colorbar\":{\"outlinewidth\":0,\"ticks\":\"\"}}}],\"scattercarpet\":[{\"type\":\"scattercarpet\",\"marker\":{\"colorbar\":{\"outlinewidth\":0,\"ticks\":\"\"}}}],\"carpet\":[{\"aaxis\":{\"endlinecolor\":\"#2a3f5f\",\"gridcolor\":\"white\",\"linecolor\":\"white\",\"minorgridcolor\":\"white\",\"startlinecolor\":\"#2a3f5f\"},\"baxis\":{\"endlinecolor\":\"#2a3f5f\",\"gridcolor\":\"white\",\"linecolor\":\"white\",\"minorgridcolor\":\"white\",\"startlinecolor\":\"#2a3f5f\"},\"type\":\"carpet\"}],\"table\":[{\"cells\":{\"fill\":{\"color\":\"#EBF0F8\"},\"line\":{\"color\":\"white\"}},\"header\":{\"fill\":{\"color\":\"#C8D4E3\"},\"line\":{\"color\":\"white\"}},\"type\":\"table\"}],\"barpolar\":[{\"marker\":{\"line\":{\"color\":\"#E5ECF6\",\"width\":0.5},\"pattern\":{\"fillmode\":\"overlay\",\"size\":10,\"solidity\":0.2}},\"type\":\"barpolar\"}],\"pie\":[{\"automargin\":true,\"type\":\"pie\"}]},\"layout\":{\"autotypenumbers\":\"strict\",\"colorway\":[\"#636efa\",\"#EF553B\",\"#00cc96\",\"#ab63fa\",\"#FFA15A\",\"#19d3f3\",\"#FF6692\",\"#B6E880\",\"#FF97FF\",\"#FECB52\"],\"font\":{\"color\":\"#2a3f5f\"},\"hovermode\":\"closest\",\"hoverlabel\":{\"align\":\"left\"},\"paper_bgcolor\":\"white\",\"plot_bgcolor\":\"#E5ECF6\",\"polar\":{\"bgcolor\":\"#E5ECF6\",\"angularaxis\":{\"gridcolor\":\"white\",\"linecolor\":\"white\",\"ticks\":\"\"},\"radialaxis\":{\"gridcolor\":\"white\",\"linecolor\":\"white\",\"ticks\":\"\"}},\"ternary\":{\"bgcolor\":\"#E5ECF6\",\"aaxis\":{\"gridcolor\":\"white\",\"linecolor\":\"white\",\"ticks\":\"\"},\"baxis\":{\"gridcolor\":\"white\",\"linecolor\":\"white\",\"ticks\":\"\"},\"caxis\":{\"gridcolor\":\"white\",\"linecolor\":\"white\",\"ticks\":\"\"}},\"coloraxis\":{\"colorbar\":{\"outlinewidth\":0,\"ticks\":\"\"}},\"colorscale\":{\"sequential\":[[0.0,\"#0d0887\"],[0.1111111111111111,\"#46039f\"],[0.2222222222222222,\"#7201a8\"],[0.3333333333333333,\"#9c179e\"],[0.4444444444444444,\"#bd3786\"],[0.5555555555555556,\"#d8576b\"],[0.6666666666666666,\"#ed7953\"],[0.7777777777777778,\"#fb9f3a\"],[0.8888888888888888,\"#fdca26\"],[1.0,\"#f0f921\"]],\"sequentialminus\":[[0.0,\"#0d0887\"],[0.1111111111111111,\"#46039f\"],[0.2222222222222222,\"#7201a8\"],[0.3333333333333333,\"#9c179e\"],[0.4444444444444444,\"#bd3786\"],[0.5555555555555556,\"#d8576b\"],[0.6666666666666666,\"#ed7953\"],[0.7777777777777778,\"#fb9f3a\"],[0.8888888888888888,\"#fdca26\"],[1.0,\"#f0f921\"]],\"diverging\":[[0,\"#8e0152\"],[0.1,\"#c51b7d\"],[0.2,\"#de77ae\"],[0.3,\"#f1b6da\"],[0.4,\"#fde0ef\"],[0.5,\"#f7f7f7\"],[0.6,\"#e6f5d0\"],[0.7,\"#b8e186\"],[0.8,\"#7fbc41\"],[0.9,\"#4d9221\"],[1,\"#276419\"]]},\"xaxis\":{\"gridcolor\":\"white\",\"linecolor\":\"white\",\"ticks\":\"\",\"title\":{\"standoff\":15},\"zerolinecolor\":\"white\",\"automargin\":true,\"zerolinewidth\":2},\"yaxis\":{\"gridcolor\":\"white\",\"linecolor\":\"white\",\"ticks\":\"\",\"title\":{\"standoff\":15},\"zerolinecolor\":\"white\",\"automargin\":true,\"zerolinewidth\":2},\"scene\":{\"xaxis\":{\"backgroundcolor\":\"#E5ECF6\",\"gridcolor\":\"white\",\"linecolor\":\"white\",\"showbackground\":true,\"ticks\":\"\",\"zerolinecolor\":\"white\",\"gridwidth\":2},\"yaxis\":{\"backgroundcolor\":\"#E5ECF6\",\"gridcolor\":\"white\",\"linecolor\":\"white\",\"showbackground\":true,\"ticks\":\"\",\"zerolinecolor\":\"white\",\"gridwidth\":2},\"zaxis\":{\"backgroundcolor\":\"#E5ECF6\",\"gridcolor\":\"white\",\"linecolor\":\"white\",\"showbackground\":true,\"ticks\":\"\",\"zerolinecolor\":\"white\",\"gridwidth\":2}},\"shapedefaults\":{\"line\":{\"color\":\"#2a3f5f\"}},\"annotationdefaults\":{\"arrowcolor\":\"#2a3f5f\",\"arrowhead\":0,\"arrowwidth\":1},\"geo\":{\"bgcolor\":\"white\",\"landcolor\":\"#E5ECF6\",\"subunitcolor\":\"white\",\"showland\":true,\"showlakes\":true,\"lakecolor\":\"white\"},\"title\":{\"x\":0.05},\"mapbox\":{\"style\":\"light\"}}},\"legend\":{\"orientation\":\"h\",\"yanchor\":\"bottom\",\"y\":1.02,\"xanchor\":\"center\",\"x\":0.47},\"margin\":{\"b\":1,\"l\":1,\"r\":1,\"autoexpand\":true},\"font\":{\"size\":16},\"title\":{\"text\":\"NLP: arm64 vs x86_64, EKS normalized runtime differences\",\"x\":0.5,\"xanchor\":\"center\"},\"xaxis\":{\"title\":{\"text\":\"Function\"}},\"yaxis\":{\"title\":{\"text\":\"% change\"},\"range\":[-40,10]},\"plot_bgcolor\":\"rgba(245,245,255,255)\"},                        {\"responsive\": true}                    ).then(function(){\n",
       "                            \n",
       "var gd = document.getElementById('6cc96a6a-af1e-4471-9f17-f2d2d56f3f7d');\n",
       "var x = new MutationObserver(function (mutations, observer) {{\n",
       "        var display = window.getComputedStyle(gd).display;\n",
       "        if (!display || display === 'none') {{\n",
       "            console.log([gd, 'removed!']);\n",
       "            Plotly.purge(gd);\n",
       "            observer.disconnect();\n",
       "        }}\n",
       "}});\n",
       "\n",
       "// Listen for the removal of the full notebook cells\n",
       "var notebookContainer = gd.closest('#notebook-container');\n",
       "if (notebookContainer) {{\n",
       "    x.observe(notebookContainer, {childList: true});\n",
       "}}\n",
       "\n",
       "// Listen for the clearing of the current output cell\n",
       "var outputEl = gd.closest('.output');\n",
       "if (outputEl) {{\n",
       "    x.observe(outputEl, {childList: true});\n",
       "}}\n",
       "\n",
       "                        })                };                });            </script>        </div>"
      ]
     },
     "metadata": {},
     "output_type": "display_data"
    }
   ],
   "source": [
    "fig = create_figure('NLP: arm64 vs x86_64, EKS normalized runtime differences', 'Function', '% change')\n",
    "\n",
    "for i, k in enumerate(list(clusters.keys())[:-1]):\n",
    "    y_data=[]\n",
    "    y_text=[]\n",
    "    for m in methods:\n",
    "        kops_mean=nlp_df[k][m]['runtime'].mean()\n",
    "        eks_mean=nlp_df['EKS 8x 8vCPU 16Gb x86_64'][m]['runtime'].mean()\n",
    "        percent_change=(kops_mean - eks_mean) * 100 / eks_mean\n",
    "        y_data.append(percent_change)\n",
    "        y_text.append(f'{round(percent_change, 2)} %')\n",
    "    fig.add_trace(go.Bar(name=k,\n",
    "                         x=methods,\n",
    "                         y=y_data,\n",
    "                         marker_color=colorPallet[i],\n",
    "                         text=y_text,\n",
    "                         textposition='outside'))\n",
    "fig.update_layout(yaxis_range=[-40,10])\n",
    "\n",
    "fig.show()\n",
    "\n",
    "# Save graph\n",
    "write_image(fig, 'nlp_arm64_percentage_difference.png')"
   ]
  }
 ],
 "metadata": {
  "kernelspec": {
   "display_name": "Python 3 (ipykernel)",
   "language": "python",
   "name": "python3"
  },
  "language_info": {
   "codemirror_mode": {
    "name": "ipython",
    "version": 3
   },
   "file_extension": ".py",
   "mimetype": "text/x-python",
   "name": "python",
   "nbconvert_exporter": "python",
   "pygments_lexer": "ipython3",
   "version": "3.10.8"
  }
 },
 "nbformat": 4,
 "nbformat_minor": 5
}
