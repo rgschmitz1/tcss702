{
 "cells": [
  {
   "cell_type": "markdown",
   "id": "8fb4a0c2",
   "metadata": {},
   "source": [
    "### Import packages to graph results"
   ]
  },
  {
   "cell_type": "code",
   "execution_count": 1,
   "id": "f6434575",
   "metadata": {},
   "outputs": [
    {
     "name": "stdout",
     "output_type": "stream",
     "text": [
      "importing Jupyter notebook from shared_notebook.ipynb\n",
      "Stored 'colorPallet' (list)\n",
      "Stored 'bgColor' (str)\n",
      "Stored 'baseFigureWidth' (int)\n",
      "Stored 'baseFigureHeight' (int)\n"
     ]
    }
   ],
   "source": [
    "from glob import glob\n",
    "import pandas as pd\n",
    "import json\n",
    "import plotly.graph_objects as go\n",
    "from plotly.subplots import make_subplots\n",
    "import plotly.io as pio\n",
    "pio.renderers.default = 'iframe'\n",
    "import os\n",
    "import import_ipynb\n",
    "from shared_notebook import create_dataframe"
   ]
  },
  {
   "cell_type": "markdown",
   "id": "2d7cd77e",
   "metadata": {},
   "source": [
    "### Set default color palete and size for making plots"
   ]
  },
  {
   "cell_type": "code",
   "execution_count": 2,
   "id": "dab6a8ae",
   "metadata": {},
   "outputs": [],
   "source": [
    "%store -r colorPallet\n",
    "%store -r bgColor\n",
    "%store -r baseFigureWidth\n",
    "%store -r baseFigureHeight"
   ]
  },
  {
   "cell_type": "markdown",
   "id": "d0b4ee99",
   "metadata": {},
   "source": [
    "### glob all the log files into a list, then create a dataframe with all json data"
   ]
  },
  {
   "cell_type": "code",
   "execution_count": 3,
   "id": "092dcd87-4654-439d-8202-bd5b664bb0df",
   "metadata": {},
   "outputs": [],
   "source": [
    "normal_df = create_dataframe(\"../logs/openfaas/kops-multi-tenant-spot-1x-8vcpu-16gb/bwa/*normal*\")"
   ]
  },
  {
   "cell_type": "code",
   "execution_count": 4,
   "id": "671a27e1-06d9-4909-b31b-44f6bf343c02",
   "metadata": {},
   "outputs": [],
   "source": [
    "tumor_df = create_dataframe(\"../logs/openfaas/kops-multi-tenant-spot-1x-8vcpu-16gb/bwa/*tumor*\")"
   ]
  },
  {
   "cell_type": "markdown",
   "id": "839046b1-1995-4cb9-affc-ccc635e2ef30",
   "metadata": {},
   "source": [
    "# Make bar plots to profile bwa function data"
   ]
  },
  {
   "cell_type": "code",
   "execution_count": 28,
   "id": "166f6aa5-07e0-4628-ad20-dad7fcf68beb",
   "metadata": {},
   "outputs": [
    {
     "data": {
      "text/html": [
       "<iframe\n",
       "    scrolling=\"no\"\n",
       "    width=\"100%\"\n",
       "    height=\"545px\"\n",
       "    src=\"iframe_figures/figure_28.html\"\n",
       "    frameborder=\"0\"\n",
       "    allowfullscreen\n",
       "></iframe>\n"
      ]
     },
     "metadata": {},
     "output_type": "display_data"
    }
   ],
   "source": [
    "fig = make_subplots(specs = [[{\"secondary_y\": False}]])\n",
    "\n",
    "# Add figure title\n",
    "fig.update_layout(\n",
    "    barmode='stack',\n",
    "    legend=dict(\n",
    "        orientation=\"h\",\n",
    "        yanchor=\"bottom\",\n",
    "        y=1.02,\n",
    "        xanchor=\"center\",\n",
    "        x=0.47\n",
    "    ),\n",
    "    margin=dict(\n",
    "        t=0,\n",
    "        b=1,\n",
    "        l=1,\n",
    "        r=1,\n",
    "        autoexpand=True\n",
    "    ),\n",
    "    font=dict(\n",
    "        size=16\n",
    "    ),\n",
    "    uniformtext_minsize=8,\n",
    "    uniformtext_mode='hide',\n",
    "    plot_bgcolor=bgColor,\n",
    "    xaxis_title_text='Payloads',\n",
    "    yaxis_title_text='CPU Time Percentage'\n",
    ")\n",
    "\n",
    "profileData = pd.DataFrame()\n",
    "profileData['payload'] = [\"Normal\", \"Tumor\"]\n",
    "# Metrics for profiling\n",
    "metrics = ['SoftIrq', 'Kernel', 'IOWait', 'User', 'Idle']\n",
    "profileData['cpuTotalTime'] = [0, 0]\n",
    "for metric in metrics:\n",
    "    normalMean = normal_df[f'cpu{metric}Delta'].mean()\n",
    "    tumorMean = tumor_df[f'cpu{metric}Delta'].mean()\n",
    "    profileData[metric] = [normalMean, tumorMean]\n",
    "    profileData['cpuTotalTime'] = [\n",
    "        normalMean + profileData['cpuTotalTime'][0],\n",
    "        tumorMean + profileData['cpuTotalTime'][1]\n",
    "    ]\n",
    "\n",
    "#profileData['runtime'] = [round(normal_df['runtime'].mean() / 1000), round(tumor_df['runtime'].mean() / 1000)]\n",
    "#profileData['runtimeText'] = [f\"Runtime:<br>{value} s\" for value in profileData['runtime']]\n",
    "for i, metric in enumerate(metrics):\n",
    "    profileData[metric] = [\n",
    "        profileData[metric][0] * 100 / profileData['cpuTotalTime'][0],\n",
    "        profileData[metric][1] * 100 / profileData['cpuTotalTime'][1]\n",
    "    ]\n",
    "    text = [f'{round(val, 2)}%' for val in profileData[metric]]\n",
    "    fig.add_trace(go.Bar(x = profileData[\"payload\"],\n",
    "                         y = profileData[metric],\n",
    "                         name = f\"CPU {metric}\", marker_color=colorPallet[i],\n",
    "                         text = text),\n",
    "                  secondary_y=False)\n",
    "\n",
    "fig.show()\n",
    "\n",
    "# Save graph\n",
    "if not os.path.exists(\"graphs\"):\n",
    "    os.mkdir(\"graphs\")\n",
    "fig.write_image(\"graphs/bwa_profile_bars.png\", width=baseFigureWidth, height=baseFigureHeight)"
   ]
  }
 ],
 "metadata": {
  "kernelspec": {
   "display_name": "Python 3 (ipykernel)",
   "language": "python",
   "name": "python3"
  },
  "language_info": {
   "codemirror_mode": {
    "name": "ipython",
    "version": 3
   },
   "file_extension": ".py",
   "mimetype": "text/x-python",
   "name": "python",
   "nbconvert_exporter": "python",
   "pygments_lexer": "ipython3",
   "version": "3.10.8"
  }
 },
 "nbformat": 4,
 "nbformat_minor": 5
}
