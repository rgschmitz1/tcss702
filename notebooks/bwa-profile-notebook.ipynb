{
 "cells": [
  {
   "cell_type": "markdown",
   "id": "8fb4a0c2",
   "metadata": {},
   "source": [
    "### Import packages to graph results"
   ]
  },
  {
   "cell_type": "code",
   "execution_count": 11,
   "id": "f6434575",
   "metadata": {},
   "outputs": [],
   "source": [
    "from glob import glob\n",
    "import pandas as pd\n",
    "import json\n",
    "#import numpy as np\n",
    "import plotly.graph_objects as go\n",
    "from plotly.subplots import make_subplots\n",
    "import plotly.io as pio\n",
    "pio.renderers.default = 'iframe'\n",
    "# import plotly.offline as py\n",
    "# py.init_notebook_mode(connected=True)\n",
    "# Used for debug\n",
    "# from pprint import pprint"
   ]
  },
  {
   "cell_type": "markdown",
   "id": "2d7cd77e",
   "metadata": {},
   "source": [
    "### Set default color palete and size for making plots"
   ]
  },
  {
   "cell_type": "code",
   "execution_count": 12,
   "id": "dab6a8ae",
   "metadata": {},
   "outputs": [],
   "source": [
    "colorPallet = [\"rgba(151, 209, 233, 255)\", \"rgba(0, 120, 179, 255)\", \"rgba(179, 223, 146, 255)\", \"rgba(49, 169, 90, 255)\", \"rgba(227, 136, 220, 255)\", \"rgba(127, 0, 255, 255)\", \"rgba(255, 128, 0, 255)\"]\n",
    "bgColor = 'rgba(245,245,255,255)'\n",
    "\n",
    "baseFigureWidth = 700\n",
    "baseFigureHeight = 350"
   ]
  },
  {
   "cell_type": "markdown",
   "id": "d0b4ee99",
   "metadata": {},
   "source": [
    "### glob all the log files into a list, then create a dataframe with all json data"
   ]
  },
  {
   "cell_type": "code",
   "execution_count": 13,
   "id": "fdfeffa0-ff8d-44a0-8bdd-a0325d80acab",
   "metadata": {},
   "outputs": [],
   "source": [
    "def create_dataframe(logs):\n",
    "    logs = glob(logs)\n",
    "    df_list = []\n",
    "    for log in logs:\n",
    "        with open(log) as f:\n",
    "            obj = json.load(f)['saaf']\n",
    "        # cpuInfo is messing up the dataframe... remove for now\n",
    "        obj.pop('cpuInfo')\n",
    "        df_list.append(pd.DataFrame([obj]))\n",
    "    return pd.concat(df_list, ignore_index=True)"
   ]
  },
  {
   "cell_type": "code",
   "execution_count": 14,
   "id": "092dcd87-4654-439d-8202-bd5b664bb0df",
   "metadata": {},
   "outputs": [],
   "source": [
    "normal_df = create_dataframe(\"../logs/openfaas/kops_multi-tenant_spot_1x_8vcpu_16gb/bwa/*normal*\")"
   ]
  },
  {
   "cell_type": "code",
   "execution_count": 15,
   "id": "671a27e1-06d9-4909-b31b-44f6bf343c02",
   "metadata": {},
   "outputs": [],
   "source": [
    "tumor_df = create_dataframe(\"../logs/openfaas/kops_multi-tenant_spot_1x_8vcpu_16gb/bwa/*tumor*\")"
   ]
  },
  {
   "cell_type": "markdown",
   "id": "839046b1-1995-4cb9-affc-ccc635e2ef30",
   "metadata": {},
   "source": [
    "# Make bar plots to profile bwa function data"
   ]
  },
  {
   "cell_type": "code",
   "execution_count": 16,
   "id": "166f6aa5-07e0-4628-ad20-dad7fcf68beb",
   "metadata": {},
   "outputs": [
    {
     "data": {
      "text/html": [
       "<iframe\n",
       "    scrolling=\"no\"\n",
       "    width=\"100%\"\n",
       "    height=\"545px\"\n",
       "    src=\"iframe_figures/figure_16.html\"\n",
       "    frameborder=\"0\"\n",
       "    allowfullscreen\n",
       "></iframe>\n"
      ]
     },
     "metadata": {},
     "output_type": "display_data"
    }
   ],
   "source": [
    "fig = make_subplots(specs = [[{\"secondary_y\": False}]])\n",
    "\n",
    "# Add figure title\n",
    "fig.update_layout(\n",
    "    barmode='stack',\n",
    "    legend=dict(\n",
    "        orientation=\"h\",\n",
    "        yanchor=\"bottom\",\n",
    "        y=1.02,\n",
    "        xanchor=\"center\",\n",
    "        x=0.47\n",
    "    ),\n",
    "    margin=dict(\n",
    "        t=0,\n",
    "        b=1,\n",
    "        l=1,\n",
    "        r=1,\n",
    "        autoexpand=True\n",
    "    ),\n",
    "    font=dict(\n",
    "        size=16\n",
    "    ),\n",
    "    uniformtext_minsize=8,\n",
    "    uniformtext_mode='hide',\n",
    "    plot_bgcolor=bgColor\n",
    ")\n",
    "\n",
    "profileData = pd.DataFrame()\n",
    "profileData['payload'] = [\"Normal\", \"Tumor\"]\n",
    "# Metrics for profiling\n",
    "metrics = ['SoftIrq', 'Kernel', 'IOWait', 'User', 'Idle']\n",
    "profileData['cpuTotalTime'] = [0, 0]\n",
    "for metric in metrics:\n",
    "    normalMean = normal_df[f'cpu{metric}Delta'].mean()\n",
    "    tumorMean = tumor_df[f'cpu{metric}Delta'].mean()\n",
    "    profileData[metric] = [normalMean, tumorMean]\n",
    "    profileData['cpuTotalTime'] = [\n",
    "        normalMean + profileData['cpuTotalTime'][0],\n",
    "        tumorMean + profileData['cpuTotalTime'][1]\n",
    "    ]\n",
    "\n",
    "#profileData['runtime'] = [round(normal_df['runtime'].mean() / 1000), round(tumor_df['runtime'].mean() / 1000)]\n",
    "#profileData['runtimeText'] = [f\"Runtime:<br>{value} s\" for value in profileData['runtime']]\n",
    "for i, metric in enumerate(metrics):\n",
    "    profileData[metric] = [\n",
    "        profileData[metric][0] * 100 / profileData['cpuTotalTime'][0],\n",
    "        profileData[metric][1] * 100 / profileData['cpuTotalTime'][1]\n",
    "    ]\n",
    "    text = [f'{round(val, 2)}%' for val in profileData[metric]]\n",
    "    fig.add_trace(go.Bar(x = profileData[\"payload\"],\n",
    "                         y = profileData[metric],\n",
    "                         name = f\"CPU {metric}\", marker_color=colorPallet[i],\n",
    "                         text = text),\n",
    "                  secondary_y=False)\n",
    "\n",
    "# Set x-axis title\n",
    "fig.update_xaxes(title_text=\"Payloads\")\n",
    "\n",
    "# Set y-axes titles\n",
    "fig.update_yaxes(title_text=\"CPU Time Percentage\", secondary_y=False)\n",
    "# fig.update_yaxes(title_text=\"Function Runtime (ms)\", secondary_y=True)\n",
    "\n",
    "# py.iplot(fig)\n",
    "\n",
    "fig.show()\n",
    "# Save graph\n",
    "# fig.write_image(\"graphs/bwa_profile_bars.pdf\", width=baseFigureWidth, engine=\"kaleido\", height=baseFigureHeight)"
   ]
  }
 ],
 "metadata": {
  "kernelspec": {
   "display_name": "Python 3 (ipykernel)",
   "language": "python",
   "name": "python3"
  },
  "language_info": {
   "codemirror_mode": {
    "name": "ipython",
    "version": 3
   },
   "file_extension": ".py",
   "mimetype": "text/x-python",
   "name": "python",
   "nbconvert_exporter": "python",
   "pygments_lexer": "ipython3",
   "version": "3.10.8"
  }
 },
 "nbformat": 4,
 "nbformat_minor": 5
}
