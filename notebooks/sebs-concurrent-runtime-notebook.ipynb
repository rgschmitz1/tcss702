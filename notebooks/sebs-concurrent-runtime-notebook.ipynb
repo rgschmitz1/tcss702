{
 "cells": [
  {
   "cell_type": "markdown",
   "id": "eee95094-289c-4d58-b888-e9b2b605bbf4",
   "metadata": {},
   "source": [
    "# Testing tabulate to output tables"
   ]
  },
  {
   "cell_type": "code",
   "execution_count": 1,
   "id": "72fe6382-9a2d-4827-b554-d1a02305e4d8",
   "metadata": {},
   "outputs": [
    {
     "name": "stdout",
     "output_type": "stream",
     "text": [
      "Collecting tabulate\n",
      "  Downloading tabulate-0.9.0-py3-none-any.whl (35 kB)\n",
      "Installing collected packages: tabulate\n",
      "Successfully installed tabulate-0.9.0\n"
     ]
    }
   ],
   "source": [
    "!pip install tabulate"
   ]
  },
  {
   "cell_type": "code",
   "execution_count": null,
   "id": "cbee19c0-1f2e-42dd-ab46-eddac3d86b34",
   "metadata": {},
   "outputs": [],
   "source": [
    "# from tabulate import tabulate\n",
    "# data = [ [\"Earth\",6371,888885973.600001],\n",
    "#          [\"Moon\",1737,73.5],\n",
    "#          [\"Mars\",3390,641.85]]\n",
    "# tabulate(data, tablefmt='html', headers=['distance'], colalign=(\"center\",))"
   ]
  },
  {
   "cell_type": "markdown",
   "id": "8fb4a0c2",
   "metadata": {},
   "source": [
    "# Import packages to parse results"
   ]
  },
  {
   "cell_type": "code",
   "execution_count": 9,
   "id": "f6434575",
   "metadata": {},
   "outputs": [],
   "source": [
    "from glob import glob\n",
    "import pandas as pd\n",
    "import json\n",
    "#import numpy as np\n",
    "# import plotly.graph_objects as go\n",
    "# from plotly.subplots import make_subplots\n",
    "# import plotly.io as pio\n",
    "# pio.renderers.default = 'iframe'\n",
    "# import plotly.offline as py\n",
    "# py.init_notebook_mode(connected=True)\n",
    "# Used for debug\n",
    "# from pprint import pprint"
   ]
  },
  {
   "cell_type": "markdown",
   "id": "bf43f7e6-e857-4149-9698-9700fdb543b1",
   "metadata": {},
   "source": [
    "## Log file locations relative to notebook"
   ]
  },
  {
   "cell_type": "markdown",
   "id": "d0b4ee99",
   "metadata": {},
   "source": [
    "### Create a dataframe with all json data"
   ]
  },
  {
   "cell_type": "code",
   "execution_count": 36,
   "id": "b93fabf4-b3ab-452f-a4db-d98e78a52576",
   "metadata": {},
   "outputs": [],
   "source": [
    "def create_dataframe(logs):\n",
    "    logs = glob(logs)\n",
    "    df_list = []\n",
    "    for log in logs:\n",
    "        with open(log) as f:\n",
    "            obj = json.load(f)['saaf']\n",
    "        # cpuInfo is messing up the dataframe... remove for now\n",
    "        obj.pop('cpuInfo')\n",
    "        df_list.append(pd.DataFrame([obj]))\n",
    "    return pd.concat(df_list, ignore_index=True)"
   ]
  },
  {
   "cell_type": "markdown",
   "id": "97097fec-1bac-4491-8891-e97604c8192d",
   "metadata": {},
   "source": [
    "### For SEBS, we have 3 different clusters, 4 methods, multiple concurrent calls"
   ]
  },
  {
   "cell_type": "code",
   "execution_count": 45,
   "id": "275083ed-c6a8-46be-a0cd-99a0569dc17f",
   "metadata": {},
   "outputs": [],
   "source": [
    "# kOps clusters (running on AWS)\n",
    "# AWS EKS cluster\n",
    "clusters={\n",
    "    'kops_8x_8vcpu': '../logs/openfaas/kops_multi-tenant_spot_1x_72vcpu_144gb/sebs',\n",
    "    'kops_1x_72vcpu': '../logs/openfaas/kops_multi-tenant_spot_8x_8vcpu_16gb/sebs',\n",
    "    'eks_8x_8vcpu': '../logs/openfaas/eks_multi-tenant_spot_8x_8vcpu_16gb/sebs'\n",
    "}\n",
    "methods=('dna', 'bfs', 'mst', 'pagerank')\n",
    "concurrent_calls=(32, 40, 48, 56, 64)\n",
    "\n",
    "sebs_df=dict()\n",
    "for k, v in clusters.items():\n",
    "    sebs_df[k]=dict()\n",
    "    for m in methods:\n",
    "        sebs_df[k][m]=dict()\n",
    "        for c in concurrent_calls:\n",
    "            sebs_df[k][m][c]=create_dataframe(f\"{v}/concurrent-{c}/*{m}*\")"
   ]
  },
  {
   "cell_type": "code",
   "execution_count": null,
   "id": "4abd5228-e53b-4575-901d-64c1ea9f67df",
   "metadata": {},
   "outputs": [],
   "source": []
  }
 ],
 "metadata": {
  "kernelspec": {
   "display_name": "Python 3 (ipykernel)",
   "language": "python",
   "name": "python3"
  },
  "language_info": {
   "codemirror_mode": {
    "name": "ipython",
    "version": 3
   },
   "file_extension": ".py",
   "mimetype": "text/x-python",
   "name": "python",
   "nbconvert_exporter": "python",
   "pygments_lexer": "ipython3",
   "version": "3.10.8"
  }
 },
 "nbformat": 4,
 "nbformat_minor": 5
}
