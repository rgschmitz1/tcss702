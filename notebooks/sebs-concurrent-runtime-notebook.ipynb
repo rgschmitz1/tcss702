{
 "cells": [
  {
   "cell_type": "markdown",
   "id": "8fb4a0c2",
   "metadata": {},
   "source": [
    "# Import packages to parse results"
   ]
  },
  {
   "cell_type": "code",
   "execution_count": 16,
   "id": "f6434575",
   "metadata": {},
   "outputs": [],
   "source": [
    "from glob import glob\n",
    "from tabulate import tabulate\n",
    "from IPython.display import HTML\n",
    "import pandas as pd\n",
    "import json"
   ]
  },
  {
   "cell_type": "markdown",
   "id": "bf43f7e6-e857-4149-9698-9700fdb543b1",
   "metadata": {},
   "source": [
    "## Log file locations relative to notebook"
   ]
  },
  {
   "cell_type": "markdown",
   "id": "d0b4ee99",
   "metadata": {},
   "source": [
    "### Create a dataframe with all json data"
   ]
  },
  {
   "cell_type": "code",
   "execution_count": 17,
   "id": "b93fabf4-b3ab-452f-a4db-d98e78a52576",
   "metadata": {},
   "outputs": [],
   "source": [
    "def create_dataframe(logs):\n",
    "    logs = glob(logs)\n",
    "    df_list = []\n",
    "    for log in logs:\n",
    "        with open(log) as f:\n",
    "            obj = json.load(f)['saaf']\n",
    "        # cpuInfo is messing up the dataframe... remove for now\n",
    "        obj.pop('cpuInfo')\n",
    "        df_list.append(pd.DataFrame([obj]))\n",
    "    return pd.concat(df_list, ignore_index=True)"
   ]
  },
  {
   "cell_type": "markdown",
   "id": "97097fec-1bac-4491-8891-e97604c8192d",
   "metadata": {},
   "source": [
    "### For SEBS, we have 3 different clusters, 4 methods, multiple concurrent calls"
   ]
  },
  {
   "cell_type": "code",
   "execution_count": 18,
   "id": "275083ed-c6a8-46be-a0cd-99a0569dc17f",
   "metadata": {},
   "outputs": [],
   "source": [
    "# kOps clusters (running on AWS)\n",
    "# AWS EKS cluster\n",
    "clusters={\n",
    "    'kops_8x_8vcpu_16gb': 'kops_multi-tenant_spot_1x_72vcpu_144gb',\n",
    "    'kops_1x_72vcpu_144gb': 'kops_multi-tenant_spot_8x_8vcpu_16gb',\n",
    "    'eks_8x_8vcpu_16gb': 'eks_multi-tenant_spot_8x_8vcpu_16gb'\n",
    "}\n",
    "methods=('dna', 'bfs', 'mst', 'pagerank')\n",
    "headers=list(methods)\n",
    "headers.insert(0, 'concurrent calls')\n",
    "concurrent_calls=(32, 64, 96, 128)\n",
    "\n",
    "sebs_df=dict()\n",
    "for k, v in clusters.items():\n",
    "    sebs_df[k]=dict()\n",
    "    for m in methods:\n",
    "        sebs_df[k][m]=dict()\n",
    "        for c in concurrent_calls:\n",
    "            sebs_df[k][m][c]=create_dataframe(f\"../logs/openfaas/{v}/sebs/concurrent/{c}/*{m}*\")"
   ]
  },
  {
   "cell_type": "markdown",
   "id": "ebe1118b-a733-4cee-b483-21b720efa9c3",
   "metadata": {},
   "source": [
    "# Using tabulate to create tables for results"
   ]
  },
  {
   "cell_type": "code",
   "execution_count": 19,
   "id": "a6c9b775-112e-40ec-8dff-50b7120d496b",
   "metadata": {},
   "outputs": [
    {
     "data": {
      "text/html": [
       "<h3>Mean runtimes (ms), cluster <b>kops_8x_8vcpu_16gb</b></h3>"
      ],
      "text/plain": [
       "<IPython.core.display.HTML object>"
      ]
     },
     "metadata": {},
     "output_type": "display_data"
    },
    {
     "data": {
      "text/html": [
       "<table>\n",
       "<thead>\n",
       "<tr><th style=\"text-align: right;\">  concurrent calls</th><th style=\"text-align: right;\">    dna</th><th style=\"text-align: right;\">     bfs</th><th style=\"text-align: right;\">     mst</th><th style=\"text-align: right;\">  pagerank</th></tr>\n",
       "</thead>\n",
       "<tbody>\n",
       "<tr><td style=\"text-align: right;\">                32</td><td style=\"text-align: right;\">17963.8</td><td style=\"text-align: right;\">103.406 </td><td style=\"text-align: right;\">111.438 </td><td style=\"text-align: right;\">   187.594</td></tr>\n",
       "<tr><td style=\"text-align: right;\">                64</td><td style=\"text-align: right;\">17981.7</td><td style=\"text-align: right;\"> 99.1406</td><td style=\"text-align: right;\"> 97.8281</td><td style=\"text-align: right;\">   188.156</td></tr>\n",
       "<tr><td style=\"text-align: right;\">                96</td><td style=\"text-align: right;\">18428.1</td><td style=\"text-align: right;\">101.917 </td><td style=\"text-align: right;\">102.031 </td><td style=\"text-align: right;\">   196.583</td></tr>\n",
       "<tr><td style=\"text-align: right;\">               128</td><td style=\"text-align: right;\">18391.3</td><td style=\"text-align: right;\">202.641 </td><td style=\"text-align: right;\">104.461 </td><td style=\"text-align: right;\">   193.922</td></tr>\n",
       "</tbody>\n",
       "</table>"
      ],
      "text/plain": [
       "'<table>\\n<thead>\\n<tr><th style=\"text-align: right;\">  concurrent calls</th><th style=\"text-align: right;\">    dna</th><th style=\"text-align: right;\">     bfs</th><th style=\"text-align: right;\">     mst</th><th style=\"text-align: right;\">  pagerank</th></tr>\\n</thead>\\n<tbody>\\n<tr><td style=\"text-align: right;\">                32</td><td style=\"text-align: right;\">17963.8</td><td style=\"text-align: right;\">103.406 </td><td style=\"text-align: right;\">111.438 </td><td style=\"text-align: right;\">   187.594</td></tr>\\n<tr><td style=\"text-align: right;\">                64</td><td style=\"text-align: right;\">17981.7</td><td style=\"text-align: right;\"> 99.1406</td><td style=\"text-align: right;\"> 97.8281</td><td style=\"text-align: right;\">   188.156</td></tr>\\n<tr><td style=\"text-align: right;\">                96</td><td style=\"text-align: right;\">18428.1</td><td style=\"text-align: right;\">101.917 </td><td style=\"text-align: right;\">102.031 </td><td style=\"text-align: right;\">   196.583</td></tr>\\n<tr><td style=\"text-align: right;\">               128</td><td style=\"text-align: right;\">18391.3</td><td style=\"text-align: right;\">202.641 </td><td style=\"text-align: right;\">104.461 </td><td style=\"text-align: right;\">   193.922</td></tr>\\n</tbody>\\n</table>'"
      ]
     },
     "metadata": {},
     "output_type": "display_data"
    },
    {
     "name": "stdout",
     "output_type": "stream",
     "text": [
      "\n"
     ]
    },
    {
     "data": {
      "text/html": [
       "<h3>Mean runtimes (ms), cluster <b>kops_1x_72vcpu_144gb</b></h3>"
      ],
      "text/plain": [
       "<IPython.core.display.HTML object>"
      ]
     },
     "metadata": {},
     "output_type": "display_data"
    },
    {
     "data": {
      "text/html": [
       "<table>\n",
       "<thead>\n",
       "<tr><th style=\"text-align: right;\">  concurrent calls</th><th style=\"text-align: right;\">    dna</th><th style=\"text-align: right;\">     bfs</th><th style=\"text-align: right;\">    mst</th><th style=\"text-align: right;\">  pagerank</th></tr>\n",
       "</thead>\n",
       "<tbody>\n",
       "<tr><td style=\"text-align: right;\">                32</td><td style=\"text-align: right;\">15305.1</td><td style=\"text-align: right;\">103.219 </td><td style=\"text-align: right;\">46.125 </td><td style=\"text-align: right;\">   71.8125</td></tr>\n",
       "<tr><td style=\"text-align: right;\">                64</td><td style=\"text-align: right;\">16341.9</td><td style=\"text-align: right;\"> 73.0938</td><td style=\"text-align: right;\">66.8594</td><td style=\"text-align: right;\">  112.203 </td></tr>\n",
       "<tr><td style=\"text-align: right;\">                96</td><td style=\"text-align: right;\">17440.9</td><td style=\"text-align: right;\">519.125 </td><td style=\"text-align: right;\">67.625 </td><td style=\"text-align: right;\">  109.646 </td></tr>\n",
       "<tr><td style=\"text-align: right;\">               128</td><td style=\"text-align: right;\">16609.9</td><td style=\"text-align: right;\">590.336 </td><td style=\"text-align: right;\">65.1562</td><td style=\"text-align: right;\">  121.336 </td></tr>\n",
       "</tbody>\n",
       "</table>"
      ],
      "text/plain": [
       "'<table>\\n<thead>\\n<tr><th style=\"text-align: right;\">  concurrent calls</th><th style=\"text-align: right;\">    dna</th><th style=\"text-align: right;\">     bfs</th><th style=\"text-align: right;\">    mst</th><th style=\"text-align: right;\">  pagerank</th></tr>\\n</thead>\\n<tbody>\\n<tr><td style=\"text-align: right;\">                32</td><td style=\"text-align: right;\">15305.1</td><td style=\"text-align: right;\">103.219 </td><td style=\"text-align: right;\">46.125 </td><td style=\"text-align: right;\">   71.8125</td></tr>\\n<tr><td style=\"text-align: right;\">                64</td><td style=\"text-align: right;\">16341.9</td><td style=\"text-align: right;\"> 73.0938</td><td style=\"text-align: right;\">66.8594</td><td style=\"text-align: right;\">  112.203 </td></tr>\\n<tr><td style=\"text-align: right;\">                96</td><td style=\"text-align: right;\">17440.9</td><td style=\"text-align: right;\">519.125 </td><td style=\"text-align: right;\">67.625 </td><td style=\"text-align: right;\">  109.646 </td></tr>\\n<tr><td style=\"text-align: right;\">               128</td><td style=\"text-align: right;\">16609.9</td><td style=\"text-align: right;\">590.336 </td><td style=\"text-align: right;\">65.1562</td><td style=\"text-align: right;\">  121.336 </td></tr>\\n</tbody>\\n</table>'"
      ]
     },
     "metadata": {},
     "output_type": "display_data"
    },
    {
     "name": "stdout",
     "output_type": "stream",
     "text": [
      "\n"
     ]
    },
    {
     "data": {
      "text/html": [
       "<h3>Mean runtimes (ms), cluster <b>eks_8x_8vcpu_16gb</b></h3>"
      ],
      "text/plain": [
       "<IPython.core.display.HTML object>"
      ]
     },
     "metadata": {},
     "output_type": "display_data"
    },
    {
     "data": {
      "text/html": [
       "<table>\n",
       "<thead>\n",
       "<tr><th style=\"text-align: right;\">  concurrent calls</th><th style=\"text-align: right;\">    dna</th><th style=\"text-align: right;\">    bfs</th><th style=\"text-align: right;\">    mst</th><th style=\"text-align: right;\">  pagerank</th></tr>\n",
       "</thead>\n",
       "<tbody>\n",
       "<tr><td style=\"text-align: right;\">                32</td><td style=\"text-align: right;\">14422  </td><td style=\"text-align: right;\">60.5312</td><td style=\"text-align: right;\">44.0625</td><td style=\"text-align: right;\">    76.875</td></tr>\n",
       "<tr><td style=\"text-align: right;\">                64</td><td style=\"text-align: right;\">26451.8</td><td style=\"text-align: right;\">65.8281</td><td style=\"text-align: right;\">58.2031</td><td style=\"text-align: right;\">   108.172</td></tr>\n",
       "<tr><td style=\"text-align: right;\">                96</td><td style=\"text-align: right;\">27660.8</td><td style=\"text-align: right;\">65.75  </td><td style=\"text-align: right;\">63.3854</td><td style=\"text-align: right;\">   119.812</td></tr>\n",
       "<tr><td style=\"text-align: right;\">               128</td><td style=\"text-align: right;\">24955.7</td><td style=\"text-align: right;\">85.7734</td><td style=\"text-align: right;\">58.4141</td><td style=\"text-align: right;\">   114.242</td></tr>\n",
       "</tbody>\n",
       "</table>"
      ],
      "text/plain": [
       "'<table>\\n<thead>\\n<tr><th style=\"text-align: right;\">  concurrent calls</th><th style=\"text-align: right;\">    dna</th><th style=\"text-align: right;\">    bfs</th><th style=\"text-align: right;\">    mst</th><th style=\"text-align: right;\">  pagerank</th></tr>\\n</thead>\\n<tbody>\\n<tr><td style=\"text-align: right;\">                32</td><td style=\"text-align: right;\">14422  </td><td style=\"text-align: right;\">60.5312</td><td style=\"text-align: right;\">44.0625</td><td style=\"text-align: right;\">    76.875</td></tr>\\n<tr><td style=\"text-align: right;\">                64</td><td style=\"text-align: right;\">26451.8</td><td style=\"text-align: right;\">65.8281</td><td style=\"text-align: right;\">58.2031</td><td style=\"text-align: right;\">   108.172</td></tr>\\n<tr><td style=\"text-align: right;\">                96</td><td style=\"text-align: right;\">27660.8</td><td style=\"text-align: right;\">65.75  </td><td style=\"text-align: right;\">63.3854</td><td style=\"text-align: right;\">   119.812</td></tr>\\n<tr><td style=\"text-align: right;\">               128</td><td style=\"text-align: right;\">24955.7</td><td style=\"text-align: right;\">85.7734</td><td style=\"text-align: right;\">58.4141</td><td style=\"text-align: right;\">   114.242</td></tr>\\n</tbody>\\n</table>'"
      ]
     },
     "metadata": {},
     "output_type": "display_data"
    },
    {
     "name": "stdout",
     "output_type": "stream",
     "text": [
      "\n"
     ]
    }
   ],
   "source": [
    "# Mean runtime\n",
    "table=dict()\n",
    "for k in clusters:\n",
    "    data=[]\n",
    "    for count, value in enumerate(concurrent_calls):\n",
    "        data.append([value])\n",
    "        for m in methods:\n",
    "            mean_runtime=sebs_df[k][m][value]['runtime'].mean()\n",
    "            data[count].append(mean_runtime)\n",
    "    table[k] = tabulate(data, tablefmt='html', headers=headers)\n",
    "    display(HTML(f'<h3>Mean runtimes (ms), cluster <b>{k}</b></h3>'))\n",
    "    display(table[k])\n",
    "    print()"
   ]
  },
  {
   "cell_type": "code",
   "execution_count": 20,
   "id": "d2f269e9-cbc1-4544-8f66-2f3cd522ac86",
   "metadata": {},
   "outputs": [
    {
     "data": {
      "text/html": [
       "<h3>Std runtimes (ms), cluster <b>kops_8x_8vcpu_16gb</b></h3>"
      ],
      "text/plain": [
       "<IPython.core.display.HTML object>"
      ]
     },
     "metadata": {},
     "output_type": "display_data"
    },
    {
     "data": {
      "text/html": [
       "<table>\n",
       "<thead>\n",
       "<tr><th style=\"text-align: right;\">  concurrent calls</th><th style=\"text-align: right;\">    dna</th><th style=\"text-align: right;\">     bfs</th><th style=\"text-align: right;\">    mst</th><th style=\"text-align: right;\">  pagerank</th></tr>\n",
       "</thead>\n",
       "<tbody>\n",
       "<tr><td style=\"text-align: right;\">                32</td><td style=\"text-align: right;\">3637.96</td><td style=\"text-align: right;\"> 27.9191</td><td style=\"text-align: right;\">53.9994</td><td style=\"text-align: right;\">   44.3439</td></tr>\n",
       "<tr><td style=\"text-align: right;\">                64</td><td style=\"text-align: right;\">3839.43</td><td style=\"text-align: right;\"> 20.7333</td><td style=\"text-align: right;\">18.6152</td><td style=\"text-align: right;\">   50.138 </td></tr>\n",
       "<tr><td style=\"text-align: right;\">                96</td><td style=\"text-align: right;\">2754.6 </td><td style=\"text-align: right;\"> 20.6574</td><td style=\"text-align: right;\">19.3453</td><td style=\"text-align: right;\">   47.682 </td></tr>\n",
       "<tr><td style=\"text-align: right;\">               128</td><td style=\"text-align: right;\">3205.99</td><td style=\"text-align: right;\">556.341 </td><td style=\"text-align: right;\">25.2954</td><td style=\"text-align: right;\">   43.8406</td></tr>\n",
       "</tbody>\n",
       "</table>"
      ],
      "text/plain": [
       "'<table>\\n<thead>\\n<tr><th style=\"text-align: right;\">  concurrent calls</th><th style=\"text-align: right;\">    dna</th><th style=\"text-align: right;\">     bfs</th><th style=\"text-align: right;\">    mst</th><th style=\"text-align: right;\">  pagerank</th></tr>\\n</thead>\\n<tbody>\\n<tr><td style=\"text-align: right;\">                32</td><td style=\"text-align: right;\">3637.96</td><td style=\"text-align: right;\"> 27.9191</td><td style=\"text-align: right;\">53.9994</td><td style=\"text-align: right;\">   44.3439</td></tr>\\n<tr><td style=\"text-align: right;\">                64</td><td style=\"text-align: right;\">3839.43</td><td style=\"text-align: right;\"> 20.7333</td><td style=\"text-align: right;\">18.6152</td><td style=\"text-align: right;\">   50.138 </td></tr>\\n<tr><td style=\"text-align: right;\">                96</td><td style=\"text-align: right;\">2754.6 </td><td style=\"text-align: right;\"> 20.6574</td><td style=\"text-align: right;\">19.3453</td><td style=\"text-align: right;\">   47.682 </td></tr>\\n<tr><td style=\"text-align: right;\">               128</td><td style=\"text-align: right;\">3205.99</td><td style=\"text-align: right;\">556.341 </td><td style=\"text-align: right;\">25.2954</td><td style=\"text-align: right;\">   43.8406</td></tr>\\n</tbody>\\n</table>'"
      ]
     },
     "metadata": {},
     "output_type": "display_data"
    },
    {
     "name": "stdout",
     "output_type": "stream",
     "text": [
      "\n"
     ]
    },
    {
     "data": {
      "text/html": [
       "<h3>Std runtimes (ms), cluster <b>kops_1x_72vcpu_144gb</b></h3>"
      ],
      "text/plain": [
       "<IPython.core.display.HTML object>"
      ]
     },
     "metadata": {},
     "output_type": "display_data"
    },
    {
     "data": {
      "text/html": [
       "<table>\n",
       "<thead>\n",
       "<tr><th style=\"text-align: right;\">  concurrent calls</th><th style=\"text-align: right;\">    dna</th><th style=\"text-align: right;\">      bfs</th><th style=\"text-align: right;\">    mst</th><th style=\"text-align: right;\">  pagerank</th></tr>\n",
       "</thead>\n",
       "<tbody>\n",
       "<tr><td style=\"text-align: right;\">                32</td><td style=\"text-align: right;\">4344.08</td><td style=\"text-align: right;\">  48.1983</td><td style=\"text-align: right;\">25.0068</td><td style=\"text-align: right;\">   32.7596</td></tr>\n",
       "<tr><td style=\"text-align: right;\">                64</td><td style=\"text-align: right;\">3751.07</td><td style=\"text-align: right;\">  27.7086</td><td style=\"text-align: right;\">28.1796</td><td style=\"text-align: right;\">   44.2623</td></tr>\n",
       "<tr><td style=\"text-align: right;\">                96</td><td style=\"text-align: right;\">5636.45</td><td style=\"text-align: right;\">1359.25  </td><td style=\"text-align: right;\">35.6324</td><td style=\"text-align: right;\">   43.9483</td></tr>\n",
       "<tr><td style=\"text-align: right;\">               128</td><td style=\"text-align: right;\">3360.26</td><td style=\"text-align: right;\">1224.76  </td><td style=\"text-align: right;\">27.4557</td><td style=\"text-align: right;\">   44.7135</td></tr>\n",
       "</tbody>\n",
       "</table>"
      ],
      "text/plain": [
       "'<table>\\n<thead>\\n<tr><th style=\"text-align: right;\">  concurrent calls</th><th style=\"text-align: right;\">    dna</th><th style=\"text-align: right;\">      bfs</th><th style=\"text-align: right;\">    mst</th><th style=\"text-align: right;\">  pagerank</th></tr>\\n</thead>\\n<tbody>\\n<tr><td style=\"text-align: right;\">                32</td><td style=\"text-align: right;\">4344.08</td><td style=\"text-align: right;\">  48.1983</td><td style=\"text-align: right;\">25.0068</td><td style=\"text-align: right;\">   32.7596</td></tr>\\n<tr><td style=\"text-align: right;\">                64</td><td style=\"text-align: right;\">3751.07</td><td style=\"text-align: right;\">  27.7086</td><td style=\"text-align: right;\">28.1796</td><td style=\"text-align: right;\">   44.2623</td></tr>\\n<tr><td style=\"text-align: right;\">                96</td><td style=\"text-align: right;\">5636.45</td><td style=\"text-align: right;\">1359.25  </td><td style=\"text-align: right;\">35.6324</td><td style=\"text-align: right;\">   43.9483</td></tr>\\n<tr><td style=\"text-align: right;\">               128</td><td style=\"text-align: right;\">3360.26</td><td style=\"text-align: right;\">1224.76  </td><td style=\"text-align: right;\">27.4557</td><td style=\"text-align: right;\">   44.7135</td></tr>\\n</tbody>\\n</table>'"
      ]
     },
     "metadata": {},
     "output_type": "display_data"
    },
    {
     "name": "stdout",
     "output_type": "stream",
     "text": [
      "\n"
     ]
    },
    {
     "data": {
      "text/html": [
       "<h3>Std runtimes (ms), cluster <b>eks_8x_8vcpu_16gb</b></h3>"
      ],
      "text/plain": [
       "<IPython.core.display.HTML object>"
      ]
     },
     "metadata": {},
     "output_type": "display_data"
    },
    {
     "data": {
      "text/html": [
       "<table>\n",
       "<thead>\n",
       "<tr><th style=\"text-align: right;\">  concurrent calls</th><th style=\"text-align: right;\">     dna</th><th style=\"text-align: right;\">    bfs</th><th style=\"text-align: right;\">    mst</th><th style=\"text-align: right;\">  pagerank</th></tr>\n",
       "</thead>\n",
       "<tbody>\n",
       "<tr><td style=\"text-align: right;\">                32</td><td style=\"text-align: right;\"> 3989.87</td><td style=\"text-align: right;\">26.2543</td><td style=\"text-align: right;\">24.1219</td><td style=\"text-align: right;\">   45.8643</td></tr>\n",
       "<tr><td style=\"text-align: right;\">                64</td><td style=\"text-align: right;\"> 9404.79</td><td style=\"text-align: right;\">28.9929</td><td style=\"text-align: right;\">25.7103</td><td style=\"text-align: right;\">   43.132 </td></tr>\n",
       "<tr><td style=\"text-align: right;\">                96</td><td style=\"text-align: right;\">18232.6 </td><td style=\"text-align: right;\">28.1253</td><td style=\"text-align: right;\">30.9741</td><td style=\"text-align: right;\">   41.8497</td></tr>\n",
       "<tr><td style=\"text-align: right;\">               128</td><td style=\"text-align: right;\">16846.1 </td><td style=\"text-align: right;\">29.6391</td><td style=\"text-align: right;\">28.7557</td><td style=\"text-align: right;\">   44.1686</td></tr>\n",
       "</tbody>\n",
       "</table>"
      ],
      "text/plain": [
       "'<table>\\n<thead>\\n<tr><th style=\"text-align: right;\">  concurrent calls</th><th style=\"text-align: right;\">     dna</th><th style=\"text-align: right;\">    bfs</th><th style=\"text-align: right;\">    mst</th><th style=\"text-align: right;\">  pagerank</th></tr>\\n</thead>\\n<tbody>\\n<tr><td style=\"text-align: right;\">                32</td><td style=\"text-align: right;\"> 3989.87</td><td style=\"text-align: right;\">26.2543</td><td style=\"text-align: right;\">24.1219</td><td style=\"text-align: right;\">   45.8643</td></tr>\\n<tr><td style=\"text-align: right;\">                64</td><td style=\"text-align: right;\"> 9404.79</td><td style=\"text-align: right;\">28.9929</td><td style=\"text-align: right;\">25.7103</td><td style=\"text-align: right;\">   43.132 </td></tr>\\n<tr><td style=\"text-align: right;\">                96</td><td style=\"text-align: right;\">18232.6 </td><td style=\"text-align: right;\">28.1253</td><td style=\"text-align: right;\">30.9741</td><td style=\"text-align: right;\">   41.8497</td></tr>\\n<tr><td style=\"text-align: right;\">               128</td><td style=\"text-align: right;\">16846.1 </td><td style=\"text-align: right;\">29.6391</td><td style=\"text-align: right;\">28.7557</td><td style=\"text-align: right;\">   44.1686</td></tr>\\n</tbody>\\n</table>'"
      ]
     },
     "metadata": {},
     "output_type": "display_data"
    },
    {
     "name": "stdout",
     "output_type": "stream",
     "text": [
      "\n"
     ]
    }
   ],
   "source": [
    "# Standard runtime\n",
    "table=dict()\n",
    "for k in clusters:\n",
    "    data=[]\n",
    "    for count, value in enumerate(concurrent_calls):\n",
    "        data.append([value])\n",
    "        for m in methods:\n",
    "            std_runtime=sebs_df[k][m][value]['runtime'].std()\n",
    "            data[count].append(std_runtime)\n",
    "    table[k] = tabulate(data, tablefmt='html', headers=headers)\n",
    "    display(HTML(f'<h3>Std runtimes (ms), cluster <b>{k}</b></h3>'))\n",
    "    display(table[k])\n",
    "    print()"
   ]
  },
  {
   "cell_type": "code",
   "execution_count": 21,
   "id": "f2e38e9e-e169-4c8c-a5a9-cfbdc2f92b3f",
   "metadata": {},
   "outputs": [
    {
     "data": {
      "text/html": [
       "<h3>CV runtimes (ms), cluster <b>kops_8x_8vcpu_16gb</b></h3>"
      ],
      "text/plain": [
       "<IPython.core.display.HTML object>"
      ]
     },
     "metadata": {},
     "output_type": "display_data"
    },
    {
     "data": {
      "text/html": [
       "<table>\n",
       "<thead>\n",
       "<tr><th style=\"text-align: right;\">  concurrent calls</th><th style=\"text-align: right;\">     dna</th><th style=\"text-align: right;\">     bfs</th><th style=\"text-align: right;\">     mst</th><th style=\"text-align: right;\">  pagerank</th></tr>\n",
       "</thead>\n",
       "<tbody>\n",
       "<tr><td style=\"text-align: right;\">                32</td><td style=\"text-align: right;\">0.202516</td><td style=\"text-align: right;\">0.269994</td><td style=\"text-align: right;\">0.484571</td><td style=\"text-align: right;\">  0.236382</td></tr>\n",
       "<tr><td style=\"text-align: right;\">                64</td><td style=\"text-align: right;\">0.213519</td><td style=\"text-align: right;\">0.20913 </td><td style=\"text-align: right;\">0.190285</td><td style=\"text-align: right;\">  0.26647 </td></tr>\n",
       "<tr><td style=\"text-align: right;\">                96</td><td style=\"text-align: right;\">0.149478</td><td style=\"text-align: right;\">0.20269 </td><td style=\"text-align: right;\">0.189602</td><td style=\"text-align: right;\">  0.242554</td></tr>\n",
       "<tr><td style=\"text-align: right;\">               128</td><td style=\"text-align: right;\">0.174321</td><td style=\"text-align: right;\">2.74546 </td><td style=\"text-align: right;\">0.242152</td><td style=\"text-align: right;\">  0.226073</td></tr>\n",
       "</tbody>\n",
       "</table>"
      ],
      "text/plain": [
       "'<table>\\n<thead>\\n<tr><th style=\"text-align: right;\">  concurrent calls</th><th style=\"text-align: right;\">     dna</th><th style=\"text-align: right;\">     bfs</th><th style=\"text-align: right;\">     mst</th><th style=\"text-align: right;\">  pagerank</th></tr>\\n</thead>\\n<tbody>\\n<tr><td style=\"text-align: right;\">                32</td><td style=\"text-align: right;\">0.202516</td><td style=\"text-align: right;\">0.269994</td><td style=\"text-align: right;\">0.484571</td><td style=\"text-align: right;\">  0.236382</td></tr>\\n<tr><td style=\"text-align: right;\">                64</td><td style=\"text-align: right;\">0.213519</td><td style=\"text-align: right;\">0.20913 </td><td style=\"text-align: right;\">0.190285</td><td style=\"text-align: right;\">  0.26647 </td></tr>\\n<tr><td style=\"text-align: right;\">                96</td><td style=\"text-align: right;\">0.149478</td><td style=\"text-align: right;\">0.20269 </td><td style=\"text-align: right;\">0.189602</td><td style=\"text-align: right;\">  0.242554</td></tr>\\n<tr><td style=\"text-align: right;\">               128</td><td style=\"text-align: right;\">0.174321</td><td style=\"text-align: right;\">2.74546 </td><td style=\"text-align: right;\">0.242152</td><td style=\"text-align: right;\">  0.226073</td></tr>\\n</tbody>\\n</table>'"
      ]
     },
     "metadata": {},
     "output_type": "display_data"
    },
    {
     "name": "stdout",
     "output_type": "stream",
     "text": [
      "\n"
     ]
    },
    {
     "data": {
      "text/html": [
       "<h3>CV runtimes (ms), cluster <b>kops_1x_72vcpu_144gb</b></h3>"
      ],
      "text/plain": [
       "<IPython.core.display.HTML object>"
      ]
     },
     "metadata": {},
     "output_type": "display_data"
    },
    {
     "data": {
      "text/html": [
       "<table>\n",
       "<thead>\n",
       "<tr><th style=\"text-align: right;\">  concurrent calls</th><th style=\"text-align: right;\">     dna</th><th style=\"text-align: right;\">     bfs</th><th style=\"text-align: right;\">     mst</th><th style=\"text-align: right;\">  pagerank</th></tr>\n",
       "</thead>\n",
       "<tbody>\n",
       "<tr><td style=\"text-align: right;\">                32</td><td style=\"text-align: right;\">0.283833</td><td style=\"text-align: right;\">0.466953</td><td style=\"text-align: right;\">0.542152</td><td style=\"text-align: right;\">  0.456182</td></tr>\n",
       "<tr><td style=\"text-align: right;\">                64</td><td style=\"text-align: right;\">0.229537</td><td style=\"text-align: right;\">0.379084</td><td style=\"text-align: right;\">0.421476</td><td style=\"text-align: right;\">  0.394483</td></tr>\n",
       "<tr><td style=\"text-align: right;\">                96</td><td style=\"text-align: right;\">0.323174</td><td style=\"text-align: right;\">2.61834 </td><td style=\"text-align: right;\">0.526912</td><td style=\"text-align: right;\">  0.40082 </td></tr>\n",
       "<tr><td style=\"text-align: right;\">               128</td><td style=\"text-align: right;\">0.202305</td><td style=\"text-align: right;\">2.07469 </td><td style=\"text-align: right;\">0.421383</td><td style=\"text-align: right;\">  0.36851 </td></tr>\n",
       "</tbody>\n",
       "</table>"
      ],
      "text/plain": [
       "'<table>\\n<thead>\\n<tr><th style=\"text-align: right;\">  concurrent calls</th><th style=\"text-align: right;\">     dna</th><th style=\"text-align: right;\">     bfs</th><th style=\"text-align: right;\">     mst</th><th style=\"text-align: right;\">  pagerank</th></tr>\\n</thead>\\n<tbody>\\n<tr><td style=\"text-align: right;\">                32</td><td style=\"text-align: right;\">0.283833</td><td style=\"text-align: right;\">0.466953</td><td style=\"text-align: right;\">0.542152</td><td style=\"text-align: right;\">  0.456182</td></tr>\\n<tr><td style=\"text-align: right;\">                64</td><td style=\"text-align: right;\">0.229537</td><td style=\"text-align: right;\">0.379084</td><td style=\"text-align: right;\">0.421476</td><td style=\"text-align: right;\">  0.394483</td></tr>\\n<tr><td style=\"text-align: right;\">                96</td><td style=\"text-align: right;\">0.323174</td><td style=\"text-align: right;\">2.61834 </td><td style=\"text-align: right;\">0.526912</td><td style=\"text-align: right;\">  0.40082 </td></tr>\\n<tr><td style=\"text-align: right;\">               128</td><td style=\"text-align: right;\">0.202305</td><td style=\"text-align: right;\">2.07469 </td><td style=\"text-align: right;\">0.421383</td><td style=\"text-align: right;\">  0.36851 </td></tr>\\n</tbody>\\n</table>'"
      ]
     },
     "metadata": {},
     "output_type": "display_data"
    },
    {
     "name": "stdout",
     "output_type": "stream",
     "text": [
      "\n"
     ]
    },
    {
     "data": {
      "text/html": [
       "<h3>CV runtimes (ms), cluster <b>eks_8x_8vcpu_16gb</b></h3>"
      ],
      "text/plain": [
       "<IPython.core.display.HTML object>"
      ]
     },
     "metadata": {},
     "output_type": "display_data"
    },
    {
     "data": {
      "text/html": [
       "<table>\n",
       "<thead>\n",
       "<tr><th style=\"text-align: right;\">  concurrent calls</th><th style=\"text-align: right;\">     dna</th><th style=\"text-align: right;\">     bfs</th><th style=\"text-align: right;\">     mst</th><th style=\"text-align: right;\">  pagerank</th></tr>\n",
       "</thead>\n",
       "<tbody>\n",
       "<tr><td style=\"text-align: right;\">                32</td><td style=\"text-align: right;\">0.276652</td><td style=\"text-align: right;\">0.433732</td><td style=\"text-align: right;\">0.547448</td><td style=\"text-align: right;\">  0.596609</td></tr>\n",
       "<tr><td style=\"text-align: right;\">                64</td><td style=\"text-align: right;\">0.355544</td><td style=\"text-align: right;\">0.440434</td><td style=\"text-align: right;\">0.441735</td><td style=\"text-align: right;\">  0.398736</td></tr>\n",
       "<tr><td style=\"text-align: right;\">                96</td><td style=\"text-align: right;\">0.65915 </td><td style=\"text-align: right;\">0.427761</td><td style=\"text-align: right;\">0.488663</td><td style=\"text-align: right;\">  0.349293</td></tr>\n",
       "<tr><td style=\"text-align: right;\">               128</td><td style=\"text-align: right;\">0.675039</td><td style=\"text-align: right;\">0.345551</td><td style=\"text-align: right;\">0.492274</td><td style=\"text-align: right;\">  0.386622</td></tr>\n",
       "</tbody>\n",
       "</table>"
      ],
      "text/plain": [
       "'<table>\\n<thead>\\n<tr><th style=\"text-align: right;\">  concurrent calls</th><th style=\"text-align: right;\">     dna</th><th style=\"text-align: right;\">     bfs</th><th style=\"text-align: right;\">     mst</th><th style=\"text-align: right;\">  pagerank</th></tr>\\n</thead>\\n<tbody>\\n<tr><td style=\"text-align: right;\">                32</td><td style=\"text-align: right;\">0.276652</td><td style=\"text-align: right;\">0.433732</td><td style=\"text-align: right;\">0.547448</td><td style=\"text-align: right;\">  0.596609</td></tr>\\n<tr><td style=\"text-align: right;\">                64</td><td style=\"text-align: right;\">0.355544</td><td style=\"text-align: right;\">0.440434</td><td style=\"text-align: right;\">0.441735</td><td style=\"text-align: right;\">  0.398736</td></tr>\\n<tr><td style=\"text-align: right;\">                96</td><td style=\"text-align: right;\">0.65915 </td><td style=\"text-align: right;\">0.427761</td><td style=\"text-align: right;\">0.488663</td><td style=\"text-align: right;\">  0.349293</td></tr>\\n<tr><td style=\"text-align: right;\">               128</td><td style=\"text-align: right;\">0.675039</td><td style=\"text-align: right;\">0.345551</td><td style=\"text-align: right;\">0.492274</td><td style=\"text-align: right;\">  0.386622</td></tr>\\n</tbody>\\n</table>'"
      ]
     },
     "metadata": {},
     "output_type": "display_data"
    },
    {
     "name": "stdout",
     "output_type": "stream",
     "text": [
      "\n"
     ]
    }
   ],
   "source": [
    "# CV runtime\n",
    "table=dict()\n",
    "for k in clusters:\n",
    "    data=[]\n",
    "    for count, value in enumerate(concurrent_calls):\n",
    "        data.append([value])\n",
    "        for m in methods:\n",
    "            mean_runtime=sebs_df[k][m][value]['runtime'].mean()\n",
    "            std_runtime=sebs_df[k][m][value]['runtime'].std()\n",
    "            cv_runtime=std_runtime/mean_runtime\n",
    "            data[count].append(cv_runtime)\n",
    "    table[k] = tabulate(data, tablefmt='html', headers=headers)\n",
    "    display(HTML(f'<h3>CV runtimes (ms), cluster <b>{k}</b></h3>'))\n",
    "    display(table[k])\n",
    "    print()"
   ]
  },
  {
   "cell_type": "code",
   "execution_count": null,
   "id": "cda21f1e-8653-4a49-b57d-3f3f5f6c1e44",
   "metadata": {},
   "outputs": [],
   "source": []
  }
 ],
 "metadata": {
  "kernelspec": {
   "display_name": "Python 3 (ipykernel)",
   "language": "python",
   "name": "python3"
  },
  "language_info": {
   "codemirror_mode": {
    "name": "ipython",
    "version": 3
   },
   "file_extension": ".py",
   "mimetype": "text/x-python",
   "name": "python",
   "nbconvert_exporter": "python",
   "pygments_lexer": "ipython3",
   "version": "3.10.8"
  }
 },
 "nbformat": 4,
 "nbformat_minor": 5
}
